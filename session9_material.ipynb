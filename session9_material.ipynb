{
 "cells": [
  {
   "cell_type": "markdown",
   "id": "7c51fc31",
   "metadata": {},
   "source": [
    "### The following imports the library "
   ]
  },
  {
   "cell_type": "code",
   "execution_count": null,
   "id": "ccb408d6",
   "metadata": {},
   "outputs": [],
   "source": [
    "import string # using library\n",
    "alphabets =  string.ascii_lowercase\n",
    "digits = string.digits\n",
    "aldigits = string.ascii_lowercase + string.digits\n",
    "aldigits"
   ]
  },
  {
   "cell_type": "markdown",
   "id": "ac386bcd",
   "metadata": {},
   "source": [
    "### Q1. NetID validator"
   ]
  },
  {
   "cell_type": "markdown",
   "id": "7e909c32",
   "metadata": {},
   "source": [
    "#### Q1.1 Take user’s input text, and save it into a variable (say, `netid`), and print each character of `netid` by a for loop over a string.\n",
    "\n",
    "If user’s input is “jk190”, this will print like:\n",
    "```\n",
    "j\n",
    "k\n",
    "1\n",
    "9\n",
    "0\n",
    "```"
   ]
  },
  {
   "cell_type": "code",
   "execution_count": null,
   "id": "2241cdbf",
   "metadata": {},
   "outputs": [
    {
     "name": "stdout",
     "output_type": "stream",
     "text": [
      "c\n",
      "n\n",
      "2\n",
      "1\n",
      "2\n",
      "5\n"
     ]
    }
   ],
   "source": [
    "\n",
    "# YOUR CODE HERE\n",
    "netid = input('Enter your net ID = ')\n",
    "count = 0\n",
    "for letter in netid:\n",
    "    print(letter)\n",
    "    count = count + 1"
   ]
  },
  {
   "cell_type": "markdown",
   "id": "f066451b",
   "metadata": {},
   "source": [
    "#### Q1.2 Take user’s input text and save it into a variable (say, `netid`). Check `netid`'s length is between `4` and `10`"
   ]
  },
  {
   "cell_type": "code",
   "execution_count": 44,
   "id": "d06343d6",
   "metadata": {},
   "outputs": [],
   "source": [
    "# YOUR CODE HERE\n",
    "netid = input('Enter your net ID = ')\n",
    "count = 0\n",
    "for letter in netid:\n",
    "    count = count + 1\n",
    "    if count < 4 :\n",
    "        print(\"use 4 to 10 alphabets and/or digits\")\n",
    "        \n",
    "# If netid == \"jk190\" then print nothing\n",
    "# If netid == \"190\" then print \"use 4 to 10 alphabets and/or digits\""
   ]
  },
  {
   "cell_type": "markdown",
   "id": "0a97a8b1",
   "metadata": {},
   "source": [
    "#### Q1.3 Take user’s input text and save it into a variable (say, `netid`), and check each character of `netid` is legal (included in aldigits) or not. "
   ]
  },
  {
   "cell_type": "code",
   "execution_count": null,
   "id": "71f4394d",
   "metadata": {},
   "outputs": [],
   "source": [
    "# YOUR CODE HERE\n",
    "\n",
    "# If netid == \"jk190\" then print nothing\n",
    "# If netid == \"jk190_\" then print \"use only alphabets and digits\""
   ]
  },
  {
   "cell_type": "markdown",
   "id": "91f2c3e9",
   "metadata": {},
   "source": [
    " (optional) Make sure that, if there are two or more non-legal characters, print \"use only alphabets and digits\" only once."
   ]
  },
  {
   "cell_type": "markdown",
   "id": "c7081917",
   "metadata": {},
   "source": [
    "#### Q1.4 Take user’s input text and save it into a variable (say, `netid`). Count the number of alphabets and digits. Warn if at least two alphabets and two digits are not included."
   ]
  },
  {
   "cell_type": "code",
   "execution_count": null,
   "id": "bebab21a",
   "metadata": {},
   "outputs": [],
   "source": [
    "# YOUR CODE HERE\n",
    "\n",
    "# If netid == \"jk190\" then print nothing\n",
    "# If netid == \"j190\" then print \"use at least two alphabets\"\n",
    "# If netid == \"jkzy2\" then print \"use at least two digits\""
   ]
  },
  {
   "cell_type": "markdown",
   "id": "b0ba4bdb",
   "metadata": {},
   "source": [
    "#### Q1.5 (challenging) Take user’s input text and save it into a variable (say, `netid`). Check the conditions of 1.2--1.4 above, and ask the user to re-try as long as input is illegal.\n",
    "\n",
    "Hint: Use while loop"
   ]
  },
  {
   "cell_type": "code",
   "execution_count": null,
   "id": "e43b35fe",
   "metadata": {},
   "outputs": [],
   "source": [
    "# YOUR CODE HERE\n",
    "\n",
    "# If netid == \"jk190\" then print nothing and finish\n",
    "# If netid == \"jk190_\" then print \"use only alphabets and digits\" and ask user to input again\n",
    "# If netid == \"jkzy2\" then print \"use at least two digits\" and ask user to input again"
   ]
  },
  {
   "cell_type": "markdown",
   "id": "113a6448",
   "metadata": {},
   "source": [
    "### Q2. Random number generator"
   ]
  },
  {
   "cell_type": "code",
   "execution_count": null,
   "id": "b2fb2241",
   "metadata": {},
   "outputs": [],
   "source": [
    "import random\n",
    "aldigits_long = string.ascii_letters + string.digits\n",
    "aldigits_long"
   ]
  },
  {
   "cell_type": "code",
   "execution_count": null,
   "id": "450aef19",
   "metadata": {},
   "outputs": [],
   "source": [
    "random.choice(aldigits_long) # this function gives a random alphabets or digit"
   ]
  },
  {
   "cell_type": "markdown",
   "id": "18610891",
   "metadata": {},
   "source": [
    "#### Q2.1. By using a loop over `[1,2,3,...,8]` (or `range(8)` is approx equivalent) and string concatenation, create a random variable `password` that has 8 random aldigits."
   ]
  },
  {
   "cell_type": "code",
   "execution_count": null,
   "id": "86226d22",
   "metadata": {},
   "outputs": [],
   "source": [
    "# YOUR CODE HERE"
   ]
  },
  {
   "cell_type": "markdown",
   "id": "c7c4a82c",
   "metadata": {},
   "source": [
    "#### Q2.2 (challenging) Check that the `password` contains at least one lowercase letter, uppercase letter, and digits each"
   ]
  },
  {
   "cell_type": "code",
   "execution_count": null,
   "id": "7de824ed",
   "metadata": {},
   "outputs": [],
   "source": [
    "# YOUR CODE HERE"
   ]
  },
  {
   "cell_type": "markdown",
   "id": "8a31b317",
   "metadata": {},
   "source": [
    "#### Q2.3 (challenging) After the showing the password, ask user whether he/she wants to regenerate the password. If use replies \"No\", then exit. Otherwise, retry from the start."
   ]
  },
  {
   "cell_type": "code",
   "execution_count": null,
   "id": "6b14ad03",
   "metadata": {},
   "outputs": [],
   "source": [
    "# YOUR CODE HERE"
   ]
  }
 ],
 "metadata": {
  "kernelspec": {
   "display_name": "Python 3",
   "language": "python",
   "name": "python3"
  },
  "language_info": {
   "codemirror_mode": {
    "name": "ipython",
    "version": 3
   },
   "file_extension": ".py",
   "mimetype": "text/x-python",
   "name": "python",
   "nbconvert_exporter": "python",
   "pygments_lexer": "ipython3",
   "version": "3.9.0"
  },
  "vscode": {
   "interpreter": {
    "hash": "aee8b7b246df8f9039afb4144a1f6fd8d2ca17a180786b69acc140d282b71a49"
   }
  }
 },
 "nbformat": 4,
 "nbformat_minor": 5
}
