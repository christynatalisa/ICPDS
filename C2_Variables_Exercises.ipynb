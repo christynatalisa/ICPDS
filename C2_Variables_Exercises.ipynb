{
 "cells": [
  {
   "cell_type": "markdown",
   "metadata": {
    "id": "Q0VsuD7bRdzi"
   },
   "source": [
    "# Exercises for Variables"
   ]
  },
  {
   "cell_type": "markdown",
   "metadata": {
    "heading_collapsed": true,
    "id": "QYhZMgReRdzq"
   },
   "source": [
    "## Exercise 1"
   ]
  },
  {
   "cell_type": "markdown",
   "metadata": {
    "hidden": true,
    "id": "HIEpHGbERdzr"
   },
   "source": [
    "Repeat the exercise from earlier on, about the daily return of a stock, but use variables instead of the raw numbers. You can initialize the variables to use \\\\$550 for the closing price of the stock on Monday, and then use \\\\$560 as the closing price on Tuesday. Try afterwards to change these numbers and see the results. (Hint: notice what would happen if you use the name `return` for the variable.) "
   ]
  },
  {
   "cell_type": "code",
   "execution_count": null,
   "metadata": {
    "hidden": true,
    "id": "LYaA5MQpRdzs"
   },
   "outputs": [],
   "source": [
    "# your code here"
   ]
  },
  {
   "cell_type": "markdown",
   "metadata": {
    "heading_collapsed": true,
    "id": "vOLNTE_YRd0A"
   },
   "source": [
    "## Exercise 2\n",
    "\n"
   ]
  },
  {
   "cell_type": "markdown",
   "metadata": {
    "hidden": true,
    "id": "r2FBG8OORd0C"
   },
   "source": [
    "Write a Python program to convert centimeters to feet and inches. Remember that one foot is 30.48 centimeters, and one inch is 2.54 centimeters."
   ]
  },
  {
   "cell_type": "code",
   "execution_count": null,
   "metadata": {
    "hidden": true,
    "id": "74eCf8I5Rd0D"
   },
   "outputs": [],
   "source": [
    "# your code here"
   ]
  },
  {
   "cell_type": "markdown",
   "metadata": {
    "id": "YRj6P6faThhG"
   },
   "source": [
    "## Exercise 3\n"
   ]
  },
  {
   "cell_type": "markdown",
   "metadata": {
    "id": "qVbGrA8IThhI"
   },
   "source": [
    "Some countries use Celcius to represent the temparature. Convert Fahrenheit scale to Celcius to scale. Let $T_f$ be today's temparature in Fahrenheit. The Celcius temparature is represented as $T_c = (T_f - 32) \\times (5/9)$. Convert $T_f$ to $T_c$."
   ]
  },
  {
   "cell_type": "code",
   "execution_count": null,
   "metadata": {
    "id": "ZA00dYGCT22y"
   },
   "outputs": [],
   "source": [
    " # your code here"
   ]
  },
  {
   "cell_type": "markdown",
   "metadata": {
    "id": "ksB3iLzvSBmt"
   },
   "source": [
    "## Exercise 4"
   ]
  },
  {
   "cell_type": "markdown",
   "metadata": {
    "id": "MEc0Y7QISMeh"
   },
   "source": [
    "Some countries use Celcius to represent the temparature. Convert Fahrenheit scale to Celcius to scale. Let $T_f$ be the temparature in Fahrenheit. The Celcius temparature is represented as $T_c = (T_f - 32) \\times (5/9)$. Calculate the celcius temparature."
   ]
  },
  {
   "cell_type": "markdown",
   "metadata": {
    "hidden": true,
    "id": "vlZyXbLJRd0Z"
   },
   "source": [
    "We want to compute the \"[wind chill index](https://en.wikipedia.org/wiki/Wind_chill)\" as described at Wikipedia\n",
    "\n",
    "$T_\\mathrm{wc}=35.74+0.6215 T_\\mathrm{a}-35.75 v^{0.16}+0.4275 T_\\mathrm{a} v^{0.16}$\n",
    "\n",
    "where $T_\\mathrm{wc}$  is the wind chill index, based on the Fahrenheit scale; $T_\\mathrm{a}$ is the air temperature in degrees Fahrenheit, and $v$ is the wind speed in miles per hour. (Note: Windchill temperature is defined only for temperatures at or below 50 °F and wind speeds above 3.0 miles per hour.)"
   ]
  },
  {
   "cell_type": "code",
   "execution_count": null,
   "metadata": {
    "hidden": true,
    "id": "TGNDdxN0Rd0a"
   },
   "outputs": [],
   "source": [
    "# your code here"
   ]
  },
  {
   "cell_type": "markdown",
   "metadata": {
    "heading_collapsed": true,
    "id": "U00B-lZiRd0j"
   },
   "source": [
    "## Exercise 5\n"
   ]
  },
  {
   "cell_type": "markdown",
   "metadata": {
    "hidden": true,
    "id": "cd9EDTbtRd0k"
   },
   "source": [
    "You have a loan with a given principal amount $p$, to be repaid over a period of $n$ years. At the end of each year, you  get charged an interest of $r$ for the total amount that you owe. Each year you pay an installment equal to $1/n$-th of the initial principal, plus interest on the *remaining* principal. \n",
    "\n",
    "Assume that the principal is \\\\$10K, interest rate of 3%, and repayment is over 10 years.\n",
    "\n",
    "Write code that computes how much you owe at the end of year 1. Then write code for calculating your payment at the end of year 2.\n",
    "\n"
   ]
  },
  {
   "cell_type": "code",
   "execution_count": null,
   "metadata": {
    "hidden": true,
    "id": "EFTaaihaRd0m"
   },
   "outputs": [],
   "source": [
    "# your code here"
   ]
  }
 ],
 "metadata": {
  "colab": {
   "collapsed_sections": [
    "8-2ueHDQRdzy",
    "0rVOrBjURd0J",
    "TN-rkysTRd0e",
    "66zARXZeRd0p"
   ],
   "provenance": []
  },
  "kernelspec": {
   "display_name": "Python 3",
   "language": "python",
   "name": "python3"
  },
  "language_info": {
   "codemirror_mode": {
    "name": "ipython",
    "version": 3
   },
   "file_extension": ".py",
   "mimetype": "text/x-python",
   "name": "python",
   "nbconvert_exporter": "python",
   "pygments_lexer": "ipython3",
   "version": "3.9.0 (v3.9.0:9cf6752276, Oct  5 2020, 11:29:23) \n[Clang 6.0 (clang-600.0.57)]"
  },
  "vscode": {
   "interpreter": {
    "hash": "aee8b7b246df8f9039afb4144a1f6fd8d2ca17a180786b69acc140d282b71a49"
   }
  }
 },
 "nbformat": 4,
 "nbformat_minor": 1
}
