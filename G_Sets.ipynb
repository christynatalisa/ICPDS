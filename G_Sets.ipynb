{
 "cells": [
  {
   "cell_type": "markdown",
   "metadata": {
    "id": "X1Fvmbhhtjhh"
   },
   "source": [
    "# Collection Data Structures: Sets\n"
   ]
  },
  {
   "cell_type": "markdown",
   "metadata": {
    "id": "AHNnLoG2tjhu"
   },
   "source": [
    "A set is a data structure where all elements are unique. While they are similar to lists, in sets there is **no order** among the items in a set, and sets do **not** support indexing. Sets are ideal for membership queries, i.e., checking if an items appears in the set or not."
   ]
  },
  {
   "cell_type": "markdown",
   "metadata": {
    "heading_collapsed": true,
    "id": "Vg_fUB2xtjh1"
   },
   "source": [
    "## Creating Sets"
   ]
  },
  {
   "cell_type": "markdown",
   "metadata": {
    "hidden": true,
    "id": "jckysn0Qtjh8"
   },
   "source": [
    "\n",
    "Sets are specified by curly braces, `{ }`, containing one or more comma separated values. To specify an empty list, you can use the alternative construct, `set()`."
   ]
  },
  {
   "cell_type": "code",
   "execution_count": null,
   "metadata": {
    "hidden": true,
    "id": "Du705nb2tjiA"
   },
   "outputs": [],
   "source": [
    "# creating sets\n",
    "one_set = {4, 2, 1, 3}\n",
    "print(one_set)\n",
    "type(one_set)"
   ]
  },
  {
   "cell_type": "code",
   "execution_count": null,
   "metadata": {
    "hidden": true,
    "id": "6vF5eCwJtjiU"
   },
   "outputs": [],
   "source": [
    "two_set = {6, 5, 4, -2}\n",
    "print(two_set)"
   ]
  },
  {
   "cell_type": "code",
   "execution_count": null,
   "metadata": {
    "hidden": true,
    "id": "nN1F7YSKtjin"
   },
   "outputs": [],
   "source": [
    "three_set = {5, 0, -3, 4, 4, 4, 4}\n",
    "print(three_set)"
   ]
  },
  {
   "cell_type": "code",
   "execution_count": null,
   "metadata": {
    "hidden": true,
    "id": "rNoGWVWTtji3"
   },
   "outputs": [],
   "source": [
    "# creating an empty set; notice that we do *not* use the \"empty set = {}\" command\n",
    "# as someone would expect based on the way that we create an empty list\n",
    "empty_set = set()\n",
    "print(empty_set)"
   ]
  },
  {
   "cell_type": "markdown",
   "metadata": {
    "hidden": true,
    "id": "SXY2T_sdtjjH"
   },
   "source": [
    "We can also create a set from a list:"
   ]
  },
  {
   "cell_type": "code",
   "execution_count": null,
   "metadata": {
    "hidden": true,
    "id": "3_-5MjgPtjjN"
   },
   "outputs": [],
   "source": [
    "my_list = [1, 2, 3, 0, 5, 10, 11, 1, 5] #LIST\n",
    "my_set = set(my_list) #converting a list to a set\n",
    "print(my_list)\n",
    "print(my_set)\n",
    "\n",
    "#my_set[2]"
   ]
  },
  {
   "cell_type": "markdown",
   "metadata": {
    "hidden": true,
    "id": "0rAKoldutjjZ"
   },
   "source": [
    "As expected, the set created from a list does not contain any duplicate elements."
   ]
  },
  {
   "cell_type": "code",
   "execution_count": null,
   "metadata": {
    "hidden": true,
    "id": "Doh8FDNEtjjg"
   },
   "outputs": [],
   "source": [
    "print(\"Length of list:\", len(my_list))\n",
    "print(\"Length of set:\", len(my_set))"
   ]
  },
  {
   "cell_type": "markdown",
   "metadata": {
    "hidden": true,
    "id": "9BO6536Qtjjt"
   },
   "source": [
    "As seen above, we can use `len()` to get the number of elements in a list. Similarly, we can use the other functions `min()`, `max()`, `sum()`, `sorted()` etc., that we also used for lists."
   ]
  },
  {
   "cell_type": "markdown",
   "metadata": {
    "heading_collapsed": true,
    "hidden": true,
    "id": "m4LdRvU7tjjx"
   },
   "source": [
    "### Exercise"
   ]
  },
  {
   "cell_type": "markdown",
   "metadata": {
    "hidden": true,
    "id": "arXk5hB1tjj2"
   },
   "source": [
    "What is the number of _distinct_ words in the `washington_post` variable?"
   ]
  },
  {
   "cell_type": "code",
   "execution_count": null,
   "metadata": {
    "hidden": true,
    "id": "AQQ0uQ9Vtjj9"
   },
   "outputs": [],
   "source": [
    "washington_post = \"\"\"Congestive heart failure is a disease notoriously difficult to treat.\n",
    "The condition, which affects more than 6 million Americans, results from the heart's inability to pump blood to the rest of the body, leading to fluid buildup in the lungs. The mainstay of treatment is medication that removes the excess fluid, but striking the right balance is challenging and often thrown off by something as simple as the wrong meal. Heart failure hospitalizations tend to spike after major holidays.\n",
    "Too much fluid and patients are gasping for air. Too little, they're dehydrated and lightheaded. Either way, they're back in the hospital.\n",
    "As a physician who cares for hundreds of patients with heart failure every year, I'm frequently humbled when, despite my best efforts, patients shuttle between hospital and home. I track the emergence of new drugs and telemedicine programs that promise to break the cycle, but recent research suggests that doctors like me should consider a tastier and potentially more ­cost-effective treatment: food.\n",
    "Despite widespread recognition that diet is a primary driver of illness in the United States — two-thirds of Americans are overweight and obesity-related illnesses consume nearly 10 percent of U.S. gross domestic product — our health-care system hasn't traditionally done enough to intervene. Too often, nutrition counseling at the doctor's office has consisted of little more than advice to eat less and move more — followed by a physician offering a stern look and higher dose of insulin at the next visit.\n",
    "But that's starting to change amid mounting evidence that crafting the right diet for patients can improve outcomes and reduce costs. Consider a recent program in Massachusetts designed to support the nutritional needs of low-income patients with heart failure and other conditions for which diet plays an important role, such as diabetes, kidney disease and HIV.\n",
    "Each week, an organization called Community Servings delivers 10 ready-to-eat meals to patients' homes, each tailored to individual patients' medical needs by a registered dietitian.\n",
    "A patient with diabetes might receive dishes fit for Goldilocks with just enough carbs, while one with cancer gets high-protein foods, and a patient with kidney problems gets meals low in potassium and salt.\n",
    "A study last year found that patients who received such medically tailored meals experienced 50 percent fewer hospitalizations and 72 percent fewer admissions to skilled nursing facilities. Overall, the program was associated with a 16 percent reduction in health-care costs. Last year, Community Servings delivered more than a half-million meals to 2,300 patients, and the organization often solicits recipes from patients and families to ensure the food is to their liking.\n",
    "\"Putting the right meal together can be really complicated,\" said Seth A. Berkowitz, the study's lead author and an assistant professor at UNC School of Medicine. \"If you have heart failure or kidney disease, if you're living with a disability and it's hard to go out and get food, these meals can help make sure you get the nutrition you need.\"\n",
    "Another program in Pennsylvania through which diabetic patients received fresh, nutritious food every week led to a reduction in hemoglobin A1c levels, a marker of diabetes severity, from 9.6 percent to 7.5 percent. For comparison, diabetic patients often require several medications to achieve a reduction of 1 percent in hemoglobin A1c level.\n",
    "While these are just two initiatives in specific populations — it's not clear the effects would be as large for healthier or more affluent patients — the results are both promising and provocative, and are catching the eye of lawmakers.\n",
    "California, for example, recently launched a $6 million, three-year project to improve nutrition for the state's Medicaid recipients. The program brings together six community organizations to provide three daily, medically tailored meals to 1,000 patients with heart failure.\"\"\"\n",
    "#Source: https://www.washingtonpost.com/health/food-for-thought--and-health-the-right-diet-for-patients-can-improve-outcomes-and-reduce-costs/2020/02/14/015b22aa-4825-11ea-bc78-8a18f7afcee7_story.html"
   ]
  },
  {
   "cell_type": "code",
   "execution_count": null,
   "metadata": {
    "hidden": true,
    "id": "2Cjz7iHQtjkd",
    "solution2": "hidden"
   },
   "outputs": [],
   "source": [
    "# Hint: Create a set and evaluate its size\n"
   ]
  },
  {
   "cell_type": "markdown",
   "metadata": {
    "heading_collapsed": true,
    "id": "H0gQR7c8tjm_"
   },
   "source": [
    "## Checking for membership in a set"
   ]
  },
  {
   "cell_type": "markdown",
   "metadata": {
    "hidden": true,
    "id": "GT83I1DAtjnA"
   },
   "source": [
    "For sets, we can only check if an item appears within the set or not. We achieve this using the `in` operator:"
   ]
  },
  {
   "cell_type": "code",
   "execution_count": null,
   "metadata": {
    "hidden": true,
    "id": "nXssyQmotjnB"
   },
   "outputs": [],
   "source": [
    "my_set = {1, 2, 3, 4}"
   ]
  },
  {
   "cell_type": "code",
   "execution_count": null,
   "metadata": {
    "hidden": true,
    "id": "CHRQH0KKtjnE"
   },
   "outputs": [],
   "source": [
    "val = 0\n",
    "if val in my_set:\n",
    "    print(\"The value\", val ,\"appears in the set\", my_set)\n",
    "else: \n",
    "    print(\"The value\", val ,\"does not appear in the set\", my_set)"
   ]
  },
  {
   "cell_type": "code",
   "execution_count": null,
   "metadata": {
    "hidden": true,
    "id": "vJGib6c4tjnK"
   },
   "outputs": [],
   "source": [
    "val = 0\n",
    "if val in my_set:\n",
    "    print(\"The value\", val ,\"appears in the set\", my_set)\n",
    "else: \n",
    "    print(\"The value\", val ,\"does not appear in the set\", my_set)"
   ]
  },
  {
   "cell_type": "markdown",
   "metadata": {
    "hidden": true,
    "id": "ahbW9TEgtjnN"
   },
   "source": [
    "We also have the `not in` operator, which behaves as expected:"
   ]
  },
  {
   "cell_type": "code",
   "execution_count": null,
   "metadata": {
    "hidden": true,
    "id": "eQW1YgKstjnO"
   },
   "outputs": [],
   "source": [
    "if val not in my_set:\n",
    "    print(\"The value\", val ,\"does not appear in the set\", my_set)\n",
    "else: \n",
    "    print(\"The value\", val ,\"appears in the set\", my_set)"
   ]
  },
  {
   "cell_type": "markdown",
   "metadata": {
    "heading_collapsed": true,
    "id": "-5-33L2OtjnU"
   },
   "source": [
    "## Set operators: Add, remove elements"
   ]
  },
  {
   "cell_type": "markdown",
   "metadata": {
    "hidden": true,
    "id": "iqFZb6m5tjnV"
   },
   "source": [
    "To add and remove elements in a set, we use, respectively the `add` and `remove` commands:\n",
    "\n",
    "+ `set_a.add(x)`: add an element to a set\n",
    "+ `set_a.remove(x)`: remove an element from a set"
   ]
  },
  {
   "cell_type": "code",
   "execution_count": null,
   "metadata": {
    "hidden": true,
    "id": "myIHRh8ttjnb"
   },
   "outputs": [],
   "source": [
    "set_A = set()\n",
    "set_A.add(1)\n",
    "set_A.add(2)\n",
    "set_A.add(3)\n",
    "set_A.add(4)\n",
    "set_A.add(5)\n",
    "set_A.add(6)\n",
    "set_A"
   ]
  },
  {
   "cell_type": "code",
   "execution_count": null,
   "metadata": {
    "hidden": true,
    "id": "t2K0uhQGtjne"
   },
   "outputs": [],
   "source": [
    "set_A.remove(1)\n",
    "set_A"
   ]
  },
  {
   "cell_type": "markdown",
   "metadata": {
    "heading_collapsed": true,
    "id": "lvIgDisStjnh"
   },
   "source": [
    "## Set operators: Union, intersection, difference, subset. Plus, Jaccard Similarity"
   ]
  },
  {
   "cell_type": "markdown",
   "metadata": {
    "hidden": true,
    "id": "elBw5fpztjni"
   },
   "source": [
    "Sets also support operations that allow us to quickly compute the difference, intersection, and union of two sets. For example:\n",
    "\n",
    "+ `set_a - set_b`: elements in a but not in b. Equivalent to `set_a.difference(set_b)`\n",
    "+ `set_a | set_b`: elements in a or b. Equivalent to `set_a.union(set_b)`\n",
    "+ `set_a & set_b`: elements in both a and b. Equivalent to `set_a.intersection(set_b)`\n",
    "+ `set_a ^ set_b`: elements in a or b but not both. Equivalent to `set_a.symmetric_difference(set_b)` \n",
    "+ `set_a <= set_b`:\ttests whether every element in set_a is in set_b. Equivalent to `set_a.issubset(set_b)`\n"
   ]
  },
  {
   "cell_type": "markdown",
   "metadata": {
    "heading_collapsed": true,
    "hidden": true,
    "id": "twiJ4S3Ktjnj"
   },
   "source": [
    "### Exercise\n"
   ]
  },
  {
   "cell_type": "markdown",
   "metadata": {
    "hidden": true,
    "id": "ep6zSr5ctjnk"
   },
   "source": [
    "\n",
    "Try the above yourself using the `set_A` and `set_B` variables, and compute the difference, union, intersection, and symmetric difference, between the two sets.\n",
    "\n",
    "C.f. Venn diagram"
   ]
  },
  {
   "cell_type": "code",
   "execution_count": 1,
   "metadata": {
    "hidden": true,
    "id": "nV9Os6Zrtjnl"
   },
   "outputs": [
    {
     "name": "stdout",
     "output_type": "stream",
     "text": [
      "Set A {1, 2, 3, 4, 5}\n",
      "Set B {4, 5, 6, 7}\n"
     ]
    }
   ],
   "source": [
    "# Your code here\n",
    "set_A = {1, 2, 3, 4, 5}\n",
    "set_B = {4, 5, 6, 7}\n",
    "print(\"Set A\", set_A)\n",
    "print(\"Set B\", set_B)\n",
    "# Your code here"
   ]
  },
  {
   "cell_type": "markdown",
   "metadata": {
    "heading_collapsed": true,
    "hidden": true,
    "id": "RZ0yI4o0tjoT"
   },
   "source": [
    "### Exercise"
   ]
  },
  {
   "cell_type": "markdown",
   "metadata": {
    "hidden": true,
    "id": "ypzC1m6etjoV"
   },
   "source": [
    "Now, lets try to use the [Jaccard index similarity](https://en.wikipedia.org/wiki/Jaccard_index) to compute the similarity of the two sets. The Jaccard index is defined as the ratio of the size of the intersection of the two sets, divided by the size of the union of the two sets."
   ]
  },
  {
   "cell_type": "code",
   "execution_count": null,
   "metadata": {
    "hidden": true,
    "id": "RFZpxxeRtjoX"
   },
   "outputs": [],
   "source": [
    "# Your code here. Compute Jaccard index similarity of set_A and set_B."
   ]
  },
  {
   "cell_type": "markdown",
   "metadata": {
    "heading_collapsed": true,
    "hidden": true,
    "id": "W2OAFNuXtjou"
   },
   "source": [
    "### Exercise"
   ]
  },
  {
   "cell_type": "markdown",
   "metadata": {
    "hidden": true,
    "id": "a-r6fKZNtjox"
   },
   "source": [
    "Below we have two news articles discussing a security breach at Yahoo. We want to compute the similarity of these articles using the Jaccard similarity. (For the sake of simplicity, we have removed all punctuation from the text.)"
   ]
  },
  {
   "cell_type": "code",
   "execution_count": null,
   "metadata": {
    "hidden": true,
    "id": "3LusovCLtjoz"
   },
   "outputs": [],
   "source": [
    "wsj = \"\"\"\n",
    "Yahoo Inc disclosed a massive security breach by a  state sponsored actor  affecting at least 500 million users  potentially the largest such data breach on record and the latest hurdle for the beaten down internet company as it works through the sale of its core business \n",
    "Yahoo said certain user account information including names  email addresses  telephone numbers  dates of birth  hashed passwords and  in some cases  encrypted or unencrypted security questions and answers was stolen from the company s network in late 2014 by what it believes is a state sponsored actor \n",
    "Yahoo said it is notifying potentially affected users and has taken steps to secure their accounts by invalidating unencrypted security questions and answers so they can t be used to access an account and asking potentially affected users to change their passwords \n",
    "Yahoo recommended users who haven t changed their passwords since 2014 do so  It also encouraged users change their passwords as well as security questions and answers for any other accounts on which they use the same or similar information used for their Yahoo account \n",
    "The company  which is working with law enforcement  said the continuing investigation indicates that stolen information didn t include unprotected passwords  payment card data or bank account information \n",
    "With 500 million user accounts affected  this is the largest ever publicly disclosed data breach  according to Paul Stephens  director of policy and advocacy with Privacy Rights Clearing House  a not for profit group that compiles information on data breaches \n",
    "No evidence has been found to suggest the state sponsored actor is currently in Yahoo s network  and Yahoo didn t name the country it suspected was involved  In August  a hacker called  Peace  appeared in online forums  offering to sell 200 million of the company s usernames and passwords for about  1 900 in total  Peace had previously sold data taken from breaches at Myspace and LinkedIn Corp \n",
    "\"\"\"\n",
    "\n",
    "ust = \"\"\"\n",
    "SAN FRANCISCO   Information from at least 500 million Yahoo accounts was stolen from the company in 2014  and the  company said Thursday it believes that a state sponsored actor was behind the hack \n",
    "The information may have included names  email addresses  telephone numbers  dates of birth  and  in some cases  encrypted or unencrypted security questions and answers  Yahoo said \n",
    "Claims surfaced in early August that a hacker using the name  Peace  was trying to sell the usernames  passwords and dates of birth of Yahoo account users on the dark web   a black market of thousands of secret websites \n",
    "The FBI said it was aware of the matter  The compromise of public and private sector systems is something the agency takes very seriously and it said it will continue to investigate and hold accountable all who pose a threat in cyberspace  the agency said in an emailed statement \n",
    "Yahoo recommends that users who haven t changed their passwords since 2014 do so  The company said it was notifying potentially affected users and taking steps to secure their accounts  That included invalidating unencrypted security questions and answers and asking users to change their passwords \n",
    "The announcement comes as Yahoo looks to complete its  4 8  billion sale of its core Internet business to media giant Verizon Communications  which said it was notified of the Yahoo breach  within the last two days  \n",
    " We understand that Yahoo is conducting an active investigation of this matter  but we otherwise have limited information and understanding of the impact   Verizon said \n",
    "Given the unsettled nature of Yahoo s ownership just now   regulators should be concerned with who will take responsibility for the response to this compromise  It can be easy for the  right thing to do  to slip through the cracks in a multi billion dollar transition   said Tim Erlin  senior director of IT security and risk strategy at Tripwire  a computer security firm \n",
    "Yahoo Chief Executive Officer Marissa Mayer has pledged to stay on with the company through the close of the merger  which is being overseen by Verizon s Marni Walden and AOL CEO Tim Armstrong  Yahoo shares  YHOO  were flat Thursday  Verizon  VZ  shares were up 1  at  52 39 \n",
    "\"\"\""
   ]
  },
  {
   "cell_type": "code",
   "execution_count": null,
   "metadata": {
    "hidden": true,
    "id": "s_UPGKphtjo5"
   },
   "outputs": [],
   "source": [
    "# your code here"
   ]
  }
 ],
 "metadata": {
  "colab": {
   "collapsed_sections": [
    "BYEweh-Ntjo8"
   ],
   "provenance": []
  },
  "kernelspec": {
   "display_name": "Python 3 (ipykernel)",
   "language": "python",
   "name": "python3"
  },
  "language_info": {
   "codemirror_mode": {
    "name": "ipython",
    "version": 3
   },
   "file_extension": ".py",
   "mimetype": "text/x-python",
   "name": "python",
   "nbconvert_exporter": "python",
   "pygments_lexer": "ipython3",
   "version": "3.10.6"
  }
 },
 "nbformat": 4,
 "nbformat_minor": 1
}
