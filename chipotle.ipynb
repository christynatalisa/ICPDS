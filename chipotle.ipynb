{
 "cells": [
  {
   "cell_type": "markdown",
   "id": "d612b8b5",
   "metadata": {},
   "source": [
    "### Data preparation"
   ]
  },
  {
   "cell_type": "code",
   "execution_count": 13,
   "id": "c147699d",
   "metadata": {},
   "outputs": [],
   "source": [
    "# Run this once\n",
    "import pandas as pd\n",
    "df = pd.read_csv(\"chipotle.tsv\", sep = '\\t')\n",
    "def dollarizer(datapoint):\n",
    "    return float(datapoint[1:])\n",
    "def name_normalizer(datapoint):\n",
    "    if \"Tomato Salsa\" in datapoint:\n",
    "        return \"Chips and Tomato Salsa\"\n",
    "    if \"Chili\" in datapoint and \"Salsa\" in datapoint:\n",
    "        return \"Chips and Chili Salsa\"\n",
    "    if \"Izze\" in datapoint:\n",
    "        return \"Drink\"\n",
    "    if \"Drink\" in datapoint:\n",
    "        return \"Drink\"\n",
    "    if \"Soda\" in datapoint:\n",
    "        return \"Drink\"\n",
    "    if \"Nectar\" in datapoint:\n",
    "        return \"Drink\"\n",
    "    if \"Water\" in datapoint:\n",
    "        return \"Drink\"\n",
    "    if \"Side of Chips\" in datapoint:\n",
    "        return \"Chips\"\n",
    "    if \"Chips\" in datapoint and \"Guacamole\" in datapoint:\n",
    "        return \"Chips and Guacamole\"\n",
    "    if \"Guacamole\" in datapoint:\n",
    "        return \"Guacamole\"\n",
    "    datapoint = datapoint.replace(\"Soft \", \"\")\n",
    "    datapoint = datapoint.replace(\"Canned \", \"\")\n",
    "    datapoint = datapoint.replace(\"Salad Bowl\", \"Salad\")\n",
    "    #datapoint = datapoint.replace(\"Steak Tacos\", \"Tacos\")\n",
    "    datapoint = datapoint.replace(\"Crispy \", \"\")\n",
    "    return datapoint\n",
    "df[\"item_price\"] = df[\"item_price\"].apply(dollarizer)\n",
    "df[\"item_name\"] = df[\"item_name\"].apply(name_normalizer)\n",
    "df = df[:100]\n",
    "df\n",
    "orders = {}\n",
    "for ind in df.index:\n",
    "    #print(df['order_id'][ind], df['item_name'][ind])    \n",
    "    order_id = df['order_id'][ind]\n",
    "    item_name = df['item_name'][ind]\n",
    "    if order_id not in orders:\n",
    "        orders[order_id] = []\n",
    "    orders[int(order_id)].append(item_name)\n",
    "# orders will be there"
   ]
  },
  {
   "cell_type": "code",
   "execution_count": 14,
   "id": "59eebdc8",
   "metadata": {},
   "outputs": [
    {
     "data": {
      "text/plain": [
       "{1: ['Chips and Tomato Salsa', 'Drink', 'Drink', 'Chips and Chili Salsa'],\n",
       " 2: ['Chicken Bowl'],\n",
       " 3: ['Chicken Bowl', 'Chips'],\n",
       " 4: ['Steak Burrito', 'Steak Tacos'],\n",
       " 5: ['Steak Burrito', 'Chips and Guacamole'],\n",
       " 6: ['Chicken Tacos', 'Chicken Tacos'],\n",
       " 7: ['Chicken Bowl', 'Chips and Guacamole'],\n",
       " 8: ['Chips and Chili Salsa', 'Chicken Burrito'],\n",
       " 9: ['Chicken Burrito', 'Drink'],\n",
       " 10: ['Chicken Bowl', 'Chips and Guacamole'],\n",
       " 11: ['Barbacoa Burrito', 'Drink'],\n",
       " 12: ['Chicken Burrito', 'Drink'],\n",
       " 13: ['Chips and Tomato Salsa', 'Chicken Bowl'],\n",
       " 14: ['Carnitas Burrito', 'Drink'],\n",
       " 15: ['Chicken Burrito', 'Chips and Chili Salsa'],\n",
       " 16: ['Steak Burrito', 'Chips'],\n",
       " 17: ['Carnitas Bowl', 'Drink'],\n",
       " 18: ['Chicken Tacos',\n",
       "  'Chicken Tacos',\n",
       "  'Chips and Guacamole',\n",
       "  'Chips and Chili Salsa'],\n",
       " 19: ['Barbacoa Bowl', 'Chips'],\n",
       " 20: ['Chips and Guacamole', 'Chicken Bowl', 'Steak Burrito', 'Chicken Salad'],\n",
       " 21: ['Chicken Burrito', 'Steak Burrito', 'Drink'],\n",
       " 22: ['Steak Burrito', 'Chips and Guacamole'],\n",
       " 23: ['Steak Burrito', 'Drink'],\n",
       " 24: ['Chicken Burrito', 'Drink'],\n",
       " 25: ['Steak Bowl', 'Chips and Tomato Salsa'],\n",
       " 26: ['Barbacoa Tacos', 'Veggie Burrito'],\n",
       " 27: ['Barbacoa Bowl', 'Chips'],\n",
       " 28: ['Chips and Guacamole', 'Steak Tacos', 'Veggie Bowl', 'Chicken Burrito'],\n",
       " 29: ['Steak Burrito', 'Steak Tacos'],\n",
       " 30: ['Drink', 'Steak Burrito', 'Chicken Burrito'],\n",
       " 31: ['Steak Burrito', 'Chips'],\n",
       " 32: ['Steak Burrito', 'Chips and Guacamole'],\n",
       " 33: ['Chicken Burrito', 'Chips and Guacamole'],\n",
       " 34: ['Chicken Tacos', 'Chicken Bowl', 'Chips', 'Chicken Bowl'],\n",
       " 35: ['Chicken Tacos', 'Chips'],\n",
       " 36: ['Barbacoa Burrito', 'Chicken Burrito'],\n",
       " 37: ['Chicken Burrito', 'Steak Tacos'],\n",
       " 38: ['Veggie Bowl', 'Steak Bowl', 'Drink'],\n",
       " 39: ['Carnitas Burrito', 'Chips and Tomato Salsa'],\n",
       " 40: ['Steak Bowl', 'Steak Bowl', 'Steak Tacos'],\n",
       " 41: ['Carnitas Burrito', 'Chips and Guacamole'],\n",
       " 42: ['Barbacoa Bowl', 'Chips and Guacamole'],\n",
       " 43: ['Carnitas Bowl', 'Chicken Burrito'],\n",
       " 44: ['Chicken Bowl']}"
      ]
     },
     "execution_count": 14,
     "metadata": {},
     "output_type": "execute_result"
    }
   ],
   "source": [
    "orders # just to print the dataset"
   ]
  },
  {
   "cell_type": "markdown",
   "id": "2de7ae04",
   "metadata": {},
   "source": [
    "### Q1: observe data"
   ]
  },
  {
   "cell_type": "code",
   "execution_count": null,
   "id": "a896a882",
   "metadata": {},
   "outputs": [],
   "source": [
    "# What is the type of the data structure `order`.\n",
    "print(type(order))"
   ]
  },
  {
   "cell_type": "markdown",
   "id": "a1da2754",
   "metadata": {},
   "source": [
    "### Q2: Verify that a list is mutable"
   ]
  },
  {
   "cell_type": "code",
   "execution_count": null,
   "id": "8c590413",
   "metadata": {},
   "outputs": [],
   "source": [
    "#obtain the first oder --> order 1 \n",
    "order1 = orders[1]\n",
    "print(order1)\n",
    "\n",
    "#make a copy order1_copy\n",
    "order1_copy = order1\n",
    "\n",
    "#update order1_copy\n",
    "order1_copy = order1_copy.append('Fries')\n",
    "\n",
    "#confirm order1 (and orders) are updated as well\n",
    "print(order1)\n",
    "print(order1_copy)"
   ]
  },
  {
   "cell_type": "markdown",
   "id": "b9c20449",
   "metadata": {},
   "source": [
    "### Q3: Verify that a tuple is immutable"
   ]
  },
  {
   "cell_type": "code",
   "execution_count": null,
   "id": "88d97a19",
   "metadata": {},
   "outputs": [],
   "source": [
    "#create a tuple version of order1\n",
    "order1_tuple = tuple(orders[1])\n",
    "\n",
    "\n",
    "#check the tuple does not allow index based update\n",
    "order1_tuple.append('guac')\n",
    "\n",
    "#order1_tuple[0] = 'guac' #error\n",
    "order1_tuple[0] = 'guac'\n",
    "\n",
    "#update the tuple by out_of_place operation "
   ]
  },
  {
   "cell_type": "markdown",
   "id": "1297bc39",
   "metadata": {},
   "source": [
    "### Q4: We will do counting again\n",
    "\n",
    "Count the number of `Drink` in `orders[1]`"
   ]
  },
  {
   "cell_type": "code",
   "execution_count": null,
   "id": "731292dd",
   "metadata": {},
   "outputs": [],
   "source": [
    "order1 = orders[1]\n",
    "drink_count = 0\n",
    "for i in order1:\n",
    "    if i =='Drink':\n",
    "        drink_count += 1\n",
    "    \n",
    "print(drink_count)"
   ]
  },
  {
   "cell_type": "markdown",
   "id": "34b67100",
   "metadata": {},
   "source": [
    "Count the number of `Drink` in all orders, first by creating a long list of all orders, and then create count."
   ]
  },
  {
   "cell_type": "code",
   "execution_count": null,
   "id": "b85a8c07",
   "metadata": {},
   "outputs": [],
   "source": [
    "order_list = []\n",
    "for i in orders:\n",
    "    order_list.extend(orders[i])\n",
    "    \n",
    "print(order_list)"
   ]
  },
  {
   "cell_type": "markdown",
   "id": "c365572f",
   "metadata": {},
   "source": [
    "### Q5. Create a count dictionary, by using for loop over `order_list`."
   ]
  },
  {
   "cell_type": "code",
   "execution_count": null,
   "id": "409e1edb",
   "metadata": {},
   "outputs": [],
   "source": [
    "count = {}\n",
    "\n",
    "#for i in order_list:\n",
    "    #count[i] = value +1\n",
    "#print(count)\n",
    "\n",
    "\n",
    "for e in order_list:\n",
    "    if e not in count: #make sure that exhibit e is in order_list\n",
    "        count[e] = 0\n",
    "    count[e] = count[e]+1\n",
    "print(count)"
   ]
  },
  {
   "cell_type": "markdown",
   "id": "1480cbed",
   "metadata": {},
   "source": [
    "### Q6. Some additional questions for your homework"
   ]
  }
 ],
 "metadata": {
  "kernelspec": {
   "display_name": "Python 3",
   "language": "python",
   "name": "python3"
  },
  "language_info": {
   "codemirror_mode": {
    "name": "ipython",
    "version": 3
   },
   "file_extension": ".py",
   "mimetype": "text/x-python",
   "name": "python",
   "nbconvert_exporter": "python",
   "pygments_lexer": "ipython3",
   "version": "3.9.0"
  }
 },
 "nbformat": 4,
 "nbformat_minor": 5
}
