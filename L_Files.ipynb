{
 "cells": [
  {
   "cell_type": "markdown",
   "metadata": {
    "id": "EVbUhynSqiX0"
   },
   "source": [
    "### Misc: Colab Machine Location"
   ]
  },
  {
   "cell_type": "code",
   "execution_count": null,
   "metadata": {
    "colab": {
     "base_uri": "https://localhost:8080/"
    },
    "id": "sqbmxQ4XqlxX",
    "outputId": "564f4ab3-4bb6-46d1-dadb-70d866834d2c"
   },
   "outputs": [
    {
     "name": "stdout",
     "output_type": "stream",
     "text": [
      "{\n",
      "  \"ip\": \"35.231.200.155\",\n",
      "  \"hostname\": \"155.200.231.35.bc.googleusercontent.com\",\n",
      "  \"city\": \"North Charleston\",\n",
      "  \"region\": \"South Carolina\",\n",
      "  \"country\": \"US\",\n",
      "  \"loc\": \"32.8546,-79.9748\",\n",
      "  \"org\": \"AS15169 Google LLC\",\n",
      "  \"postal\": \"29415\",\n",
      "  \"timezone\": \"America/New_York\",\n",
      "  \"readme\": \"https://ipinfo.io/missingauth\"\n",
      "}"
     ]
    }
   ],
   "source": [
    "!curl ipinfo.io # location of machine"
   ]
  },
  {
   "cell_type": "markdown",
   "metadata": {
    "id": "aq7aO2kxGerY"
   },
   "source": [
    "Files and Printing\n",
    "------------------\n",
    "\n",
    "** See also Examples 15, 16, and 17 from Learn Python the Hard Way**\n",
    "\n",
    "You'll often be reading data from a file, or writing the output of your python scripts back into a file. Python makes this very easy. You need to open a file in the appropriate mode, using the `open` function, then you can read or write to accomplish your task. The `open` function takes two arguments, the name of the file, and the mode. The mode is a single letter string that specifies if you're going to be reading from a file, writing to a file, or appending to the end of an existing file. The function returns a file object that performs the various tasks you'll be performing: `a_file = open(filename, mode)`. The modes are:\n",
    "\n",
    "+ `'r'`: open a file for reading\n",
    "+ `'w'`: open a file for writing. Caution: this will overwrite any previously existing file\n",
    "+ `'a'`: append. Write to the end of a file. \n",
    "\n",
    "When reading, you typically want to iterate through the lines in a file using a for loop, as above. Some other common methods for dealing with files are: \n",
    "\n",
    "+ `file.read()`: read the entire contents of a file into a string\n",
    "+ `file.write(some_string)`: writes to the file, note this doesn't automatically include any new lines. Also note that sometimes writes are buffered- python will wait until you have several writes pending, and perform them all at once\n",
    "+ `file.flush()`: write out any buffered writes\n",
    "+ `file.close()`: close the open file. This will free up some computer resources occupied by keeping a file open.\n",
    "\n",
    "Here is an example using files:"
   ]
  },
  {
   "cell_type": "markdown",
   "metadata": {
    "id": "3qaJKpmUGerc"
   },
   "source": [
    "#### Writing a file to disk"
   ]
  },
  {
   "cell_type": "code",
   "execution_count": null,
   "metadata": {
    "id": "cM_fKh3-Gerd"
   },
   "outputs": [],
   "source": [
    "# Create the file temp.txt, and get it ready for writing\n",
    "f = open(\"temp.txt\", \"w\")\n",
    "f.write(\"This is my first file! The end!\\n\")\n",
    "f.write(\"Oh wait, I wanted to say something else.\")\n",
    "f.close()"
   ]
  },
  {
   "cell_type": "code",
   "execution_count": null,
   "metadata": {
    "id": "FAasjgWEGeri"
   },
   "outputs": [],
   "source": [
    "# Let's check that we did everything as expected\n",
    "# !cat is a \"local command\" that prints a file\n",
    "!cat temp.txt"
   ]
  },
  {
   "cell_type": "code",
   "execution_count": 1,
   "metadata": {
    "id": "L2hcaEXBGerm"
   },
   "outputs": [],
   "source": [
    "# Create a file numbers.txt and write the numbers from 0 to 4 there\n",
    "f = open(\"numbers.txt\", \"w\")\n",
    "for num in range(5):\n",
    "    f.write(str(num)+'\\n')\n",
    "f.close()"
   ]
  },
  {
   "cell_type": "code",
   "execution_count": null,
   "metadata": {
    "id": "s3IK8d5DGerq"
   },
   "outputs": [],
   "source": [
    "# Let's check that we did everything as expected\n",
    "!cat numbers.txt"
   ]
  },
  {
   "cell_type": "markdown",
   "metadata": {
    "id": "B-0FM_0oGerv"
   },
   "source": [
    "#### Reading a file from disk"
   ]
  },
  {
   "cell_type": "code",
   "execution_count": null,
   "metadata": {
    "id": "qaYtZIQMGerx"
   },
   "outputs": [],
   "source": [
    "# We now open the file for reading\n",
    "f = open(\"temp.txt\", \"r\")\n",
    "# And we read the full content of the file in memory, as a big string\n",
    "content = f.read()\n",
    "f.close()"
   ]
  },
  {
   "cell_type": "code",
   "execution_count": null,
   "metadata": {
    "id": "oUP1grrJGer2"
   },
   "outputs": [],
   "source": [
    "content\n"
   ]
  },
  {
   "cell_type": "code",
   "execution_count": null,
   "metadata": {
    "id": "QtIuln_KIrp-"
   },
   "outputs": [],
   "source": [
    "# !ls is a \"local command\" that prints the list of files\n",
    "!ls"
   ]
  },
  {
   "cell_type": "code",
   "execution_count": null,
   "metadata": {
    "colab": {
     "base_uri": "https://localhost:8080/"
    },
    "id": "wOxjV1NiIvRc",
    "outputId": "39c48c9f-1ea5-4b48-d9ac-e84a46194958"
   },
   "outputs": [
    {
     "name": "stdout",
     "output_type": "stream",
     "text": [
      "This is my first file! The end!\n",
      "Oh wait, I wanted to say something else."
     ]
    }
   ],
   "source": [
    "!cat temp.txt #contents of mynewfile.txt"
   ]
  },
  {
   "cell_type": "markdown",
   "metadata": {
    "id": "2Np0VYQRM_Iw"
   },
   "source": [
    "#### Uploading your local file to Colab machine\n",
    "\n",
    "You can even upload a file from your computer to Google Colab cloud!\n",
    "Download the following file on the web (goodle drive) to your computer. \n",
    "\n",
    "https://drive.google.com/file/d/1ZEpOa5usIXEFwvnzh1MCHwajP8bK4628/view?usp=sharing\n",
    "\n",
    "**Make sure the name of your local file is \"state_population.txt\".**\n"
   ]
  },
  {
   "cell_type": "code",
   "execution_count": null,
   "metadata": {
    "id": "DmticlBzQe24"
   },
   "outputs": [],
   "source": [
    "# This prompts you to upload the file to Colab cloud machine.\n",
    "from google.colab import files\n",
    "uploaded = files.upload()"
   ]
  },
  {
   "cell_type": "code",
   "execution_count": null,
   "metadata": {
    "id": "-vCYHfpHQ0xU"
   },
   "outputs": [],
   "source": [
    "# Now the \"state_population.txt\" is on Colab, and you can open the file\n",
    "f = open(\"state_population.txt\", \"r\")\n",
    "# And we read the full content of the file in memory, as a big string\n",
    "content = f.read()\n",
    "f.close()\n",
    "print(content)\n",
    "# Note: If you upload the same files again, the second file will be saved to the place like \"state_population (1).txt\". You can read the second file by specifying their corresponding name.\n",
    "# Note: Watch https://www.py4e.com/lessons/files Part 2 for another way to read file (file handle as a sequence)"
   ]
  },
  {
   "cell_type": "markdown",
   "metadata": {
    "id": "_qd4rtuyGer8"
   },
   "source": [
    "Once we read the file, we have the lines in a big string. Let's process that big string a little bit:"
   ]
  },
  {
   "cell_type": "code",
   "execution_count": null,
   "metadata": {
    "id": "K0LlZcBzGer9"
   },
   "outputs": [],
   "source": [
    "# Split the content of the file using the newline character \\n\n",
    "lines = content.split(\"\\n\")\n",
    "print(\"lines=\",lines)\n",
    "\n",
    "# Iterate through the line variable (it is a list of strings)\n",
    "# and then print the length of each line\n",
    "for line in lines:\n",
    "  elements = line.split(\",\")\n",
    "  state = elements[0]\n",
    "  population = elements[1]\n",
    "  print(\"The population of \" + state + \" is \" + population + \".\" )"
   ]
  },
  {
   "cell_type": "code",
   "execution_count": null,
   "metadata": {
    "id": "M8qfHZCLS-VB"
   },
   "outputs": [],
   "source": [
    "# This lists up all the files in the storage (on Google Colab).\n",
    "!ls"
   ]
  },
  {
   "cell_type": "code",
   "execution_count": null,
   "metadata": {
    "id": "yr7h5D6mGesX"
   },
   "outputs": [],
   "source": [
    "# Let's clean up\n",
    "!rm state_population.txt"
   ]
  },
  {
   "cell_type": "code",
   "execution_count": null,
   "metadata": {
    "id": "W2HJ_w-BSzuV"
   },
   "outputs": [],
   "source": [
    "# Again, this lists up all the files in the storage (on Google Colab).\n",
    "!ls"
   ]
  },
  {
   "cell_type": "markdown",
   "metadata": {
    "id": "SdeWLbDRTyMl"
   },
   "source": [
    "#### Download a file from Google Colab to local machine\n",
    "\n"
   ]
  },
  {
   "cell_type": "markdown",
   "metadata": {
    "id": "y7F3FMyeUHKk"
   },
   "source": [
    "Let us create a file `triangle.txt`, and download it to our local machine."
   ]
  },
  {
   "cell_type": "code",
   "execution_count": null,
   "metadata": {
    "id": "Kb6YmS4IUVEc"
   },
   "outputs": [],
   "source": [
    "f = open(\"triangle.txt\", \"w\")\n",
    "for num in range(1,10): # Common pattern: Each iteration in a loop write a new line.\n",
    "    f.write(\"*\"*num+'\\n')\n",
    "f.close()"
   ]
  },
  {
   "cell_type": "code",
   "execution_count": null,
   "metadata": {
    "id": "k9_sfvr5P9hi"
   },
   "outputs": [],
   "source": [
    "!cat triangle.txt"
   ]
  },
  {
   "cell_type": "code",
   "execution_count": null,
   "metadata": {
    "colab": {
     "base_uri": "https://localhost:8080/",
     "height": 17
    },
    "id": "oy7TAPqCT-Uc",
    "outputId": "a4b5554e-afc5-4dd8-fa19-a1b0afb130c0"
   },
   "outputs": [
    {
     "data": {
      "application/javascript": "\n    async function download(id, filename, size) {\n      if (!google.colab.kernel.accessAllowed) {\n        return;\n      }\n      const div = document.createElement('div');\n      const label = document.createElement('label');\n      label.textContent = `Downloading \"${filename}\": `;\n      div.appendChild(label);\n      const progress = document.createElement('progress');\n      progress.max = size;\n      div.appendChild(progress);\n      document.body.appendChild(div);\n\n      const buffers = [];\n      let downloaded = 0;\n\n      const channel = await google.colab.kernel.comms.open(id);\n      // Send a message to notify the kernel that we're ready.\n      channel.send({})\n\n      for await (const message of channel.messages) {\n        // Send a message to notify the kernel that we're ready.\n        channel.send({})\n        if (message.buffers) {\n          for (const buffer of message.buffers) {\n            buffers.push(buffer);\n            downloaded += buffer.byteLength;\n            progress.value = downloaded;\n          }\n        }\n      }\n      const blob = new Blob(buffers, {type: 'application/binary'});\n      const a = document.createElement('a');\n      a.href = window.URL.createObjectURL(blob);\n      a.download = filename;\n      div.appendChild(a);\n      a.click();\n      div.remove();\n    }\n  ",
      "text/plain": [
       "<IPython.core.display.Javascript object>"
      ]
     },
     "metadata": {
      "tags": []
     },
     "output_type": "display_data"
    },
    {
     "data": {
      "application/javascript": "download(\"download_10bc657c-c64b-469f-98e7-b9179e75f416\", \"triangle.txt\", 54)",
      "text/plain": [
       "<IPython.core.display.Javascript object>"
      ]
     },
     "metadata": {
      "tags": []
     },
     "output_type": "display_data"
    }
   ],
   "source": [
    "# You can download `triangle.txt` by calling files.download function.\n",
    "from google.colab import files\n",
    "files.download(\"triangle.txt\")"
   ]
  },
  {
   "cell_type": "markdown",
   "metadata": {
    "id": "hJO7clRLGesb"
   },
   "source": [
    "####  Exercise 1 (solve it!)\n",
    "\n",
    "* **Read** the file \"triangle.txt\" that we have created just now, and **write** a copy of it to \"triangle_copy.txt\"."
   ]
  },
  {
   "cell_type": "code",
   "execution_count": null,
   "metadata": {
    "id": "yv5ginGVWjzE"
   },
   "outputs": [],
   "source": [
    "# Your code here.\n",
    "\n",
    "# Memo: How to start reading / writing file is like:\n",
    "# f = open(\"state_population.txt\", \"r\") # \"r\": is for file Reading\n",
    "# f = open(\"state_population.txt\", \"w\") # \"w\": is for file Writing"
   ]
  },
  {
   "cell_type": "code",
   "execution_count": null,
   "metadata": {
    "id": "4oooM5tpw-_z"
   },
   "outputs": [],
   "source": [
    "# Another (and simpler) way to copy a file\n",
    "#!cp triangle.txt triangle_copy.txt # Easier way to copy a file by !cp local command."
   ]
  },
  {
   "cell_type": "markdown",
   "metadata": {
    "id": "es8PODBqGesg"
   },
   "source": [
    "####  Exercise 2 (solve it!)\n",
    "\n",
    "* Upload \"state_population.txt\" again from your local machine to Google Colab. Read the file and obtain the population of \"New York\" state."
   ]
  },
  {
   "cell_type": "code",
   "execution_count": null,
   "metadata": {
    "id": "_fMIqRwFZb0L"
   },
   "outputs": [],
   "source": [
    "# This prompts you to upload the file. You can upload the file \"state_population.txt\" again.\n",
    "from google.colab import files\n",
    "uploaded = files.upload()"
   ]
  },
  {
   "cell_type": "code",
   "execution_count": null,
   "metadata": {
    "id": "NiaeLuGEGesj"
   },
   "outputs": [],
   "source": [
    "f = open(\"state_population.txt\", \"r\") #\"r\" for reading\n",
    "content = f.read()\n",
    "f.close()\n",
    "\n",
    "# YOUR CODE HERE. Assign the population of New York State into pop_ny\n",
    "\n",
    "print(\"The population of New York State is\",pop_ny)"
   ]
  },
  {
   "cell_type": "markdown",
   "metadata": {
    "id": "beFPfnrtWn-_"
   },
   "source": [
    "####  Exercise 3 (Extra, if we have time)\n",
    "\n",
    "Download \"citibike_stations.txt\" from the following URL.\n",
    "\n",
    "https://drive.google.com/file/d/1ZLe2wuozQfAffWsP0r-DEU5y6IqA0loI/view?usp=sharing\n",
    "\n",
    "Upload it to Google Colab. \n",
    "\n",
    "Final goal: Print the latitude and longitude of the place \"Mercer St & Bleecker St\"."
   ]
  },
  {
   "cell_type": "code",
   "execution_count": null,
   "metadata": {
    "id": "KX7Ez3S-abyI"
   },
   "outputs": [],
   "source": [
    "# This prompts you to upload the file. You can upload the file \"citibike_stations.txt\".\n",
    "from google.colab import files\n",
    "uploaded = files.upload()"
   ]
  },
  {
   "cell_type": "code",
   "execution_count": null,
   "metadata": {
    "id": "ONlu_L_dagAw"
   },
   "outputs": [],
   "source": [
    "# Make sure citibike_stations.txt is there.\n",
    "!ls"
   ]
  },
  {
   "cell_type": "code",
   "execution_count": null,
   "metadata": {
    "id": "oK3xEv6SaQ1G"
   },
   "outputs": [],
   "source": [
    "# We now open the file for reading\n",
    "f = open(\"citibike_stations.txt\", \"r\")\n",
    "# And we read the full content of the file in memory, as a big string\n",
    "content = f.read()\n",
    "f.close()"
   ]
  },
  {
   "cell_type": "code",
   "execution_count": null,
   "metadata": {
    "id": "yO5GatFFaW-g"
   },
   "outputs": [],
   "source": [
    "sentences = content.split(\"\\n\") # Split the file by newline, and create list of lines. Note that this text is very big.\n",
    "sentences[:5]"
   ]
  },
  {
   "cell_type": "markdown",
   "metadata": {
    "id": "7-G3O8nMwPio"
   },
   "source": [
    "Now, print the latitude and longitude of the place == \"Mercer St & Bleecker St\"."
   ]
  },
  {
   "cell_type": "code",
   "execution_count": null,
   "metadata": {
    "id": "wFooxxRta59c"
   },
   "outputs": [],
   "source": [
    "# This is CSV (comma separated values) file. For each line, split the line by comma and get the list of elements.\n",
    "for s in sentences:\n",
    "    elements = s.split(',')\n",
    "    if elements[3] == \"Mercer St & Bleecker St\":\n",
    "        print(elements[5], elements[6])"
   ]
  }
 ],
 "metadata": {
  "colab": {
   "provenance": []
  },
  "kernelspec": {
   "display_name": "Python 3",
   "language": "python",
   "name": "python3"
  },
  "language_info": {
   "codemirror_mode": {
    "name": "ipython",
    "version": 3
   },
   "file_extension": ".py",
   "mimetype": "text/x-python",
   "name": "python",
   "nbconvert_exporter": "python",
   "pygments_lexer": "ipython3",
   "version": "3.9.0"
  }
 },
 "nbformat": 4,
 "nbformat_minor": 0
}
