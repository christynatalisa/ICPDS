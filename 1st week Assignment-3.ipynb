{
 "cells": [
  {
   "cell_type": "markdown",
   "metadata": {},
   "source": []
  },
  {
   "cell_type": "markdown",
   "metadata": {},
   "source": []
  },
  {
   "cell_type": "markdown",
   "metadata": {
    "id": "DQceOMwq3kfD"
   },
   "source": [
    "# Assignments 1\n",
    "\n",
    "Due Jan 30\n",
    "\n",
    "* \"Explain\" indicates you are expected to answer in natural language in Markdown cells. Anything other should be answered by programs (= code cells).\n",
    "\n",
    "* Your submission should be a jupyterhub notebook (copy of this). Use Menu \"File -> Download as -> Notebook\" and submit it on the brightspace."
   ]
  },
  {
   "cell_type": "markdown",
   "metadata": {
    "heading_collapsed": true,
    "id": "PtGOh_kV3kfF"
   },
   "source": [
    "## Math Expressions for Numeric Types\n",
    "\n"
   ]
  },
  {
   "cell_type": "markdown",
   "metadata": {
    "hidden": true,
    "id": "-SnFeqrG3kfG"
   },
   "source": [
    "Remember that the following operations are available for the numbers\n",
    "\n",
    "* `+` addition, add two numbers\n",
    "* `-` subtraction and negation\n",
    "* `*` multiplication, multiply two numbers\n",
    "* `/` divide first  with the outcome being decimal outcome\n",
    "* `//` division with the outcome being integer (return only the integer part of the outcome)\n",
    "* `%` modulo/division remainder, what is the remainder when the first number is divided by the second?\n",
    "* `**` power, raise the first number into a power given by the second number"
   ]
  },
  {
   "cell_type": "markdown",
   "metadata": {},
   "source": [
    "### Q1\n",
    "\n",
    "Explain what is a programming language, possibly by comparing it with natural languages."
   ]
  },
  {
   "cell_type": "markdown",
   "metadata": {},
   "source": [
    "Programming language is a language with a certain syntax that a computer would understand. Where as natural languages could have ambiguity, programming language is more specific and defined. "
   ]
  },
  {
   "cell_type": "markdown",
   "metadata": {},
   "source": [
    "### Q2\n",
    "\n",
    "What is \"=\" in the following cell is called? Explain it and how it is different from mathematical equality.\n"
   ]
  },
  {
   "cell_type": "code",
   "execution_count": 3,
   "metadata": {},
   "outputs": [],
   "source": [
    "a = 100"
   ]
  },
  {
   "cell_type": "markdown",
   "metadata": {},
   "source": [
    "The \"=\" sign in here is the assignment statement of the value 100 to variable a"
   ]
  },
  {
   "cell_type": "markdown",
   "metadata": {},
   "source": [
    "### Q3\n",
    "\n",
    "What the following code is doing? Explain it."
   ]
  },
  {
   "cell_type": "code",
   "execution_count": 4,
   "metadata": {},
   "outputs": [],
   "source": [
    "a = b = 10"
   ]
  },
  {
   "cell_type": "markdown",
   "metadata": {},
   "source": [
    "The code is assigning the value of 10 to both the variable a and b."
   ]
  },
  {
   "cell_type": "markdown",
   "metadata": {},
   "source": [
    "### Q4\n",
    "\n",
    "Explain the idea of 'expression'. Related to this, explain the idea of PEMDAS by demonstrating an example where it matters.\n",
    "\n",
    "For PEMDAS, see https://greenteapress.com/thinkpython2/html/thinkpython2003.html#sec20"
   ]
  },
  {
   "cell_type": "markdown",
   "metadata": {
    "id": "pSZSoAUD451O"
   },
   "source": [
    "The idea of expression is anything related to values, variables and operators. PEMDAS specifies the order in which parantheses, exponentiation, multiplication, division, addition, and substraction goes in order consequently."
   ]
  },
  {
   "cell_type": "code",
   "execution_count": 5,
   "metadata": {},
   "outputs": [
    {
     "name": "stdout",
     "output_type": "stream",
     "text": [
      "5\n"
     ]
    }
   ],
   "source": [
    "# Example where PEMDAS matters\n",
    "print(2*3-1)"
   ]
  },
  {
   "cell_type": "markdown",
   "metadata": {},
   "source": [
    "### Q5\n",
    "\n",
    "Convert the following narrative on a bank account into a code cell (program). For ease of discussion, the (annual) interest rate is fixed to 4%. The account has zero balance at the beginning.\n",
    "\n",
    "* Kate deposited \\$100.00 into her saving account. \n",
    "* She received interest.\n",
    "* She withdrew \\$50.00 from the account.\n",
    "* She received interest.\n",
    "* She deposited \\$200.00 into the account. \n",
    "* She received interest.\n",
    "* Print the final balance.\n",
    "\n",
    "Answer by converting each bullet point above to each line of the following code cell."
   ]
  },
  {
   "cell_type": "code",
   "execution_count": 6,
   "metadata": {},
   "outputs": [
    {
     "name": "stdout",
     "output_type": "stream",
     "text": [
      "Account balance = $ 100\n",
      "Account balance = $ 100.4\n",
      "Account balance = $ 50.400000000000006\n",
      "Account balance = $ 50.601600000000005\n",
      "Account balance = $ 250.60160000000002\n",
      "Account balance = $ 251.60400640000003\n",
      "Final account balance = $ 251.60400640000003\n"
     ]
    }
   ],
   "source": [
    "# REPLACE THIS WITH YOUR CODE\n",
    "deposit = 100\n",
    "print(\"Account balance = $\" , deposit)\n",
    "deposit = deposit*1.004\n",
    "print(\"Account balance = $\" , deposit)\n",
    "deposit = deposit - 50\n",
    "print(\"Account balance = $\" , deposit)\n",
    "deposit = deposit*1.004\n",
    "print(\"Account balance = $\" , deposit)\n",
    "deposit = deposit + 200\n",
    "print(\"Account balance = $\" , deposit)\n",
    "deposit = deposit*1.004\n",
    "print(\"Account balance = $\" , deposit)\n",
    "\n",
    "print(\"Final account balance = $\" , deposit)"
   ]
  },
  {
   "cell_type": "markdown",
   "metadata": {},
   "source": [
    "### Q6\n",
    "\n",
    "Secretariat, a champion race horse born in 1970, won the Belmont Stakes in June 9 1973. It took 2 minutes and 24 seconds for him to run 1.5 miles distance. *print* Secretariat's speed in terms of *mile-per-minute*.\n"
   ]
  },
  {
   "cell_type": "code",
   "execution_count": 7,
   "metadata": {},
   "outputs": [
    {
     "name": "stdout",
     "output_type": "stream",
     "text": [
      "0.625\n"
     ]
    }
   ],
   "source": [
    "# REPLACE THIS WITH YOUR CODE\n",
    "print(1.5/(144/60))"
   ]
  },
  {
   "cell_type": "markdown",
   "metadata": {},
   "source": [
    "(advanced) How long would it take Secretariat to get to Belmont Park from the Stern building if he could keep that speed. Note that Belmont Park is 18.7 miles from the Stern building. Answer should be XX minutes."
   ]
  },
  {
   "cell_type": "code",
   "execution_count": 8,
   "metadata": {},
   "outputs": [
    {
     "name": "stdout",
     "output_type": "stream",
     "text": [
      "11.6875\n"
     ]
    }
   ],
   "source": [
    "print(18.7*0.625)\n"
   ]
  },
  {
   "cell_type": "markdown",
   "metadata": {},
   "source": [
    "### Q7\n",
    "\n",
    "You have a stock that closed at 550 dollars on Monday, and then closed at 560 dollars on Tuesday. Calculate its daily return: the daily return is defined as the difference in the closing prices, divided by the closing price the day before."
   ]
  },
  {
   "cell_type": "code",
   "execution_count": 9,
   "metadata": {},
   "outputs": [
    {
     "name": "stdout",
     "output_type": "stream",
     "text": [
      "1.7857142857142858\n"
     ]
    }
   ],
   "source": [
    "print(100*(560-550)/560)"
   ]
  },
  {
   "cell_type": "markdown",
   "metadata": {},
   "source": [
    "### Q8\n",
    "\n",
    "Assume that someone's height is 180 centimeters. Convert that height into feet and inches. Remember that one foot is 30.48 centimeters, and one inch is 2.54 centimeters. You will need to use the reminder operator (%) for this conversion. Also use the \n",
    "\n",
    "* `int(...)` function, or\n",
    "* integer division ( // )\n",
    "\n",
    "to get the integer part of a division. "
   ]
  },
  {
   "cell_type": "code",
   "execution_count": 10,
   "metadata": {},
   "outputs": [
    {
     "name": "stdout",
     "output_type": "stream",
     "text": [
      "The heihgt is  5.108661417322835\n"
     ]
    }
   ],
   "source": [
    "feet = 180//30.48\n",
    "inches = (180%30.48)/2.54\n",
    "height = feet + inches*0.01\n",
    "print(\"The heihgt is \", height)"
   ]
  },
  {
   "cell_type": "markdown",
   "metadata": {},
   "source": [
    "### Q9\n",
    "\n",
    "`input` is a function that interactively takes user's input and convert into Python data. For example, run the following cell:"
   ]
  },
  {
   "cell_type": "code",
   "execution_count": 11,
   "metadata": {},
   "outputs": [
    {
     "name": "stdout",
     "output_type": "stream",
     "text": [
      "\n"
     ]
    }
   ],
   "source": [
    "data = input(\"Type something\")\n",
    "print(data)"
   ]
  },
  {
   "cell_type": "markdown",
   "metadata": {},
   "source": [
    "Here, the input returns a string value. If we need an integer value, we can use `int` function to convert the data."
   ]
  },
  {
   "cell_type": "code",
   "execution_count": 12,
   "metadata": {},
   "outputs": [],
   "source": [
    "data = input(\"Type something\")\n",
    "data_int = int(data)\n"
   ]
  },
  {
   "cell_type": "markdown",
   "metadata": {},
   "source": [
    "* What happens when you gave an ordinal string (e.g., \"Hello\") into above `input`? Explain what is going on."
   ]
  },
  {
   "cell_type": "markdown",
   "metadata": {},
   "source": [
    "There is a ValueError message, since integer only accepts numbers to like 0-10 and not string."
   ]
  },
  {
   "cell_type": "markdown",
   "metadata": {},
   "source": [
    "Recall the subway ride calculator example (Session 2). Create an `input` function that user inputs their balance, and print how many rides you can do on it."
   ]
  },
  {
   "cell_type": "code",
   "execution_count": 2,
   "metadata": {},
   "outputs": [
    {
     "ename": "ValueError",
     "evalue": "invalid literal for int() with base 10: ''",
     "output_type": "error",
     "traceback": [
      "\u001b[0;31m---------------------------------------------------------------------------\u001b[0m",
      "\u001b[0;31mValueError\u001b[0m                                Traceback (most recent call last)",
      "Cell \u001b[0;32mIn[2], line 5\u001b[0m\n\u001b[1;32m      1\u001b[0m \u001b[39m# REPLACE THIS WITH YOUR CODE. THE CODE SHOULD HAVE AN `INPUT` FUNCTION. \u001b[39;00m\n\u001b[1;32m      2\u001b[0m \u001b[39m# UPON RUNNING THE CELL, IT SHOULD TAKE AN (INTEGER) INPUT AND PRINT THE NUMBER OF RIDES YOU CAN DO WITH IT.\u001b[39;00m\n\u001b[1;32m      4\u001b[0m card_balance \u001b[39m=\u001b[39m \u001b[39minput\u001b[39m(\u001b[39m\"\u001b[39m\u001b[39mInput your balance = \u001b[39m\u001b[39m\"\u001b[39m)\n\u001b[0;32m----> 5\u001b[0m data_int \u001b[39m=\u001b[39m \u001b[39mint\u001b[39;49m(card_balance)\n\u001b[1;32m      6\u001b[0m rides \u001b[39m=\u001b[39m data_int\u001b[39m/\u001b[39m\u001b[39m2.75\u001b[39m\n\u001b[1;32m      7\u001b[0m \u001b[39mprint\u001b[39m (\u001b[39m\"\u001b[39m\u001b[39mYou can have\u001b[39m\u001b[39m\"\u001b[39m, rides, \u001b[39m\"\u001b[39m\u001b[39mmany rides\u001b[39m\u001b[39m\"\u001b[39m)\n",
      "\u001b[0;31mValueError\u001b[0m: invalid literal for int() with base 10: ''"
     ]
    }
   ],
   "source": [
    "# REPLACE THIS WITH YOUR CODE. THE CODE SHOULD HAVE AN `INPUT` FUNCTION. \n",
    "# UPON RUNNING THE CELL, IT SHOULD TAKE AN (INTEGER) INPUT AND PRINT THE NUMBER OF RIDES YOU CAN DO WITH IT.\n",
    "\n",
    "card_balance = input(\"Input your balance = \")\n",
    "data_int = int(card_balance)\n",
    "rides = data_int/2.75\n",
    "print (\"You can have\", rides, \"many rides\")\n"
   ]
  },
  {
   "cell_type": "code",
   "execution_count": null,
   "metadata": {},
   "outputs": [],
   "source": []
  }
 ],
 "metadata": {
  "colab": {
   "collapsed_sections": [
    "wfg6XEUOsF5r",
    "Su0Y4YyJ3kgD",
    "yZBLvW863khg"
   ],
   "provenance": []
  },
  "kernelspec": {
   "display_name": "Python 3",
   "language": "python",
   "name": "python3"
  },
  "language_info": {
   "codemirror_mode": {
    "name": "ipython",
    "version": 3
   },
   "file_extension": ".py",
   "mimetype": "text/x-python",
   "name": "python",
   "nbconvert_exporter": "python",
   "pygments_lexer": "ipython3",
   "version": "3.9.0"
  },
  "vscode": {
   "interpreter": {
    "hash": "aee8b7b246df8f9039afb4144a1f6fd8d2ca17a180786b69acc140d282b71a49"
   }
  }
 },
 "nbformat": 4,
 "nbformat_minor": 1
}
