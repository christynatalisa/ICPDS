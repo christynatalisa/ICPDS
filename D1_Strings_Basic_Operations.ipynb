{
 "cells": [
  {
   "cell_type": "markdown",
   "metadata": {
    "id": "bHt02B1eU1tc"
   },
   "source": [
    "Primitive Data Types\n",
    "--------------------\n",
    "\n",
    "These are the basic data types that constitute all of the more complex data structures in python. The basic data types are the following:\n",
    "\n",
    "* Strings (for text -- we work on today)\n",
    "* Numeric types (integers and floats)\n",
    "* Booleans (we will do later)\n"
   ]
  },
  {
   "cell_type": "markdown",
   "metadata": {
    "id": "11rTogZgU1tf"
   },
   "source": [
    "### String variables\n",
    "\n",
    "String variables are used to store textual data, characters and sequences of characters. Can be specified by surrounding some text with single `'` or double `\"` quotes. "
   ]
  },
  {
   "cell_type": "code",
   "execution_count": null,
   "metadata": {
    "id": "4ai_szivU1th"
   },
   "outputs": [],
   "source": [
    "str_1 = \"Hello World!\"\n",
    "print(str_1)"
   ]
  },
  {
   "cell_type": "code",
   "execution_count": null,
   "metadata": {
    "id": "QwL7OlsOU1tn"
   },
   "outputs": [],
   "source": [
    "str_1 = \"single quote ->'\" \n",
    "str_2 = 'double quote -> \"'\n",
    "print(str_1 + \" \" + str_2)"
   ]
  },
  {
   "cell_type": "markdown",
   "metadata": {
    "id": "xfUBi_D4U1tq"
   },
   "source": [
    "#### Multiline strings\n",
    "\n",
    "If we have a piece of text with multiple lines, then triple quotes (either `'''` or `\"\"\"`) can be used to surround the text."
   ]
  },
  {
   "cell_type": "code",
   "execution_count": null,
   "metadata": {
    "id": "yuXoDjKKU1tr"
   },
   "outputs": [],
   "source": [
    "str_2 = \"\"\"\n",
    "If we want to have multiple lines in the string\n",
    "then we can use triple quotes: This is a multiline\n",
    "a\n",
    " b\n",
    "  c\n",
    "   d\n",
    "    e\n",
    "string!\n",
    "\"\"\"\n",
    "# str_3 = \"standard Double-Quoted-str\"\n",
    "print(str_2)"
   ]
  },
  {
   "cell_type": "code",
   "execution_count": null,
   "metadata": {
    "id": "w9kt14qNU1tw"
   },
   "outputs": [],
   "source": [
    "str_3 = '''\n",
    "Semiconductor companies had their best sales year ever in 2021\n",
    " and industry executives expect that total to double in less\n",
    " than a decade, to more than $1 trillion.\n",
    "'''\n",
    "print(str_3)\n",
    "# https://www.wsj.com/articles/SB00359794827824253615704588332721497568536"
   ]
  },
  {
   "cell_type": "markdown",
   "metadata": {
    "id": "v9gUZ5buU1t3"
   },
   "source": [
    "### Operations on Strings \n",
    "\n",
    "We have seen some common operations on numeric variables. Now, let’s discuss a few **common** operations on string variables. The complete list of string operations is [available here](http://docs.python.org/3/library/string.html)."
   ]
  },
  {
   "cell_type": "markdown",
   "metadata": {
    "id": "G2upks8fU1t5"
   },
   "source": [
    "#### Concatenation\n",
    "\n",
    "The `+` operator concatenates two strings:"
   ]
  },
  {
   "cell_type": "code",
   "execution_count": null,
   "metadata": {
    "id": "ek5-J4_0U1t6"
   },
   "outputs": [],
   "source": [
    "# note that + concatenates strings\n",
    "str1 = \"hello\"\n",
    "str2 = \"world\"\n",
    "message = str1 + \" \" + str2 + \"!\" \n",
    "print(message)"
   ]
  },
  {
   "cell_type": "markdown",
   "metadata": {
    "id": "KWS1DevwU1uB"
   },
   "source": [
    "Notice the difference of the `+` operation when operating on text vs. numeric variables:"
   ]
  },
  {
   "cell_type": "code",
   "execution_count": null,
   "metadata": {
    "id": "9H65AivBU1uC"
   },
   "outputs": [],
   "source": [
    "x = 41\n",
    "x = x + 1\n",
    "print(x)"
   ]
  },
  {
   "cell_type": "code",
   "execution_count": null,
   "metadata": {
    "id": "02UO9cLTU1uF"
   },
   "outputs": [],
   "source": [
    "x = '41'\n",
    "x = x + '1'\n",
    "print(x)"
   ]
  },
  {
   "cell_type": "markdown",
   "metadata": {
    "id": "MC5XVl00DmO4"
   },
   "source": [
    "### Exercise\n",
    "Concatenate the following words"
   ]
  },
  {
   "cell_type": "code",
   "execution_count": null,
   "metadata": {
    "id": "1I_AYx6pDxnJ"
   },
   "outputs": [],
   "source": [
    "The = \"The \"\n",
    "quick = \"quick \"\n",
    "brown = \"brown \"\n",
    "fox = \"fox \"\n",
    "jumps = \"jumps\""
   ]
  },
  {
   "cell_type": "code",
   "execution_count": null,
   "metadata": {
    "id": "khpUFUsSERgy"
   },
   "outputs": [],
   "source": [
    "print(YOUR SOLUTION HERE; CONCATENATE THEM!)"
   ]
  },
  {
   "cell_type": "markdown",
   "metadata": {
    "id": "Kua6JaIvU1uK"
   },
   "source": [
    "### Exercise\n",
    "\n",
    "You are given a variable `name = 'Junpei'` and variable `phone = '212-998-0100'`. Use the values of these variables to create and print the message `Call Junpei at 212-998-0100`."
   ]
  },
  {
   "cell_type": "code",
   "execution_count": null,
   "metadata": {
    "id": "gFxssjp0Dibd"
   },
   "outputs": [],
   "source": [
    "name = 'Junpei'\n",
    "phone = '212-998-0100'\n",
    "\n",
    "print(YOUR SOLUTION HERE!)"
   ]
  },
  {
   "cell_type": "markdown",
   "metadata": {
    "id": "JBCGqPYtU1uQ"
   },
   "source": [
    "#### String length\n",
    "\n",
    "`len(str)`: length of a string, number of characters"
   ]
  },
  {
   "cell_type": "code",
   "execution_count": null,
   "metadata": {
    "id": "ozfWbRHCU1uS"
   },
   "outputs": [],
   "source": [
    "word = \"KFC to sell Beyond Meat's plant-based 'fried chicken' in the southern U.S.\" \n",
    "print(len(word))"
   ]
  },
  {
   "cell_type": "code",
   "execution_count": null,
   "metadata": {
    "id": "rYjCpvpCU1uV"
   },
   "outputs": [],
   "source": [
    "print(\"The length of the text above is\", len(word), \"characters\")"
   ]
  },
  {
   "cell_type": "markdown",
   "metadata": {
    "id": "fdS7OzzzU1uY"
   },
   "source": [
    "### Exercise\n",
    "\n",
    "You are given a brief news article, stored in the variable `news`. Compute the length of the article, in characters."
   ]
  },
  {
   "cell_type": "code",
   "execution_count": null,
   "metadata": {
    "id": "adPtyV6zU1uZ"
   },
   "outputs": [],
   "source": [
    "news = '''\n",
    "The remnants of the severe winter storm that overwhelmed New England with\n",
    " heavy snow and hurricane-force gusts lingered Sunday in Canada,\n",
    " leaving a trail of power outages in the coastal areas of Massachusetts.\n",
    "'''"
   ]
  },
  {
   "cell_type": "code",
   "execution_count": null,
   "metadata": {
    "id": "DEqlkLvVU1uc"
   },
   "outputs": [],
   "source": [
    "# Your solution here\n",
    "print(YOUR SOLUTION HERE!)"
   ]
  },
  {
   "cell_type": "markdown",
   "metadata": {
    "id": "sD_yexfrU1uj"
   },
   "source": [
    "#### Capitalization\n",
    "\n",
    "Now let's see how we can change the capitalization of the text. This will also be our first, informal, introduction to a new type of function. \n",
    "\n",
    "* `str.upper()`: returns an uppercase version of a string\n",
    "* `str.lower()`: returns a lowercase version of a string"
   ]
  },
  {
   "cell_type": "code",
   "execution_count": null,
   "metadata": {
    "id": "PPtkWgGcU1uk"
   },
   "outputs": [],
   "source": [
    "print(news.lower())"
   ]
  },
  {
   "cell_type": "code",
   "execution_count": null,
   "metadata": {
    "id": "WLl20OZ2U1un"
   },
   "outputs": [],
   "source": [
    "print(news.upper())"
   ]
  },
  {
   "cell_type": "code",
   "execution_count": null,
   "metadata": {
    "id": "mNYmcsnpU1uq"
   },
   "outputs": [],
   "source": [
    "# Notice that the original 'news' variable did not change\n",
    "print(news)"
   ]
  },
  {
   "cell_type": "code",
   "execution_count": null,
   "metadata": {
    "id": "QtP1mQmiU1uu"
   },
   "outputs": [],
   "source": [
    "# If we want to keep the changed-case version, we need to store it in a variable\n",
    "lowercase_news = news.lower()\n",
    "print(lowercase_news)"
   ]
  },
  {
   "cell_type": "markdown",
   "metadata": {
    "id": "xxQRUNc9U1uw"
   },
   "source": [
    "##### Small de-railing\n",
    "\n",
    "The `.lower()` is a function that applies only to string variables. Notice the different way that we apply the function, compared to, say, the `len(news)` above. In this case, we have a string variable (`news`), then we have a dot (`.`), and then we put the name of the function: (`lower()`). Notice that we have the two parentheses at the end, which indicate that the function does not have any arguments, except for the `news` variable. Notice that if we omit the parentheses, we will get a strange result:"
   ]
  },
  {
   "cell_type": "code",
   "execution_count": null,
   "metadata": {
    "id": "53qO9IbSU1uy"
   },
   "outputs": [],
   "source": [
    "print(news.lower())"
   ]
  }
 ],
 "metadata": {
  "colab": {
   "provenance": []
  },
  "kernelspec": {
   "display_name": "Python 3 (ipykernel)",
   "language": "python",
   "name": "python3"
  },
  "language_info": {
   "codemirror_mode": {
    "name": "ipython",
    "version": 3
   },
   "file_extension": ".py",
   "mimetype": "text/x-python",
   "name": "python",
   "nbconvert_exporter": "python",
   "pygments_lexer": "ipython3",
   "version": "3.10.6"
  }
 },
 "nbformat": 4,
 "nbformat_minor": 1
}
