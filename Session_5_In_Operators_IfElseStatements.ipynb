{
 "cells": [
  {
   "cell_type": "markdown",
   "metadata": {
    "id": "dtEXySiBjunL"
   },
   "source": [
    "### Below are several news articles\n",
    "\n",
    "Goal in this session: Classify news into categories (e.g., \"NYC\", \"Travel\", \"Foods\")"
   ]
  },
  {
   "cell_type": "code",
   "execution_count": 2,
   "metadata": {},
   "outputs": [
    {
     "name": "stdout",
     "output_type": "stream",
     "text": [
      "Article talking about food = False\n"
     ]
    }
   ],
   "source": [
    "article1 = \"\"\"\n",
    "Marisa Shuman's computer science class at the Young Women's Leadership School of the Bronx began as usual on a recent January morning.\n",
    "Just after 11:30, energetic 11th and 12th graders bounded into the classroom, settled down at communal study tables and pulled out their laptops. Then they turned to the front of the room, eyeing a whiteboard where Ms. Shuman had posted a question on wearable technology, the topic of that day's class.\n",
    "For the first time in her decade-long teaching career, Ms. Shuman had not written any of the lesson plan. She had generated the class material using ChatGPT, a new chatbot that relies on artificial intelligence to deliver written responses to questions in clear prose. Ms. Shuman was using the algorithm-generated lesson to examine the chatbot's potential usefulness and pitfalls with her students.\n",
    "\"I don't care if you learn anything about wearable technology today,\" Ms. Shuman said to her students. \"We are evaluating ChatGPT. Your goal is to identify whether the lesson is effective or ineffective.\"\n",
    "Across the United States, universities and school districts are scrambling to get a handle on new chatbots that can generate humanlike texts and images. But while many are rushing to ban ChatGPT to try to prevent its use as a cheating aid, teachers like Ms. Shuman are leveraging the innovations to spur more critical classroom thinking. They are encouraging their students to question the hype around rapidly evolving artificial intelligence tools and consider the technologies' potential side effects.\n",
    "The aim, these educators say, is to train the next generation of technology creators and consumers in \"critical computing.\" That is an analytical approach in which understanding how to critique computer algorithms is as important as — or more important than — knowing how to program computers.\n",
    "New York City Public Schools, the nation's largest district, serving some 900,000 students, is training a cohort of computer science teachers to help their students identify A.I. biases and potential risks. Lessons include discussions on defective facial recognition algorithms that can be much more accurate in identifying white faces than darker-skinned faces.\n",
    "\"\"\"\n",
    "\n",
    "document =article1\n",
    "is_food = 'food' in document\n",
    "print(f'Article talking about food = {is_food}')"
   ]
  },
  {
   "cell_type": "code",
   "execution_count": 6,
   "metadata": {},
   "outputs": [
    {
     "name": "stdout",
     "output_type": "stream",
     "text": [
      "Article talking about food = False\n"
     ]
    }
   ],
   "source": [
    "article2 = \"\"\"\n",
    "Olaya: Start thinking about if you want to arrive earlier to your site or leave later than you’re supposed to — if you can afford it. I arrived in Paris a week earlier than move-in day, and that was the best choice I could’ve made. I was able to familiarize myself with the city and do all the touristy sightseeing before I got busy due to school. \n",
    "Also, start planning your travel itineraries now. Like this second. Nothing is worse than attempting to slap together a last-minute itinerary at 11 p.m. while you have an entire five-page paper due in an hour, dishes in the sink, an empty stomach and a midterm the next morning.\n",
    "Guarracino: Traveling can be done on a budget too. So, you may have to take a questionable Ryanair flight and you may get stuck at the Edinburgh airport for a couple of hours — it’s all a part of the journey. Look at your options months ahead of time to gauge what is within your price range and how you should plan. You’d be surprised how far you can get with a cheap 5 a.m. bus ticket. \n",
    "Olaya: Check your budget ahead of time, and make sure you can afford to go to these places. Start planning potential travel dates. Research plane, bus and train ticket costs, and buy them as early as possible. Juliana and I had to cancel our dream trip to Lisbon because we’re broke and last-minute plane tickets were too expensive.\n",
    "\"\"\"\n",
    "document =article2\n",
    "is_food = 'food' in document\n",
    "print(f'Article talking about food = {is_food}')"
   ]
  },
  {
   "cell_type": "code",
   "execution_count": 5,
   "metadata": {
    "id": "AOB_FxIbjunR"
   },
   "outputs": [
    {
     "name": "stdout",
     "output_type": "stream",
     "text": [
      "Article talking about food = True\n"
     ]
    }
   ],
   "source": [
    "article3 = \"\"\"\n",
    "The second branch of the Lower East Side dumpling stall has an expanded menu, including a handful of Japanese dishes. Chinese dumplings are still the most important offering, whether stuffed with meat, seafood, or vegetables. The pork dumplings in spicy sauce with a splash of sesame paste are one of the best things, or go for one of the wedge-shaped sandwiches on sesame bread, which top out at $6.\n",
    "Propel through the grocery section in the front of Zaragoza to find a darling little dining room in the rear, where the food of Puebla has been served since 2000. One specialty of the house is chicken or potato flautas, but you may also get tacos, enchiladas, egg-stuffed Mexican meatballs in chile gravy, shredded beef with chipotle sauce, or cheesy chiles rellenos, depending on what the cook has whipped up that day.\n",
    "This St. Marks cheap eats mainstay peddles the Japanese noodle less ubiquitous in New York, udon — thick, spongy, farinaceous ropes of pleasure, swimming in a rich sweet broth and topped with bonus ingredients. Sure the walk-down space is cramped and dim, but the soups are delicious, including my favorite, fried chicken. The shrimp tempura is equally good, and curries are also available. Cash only.\n",
    "Walking into B&H is travel in a time machine, sending you back to the days when Second Avenue was known as the Yiddish Broadway. It's also one of the few specimens of the Jewish dairy restaurant remaining in the city; it's been around for more than 70 years but was upgraded slightly after an explosion damaged the space. You can't go wrong with one of the vegetarian soups sided with buttered, house-made challah bread sweet as brioche. The place sells fish sandwiches and entrees, too. Sit at the formica lunch counter and kibbitz with the regulars. Cash only.\n",
    "Classic Middle Eastern food — some of the best of it vegetarian — is the forte of Rakka Cafe, which has been on St. Marks for more than three decades. A vegetarian combo might include freshly fried falafel, babaganoush, tabouli, and labneh served with a stack of warm pitas. Meat sandwiches such as lamb shawarma are also bargain priced, and there's outdoor seating in warm weather.\n",
    "This coffee bar produces some of the city's best joe with its own proprietary blends of beans. But a closely held secret is the baking program, helmed by co-owner Liz Quijada. Find a shifting roster of cakes, sweet breads, cookies, and miscellaneous savory items like fritadas and pressed small sandwiches, too. So it's one of the best places in the East Village for a snack, as the samba floats up around you and happy customers chatter in Portuguese, Spanish, or English. Cash only.\n",
    "Right on Tompkins Square, the East Village's iconic snack shop crams a lot of food into a small narrow space with no seating. However, you can stand at the counter and eat your twice cooked french fries, toasted cheese sandwich, ice cream sundae, hot dog with chili, fried Oreos, nachos, or surprisingly good beignets, which get a sprinkle of powdered sugar as they're passed across the counter. Yes, the place is a lovable mess, with pictures of rock stars on the wall. Cash only.\n",
    "It started out as an Italian bakery three decades ago and gradually, most of the baked goods disappeared in favor of Pueblan antojitos. This place was on top of the breakfast taco and burrito thing before any other establishment in town caught on. My favorite dish is chicken enchiladas with guajillo chile sauce, red as a brick and fiery has hell.\n",
    "Of several Punjabi canteens in the East Village, this one is the best. It's also a convenience store, providing only three window stools for dining in, but the food verges on the superb. I'm talking about potato samosas bigger than a wrestler's fist for only $1.50, and “small” servings of chicken curry and pullao rice for $5 that are really much bigger than the designation implies. Ask for chutney and get some very nice green raita on the side.\n",
    "This Puerto Rican cafe has been a neighborhood gathering place since 1976, opened by the late Adela Fargas, and it's still often a lively scene. The paprika dusted rotisserie chickens are fabled, but you'll do just as well with roast pork served with rice and beans, an avocado or octopus salad, or a Cubano or other pressed sandwich. The dining room is comfortable, and the garlicky aroma of the food drifts down Avenue C. Cash only.\n",
    "\"\"\"\n",
    "document =article3\n",
    "is_food = 'food' in document\n",
    "print(f'Article talking about food = {is_food}')"
   ]
  },
  {
   "cell_type": "code",
   "execution_count": 7,
   "metadata": {},
   "outputs": [
    {
     "name": "stdout",
     "output_type": "stream",
     "text": [
      "Article talking about food = True\n"
     ]
    }
   ],
   "source": [
    "article4 = \"\"\"\n",
    "Bangkokians have been busy: Travelers returning to \"the City of Angels\" after even a few years will notice changes. The impenetrably jammed streets of Chinatown and Old Town, with their glorious religious and royal enclaves, are finally accessible by mass transit with the extension of the Metropolitan Rapid Transit subway. And the long-neglected waterfront of the Chao Phraya River now has two massive, eye-popping developments on opposite banks: the Icon Siam mall and the Four Seasons complex of restaurants, a water garden and a gallery. Meanwhile, a new generation of chefs, designers and artisans has taken advantage of the pandemic lull to open businesses throughout Bangkok, bringing more flair and fun to an already flamboyant city.\n",
    "The chef Thitid \"Ton\" Tassanakajohn, a co-owner of the Michelin-starred Bangkok restaurant Le Du, last year opened Lahnyai Nusara, an intimate restaurant in a living-room-like space amid the Sathorn district's skyscrapers. Get a reservation for one of the half-dozen tables overseen by family photographs and embark on Ton's 12-course menu, based on a cosmopolitan approach to his mom's recipes, like steamed egg with crab meat and truffles. Dinner with wine is around 3,800 Thai baht, or about $115, per person.\n",
    "Dress shamelessly and let Thai D.J.s vibrate away your jet lag at Sing Sing Theater, the current reigning nightclub in Sukhumvit, with a noirish retro-Chinese décor illuminated by swarms of red lanterns and a riot of professional dancers behind screens and on swings that give the place the feel of a Baz Luhrmann film set. Settle into the intimate nooks and balconies surrounding the stage and dance floor or house shuffle with a cordial mix of wealthy locals and Bangkok's expat community, including, at the moment, quite a few exiled Russians. Guest D.J.s and live bands come in for regular parties such as burlesque or Latin nights. Drinks start at 180 THB.\n",
    "In the 1990s, Co van Kessel, a Dutch-born resident of Bangkok who died in 2012, pioneered elaborate, yet surprisingly easy bicycle tours through the city and its surrounding farmland that used canal boats to move between town and country. Today, a friendly staff of young, English-speaking Thai bike enthusiasts have taken up his mantle from a well-marked garage and office next to the River City shopping complex on the Chao Phraya River. Much of the clientele is still Dutch, and it's a mesmerizing and surprisingly safe trip through a maze of alleyway temples and canals (you hop into the boat with your bike), leading to paths above the paddy farms upon which the city was built, one of which provides a delicious local lunch. A five-hour tour is 1,850 THB.\n",
    "Visitors usually head to Wat Pho (\"wat\" means \"temple\" in many parts of Southeast Asia) next to the Grand Palace to marvel at the 151-foot reclining Buddha. But one can match the contentment on his face in a discreet building behind the temple where novices master the art of Thai massage, one of the ancient medical practices to which the wat is devoted. The massage center, Wat Pho Thai Traditional Medical School, is across from the main temple building (there's usually a standing yellow sign in front). Sample their craft with divine foot and back massages starting from 280 THB for 30 minutes.\n",
    "Vietnam War-era military jackets? Butterfly collections? Hand-carved, Scandi-minimalist cutlery? They're all found in the potpourri of shops, galleries and cafes of Warehouse 30, which spans seven colorfully renovated warehouses and anchors Bangkok's thriving arts district surrounding the River City shopping center. Regenerate from all that biking and shopping in one of the complex's most popular cafes, Mother Roaster, run by the septuagenarian super-barista Ploenpit Rianmek, affectionately nicknamed \"Pa Pim,\" who brews some of the best java in town (from 80 THB).\n",
    "Bangkok's Chinatown is a maze of perpetual regeneration. The district, long hemmed in by a permanent traffic jam, is now more accessible by the extension of the subway system in 2019. Finding Potong, a restaurant in a former pharmacy in an alley off an alley, is a worthy adventure. The chef Pam Soontornyanakij is the fifth generation of her family to own and work in this building, having made a detour as a cook in Jean-Georges Vongerichten's culinary empire in New York before returning to bring Western panache to Thai-Chinese fusion. The result is dishes like a traditional corn custard that she serves with smoked salt and on brioche. Her efforts were rewarded with her first Michelin star in November. The tasting menu is 4,800 THB per person; reserve ahead.\n",
    "Over the past decade, the city has become one of Asia's great mixology destinations. The best of the blossoming bar scene is within walking distance of Potong, and includes Teens of Thailand, a cozy jewel-box of a place serving up gin cocktails; Tep Bar in a former shop that specializes in a herbal liquor called ya dong and uses local fruits and spices; and one of the city's hottest newcomers, Tropic City, a Thai take on a tiki bar featuring a dizzying array of rum cocktails. Expect to pay at least 300 THB a cocktail at these bars.\n",
    "The Four Seasons complex, which opened in late 2020, has revolutionized the dreary stretch of river south of the Taksin Bridge. Escape the dense urban surroundings to airy courtyards surrounding terraced pools, outdoor art installations and banyan trees descending to the shore. Head from the lobby to the waterfront via the small contemporary museum, Art Space, a broad whitewashed studio featuring a rotating series of modern art installations curated by Bangkok’s Museum of Contemporary Art. The museum shop features funky one-offs, including a blow-up 10-foot worm (65,000 THB) or customized graffiti tote bags (1,330 THB). Exit the gallery to find a popular French bakery, Cafe Madeleine, which serves excellent croissants (95 THB) and coffee on the wide riverfront terrace.\n",
    "Cross the river on the public ferry (from 13 THB) to Icon Siam mall. Few do malls better than the Thais: Imagine the spaceship from “Close Encounters of the Third Kind” perched on the shore (ignore all the bland Western luxury logos dominating the facade) and step into the light. The first floor has arguably the world’s best food court. Thais flock to the locally run stalls that have replaced so many of Bangkok’s much-missed street vendors. Many stalls don’t have names and just have one specialty, like spicy shrimp soup or pad thai, often made by that vendor’s family for generations. You can easily enjoy a multi-course feast for less than 200 THB. After lunch, visit the top floor balcony to discover a light-and-mirror art installation called “Infinity Forest,” and one of the best views over the river.\n",
    "\"\"\"\n",
    "\n",
    "document =article4\n",
    "is_food = 'food' in document\n",
    "print(f'Article talking about food = {is_food}')"
   ]
  },
  {
   "cell_type": "code",
   "execution_count": null,
   "metadata": {},
   "outputs": [],
   "source": [
    "hourly_pay = int(input('enter pay = $'))\n",
    "working_hour = int(input('enter hours = '))\n",
    "\n",
    "if working_hour <= 20 :\n",
    "    total_pay = hourly_pay*working_hour\n",
    "    print(f\"Your total pay = ${total_pay}\")\n",
    "elif working_hour > 20:\n",
    "    overtime_pay = 15\n",
    "    overtime_hour = working_hour - 20 \n",
    "    total_pay = hourly_pay*working_hour + overtime_pay*overtime_hour\n",
    "    print(f\"Your total pay = ${total_pay}\")\n",
    "elif working_hour < 5: \n",
    "    print(\"You need to work at least 5 hours.\")"
   ]
  },
  {
   "cell_type": "markdown",
   "metadata": {
    "id": "VxgeFYacjunV"
   },
   "source": [
    "Original: \n",
    "\n",
    "* article 1: https://www.nytimes.com/2023/02/06/technology/chatgpt-schools-teachers-ai-ethics.html\n",
    "* article 2: https://nyunews.com/abroad/2022/10/31/study-abroad-advice/\n",
    "* article 3: https://ny.eater.com/maps/best-east-village-cheap-eats\n",
    "* article 4: https://www.nytimes.com/interactive/2023/02/02/travel/things-to-do-bangkok.html"
   ]
  }
 ],
 "metadata": {
  "colab": {
   "provenance": []
  },
  "kernelspec": {
   "display_name": "Python 3",
   "language": "python",
   "name": "python3"
  },
  "language_info": {
   "codemirror_mode": {
    "name": "ipython",
    "version": 3
   },
   "file_extension": ".py",
   "mimetype": "text/x-python",
   "name": "python",
   "nbconvert_exporter": "python",
   "pygments_lexer": "ipython3",
   "version": "3.9.0"
  },
  "vscode": {
   "interpreter": {
    "hash": "aee8b7b246df8f9039afb4144a1f6fd8d2ca17a180786b69acc140d282b71a49"
   }
  }
 },
 "nbformat": 4,
 "nbformat_minor": 1
}
