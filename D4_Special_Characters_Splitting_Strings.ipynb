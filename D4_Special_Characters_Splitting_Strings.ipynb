{
 "cells": [
  {
   "cell_type": "markdown",
   "metadata": {
    "id": "qHwbZTZWC7wU"
   },
   "source": [
    "### Special characters\n",
    "\n",
    "When we use strings, you will notice that we often want to use some \"_special characters_\". These special characters consist of the backslash character (`\\`) followed by another character.\n",
    "\n",
    "**Tab character** `\\t`: For example, if we want to create an output of multiple columns, with each columns being separated with a tab from each other, we can use the tab character, which is represented as `\\t`. "
   ]
  },
  {
   "cell_type": "code",
   "execution_count": null,
   "metadata": {
    "id": "l_T1xAj6C7wW"
   },
   "outputs": [],
   "source": [
    "# Example: List the first name, last name, and email of a person, in columns\n",
    "# Separate the columns using a tab character\n",
    "str_4a =\"First Name\\tLast Name\\tEmail\"\n",
    "str_4b =\"Junpei\\tKomiyama\\tjunpei.komiyama@nyu.edu\"\n",
    "print(str_4a)\n",
    "print(str_4b)\n",
    "# Add your name here with variable name str_4c"
   ]
  },
  {
   "cell_type": "markdown",
   "metadata": {
    "id": "Td3ub2uOC7wc"
   },
   "source": [
    "**New line character** `\\n`: This is a special character that we use to represent a new line."
   ]
  },
  {
   "cell_type": "code",
   "execution_count": null,
   "metadata": {
    "id": "9OCu9wCSC7wf"
   },
   "outputs": [],
   "source": [
    "# Notice that we end the strings below with the \\n character, \n",
    "# which is the \"new line\" special character\n",
    "str_5 = \"How are you?\\nGood, and you?\\nGood, good!\"\n",
    "print(str_5)"
   ]
  },
  {
   "cell_type": "markdown",
   "metadata": {
    "id": "vW0QAOo_C7wj"
   },
   "source": [
    "**Backslash character** `\\\\`: In general, backslash (`\\`) is used to introduce special characters. If we want to type the backslash character itself, we do it by typing backslash twice in a row: `\\\\`."
   ]
  },
  {
   "cell_type": "code",
   "execution_count": null,
   "metadata": {
    "id": "6_VKPgaFC7wl"
   },
   "outputs": [],
   "source": [
    "print(\"I want to print backslash: \\\\\")"
   ]
  },
  {
   "cell_type": "markdown",
   "metadata": {
    "id": "ijnyrz4PC7wo"
   },
   "source": [
    "**Quotes**: "
   ]
  },
  {
   "cell_type": "code",
   "execution_count": null,
   "metadata": {
    "id": "JJJzcLQ3C7wp"
   },
   "outputs": [],
   "source": [
    "str_4 = 'This is a string within single quotes that can contain \"double quotes\" as part of the string'\n",
    "print(str_4)"
   ]
  },
  {
   "cell_type": "code",
   "execution_count": null,
   "metadata": {
    "id": "3ptw-sl1C7wx"
   },
   "outputs": [],
   "source": [
    "str_5 = 'If we want to have \\'single quotes\\' in single quoted string we should escape them'\n",
    "print(str_5)"
   ]
  },
  {
   "cell_type": "code",
   "execution_count": null,
   "metadata": {
    "id": "lczvWVoMC7w2"
   },
   "outputs": [],
   "source": [
    "str_6 = \"Similarly, if we want to have \\\"double quotes\\\" in double quoted string we should escape them\\n\"\n",
    "print(str_6)"
   ]
  },
  {
   "cell_type": "markdown",
   "metadata": {
    "id": "VawRdIyrC7w5"
   },
   "source": [
    "### Splitting Strings: `split` and `join`\n",
    "\n",
    "Since we talked about special characters, let’s talk now about splitting strings, using the `split()` function.\n",
    "\n",
    "\n",
    "+ `longstring.split(separator)`: split the first string (longstring) at every occurrence of the second string (separator) Outputs a list (see below).\n",
    "+ `connector.join(list)`:  join is the \"reverse\" of split, and joins all  the elements of the list, using the `connector` string in front."
   ]
  },
  {
   "cell_type": "code",
   "execution_count": 1,
   "metadata": {
    "id": "_QrH8BEgC7w6"
   },
   "outputs": [
    {
     "name": "stdout",
     "output_type": "stream",
     "text": [
      "['practical', 'data', 'science']\n"
     ]
    }
   ],
   "source": [
    "print(\"practical data science\".split(\" \"))"
   ]
  },
  {
   "cell_type": "markdown",
   "metadata": {
    "id": "_GMXMeT5C7xD"
   },
   "source": [
    "Or let's take the example from above:"
   ]
  },
  {
   "cell_type": "code",
   "execution_count": 2,
   "metadata": {
    "id": "Z36Rz6lRC7xE"
   },
   "outputs": [
    {
     "name": "stdout",
     "output_type": "stream",
     "text": [
      "['First Name', 'Last Name', 'Email']\n",
      "['Junpei', 'Komiyama', 'junpei.komiyama@nyu.edu']\n"
     ]
    }
   ],
   "source": [
    "str_a =\"First Name\\tLast Name\\tEmail\"\n",
    "str_4b =\"Junpei\\tKomiyama\\tjunpei.komiyama@nyu.edu\"\n",
    "print(str_a.split('\\t'))\n",
    "print(str_4b.split('\\t'))\n"
   ]
  },
  {
   "cell_type": "markdown",
   "metadata": {
    "id": "R_eOF56dC7xI"
   },
   "source": [
    "Notice that when we split a string and the delimeter character\n",
    "does not appear, then we get back the string itself, but converted\n",
    "into a list with a single element. (We will talk about lists in a \n",
    " couple of weeks)"
   ]
  },
  {
   "cell_type": "code",
   "execution_count": 3,
   "metadata": {
    "id": "sgNVb-4xC7xJ"
   },
   "outputs": [
    {
     "name": "stdout",
     "output_type": "stream",
     "text": [
      "['hello']\n"
     ]
    }
   ],
   "source": [
    "print(\"hello\".split(\" \"))"
   ]
  },
  {
   "cell_type": "markdown",
   "metadata": {
    "id": "qehJOQJAC7xN"
   },
   "source": [
    "  Join is the \"reverse\" of split, and joins all\n",
    " the elements of the list, using the \"string\" in front.\n",
    " The command below joins the elements of the `line` variable using the \n",
    " characters `###` as the connecting element."
   ]
  },
  {
   "cell_type": "code",
   "execution_count": 5,
   "metadata": {
    "id": "5fzFFaNHC7xO"
   },
   "outputs": [
    {
     "data": {
      "text/plain": [
       "'Name###Family###name.family@nyu.edu'"
      ]
     },
     "execution_count": 5,
     "metadata": {},
     "output_type": "execute_result"
    }
   ],
   "source": [
    "line = ['Name', 'Family', 'name.family@nyu.edu']\n",
    "\"###\".join(line)"
   ]
  },
  {
   "cell_type": "markdown",
   "metadata": {
    "id": "GE2a9qdeC7xV"
   },
   "source": [
    "#### Index access\n",
    "Consider the string `billgates@microsoft.com`. The following code finds the username (= before atmark) of the email address and the domain (= after atmark) of the email address."
   ]
  },
  {
   "cell_type": "code",
   "execution_count": null,
   "metadata": {
    "id": "L6gMfBWJC7xW"
   },
   "outputs": [],
   "source": [
    "email = \"billgates@microsoft.com\""
   ]
  },
  {
   "cell_type": "code",
   "execution_count": null,
   "metadata": {
    "id": "PdzRimRRrFUM"
   },
   "outputs": [],
   "source": [
    "print(email.split(\"@\")) # split"
   ]
  },
  {
   "cell_type": "code",
   "execution_count": null,
   "metadata": {
    "id": "pYSrAbIpKEH3"
   },
   "outputs": [],
   "source": [
    "username = email.split(\"@\")[0] # notice that this is an index-access on a list\n",
    "domain = email.split(\"@\")[1] # same here. We later elaborate on a list.\n",
    "print(username)\n",
    "print(domain)"
   ]
  },
  {
   "cell_type": "markdown",
   "metadata": {
    "id": "Qsk6yPWPu-h4"
   },
   "source": [
    "#### Exercise\n",
    "\n"
   ]
  },
  {
   "cell_type": "markdown",
   "metadata": {
    "id": "nYcVork7wG_O"
   },
   "source": [
    "Convert \"state of the art\" to \"state-of-the-art\" by using `split` and `join`."
   ]
  },
  {
   "cell_type": "code",
   "execution_count": null,
   "metadata": {
    "id": "ivU65o-pjYjV"
   },
   "outputs": [],
   "source": [
    "SOTA = \"state of the art\"\n",
    "CREATE VARIABLE WITH ITS VALUE \"state-of-the-art\" HERE"
   ]
  },
  {
   "cell_type": "code",
   "execution_count": null,
   "metadata": {
    "id": "lDDIvjz9wBJ4"
   },
   "outputs": [],
   "source": [
    "SOTA = \"state of the art\"\n",
    "#your code here. Assign value \"state-of-the-art\" to SOTA_hyphens by using split and join function. \n",
    "# print SOTA_hyphens here."
   ]
  }
 ],
 "metadata": {
  "colab": {
   "provenance": []
  },
  "kernelspec": {
   "display_name": "Python 3",
   "language": "python",
   "name": "python3"
  },
  "language_info": {
   "codemirror_mode": {
    "name": "ipython",
    "version": 3
   },
   "file_extension": ".py",
   "mimetype": "text/x-python",
   "name": "python",
   "nbconvert_exporter": "python",
   "pygments_lexer": "ipython3",
   "version": "3.9.0"
  },
  "vscode": {
   "interpreter": {
    "hash": "aee8b7b246df8f9039afb4144a1f6fd8d2ca17a180786b69acc140d282b71a49"
   }
  }
 },
 "nbformat": 4,
 "nbformat_minor": 1
}
