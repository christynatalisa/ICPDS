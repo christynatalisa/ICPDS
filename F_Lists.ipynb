{
 "cells": [
  {
   "cell_type": "markdown",
   "metadata": {
    "id": "DJQfLhCLc1tl"
   },
   "source": [
    "# Collection Data Structures: Lists (and Tuples)\n",
    "\n",
    "\n",
    "We have covered in detail much of the basics of Python’s primitive data types: numeric types, strings, and booleans. \n",
    "We are now going to examine how these basic types can be composed together, in more complex structures. \n",
    "We will start by examining lists.\n"
   ]
  },
  {
   "cell_type": "markdown",
   "metadata": {
    "heading_collapsed": true,
    "id": "7U90pTt-c1ts"
   },
   "source": [
    "## Basics of Lists"
   ]
  },
  {
   "cell_type": "markdown",
   "metadata": {
    "heading_collapsed": true,
    "hidden": true,
    "id": "pdBrNdVnc1tv"
   },
   "source": [
    "### Creating Lists"
   ]
  },
  {
   "cell_type": "markdown",
   "metadata": {
    "hidden": true,
    "id": "n2Sz-bHYc1ty"
   },
   "source": [
    "A list, sometimes called and array, or a vector, is an ordered collection of values. \n",
    "\n",
    "In Python, lists are specified by square brackets, `[ ]`, containing zero or more values, separated by commas. \n",
    "\n",
    "For example:"
   ]
  },
  {
   "cell_type": "code",
   "execution_count": null,
   "metadata": {
    "hidden": true,
    "id": "6t2xHH-uc1t0"
   },
   "outputs": [],
   "source": [
    "number_list = [1, 2, 3, 0, 5, 10, 11]\n",
    "print(number_list)\n",
    "type(number_list) # check the type of the list!"
   ]
  },
  {
   "cell_type": "code",
   "execution_count": null,
   "metadata": {
    "hidden": true,
    "id": "hR8ZLzTuc1t_"
   },
   "outputs": [],
   "source": [
    "name_list = [\"Elsa\", \"Anna\", \"Olaf\"]\n",
    "print(name_list)"
   ]
  },
  {
   "cell_type": "code",
   "execution_count": null,
   "metadata": {
    "hidden": true,
    "id": "5vxL_P7dc1uI"
   },
   "outputs": [],
   "source": [
    "mixed_list = [\"Elsa\", 21, \"Anna\", 18]"
   ]
  },
  {
   "cell_type": "code",
   "execution_count": null,
   "metadata": {
    "hidden": true,
    "id": "RYWdklFDc1u0"
   },
   "outputs": [],
   "source": [
    "empty_list = []\n",
    "print(empty_list)"
   ]
  },
  {
   "cell_type": "code",
   "execution_count": null,
   "metadata": {
    "hidden": true,
    "id": "mC3WqYHKc1u-"
   },
   "outputs": [],
   "source": [
    "empty_list = list()\n",
    "print(empty_list)"
   ]
  },
  {
   "cell_type": "code",
   "execution_count": null,
   "metadata": {
    "id": "nOxEmqFwdiat"
   },
   "outputs": [],
   "source": [
    "type(number_list)"
   ]
  },
  {
   "cell_type": "markdown",
   "metadata": {
    "hidden": true,
    "id": "HCrigEQAc1vG"
   },
   "source": [
    "Lists are a very  common data structure, and are often generated as a result of other functions, for instance, the `split(\" \")` command for a string, will split a string on space, and then return a list of the smaller substrings."
   ]
  },
  {
   "cell_type": "code",
   "execution_count": null,
   "metadata": {
    "hidden": true,
    "id": "mG1a8azKc1vI"
   },
   "outputs": [],
   "source": [
    "my_string = \"The cold never bothered me anyway\"\n",
    "list_of_words = my_string.split(\" \")\n",
    "print(list_of_words)"
   ]
  },
  {
   "cell_type": "markdown",
   "metadata": {
    "heading_collapsed": true,
    "hidden": true,
    "id": "VPjcj7zUc1vQ"
   },
   "source": [
    "### Accessing parts of a list: Indexing and Slicing revisited\n"
   ]
  },
  {
   "cell_type": "markdown",
   "metadata": {
    "hidden": true,
    "id": "2by6jPhHc1vS"
   },
   "source": [
    "\n",
    "We can retrieve the value of a particular element of a list by writing in square brackets the location of the element. In python, like most programming languages, list indices start at 0, that is, to get the first element in a list, request the element at index 0."
   ]
  },
  {
   "cell_type": "code",
   "execution_count": 1,
   "metadata": {
    "hidden": true,
    "id": "P8Yyq2ENc1vU"
   },
   "outputs": [
    {
     "name": "stdout",
     "output_type": "stream",
     "text": [
      "['The', 'cold', 'never', 'bothered', 'me', 'anyway']\n",
      "The\n"
     ]
    }
   ],
   "source": [
    "my_string = \"The cold never bothered me anyway\"\n",
    "list_of_words = my_string.split(\" \")\n",
    "print(list_of_words)\n",
    "print(list_of_words[0])"
   ]
  },
  {
   "cell_type": "markdown",
   "metadata": {
    "hidden": true,
    "id": "wMTw614Yc1vb"
   },
   "source": [
    "Negative indices can be used to traverse the list from the right."
   ]
  },
  {
   "cell_type": "code",
   "execution_count": 2,
   "metadata": {
    "hidden": true,
    "id": "U9H5YxfMc1vd"
   },
   "outputs": [
    {
     "name": "stdout",
     "output_type": "stream",
     "text": [
      "me\n"
     ]
    }
   ],
   "source": [
    "print(list_of_words[-2])"
   ]
  },
  {
   "cell_type": "markdown",
   "metadata": {
    "hidden": true,
    "id": "hQlcJ7tAc1vk"
   },
   "source": [
    "If you remember the case with strings and accessing the individual characters, the concept is exactly the same. In fact, strings are treated in Python as lists of characters.\n",
    "\n",
    "This also means that the slicing operator works for accessing parts of the list as well:"
   ]
  },
  {
   "cell_type": "code",
   "execution_count": 3,
   "metadata": {
    "hidden": true,
    "id": "N3-GUJZDc1vn"
   },
   "outputs": [
    {
     "name": "stdout",
     "output_type": "stream",
     "text": [
      "['The', 'cold', 'never', 'bothered', 'me', 'anyway']\n",
      "['never', 'bothered', 'me']\n"
     ]
    }
   ],
   "source": [
    "# Retrieves the elements at positions 2, 3, and 4.\n",
    "# Remember these are the 3rd, 4th, and 5th elements of the list\n",
    "print(list_of_words)\n",
    "print(list_of_words[2:5])"
   ]
  },
  {
   "cell_type": "code",
   "execution_count": 4,
   "metadata": {
    "hidden": true,
    "id": "4Hxu2j9Zc1vw"
   },
   "outputs": [
    {
     "name": "stdout",
     "output_type": "stream",
     "text": [
      "['bothered', 'me', 'anyway']\n"
     ]
    }
   ],
   "source": [
    "# Retrieved the last 3 elements of the list\n",
    "print(list_of_words[-3:])"
   ]
  },
  {
   "cell_type": "markdown",
   "metadata": {
    "id": "TOy3N8JRNt9I"
   },
   "source": [
    "We can even update the elements of the lists by indexing and slicing"
   ]
  },
  {
   "cell_type": "code",
   "execution_count": 5,
   "metadata": {
    "id": "asIE6tIwNyYg"
   },
   "outputs": [],
   "source": [
    "list_of_words[-2] = \"you\""
   ]
  },
  {
   "cell_type": "markdown",
   "metadata": {
    "heading_collapsed": true,
    "hidden": true,
    "id": "cTlZjuOgc1v6"
   },
   "source": [
    "### Exercise"
   ]
  },
  {
   "cell_type": "markdown",
   "metadata": {
    "hidden": true,
    "id": "CcXe3tL2c1wA"
   },
   "source": [
    "You are given a list of names of penguins as one big, multiline string. Each line contains one name."
   ]
  },
  {
   "cell_type": "code",
   "execution_count": 8,
   "metadata": {
    "hidden": true,
    "id": "K_F2XWL6c1wF"
   },
   "outputs": [],
   "source": [
    "penguins_string = '''Emperor\n",
    "King\n",
    "Gentoo\n",
    "Magellanic\n",
    "Chinstrap\n",
    "Adelie\n",
    "Macaroni\n",
    "Rockhopper'''\n"
   ]
  },
  {
   "cell_type": "markdown",
   "metadata": {
    "hidden": true,
    "id": "kLoBKZgBc1wO"
   },
   "source": [
    "* Use the `split` command, appropriately configured, to separate `penguins` into a list of penguins. \n",
    "* Extract the 3rd penguin from the list\n",
    "* Extract the second from the last penguin, using negative indexing\n",
    "* Retrieve the last 2 penguins."
   ]
  },
  {
   "cell_type": "code",
   "execution_count": 10,
   "metadata": {
    "hidden": true,
    "id": "m810aNKFd0OU",
    "solution2": "shown"
   },
   "outputs": [
    {
     "name": "stdout",
     "output_type": "stream",
     "text": [
      "['Emperor', 'King', 'Gentoo', 'Magellanic', 'Chinstrap', 'Adelie', 'Macaroni', 'Rockhopper']\n"
     ]
    }
   ],
   "source": [
    "# Use the split command, appropriately configured, to separate names into a list of names.\n",
    "# We use the newline character to split the string into one element per *line*\n",
    "penguins_list = penguins_string.split(\"\\n\")\n",
    "print(penguins_list)"
   ]
  },
  {
   "cell_type": "code",
   "execution_count": 11,
   "metadata": {
    "hidden": true,
    "id": "fQTVqTJBd0Gs",
    "solution2": "shown"
   },
   "outputs": [
    {
     "name": "stdout",
     "output_type": "stream",
     "text": [
      "Gentoo\n"
     ]
    }
   ],
   "source": [
    "# Extract the 3rd penguin from the list\n",
    "print(penguins_list[2])\n"
   ]
  },
  {
   "cell_type": "code",
   "execution_count": 12,
   "metadata": {
    "hidden": true,
    "id": "z--j-KKYdz-6",
    "solution2": "shown"
   },
   "outputs": [
    {
     "name": "stdout",
     "output_type": "stream",
     "text": [
      "Macaroni\n"
     ]
    }
   ],
   "source": [
    "# Extract the second from the last penguin, using negative indexing\n",
    "print(penguins_list[-2])"
   ]
  },
  {
   "cell_type": "code",
   "execution_count": 13,
   "metadata": {
    "hidden": true,
    "id": "Mz_Zb8rKdyx-",
    "solution2": "shown"
   },
   "outputs": [
    {
     "name": "stdout",
     "output_type": "stream",
     "text": [
      "['Macaroni', 'Rockhopper']\n"
     ]
    }
   ],
   "source": [
    "# Retrieve the last 2 penguins\n",
    "print(penguins_list[-2:])"
   ]
  },
  {
   "cell_type": "markdown",
   "metadata": {
    "heading_collapsed": true,
    "id": "elqfe9p4c1w_"
   },
   "source": [
    "## Functions that apply to lists\n"
   ]
  },
  {
   "cell_type": "markdown",
   "metadata": {
    "heading_collapsed": true,
    "hidden": true,
    "id": "fusiyVwlc1xB"
   },
   "source": [
    "### Common Functions"
   ]
  },
  {
   "cell_type": "markdown",
   "metadata": {
    "hidden": true,
    "id": "v4PK4d_dc1xD"
   },
   "source": [
    "\n",
    "\n",
    "```\n",
    "# This is formatted as code\n",
    "```\n",
    "\n",
    "* `len`: The function `len(list)` returns the number of elements in a list.\n",
    "* `sorted`: The function `sorted(list)` Returns the list sorted\n",
    "* `max`: Returns the maximum element of a list\n",
    "* `min`: Returns the minimum element of a list\n",
    "* `sum`: The function `sum(list)` sums up all the (numeric) elements of a list\n"
   ]
  },
  {
   "cell_type": "code",
   "execution_count": null,
   "metadata": {
    "hidden": true,
    "id": "nJHrQYR6c1xF"
   },
   "outputs": [],
   "source": [
    "muppets = [\"Big Bird\", \"Oscar\", \"Ernie\", \"Kermit\", \"Cookie Monster\", \"Julia\", \"Rosita\", \"Elmo\", \"Bert\"]"
   ]
  },
  {
   "cell_type": "code",
   "execution_count": null,
   "metadata": {
    "hidden": true,
    "id": "jhfNsgnTc1xN"
   },
   "outputs": [],
   "source": [
    "print(\"Length of muppets list:\", len(muppets))"
   ]
  },
  {
   "cell_type": "code",
   "execution_count": null,
   "metadata": {
    "hidden": true,
    "id": "5cwXSYGQc1xV"
   },
   "outputs": [],
   "source": [
    "numbers = [3, 41, 12, 9, 74, 15]"
   ]
  },
  {
   "cell_type": "code",
   "execution_count": null,
   "metadata": {
    "hidden": true,
    "id": "j-l3ejbkc1xa"
   },
   "outputs": [],
   "source": [
    "print(\"Length of numbers list:\", len(numbers))"
   ]
  },
  {
   "cell_type": "code",
   "execution_count": null,
   "metadata": {
    "hidden": true,
    "id": "8u7FBOFec1xg"
   },
   "outputs": [],
   "source": [
    "muppets = [\"Big Bird\", \"Oscar\", \"Ernie\", \"Kermit\", \"Cookie Monster\", \"Julia\", \"Rosita\", \"Elmo\", \"Bert\"]\n",
    "print(\"Sorted List:\", sorted(muppets))\n",
    "print(\"Original List:\", muppets)"
   ]
  },
  {
   "cell_type": "code",
   "execution_count": null,
   "metadata": {
    "hidden": true,
    "id": "4fbxCSaLc1xp"
   },
   "outputs": [],
   "source": [
    "print(\"Sorted List:\", sorted(numbers))\n",
    "print(\"Original List:\", numbers)"
   ]
  },
  {
   "cell_type": "code",
   "execution_count": null,
   "metadata": {
    "hidden": true,
    "id": "tV3RE6zTc1xy"
   },
   "outputs": [],
   "source": [
    "print(\"We have \", len(numbers), \"numbers\")\n",
    "print(\"Max number:\", max(numbers))\n",
    "print(\"Min number:\", min(numbers))\n",
    "print(\"Sum:\", sum(numbers))"
   ]
  },
  {
   "cell_type": "code",
   "execution_count": null,
   "metadata": {
    "hidden": true,
    "id": "Ucls52ASc1x6"
   },
   "outputs": [],
   "source": [
    "# Min and max also operate on strings\n",
    "print(\"Min muppets:\", min(muppets))\n",
    "print(\"Max muppets:\", max(muppets))"
   ]
  },
  {
   "cell_type": "markdown",
   "metadata": {
    "heading_collapsed": true,
    "hidden": true,
    "id": "jkB6M6uSc1yB"
   },
   "source": [
    "### Exercise"
   ]
  },
  {
   "cell_type": "markdown",
   "metadata": {
    "hidden": true,
    "id": "sTH_P5-Ec1yD"
   },
   "source": [
    "\n",
    "* Write code that computes the average value of a list of numbers\n",
    "* Write code that computes the median value of a list of numbers (for simplicity, assume the list contains an odd number of items)\n",
    "  * We first obtain the sorted numbers, then by using it we obtain the median."
   ]
  },
  {
   "cell_type": "code",
   "execution_count": null,
   "metadata": {
    "hidden": true,
    "id": "JFsdLYiCc1yE"
   },
   "outputs": [],
   "source": [
    "numbers = [3, 41, 12, 9, 74, 15, 5]\n",
    "\n",
    "print(\"mean of the numbers\", YOUR_CODE_HERE)\n",
    "print(\"sorted nums\",YOUR_CODE_HERE)\n",
    "print(\"median of the numbers\",YOUR_CODE_HERE)"
   ]
  },
  {
   "cell_type": "markdown",
   "metadata": {
    "heading_collapsed": true,
    "id": "SjgkIfMmc1ye"
   },
   "source": [
    "## Adding / Removing Elements to a List\n",
    "\n"
   ]
  },
  {
   "cell_type": "markdown",
   "metadata": {
    "heading_collapsed": true,
    "hidden": true,
    "id": "_0S_2_Voc1yf"
   },
   "source": [
    "### Appending items at the end of a list"
   ]
  },
  {
   "cell_type": "markdown",
   "metadata": {
    "hidden": true,
    "id": "UOSmS2tmc1yh"
   },
   "source": [
    "+ `list.append(x)`: add an element ot the end of a list\n",
    "+ `list_1.extend(list_2)`: add all elements in the second list to the end of the first list. Alternatively, it is possible to use the `+` and concatenate two lists."
   ]
  },
  {
   "cell_type": "code",
   "execution_count": 14,
   "metadata": {
    "hidden": true,
    "id": "nELpJajTc1yj"
   },
   "outputs": [
    {
     "name": "stdout",
     "output_type": "stream",
     "text": [
      "['Big Bird', 'Oscar', 'Ernie', 'Kermit', 'Cookie Monster', 'Julia', 'Rosita', 'Elmo', 'Bert', 'Zoe', 'Abby']\n"
     ]
    }
   ],
   "source": [
    "# Example of append\n",
    "muppets = [\"Big Bird\", \"Oscar\", \"Ernie\", \"Kermit\", \"Cookie Monster\", \"Julia\", \"Rosita\", \"Elmo\", \"Bert\"]\n",
    "muppets.append(\"Zoe\")\n",
    "muppets.append(\"Abby\")\n",
    "print(muppets)"
   ]
  },
  {
   "cell_type": "code",
   "execution_count": 16,
   "metadata": {
    "hidden": true,
    "id": "CfjCieOQc1yq"
   },
   "outputs": [
    {
     "name": "stdout",
     "output_type": "stream",
     "text": [
      "Length of list: 9\n",
      "['Abby', 'Zoe']\n",
      "Length of list: 11\n"
     ]
    }
   ],
   "source": [
    "# Example of extend\n",
    "muppets = [\"Big Bird\", \"Oscar\", \"Ernie\", \"Kermit\", \"Cookie Monster\", \"Julia\", \"Rosita\", \"Elmo\", \"Bert\"]\n",
    "muppets_to_add = [\"Abby\", \"Zoe\"]\n",
    "print(\"Length of list:\", len(muppets))\n",
    "muppets.extend(muppets_to_add)\n",
    "print(muppets_to_add)\n",
    "\n",
    "print(\"Length of list:\", len(muppets))"
   ]
  },
  {
   "cell_type": "code",
   "execution_count": 8,
   "metadata": {
    "hidden": true,
    "id": "nQSzBTG9c1yu"
   },
   "outputs": [
    {
     "name": "stdout",
     "output_type": "stream",
     "text": [
      "['Big Bird', 'Oscar', 'Ernie', 'Kermit', 'Cookie Monster', 'Julia', 'Rosita', 'Elmo', 'Bert', 'Abby', 'Zoe']\n"
     ]
    }
   ],
   "source": [
    "# List concatenation. This is similar to \"extend\"\n",
    "muppets = [\"Big Bird\", \"Oscar\", \"Ernie\", \"Kermit\", \"Cookie Monster\", \"Julia\", \"Rosita\", \"Elmo\", \"Bert\"]\n",
    "muppets_to_add = [\"Abby\", \"Zoe\"]\n",
    "new_muppets = muppets + muppets_to_add\n",
    "print(new_muppets)"
   ]
  },
  {
   "cell_type": "code",
   "execution_count": 7,
   "metadata": {
    "code_folding": [],
    "hidden": true,
    "id": "gb9ajrcQc1y5"
   },
   "outputs": [
    {
     "name": "stdout",
     "output_type": "stream",
     "text": [
      "['Big Bird', 'Oscar', 'Ernie', 'Kermit', 'Cookie Monster', 'Julia', 'Rosita', 'Elmo', 'Bert', ['Abby', 'Zoe']]\n",
      "Length of list: 10\n"
     ]
    }
   ],
   "source": [
    "# Notice that append will not work as expected when we pass a list\n",
    "# We now created a \"nested\" list. We will examine nested lists later\n",
    "muppets = [\"Big Bird\", \"Oscar\", \"Ernie\", \"Kermit\", \"Cookie Monster\", \"Julia\", \"Rosita\", \"Elmo\", \"Bert\"]\n",
    "#muppets.append(\"Abby\")\n",
    "#muppets.append(\"Zoe\")\n",
    "muppets.append([\"Abby\",\"Zoe\"])\n",
    "print(muppets)\n",
    "# Notice that the two lists, created by append and extend, have different lengths\n",
    "print(\"Length of list:\", len(muppets))"
   ]
  },
  {
   "cell_type": "markdown",
   "metadata": {
    "heading_collapsed": true,
    "hidden": true,
    "id": "yq2Vpcwfc1z5"
   },
   "source": [
    "### Inserting and removing items in the list at any position (may skip this)\n"
   ]
  },
  {
   "attachments": {},
   "cell_type": "markdown",
   "metadata": {
    "hidden": true,
    "id": "Enh-9hp3c1z6"
   },
   "source": [
    "\n",
    "* `list.insert(index, x)`: insert element x into the list at the specified index. Elements to the right of this index are shifted over\n",
    "* `list.pop(index)`: remove the element at the specified position\n"
   ]
  },
  {
   "cell_type": "code",
   "execution_count": 2,
   "metadata": {
    "hidden": true,
    "id": "NsIb4bcTc1z8"
   },
   "outputs": [],
   "source": [
    "penguins_string = '''Emperor\n",
    "King\n",
    "Gentoo\n",
    "Magellanic\n",
    "Chinstrap\n",
    "Adelie\n",
    "Macaroni\n",
    "Rockhopper'''\n",
    "penguins_list = penguins_string.split(\"\\n\")"
   ]
  },
  {
   "cell_type": "code",
   "execution_count": 3,
   "metadata": {
    "hidden": true,
    "id": "IhDxObbKc10A"
   },
   "outputs": [
    {
     "name": "stdout",
     "output_type": "stream",
     "text": [
      "['Emperor', 'King', 'Gentoo', 'Magellanic', 'Chinstrap', 'Adelie', 'Macaroni', 'Little', 'Rockhopper']\n"
     ]
    }
   ],
   "source": [
    "# Insert Little Penguin in position 7\n",
    "penguins_list.insert(7, 'Little')\n",
    "print(penguins_list)"
   ]
  },
  {
   "cell_type": "code",
   "execution_count": 4,
   "metadata": {
    "hidden": true,
    "id": "GgP47Odic10E"
   },
   "outputs": [
    {
     "name": "stdout",
     "output_type": "stream",
     "text": [
      "Little\n"
     ]
    }
   ],
   "source": [
    "# It is there\n",
    "print(penguins_list[7])"
   ]
  },
  {
   "cell_type": "code",
   "execution_count": 5,
   "metadata": {
    "hidden": true,
    "id": "dR4I6Ta4c10L"
   },
   "outputs": [
    {
     "data": {
      "text/plain": [
       "'Little'"
      ]
     },
     "execution_count": 5,
     "metadata": {},
     "output_type": "execute_result"
    }
   ],
   "source": [
    "# We can retrieve the element with pop, and then delete it from the list\n",
    "penguins_list.pop(7)"
   ]
  },
  {
   "cell_type": "code",
   "execution_count": 6,
   "metadata": {
    "hidden": true,
    "id": "CJDQearuc10Q"
   },
   "outputs": [
    {
     "name": "stdout",
     "output_type": "stream",
     "text": [
      "['Emperor', 'King', 'Gentoo', 'Magellanic', 'Chinstrap', 'Adelie', 'Macaroni', 'Rockhopper']\n"
     ]
    }
   ],
   "source": [
    "# Name at position 7 changed\n",
    "print(penguins_list)"
   ]
  },
  {
   "cell_type": "code",
   "execution_count": null,
   "metadata": {
    "hidden": true,
    "id": "oZ-3WfY5c10U"
   },
   "outputs": [],
   "source": [
    "# If we repeat the operation with pop, we will get back the new name that is now in that location\n",
    "penguins_list.pop(7)"
   ]
  },
  {
   "cell_type": "code",
   "execution_count": null,
   "metadata": {
    "hidden": true,
    "id": "EYXH08xuc10a"
   },
   "outputs": [],
   "source": [
    "# Name at position 7 changed\n",
    "print(penguins_list[7])"
   ]
  },
  {
   "cell_type": "markdown",
   "metadata": {
    "heading_collapsed": true,
    "id": "preNIAUQc10d"
   },
   "source": [
    "## Finding items in lists"
   ]
  },
  {
   "cell_type": "markdown",
   "metadata": {
    "heading_collapsed": true,
    "hidden": true,
    "id": "YCEAm_1fc10f"
   },
   "source": [
    "### Common functions"
   ]
  },
  {
   "cell_type": "markdown",
   "metadata": {
    "hidden": true,
    "id": "vufFNzyDc10g"
   },
   "source": [
    "* `x in list`: checks if `x` appears in the list \n",
    "* `list.index(x)`: looks through the list to find the specified element, returning it's position if it's found, else throws an error\n",
    "* `list.count(x)`: counts the number of occurrences of the input element"
   ]
  },
  {
   "cell_type": "code",
   "execution_count": 23,
   "metadata": {
    "hidden": true,
    "id": "TLMFKDPKc10i"
   },
   "outputs": [],
   "source": [
    "muppets = [\"Big Bird\", \"Oscar\", \"Ernie\", \"Kermit\", \"Cookie Monster\", \"Julia\", \"Rosita\", \"Elmo\", \"Bert\"]"
   ]
  },
  {
   "cell_type": "code",
   "execution_count": 24,
   "metadata": {
    "hidden": true,
    "id": "9mAIpAi9c10m"
   },
   "outputs": [
    {
     "data": {
      "text/plain": [
       "True"
      ]
     },
     "execution_count": 24,
     "metadata": {},
     "output_type": "execute_result"
    }
   ],
   "source": [
    "\"Elmo\" in muppets"
   ]
  },
  {
   "cell_type": "code",
   "execution_count": 25,
   "metadata": {
    "hidden": true,
    "id": "SBHfEy3Xc10r"
   },
   "outputs": [
    {
     "data": {
      "text/plain": [
       "True"
      ]
     },
     "execution_count": 25,
     "metadata": {},
     "output_type": "execute_result"
    }
   ],
   "source": [
    "\"Zoe\" not in muppets"
   ]
  },
  {
   "cell_type": "code",
   "execution_count": null,
   "metadata": {
    "hidden": true,
    "id": "_6-kH-wIc10w"
   },
   "outputs": [],
   "source": [
    "# Index\n",
    "muppet = 'Cookie Monster'\n",
    "print(\"Location of\", muppet, \"in the list:\", muppets.index(muppet))"
   ]
  },
  {
   "cell_type": "markdown",
   "metadata": {
    "heading_collapsed": true,
    "hidden": true,
    "id": "bndBfCyic105"
   },
   "source": [
    "### Exercise\n"
   ]
  },
  {
   "cell_type": "markdown",
   "metadata": {
    "hidden": true,
    "id": "c3U0nlwzc109"
   },
   "source": [
    "Now let's practice the `if-else` command:\n",
    "\n",
    "* Define a variable `search` with the name of a muppet that you want to search for.\n",
    "* Check if the name appears **in** the list\n",
    "    * If yes, then return the **index** number for its first apperance\n",
    "    * If not, print that the name does not appear in the list"
   ]
  },
  {
   "cell_type": "code",
   "execution_count": null,
   "metadata": {
    "hidden": true,
    "id": "XIAsaTL0c11B"
   },
   "outputs": [],
   "source": [
    "muppets = [\"Big Bird\", \"Oscar\", \"Ernie\", \"Kermit\", \"Cookie Monster\", \"Julia\", \"Rosita\", \"Elmo\", \"Bert\"]"
   ]
  },
  {
   "cell_type": "code",
   "execution_count": null,
   "metadata": {
    "code_folding": [],
    "hidden": true,
    "id": "Wmae2L48c11N",
    "solution2": "hidden"
   },
   "outputs": [],
   "source": [
    "# I have already created the skeleton of the code. Complete it!\n",
    "\n",
    "search = 'Zoe' # we want to search Zoe\n",
    "if YOUR_CODE_HERE:\n",
    "    location = muppets.index(search)\n",
    "    print(search + \" appeared at location \" + str(location))\n",
    "else:\n",
    "    print(\"The name\", search, \"does not appear in the list\")"
   ]
  },
  {
   "cell_type": "markdown",
   "metadata": {
    "id": "tfQBBjssJ5OL"
   },
   "source": [
    "If you finish writing the code above, then test the following muppets by putting each of them to `search`.\n",
    "\n",
    "\n",
    "```\n",
    "Big Bird\n",
    "Cookie Monster\n",
    "CookieMonster <- without space!\n",
    "Zoe <- Zoe is not in muppets\n",
    "```\n",
    "\n"
   ]
  },
  {
   "cell_type": "markdown",
   "metadata": {
    "heading_collapsed": true,
    "hidden": true,
    "id": "YeYCJH5lc11R"
   },
   "source": [
    "### Exercise\n",
    "\n"
   ]
  },
  {
   "cell_type": "markdown",
   "metadata": {
    "hidden": true,
    "id": "m6X2mSSdc11T"
   },
   "source": [
    "Let's apply some of the things that we learned so far in the article below."
   ]
  },
  {
   "cell_type": "code",
   "execution_count": null,
   "metadata": {
    "hidden": true,
    "id": "gW746rh_c11U"
   },
   "outputs": [],
   "source": [
    "news = \\\n",
    "\"\"\"Johnson&Johnson said that it planned to apply for emergency authorization of the vaccine from the Food and Drug Administration as soon as next week, putting it on track to receive clearance later in February.\n",
    "\"This is the pandemic vaccine that can make a difference with a single dose,\" said Dr.Paul Stoffels, the chief scientific officer of Johnson&Johnson.\n",
    "The company's announcement comes as the Biden administration is pushing to immunize Americans faster even with a tight vaccine supply. White House officials have been counting on Johnson&Johnson's vaccine to ease the shortfall. But the company may only have about seven million doses ready when the F.D.A. decides whether to authorize it, according to federal health officials familiar with its production, and about 30 million doses by early April.\"\"\""
   ]
  },
  {
   "cell_type": "markdown",
   "metadata": {
    "hidden": true,
    "id": "EILh2veyc11e"
   },
   "source": [
    "* What is the length of the document above in characters?\n",
    "  * Hint: What is the function that gives the length of a string?\n",
    "* How many paragraphs in the abobe news? \n",
    "  * Hint: Paragraphs are divided by newline.\n",
    "* What is the average length of a word in characters in the first paragraph?\n",
    "  * Hint: Words are divided by space."
   ]
  },
  {
   "cell_type": "code",
   "execution_count": null,
   "metadata": {
    "hidden": true,
    "id": "jZSvqGJOc11f"
   },
   "outputs": [],
   "source": [
    "# Your code here"
   ]
  },
  {
   "cell_type": "markdown",
   "metadata": {
    "heading_collapsed": true,
    "id": "CUOHw8Soc11-"
   },
   "source": [
    "## Tuples (we will do if we have time)\n",
    "\n"
   ]
  },
  {
   "cell_type": "markdown",
   "metadata": {
    "hidden": true,
    "id": "w4Q4-vbVc11_"
   },
   "source": [
    "A tuple is similar to a list and consists of a number of values separated by commas. For instance:"
   ]
  },
  {
   "cell_type": "code",
   "execution_count": null,
   "metadata": {
    "hidden": true,
    "id": "d0AlowrIc12A"
   },
   "outputs": [],
   "source": [
    "t = (12345, 54321, 54321, 'hello!')\n",
    "print(t)"
   ]
  },
  {
   "cell_type": "markdown",
   "metadata": {
    "hidden": true,
    "id": "eJKz6Z_qc12G"
   },
   "source": [
    "The usual slicing and indexing operators still apply:"
   ]
  },
  {
   "cell_type": "code",
   "execution_count": null,
   "metadata": {
    "hidden": true,
    "id": "2BI1T_wWc12I"
   },
   "outputs": [],
   "source": [
    "print(t[3])"
   ]
  },
  {
   "cell_type": "markdown",
   "metadata": {
    "hidden": true,
    "id": "95S3Am-cc12P"
   },
   "source": [
    "And similarly, we can use the `count` and `index` functions. "
   ]
  },
  {
   "cell_type": "code",
   "execution_count": null,
   "metadata": {
    "hidden": true,
    "id": "FEFTSHFoc12R"
   },
   "outputs": [],
   "source": [
    "t.index('hello!')"
   ]
  },
  {
   "cell_type": "markdown",
   "metadata": {
    "hidden": true,
    "id": "eNuWge6gc12W"
   },
   "source": [
    "However, a tuple but is *immutable*. This means that we cannot modify its contents. So the other operators that modify a list do not apply to a tuple."
   ]
  },
  {
   "cell_type": "code",
   "execution_count": null,
   "metadata": {
    "id": "Zj8PuUR4Knq3"
   },
   "outputs": [],
   "source": [
    "t[1] = 246 # This gives you an error. "
   ]
  },
  {
   "cell_type": "code",
   "execution_count": null,
   "metadata": {
    "id": "1HegTl07LLLH"
   },
   "outputs": [],
   "source": [
    "# Check here that you can change the element of a list by index-assignment."
   ]
  },
  {
   "cell_type": "markdown",
   "metadata": {
    "id": "p1tHJrk3wIjq"
   },
   "source": [
    "Note: In many cases, tuples and lists can be used interchangeably. In this course we mainly use lists."
   ]
  }
 ],
 "metadata": {
  "colab": {
   "provenance": []
  },
  "kernelspec": {
   "display_name": "Python 3",
   "language": "python",
   "name": "python3"
  },
  "language_info": {
   "codemirror_mode": {
    "name": "ipython",
    "version": 3
   },
   "file_extension": ".py",
   "mimetype": "text/x-python",
   "name": "python",
   "nbconvert_exporter": "python",
   "pygments_lexer": "ipython3",
   "version": "3.9.0"
  },
  "vscode": {
   "interpreter": {
    "hash": "aee8b7b246df8f9039afb4144a1f6fd8d2ca17a180786b69acc140d282b71a49"
   }
  }
 },
 "nbformat": 4,
 "nbformat_minor": 1
}
