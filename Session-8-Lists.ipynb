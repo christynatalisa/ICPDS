{
 "cells": [
  {
   "cell_type": "code",
   "execution_count": null,
   "metadata": {},
   "outputs": [],
   "source": [
    "all_lists = ['penguin','penguin1', 'penguin2','penguin3','penguin4','penguin5']"
   ]
  },
  {
   "cell_type": "code",
   "execution_count": 11,
   "metadata": {},
   "outputs": [
    {
     "data": {
      "text/plain": [
       "45"
      ]
     },
     "execution_count": 11,
     "metadata": {},
     "output_type": "execute_result"
    }
   ],
   "source": [
    "all_penguins = ['Emperor', 'Fiordland', 'Galapagos', 'Gentoo', 'Humboldt', 'King', 'Little', 'Macaroni', 'Magellanic', 'Rockhopper', 'Royal', 'Yellow-eyed']\n",
    "all_heights = [28, 27, 27, 45, 28, 19, 32, 27, 37, 16, 27, 27, 21, 30, 30]\n",
    "def is_penguin(astr):\n",
    "    #return whether a string is penguin or not\n",
    "    return astr in all_penguins\n",
    "is_penguin(\"Gentoo\")\n",
    "\n",
    "def is_central_park(astr):\n",
    "    #check the penguin is CPZoo or not\n",
    "    return astr in ['Macaroni', 'Tafted', 'Gentoo']\n",
    "is_central_park(\"Gentoo\")\n",
    "\n",
    "def get_size(astr):\n",
    "    checkthis = is_penguin(astr)\n",
    "    if checkthis == True:\n",
    "       #get index\n",
    "       the_index = all_penguins.index(astr)\n",
    "       return all_heights[the_index]\n",
    "    print(all_heights[the_index])\n",
    "\n",
    "get_size(\"Gentoo\")"
   ]
  },
  {
   "cell_type": "code",
   "execution_count": null,
   "metadata": {},
   "outputs": [],
   "source": []
  }
 ],
 "metadata": {
  "kernelspec": {
   "display_name": "Python 3",
   "language": "python",
   "name": "python3"
  },
  "language_info": {
   "codemirror_mode": {
    "name": "ipython",
    "version": 3
   },
   "file_extension": ".py",
   "mimetype": "text/x-python",
   "name": "python",
   "nbconvert_exporter": "python",
   "pygments_lexer": "ipython3",
   "version": "3.9.0"
  },
  "orig_nbformat": 4,
  "vscode": {
   "interpreter": {
    "hash": "aee8b7b246df8f9039afb4144a1f6fd8d2ca17a180786b69acc140d282b71a49"
   }
  }
 },
 "nbformat": 4,
 "nbformat_minor": 2
}
