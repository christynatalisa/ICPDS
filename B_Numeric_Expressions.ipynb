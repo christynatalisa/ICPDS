{
 "cells": [
  {
   "cell_type": "markdown",
   "metadata": {
    "id": "DQceOMwq3kfD"
   },
   "source": [
    "# Expressions, Data Types, and Variables\n",
    "\n",
    "\n"
   ]
  },
  {
   "cell_type": "markdown",
   "metadata": {
    "heading_collapsed": true,
    "id": "PtGOh_kV3kfF"
   },
   "source": [
    "## Math Expressions for Numeric Types\n",
    "\n"
   ]
  },
  {
   "cell_type": "markdown",
   "metadata": {
    "hidden": true,
    "id": "-SnFeqrG3kfG"
   },
   "source": [
    "We will start first by dealing with numbers and see how we can do various math and logical operations with Python. Here are a few operators that we will be using:\n",
    "\n",
    "* `+` addition, add two numbers\n",
    "* `-` subtraction and negation\n",
    "* `*` multiplication, multiply two numbers\n",
    "* `/` divide first  with the outcome being decimal outcome\n",
    "* `//` division with the outcome being integer (return only the integer part of the outcome)\n",
    "* `%` modulo/division remainder, what is the remainder when the first number is divided by the second?\n",
    "* `**` power, raise the first number into a power given by the second number"
   ]
  },
  {
   "cell_type": "code",
   "execution_count": null,
   "metadata": {
    "id": "pSZSoAUD451O"
   },
   "outputs": [],
   "source": [
    "print(16)"
   ]
  },
  {
   "cell_type": "code",
   "execution_count": null,
   "metadata": {
    "hidden": true,
    "id": "-eidX7bw3kfH"
   },
   "outputs": [],
   "source": [
    "print(\"addition:\")\n",
    "print(1 + 1)\n",
    "print(1.5 + 1)"
   ]
  },
  {
   "cell_type": "code",
   "execution_count": null,
   "metadata": {
    "hidden": true,
    "id": "qGJsGF8Z3kfL"
   },
   "outputs": [],
   "source": [
    "print(\"subtraction:\")\n",
    "print(1 - 1)\n",
    "print(1 - 1.0)"
   ]
  },
  {
   "cell_type": "code",
   "execution_count": null,
   "metadata": {
    "hidden": true,
    "id": "ZXOR8AmS3kfP"
   },
   "outputs": [],
   "source": [
    "print(\"negation:\")\n",
    "print(-5)"
   ]
  },
  {
   "cell_type": "code",
   "execution_count": null,
   "metadata": {
    "hidden": true,
    "id": "U45Ewi2h3kfZ"
   },
   "outputs": [],
   "source": [
    "print(\"multiplication:\")\n",
    "print(3 * 3)  # integer\n",
    "print(3 * 3.0)  # floating point"
   ]
  },
  {
   "cell_type": "code",
   "execution_count": null,
   "metadata": {
    "hidden": true,
    "id": "WaruGnAu3kff"
   },
   "outputs": [],
   "source": [
    "print(\"division:\")\n",
    "print(4 / 2)\n",
    "print(5 / 2)"
   ]
  },
  {
   "cell_type": "code",
   "execution_count": null,
   "metadata": {
    "hidden": true,
    "id": "HARVuRDa3kfm"
   },
   "outputs": [],
   "source": [
    "print(\"integer division:\")\n",
    "print(4 // 2)\n",
    "print(5 // 2)"
   ]
  },
  {
   "cell_type": "code",
   "execution_count": null,
   "metadata": {
    "hidden": true,
    "id": "WR9R31jy3kfp"
   },
   "outputs": [],
   "source": [
    "print(\"modulo:\")  # modulo is a fancy term for remainder of a division\n",
    "print(4 % 2)\n",
    "print(5 % 2)\n",
    "print(75 % 4)\n",
    "print(10 % 3)\n",
    "print(5.5 % 2)"
   ]
  },
  {
   "cell_type": "code",
   "execution_count": null,
   "metadata": {
    "hidden": true,
    "id": "KRJ_sJ8g3kfs"
   },
   "outputs": [],
   "source": [
    "print(\"power:\")\n",
    "print(99**3)\n",
    "print(2**5)"
   ]
  },
  {
   "cell_type": "markdown",
   "metadata": {
    "id": "5uYiFIJurxlT"
   },
   "source": [
    "## Exercise 1"
   ]
  },
  {
   "cell_type": "markdown",
   "metadata": {
    "id": "pflbK3fTr41D"
   },
   "source": [
    "Your screen is 16-inch width and 12-inch height. What is the area (square-inch) of your screen  "
   ]
  },
  {
   "cell_type": "code",
   "execution_count": null,
   "metadata": {
    "id": "FgcnP31mrybO"
   },
   "outputs": [],
   "source": [
    "# your answer here"
   ]
  },
  {
   "cell_type": "markdown",
   "metadata": {
    "heading_collapsed": true,
    "id": "_X_e-KEc3kgR"
   },
   "source": [
    "## Exercise 2"
   ]
  },
  {
   "cell_type": "markdown",
   "metadata": {
    "hidden": true,
    "id": "KK7j9Dgu3kgS"
   },
   "source": [
    "\n",
    "You have a stock that closed at 550 dollars on Monday, and then closed at 560 dollars on Tuesday. Calculate its daily return: the daily return is defined as the difference in the closing prices, divided by the closing price the day before."
   ]
  },
  {
   "cell_type": "markdown",
   "metadata": {
    "heading_collapsed": true,
    "hidden": true,
    "id": "rq7p7nh73kga",
    "solution2": "hidden",
    "solution2_first": true
   },
   "source": [
    "### Solution "
   ]
  },
  {
   "cell_type": "code",
   "execution_count": null,
   "metadata": {
    "hidden": true,
    "id": "RvFDz8Gp3kgf",
    "solution2": "hidden"
   },
   "outputs": [],
   "source": [
    "# If we want to show percentages,\n",
    "# We can modify our code and\n",
    "# add a multiplication with 100 in front:\n",
    "print(\"The daily return is:\")\n",
    "print(REPLACE THIS WITH YOUR ANSWER)"
   ]
  },
  {
   "cell_type": "markdown",
   "metadata": {
    "heading_collapsed": true,
    "id": "AsX1c54G3kfx"
   },
   "source": [
    "## Exercise 3"
   ]
  },
  {
   "cell_type": "markdown",
   "metadata": {
    "hidden": true,
    "id": "S4VIzq1V3kfz"
   },
   "source": [
    "Assume that you go to a restaurant, and you order $50 worth of food. Then you need to add the NY Sales Tax (8.875%) and add a tip (say, 20%). Write down the calculation that will print the total cost of the food."
   ]
  },
  {
   "cell_type": "code",
   "execution_count": null,
   "metadata": {
    "hidden": true,
    "id": "WCDwZANh3kf1"
   },
   "outputs": [],
   "source": [
    "# tip calculated on the pre-tax amount"
   ]
  },
  {
   "cell_type": "code",
   "execution_count": null,
   "metadata": {
    "hidden": true,
    "id": "aC6OqBVO3kf9"
   },
   "outputs": [],
   "source": [
    "# tip calculated on the after-tax amount"
   ]
  },
  {
   "cell_type": "markdown",
   "metadata": {
    "heading_collapsed": true,
    "id": "suMJX3Vc3kgi"
   },
   "source": [
    "## Exercise 4\n"
   ]
  },
  {
   "cell_type": "markdown",
   "metadata": {
    "hidden": true,
    "id": "aOWIBOuC3kgj"
   },
   "source": [
    "\n",
    "Assume that someone's height is 5 ft and 9 inches. Convert that to centimeters. Remember that one foot is 30.48 centimeters, and one inch is 2.54 centimeters."
   ]
  },
  {
   "cell_type": "code",
   "execution_count": null,
   "metadata": {
    "hidden": true,
    "id": "D21zt83z3kgk"
   },
   "outputs": [],
   "source": [
    "# Your code here"
   ]
  },
  {
   "cell_type": "markdown",
   "metadata": {
    "heading_collapsed": true,
    "id": "C3v8pBp33kgw"
   },
   "source": [
    "## Exercise 5\n"
   ]
  },
  {
   "cell_type": "markdown",
   "metadata": {
    "hidden": true,
    "id": "Z00Rznv43kgz"
   },
   "source": [
    "\n",
    "Write a Python program to compute the future value of a deposit with a a principal amount of \\\\$10,000, rate of interest 3 percents, and after 5 years. Remember that the value is: $Principal * (1+interest)^{years}$ and you will need to use the power operator (**) for this calculation."
   ]
  },
  {
   "cell_type": "code",
   "execution_count": null,
   "metadata": {
    "hidden": true,
    "id": "O40CWp-b3kgz"
   },
   "outputs": [],
   "source": [
    "# your code here"
   ]
  },
  {
   "cell_type": "markdown",
   "metadata": {
    "heading_collapsed": true,
    "id": "DdaoU7c73khB"
   },
   "source": [
    "## Exercise 6"
   ]
  },
  {
   "cell_type": "markdown",
   "metadata": {
    "hidden": true,
    "id": "DwcLTSVO3khT"
   },
   "source": [
    "Assume that someone's height is 180 centimeters. Convert that height into feet and inches. Remember that one foot is 30.48 centimeters, and one inch is 2.54 centimeters. You will need to use the modulo operator (%) for this conversion. Also use the `int(...)` function to get the integer part of a division. Optionally, you can also use the `round(...)` function to get the rounded integer number from a decimal."
   ]
  },
  {
   "cell_type": "code",
   "execution_count": null,
   "metadata": {
    "hidden": true,
    "id": "9aqAtZbY3khV"
   },
   "outputs": [],
   "source": [
    "# your code here"
   ]
  }
 ],
 "metadata": {
  "colab": {
   "collapsed_sections": [
    "wfg6XEUOsF5r",
    "Su0Y4YyJ3kgD",
    "yZBLvW863khg"
   ],
   "provenance": []
  },
  "kernelspec": {
   "display_name": "Python 3 (ipykernel)",
   "language": "python",
   "name": "python3"
  },
  "language_info": {
   "codemirror_mode": {
    "name": "ipython",
    "version": 3
   },
   "file_extension": ".py",
   "mimetype": "text/x-python",
   "name": "python",
   "nbconvert_exporter": "python",
   "pygments_lexer": "ipython3",
   "version": "3.10.6"
  }
 },
 "nbformat": 4,
 "nbformat_minor": 1
}
