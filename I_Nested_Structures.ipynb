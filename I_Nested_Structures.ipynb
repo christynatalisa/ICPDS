{
 "cells": [
  {
   "cell_type": "markdown",
   "metadata": {
    "id": "ciUX2pgXtMIl"
   },
   "source": [
    "# Combining (Nesting) Data Structures:"
   ]
  },
  {
   "cell_type": "markdown",
   "metadata": {
    "id": "g9FiBt5TtMIu"
   },
   "source": [
    "So far, we have examined complex data structures (lists, sets, dictionaries) that contain \"scalar\" values (integers, strings, boolean, etc). \n",
    "\n",
    "In reality, we can store any type of value in these data structures.\n",
    "\n",
    "Consider the case of the following dictionary:\n"
   ]
  },
  {
   "cell_type": "code",
   "execution_count": null,
   "metadata": {
    "id": "AztfEH7HtMIx"
   },
   "outputs": [],
   "source": [
    "sweets = {\n",
    "    \"candy\": 10,\n",
    "    \"chocolate\": 5,\n",
    "    \"cookie\" : 2,\n",
    "}"
   ]
  },
  {
   "cell_type": "markdown",
   "metadata": {
    "id": "ufv-u7WWtMI-"
   },
   "source": [
    "Instead of counting the number of each sweet, we here lists the kinds of each sweet that we have."
   ]
  },
  {
   "cell_type": "markdown",
   "metadata": {
    "id": "rdR0xtS8tMJS"
   },
   "source": [
    "## Creating Nested Data Structures"
   ]
  },
  {
   "cell_type": "markdown",
   "metadata": {
    "id": "Wu73fbRVtMJV"
   },
   "source": [
    "What we can do instead is to have **a list** as value for each key. So, for example, we can rewrite the dictionary as:"
   ]
  },
  {
   "cell_type": "code",
   "execution_count": null,
   "metadata": {
    "id": "a-gU8Y_VtMJb"
   },
   "outputs": [],
   "source": [
    "sweets = {\n",
    "    \"candy\": [\"Hi-Chew\"],\n",
    "    \"chocolate\": [\"Dove\", \"M&Ms\"],\n",
    "    \"cookie\" : [\"Insomnia\"],\n",
    "}"
   ]
  },
  {
   "cell_type": "markdown",
   "metadata": {
    "id": "iTAUbYGktMJp"
   },
   "source": [
    "And if we check the value for chocolate, you will see that we get back a list:"
   ]
  },
  {
   "cell_type": "code",
   "execution_count": null,
   "metadata": {
    "id": "N08kYKjvtMJs"
   },
   "outputs": [],
   "source": [
    "sweets[\"chocolate\"][1]"
   ]
  },
  {
   "cell_type": "markdown",
   "metadata": {
    "id": "gABrVrb8tMJ6"
   },
   "source": [
    "And then we can add and remove phones for each person:"
   ]
  },
  {
   "cell_type": "code",
   "execution_count": null,
   "metadata": {
    "id": "GblZ_PF7tMJ-"
   },
   "outputs": [],
   "source": [
    "sweets[\"chocolate\"].append(\"Godiva\")\n",
    "sweets[\"chocolate\"].append(\"Snickers\")\n",
    "sweets[\"chocolate\"].pop(0)  # Remove the first phone for chocolate\n",
    "sweets"
   ]
  },
  {
   "cell_type": "markdown",
   "metadata": {
    "id": "vwa7ECbCtMKI"
   },
   "source": [
    "Alternatively, instead of having a list, we can use a *dictionary* as a value for each key. For example, "
   ]
  },
  {
   "cell_type": "code",
   "execution_count": null,
   "metadata": {
    "id": "_AjtPeNAtMKN"
   },
   "outputs": [],
   "source": [
    "sweets = {\n",
    "    \"candy\": {\"Hi-Chew\": 10},\n",
    "    \"chocolate\": {\"Dove\":3, \"M&Ms\":30},\n",
    "    \"cookie\" : {\"Insomnia\":1 },\n",
    "}"
   ]
  },
  {
   "cell_type": "code",
   "execution_count": null,
   "metadata": {
    "id": "_CTw2do-tMKW"
   },
   "outputs": [],
   "source": [
    "sweets"
   ]
  },
  {
   "cell_type": "markdown",
   "metadata": {
    "id": "uOtdw1vntMKh"
   },
   "source": [
    "## Accessing Data within Nested Structures\n",
    "\n"
   ]
  },
  {
   "cell_type": "markdown",
   "metadata": {
    "id": "Uzt-Ptx0tMKj"
   },
   "source": [
    "To access the elements within complex structures, we combine bracket and indexing operators:"
   ]
  },
  {
   "cell_type": "code",
   "execution_count": null,
   "metadata": {
    "id": "54XT3uNGtMKn"
   },
   "outputs": [],
   "source": [
    "sweets = {\n",
    "    \"candy\": [\"Hi-Chew\"],\n",
    "    \"chocolate\": [\"Dove\", \"M&Ms\"],\n",
    "    \"cookie\" : [\"Insomnia\"],\n",
    "}"
   ]
  },
  {
   "cell_type": "markdown",
   "metadata": {
    "id": "Qr8F9r15tMKz"
   },
   "source": [
    "So, to access the list of chocolates we write "
   ]
  },
  {
   "cell_type": "code",
   "execution_count": null,
   "metadata": {
    "id": "pGLU7SY5tMK1"
   },
   "outputs": [],
   "source": [
    "sweets['chocolate']"
   ]
  },
  {
   "cell_type": "markdown",
   "metadata": {
    "id": "Gk_CnpfWtMLA"
   },
   "source": [
    "or"
   ]
  },
  {
   "cell_type": "code",
   "execution_count": null,
   "metadata": {
    "id": "b_3MVyPptMLD"
   },
   "outputs": [],
   "source": [
    "sweets.get('chocolate')"
   ]
  },
  {
   "cell_type": "markdown",
   "metadata": {
    "id": "9i7dJexOtMLM"
   },
   "source": [
    "Now, if we want to access the second chocolate on the returned list, we write:"
   ]
  },
  {
   "cell_type": "code",
   "execution_count": null,
   "metadata": {
    "id": "9S3DPwHPtMLO"
   },
   "outputs": [],
   "source": [
    "sweets['chocolate'][1]"
   ]
  },
  {
   "cell_type": "code",
   "execution_count": null,
   "metadata": {
    "id": "jcRP3VmF02gi"
   },
   "outputs": [],
   "source": [
    "sweets.get('chocolate')[1]"
   ]
  },
  {
   "cell_type": "markdown",
   "metadata": {
    "id": "FXjcOjq-tMLi"
   },
   "source": [
    "Similarly, when we have a dictionary that contains dictionaries:"
   ]
  },
  {
   "cell_type": "code",
   "execution_count": null,
   "metadata": {
    "id": "pYLpTkQ9tMLl"
   },
   "outputs": [],
   "source": [
    "sweets = {\n",
    "    \"candy\": {\"Hi-Chew\": 10},\n",
    "    \"chocolate\": {\"Dove\":3, \"M&Ms\":30},\n",
    "    \"cookie\" : {\"Insomnia\":1 },\n",
    "}"
   ]
  },
  {
   "cell_type": "code",
   "execution_count": null,
   "metadata": {
    "id": "XHO0hQNhtMLs"
   },
   "outputs": [],
   "source": [
    "sweets['chocolate']['Dove']"
   ]
  },
  {
   "cell_type": "markdown",
   "metadata": {
    "id": "MPIj05WntML0"
   },
   "source": [
    "Or when we have a list of dictionaries:"
   ]
  },
  {
   "cell_type": "code",
   "execution_count": null,
   "metadata": {
    "id": "bbMs22ajtML5"
   },
   "outputs": [],
   "source": [
    "citibike_stations = [\n",
    "    {'station_id': 72,  'capacity': 39, 'coords': {'lon': -73.9939, 'lat': 40.7673}, 'name': 'W 52 St & 11 Ave',   },\n",
    "    {'station_id': 79,  'capacity': 33, 'coords': {'lon': -74.0067, 'lat': 40.7191}, 'name': 'Franklin St & W Broadway'},\n",
    "    {'station_id': 82,  'capacity': 27, 'coords': {'lon': -74.0002, 'lat': 40.7673}, 'name': 'St James Pl & Pearl St'},\n",
    "    {'station_id': 83,  'capacity': 62, 'coords': {'lon': -73.9763, 'lat': 40.6838}, 'name': 'Atlantic Ave & Fort Greene Pl'},\n",
    "    {'station_id': 116, 'capacity': 39, 'coords': {'lon': -74.0015, 'lat': 40.7418}, 'name': 'W 17 St & 8 Ave'}\n",
    "]"
   ]
  },
  {
   "cell_type": "markdown",
   "metadata": {
    "id": "0OCu6fSctMMB"
   },
   "source": [
    "To access the name of the first station:"
   ]
  },
  {
   "cell_type": "code",
   "execution_count": null,
   "metadata": {
    "id": "wvm-SfEJtMME"
   },
   "outputs": [],
   "source": [
    "# Returns the first station entry\n",
    "citibike_stations[0]"
   ]
  },
  {
   "cell_type": "code",
   "execution_count": null,
   "metadata": {
    "id": "GOv5vN-ptMMO"
   },
   "outputs": [],
   "source": [
    "# Get the name for the first station\n",
    "citibike_stations[0]['name']"
   ]
  },
  {
   "cell_type": "markdown",
   "metadata": {
    "id": "ihDxzxwOtMMZ"
   },
   "source": [
    "Or to access the coordinates:"
   ]
  },
  {
   "cell_type": "code",
   "execution_count": null,
   "metadata": {
    "id": "ZQAKdY-VtMMb"
   },
   "outputs": [],
   "source": [
    "citibike_stations[0]['coords']"
   ]
  },
  {
   "cell_type": "markdown",
   "metadata": {
    "id": "KGxNq8d2xDSa"
   },
   "source": [
    "And if we want to access the latitude, from the coordinates:"
   ]
  },
  {
   "cell_type": "code",
   "execution_count": null,
   "metadata": {
    "id": "ssFXfYvbtMMn"
   },
   "outputs": [],
   "source": [
    "citibike_stations[0]['coords']['lat']"
   ]
  }
 ],
 "metadata": {
  "colab": {
   "provenance": []
  },
  "kernelspec": {
   "display_name": "Python 3",
   "language": "python",
   "name": "python3"
  },
  "language_info": {
   "codemirror_mode": {
    "name": "ipython",
    "version": 3
   },
   "file_extension": ".py",
   "mimetype": "text/x-python",
   "name": "python",
   "nbconvert_exporter": "python",
   "pygments_lexer": "ipython3",
   "version": "3.5.2"
  }
 },
 "nbformat": 4,
 "nbformat_minor": 0
}
