{
 "cells": [
  {
   "cell_type": "markdown",
   "metadata": {
    "id": "NpJ_BN0TjsKm"
   },
   "source": [
    "### Indexing and Slicing: Accessing  parts of the string\n",
    "\n",
    "**Note: The concepts of indexing and slicing are general. We will encounter them in many other contexts, beyond strings.**\n",
    "\n"
   ]
  },
  {
   "cell_type": "markdown",
   "metadata": {
    "id": "cvVl3TfFjsLO"
   },
   "source": [
    "##### Illustration of indexing and negative indexing\n",
    "\n",
    "\n",
    "```\n",
    "|              | P| y| t| h| o| n|\n",
    "|Index         | 0| 1| 2| 3| 4| 5|\n",
    "|Negative Index|-6|-5|-4|-3|-2|-1|\n",
    "```\n",
    "\n"
   ]
  },
  {
   "cell_type": "markdown",
   "metadata": {
    "id": "mBZHv1e0U4kz"
   },
   "source": [
    "#### Indexing\n",
    "\n",
    "Strings can be indexed (subscripted), with the first character having index 0."
   ]
  },
  {
   "cell_type": "code",
   "execution_count": null,
   "metadata": {
    "id": "YRX4XCp_jsKq"
   },
   "outputs": [],
   "source": [
    "word = 'Python'"
   ]
  },
  {
   "cell_type": "code",
   "execution_count": null,
   "metadata": {
    "id": "RV8EA5zEjsKw"
   },
   "outputs": [],
   "source": [
    "word[0]  # character in position 0"
   ]
  },
  {
   "cell_type": "code",
   "execution_count": null,
   "metadata": {
    "id": "krWTTN6LjsK2"
   },
   "outputs": [],
   "source": [
    "word[1]"
   ]
  },
  {
   "cell_type": "code",
   "execution_count": null,
   "metadata": {
    "id": "85rDZmmYjsK6"
   },
   "outputs": [],
   "source": [
    "word[5]  # character in position 5"
   ]
  },
  {
   "cell_type": "markdown",
   "metadata": {
    "id": "4pXPlZL9jsK9"
   },
   "source": [
    "#### Negative indexing\n",
    "\n",
    "Indices may also be negative numbers, to start counting from the right:"
   ]
  },
  {
   "cell_type": "code",
   "execution_count": null,
   "metadata": {
    "id": "dFkizEQFjsK_"
   },
   "outputs": [],
   "source": [
    "word[-1]  # last character"
   ]
  },
  {
   "cell_type": "code",
   "execution_count": null,
   "metadata": {
    "id": "Wmy9hwjHjsLG"
   },
   "outputs": [],
   "source": [
    "word[-2]  # second-last character"
   ]
  },
  {
   "cell_type": "code",
   "execution_count": null,
   "metadata": {
    "id": "zC2FnqmGjsLL"
   },
   "outputs": [],
   "source": [
    "word[-6]"
   ]
  },
  {
   "cell_type": "markdown",
   "metadata": {
    "id": "57UmOcVzjsLQ"
   },
   "source": [
    "#### Slicing\n",
    "\n",
    "In addition to indexing, slicing is also supported. While indexing is used to obtain individual characters, slicing allows you to obtain a substring:"
   ]
  },
  {
   "cell_type": "code",
   "execution_count": null,
   "metadata": {
    "id": "frRG3Vv2jsLS"
   },
   "outputs": [],
   "source": [
    "word[0:2]  # characters from position 0 (included) to 2 (excluded)"
   ]
  },
  {
   "cell_type": "code",
   "execution_count": null,
   "metadata": {
    "id": "8q7cYQcejsLY"
   },
   "outputs": [],
   "source": [
    "word[2:5]  # characters from position 2 (included) to 5 (excluded)"
   ]
  },
  {
   "cell_type": "code",
   "execution_count": null,
   "metadata": {
    "id": "kD2dUO0zjsLc"
   },
   "outputs": [],
   "source": [
    "word[2:]  # characters from position 2 (included) to the end"
   ]
  },
  {
   "cell_type": "code",
   "execution_count": null,
   "metadata": {
    "id": "S4sO4XfPjsLg"
   },
   "outputs": [],
   "source": [
    "word[:3]  # characters from beginning (position 0) to position 3 (excluded)"
   ]
  },
  {
   "cell_type": "code",
   "execution_count": null,
   "metadata": {
    "id": "FxuLfKN6jsLk"
   },
   "outputs": [],
   "source": [
    "word[-3:] # last three characters"
   ]
  },
  {
   "cell_type": "code",
   "execution_count": null,
   "metadata": {
    "id": "ciUb4GSijsLn"
   },
   "outputs": [],
   "source": [
    "word[-3:-1] # penultimate two characters"
   ]
  },
  {
   "cell_type": "code",
   "execution_count": null,
   "metadata": {
    "id": "hYu8ChBJjsLs"
   },
   "outputs": [],
   "source": [
    "word[1:-1]"
   ]
  },
  {
   "cell_type": "markdown",
   "metadata": {
    "id": "IQELjkZmjsLv"
   },
   "source": [
    "##### Additional example"
   ]
  },
  {
   "cell_type": "code",
   "execution_count": null,
   "metadata": {
    "id": "IL7iVXPQjsLy"
   },
   "outputs": [],
   "source": [
    "univ = 'New York University'"
   ]
  },
  {
   "cell_type": "code",
   "execution_count": null,
   "metadata": {
    "id": "1kUq1h_AjsL2"
   },
   "outputs": [],
   "source": [
    "univ[:3] #first three characters"
   ]
  },
  {
   "cell_type": "code",
   "execution_count": null,
   "metadata": {
    "id": "r8EtBm5bjsL6"
   },
   "outputs": [],
   "source": [
    "univ[4:8] # start at the fifth character and end at the eighth"
   ]
  },
  {
   "cell_type": "code",
   "execution_count": null,
   "metadata": {
    "id": "LRh2R7hZjsL9"
   },
   "outputs": [],
   "source": [
    "univ[-10:] #last ten characters of the string"
   ]
  },
  {
   "cell_type": "code",
   "execution_count": null,
   "metadata": {
    "id": "IzE8bTGYjsMA"
   },
   "outputs": [],
   "source": [
    "univ[2:-2]"
   ]
  },
  {
   "cell_type": "markdown",
   "metadata": {
    "id": "CrRi8TqPjsMF"
   },
   "source": [
    "### Exercise\n",
    "\n",
    "* Assign the string 'Dealing with Data' to a Python variable. \n",
    "* Print the word 'Dealing' by using the indexing/slicing approach.\n",
    "* Print the word 'Data' by using the negative indexing/slicing approach."
   ]
  },
  {
   "cell_type": "code",
   "execution_count": null,
   "metadata": {
    "id": "PApuRxhXjsMG"
   },
   "outputs": [],
   "source": [
    "# Your solution here"
   ]
  },
  {
   "cell_type": "markdown",
   "metadata": {
    "id": "kDSddFKPEgQN"
   },
   "source": [
    "### Exercise\n",
    "Extract \"XYZ\" from the alpabets"
   ]
  },
  {
   "cell_type": "code",
   "execution_count": null,
   "metadata": {
    "id": "bYbXYerOjsMK"
   },
   "outputs": [],
   "source": [
    "alphabets = \"ABCDEFGHIJKLMNOPQRSTUVWXYZ\""
   ]
  },
  {
   "cell_type": "code",
   "execution_count": null,
   "metadata": {
    "id": "CBhIsNFfFOA_"
   },
   "outputs": [],
   "source": [
    "# Your solution here"
   ]
  },
  {
   "cell_type": "markdown",
   "metadata": {
    "id": "YkjtcMvNFjWk"
   },
   "source": [
    "Extract \"xyz\" from the alphabets."
   ]
  },
  {
   "cell_type": "code",
   "execution_count": null,
   "metadata": {
    "id": "W80zw9BeFnp5"
   },
   "outputs": [],
   "source": [
    "# Your solution here\n"
   ]
  }
 ],
 "metadata": {
  "colab": {
   "provenance": []
  },
  "kernelspec": {
   "display_name": "Python 3 (ipykernel)",
   "language": "python",
   "name": "python3"
  },
  "language_info": {
   "codemirror_mode": {
    "name": "ipython",
    "version": 3
   },
   "file_extension": ".py",
   "mimetype": "text/x-python",
   "name": "python",
   "nbconvert_exporter": "python",
   "pygments_lexer": "ipython3",
   "version": "3.10.6"
  }
 },
 "nbformat": 4,
 "nbformat_minor": 1
}
