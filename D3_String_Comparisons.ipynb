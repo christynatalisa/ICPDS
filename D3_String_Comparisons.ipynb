{
 "cells": [
  {
   "cell_type": "markdown",
   "metadata": {
    "id": "dtEXySiBjunL"
   },
   "source": [
    "### String Comparisons\n",
    "\n",
    "We will examine now the concept of comparisons among strings and introduce a few comparison operators. \n",
    "\n",
    "#### Equality comparison\n",
    "\n",
    "Let's first examine how we can check if two strings are identical. For this comparison, we need the equality operator `==`.\n",
    "\n",
    "Let's see how equality comparisons work in Python:"
   ]
  },
  {
   "cell_type": "code",
   "execution_count": null,
   "metadata": {
    "id": "FDj18Th5junN"
   },
   "outputs": [],
   "source": [
    "str1 = \"hello\" # assignment to var str1"
   ]
  },
  {
   "cell_type": "code",
   "execution_count": null,
   "metadata": {
    "id": "AOB_FxIbjunR"
   },
   "outputs": [],
   "source": [
    "print(str1 == \"I'm good\")"
   ]
  },
  {
   "cell_type": "code",
   "execution_count": null,
   "metadata": {
    "id": "VxgeFYacjunV"
   },
   "outputs": [],
   "source": [
    "print(str1 == \"Hello\")"
   ]
  },
  {
   "cell_type": "code",
   "execution_count": null,
   "metadata": {
    "id": "ybr3GKTZgS_3"
   },
   "outputs": [],
   "source": [
    "print(str1 == \"hello\")"
   ]
  },
  {
   "cell_type": "markdown",
   "metadata": {
    "id": "f-055aYKjuna"
   },
   "source": [
    "Notice that **capitalization matters** when comparsing strings in Python. If we want to make the comparison case-insensitive we typically first convert both sides of the equality to the same case:"
   ]
  },
  {
   "cell_type": "code",
   "execution_count": null,
   "metadata": {
    "id": "Hl6bxKm8junb"
   },
   "outputs": [],
   "source": [
    "print(str1.lower() == \"Hello\".lower() )"
   ]
  },
  {
   "cell_type": "markdown",
   "metadata": {
    "id": "srMIlQhojunf"
   },
   "source": [
    "The opposite operator for equality is the inequality operator: `!=`. For example:"
   ]
  },
  {
   "cell_type": "code",
   "execution_count": null,
   "metadata": {
    "id": "4CaxGelIjung"
   },
   "outputs": [],
   "source": [
    "email1 = \"Junpei@nyu.edu\"\n",
    "email2 = \"Keiko@nyu.edu\"\n",
    "print(\"Are the emails different?\", email1 != email2 )"
   ]
  },
  {
   "cell_type": "markdown",
   "metadata": {
    "id": "EPNJPQR7junl"
   },
   "source": [
    "#### Ordering Strings\n",
    "\n",
    "String also allows inequality comparisons. When we compare strings, the string that is \"smaller\" is the one that is coming first in the dictionary. Let's see an example: "
   ]
  },
  {
   "cell_type": "code",
   "execution_count": null,
   "metadata": {
    "id": "OPCqYx7sjunn"
   },
   "outputs": [],
   "source": [
    "name1 = 'Abraham'\n",
    "name2 = 'Bill'\n",
    "\n",
    "# Abraham is lexicographically before Bill\n",
    "print(name1 < name2)"
   ]
  },
  {
   "cell_type": "code",
   "execution_count": null,
   "metadata": {
    "id": "cgQvvTT4junt"
   },
   "outputs": [],
   "source": [
    "name1 = 'Donald'\n",
    "name2 = 'Bill'\n",
    "\n",
    "# Donald is lexicographically after Bill\n",
    "print(name1 < name2)"
   ]
  },
  {
   "cell_type": "markdown",
   "metadata": {
    "id": "YBpJdIxCjunx"
   },
   "source": [
    "Notice though the following, where the capitalization of `Bill` changes:"
   ]
  },
  {
   "cell_type": "code",
   "execution_count": null,
   "metadata": {
    "id": "wMa4D6Tejun1"
   },
   "outputs": [],
   "source": [
    "name1 = 'Donald'\n",
    "name2 = 'bill'\n",
    "\n",
    "# Donald is lexicographically before bill\n",
    "print(name1 < name2)"
   ]
  },
  {
   "cell_type": "markdown",
   "metadata": {
    "id": "ETN8kSHAjun7"
   },
   "source": [
    "What causes this is the fact that the order is not simply the order in which we would encounter words in the dictionary. Technically, strings are ordered based on the order of the characters in the ASCII (or Unicode) table. Here is the ASCII table:"
   ]
  },
  {
   "cell_type": "markdown",
   "metadata": {
    "id": "rtM-8XxZjun9"
   },
   "source": [
    "<img src = \"https://www.asciitable.com/asciifull.gif\">"
   ]
  },
  {
   "cell_type": "markdown",
   "metadata": {
    "id": "T76ZzZTpjun_"
   },
   "source": [
    "For example, if we have the string below, and we try to sort them, take a look at the order:"
   ]
  },
  {
   "cell_type": "code",
   "execution_count": null,
   "metadata": {
    "id": "r6PeDhmGjuoB"
   },
   "outputs": [],
   "source": [
    "# Space, followed by numbers, followed by uppercase, followed by lowercase\n",
    "sorted(['Bill', '  ZZ TOP!!! ', 'HAHA', 'lol', 'LOL!', 'ZZZ', 'zzz', '123', '1230', '345'])"
   ]
  },
  {
   "cell_type": "code",
   "execution_count": null,
   "metadata": {
    "id": "nGr7fAV_juoF"
   },
   "outputs": [],
   "source": [
    "# Example of string comparison\n",
    "# See ASCII table at http://www.asciitable.com/ for character order (FYI)\n",
    "\n",
    "name1 = 'Ada'\n",
    "name2 = 'Bill'\n",
    "\n",
    "# Ada is lexicographically before Bill\n",
    "print(name1 < name2)\n",
    "\n",
    "name1 = 'ada'\n",
    "name2 = 'Bill'\n",
    "# However 'ada' is lexicographically after Bill (which starts with an uppercase letter)\n",
    "print(name1 < name2)"
   ]
  },
  {
   "cell_type": "markdown",
   "metadata": {
    "id": "Wktrm8L8juoK"
   },
   "source": [
    "### Finding text within string variables\n",
    "\n",
    "####  `in` operator\n",
    "\n",
    "\n",
    "+ The `in` operator, `needle in haystack`: reports if the string `needle` appears in the string `haystack`\n"
   ]
  },
  {
   "cell_type": "markdown",
   "metadata": {
    "id": "7BZ2uVgWjuoL"
   },
   "source": [
    "For example, string \"New York\" appears within \"New York University\", so the following operator returns `True`:"
   ]
  },
  {
   "cell_type": "code",
   "execution_count": null,
   "metadata": {
    "id": "B-KTuyCCjuoM"
   },
   "outputs": [],
   "source": [
    "\"New York\" in \"New York University\""
   ]
  },
  {
   "cell_type": "markdown",
   "metadata": {
    "id": "YD2qYe48juoQ"
   },
   "source": [
    "But, unlike reality, \"New York University\" is not in \"New York\" :-)"
   ]
  },
  {
   "cell_type": "code",
   "execution_count": null,
   "metadata": {
    "id": "3HrBIkVCjuoS"
   },
   "outputs": [],
   "source": [
    "\"New York University\" in \"New York\""
   ]
  },
  {
   "cell_type": "markdown",
   "metadata": {
    "id": "e3JFiDXUjuoV"
   },
   "source": [
    "\n",
    "####  `find` function\n",
    "\n",
    "* The `find` function, `haystack.find(needle)`: searches `haystack` for `needle`, prints the position of the first occurrence, indexed from 0; returns -1 if not found.\n",
    "\n",
    "For example:"
   ]
  },
  {
   "cell_type": "code",
   "execution_count": null,
   "metadata": {
    "id": "8_sv537YjuoX"
   },
   "outputs": [],
   "source": [
    "word = \"Python is the word. And on and on and on and on...\" \n",
    "position = word.find(\"on\") # The 'on' appears at the end of 'Python'\n",
    "print(position)"
   ]
  },
  {
   "cell_type": "code",
   "execution_count": null,
   "metadata": {
    "colab": {
     "base_uri": "https://localhost:8080/"
    },
    "id": "nxhnMjqHjuoc",
    "outputId": "38c125a1-a61f-4f25-dfc2-f596ffdf6614"
   },
   "outputs": [],
   "source": [
    "print(\"The first time that we see the string on is at position\", word.find(\"on\"))"
   ]
  },
  {
   "cell_type": "code",
   "execution_count": null,
   "metadata": {
    "id": "DB3pXdVJjRks"
   },
   "outputs": [],
   "source": [
    "# Find a needle that is not in the haystack.\n",
    "needle = \"whatever\"\n",
    "haystack = \"He can do whatever it takes to win re-election, and the Republican Party will have his back.\"\n",
    "haystack.find(needle)"
   ]
  },
  {
   "cell_type": "markdown",
   "metadata": {
    "id": "ofVpTUEAjuoe"
   },
   "source": [
    "(advanced) If we are looking to find additional appearances of the string, then we can add a second parameter in the `find` function, specifying that we are only interested in matches after the position specificed by the parameter."
   ]
  },
  {
   "cell_type": "code",
   "execution_count": null,
   "metadata": {
    "id": "EdyYj84kjuof"
   },
   "outputs": [],
   "source": [
    "first_appearance = word.find(\"on\")\n",
    "second_appearance = word.find(\"on\", first_appearance+1)\n",
    "print(\"The second time that we see the string on is at position\", second_appearance)"
   ]
  },
  {
   "cell_type": "markdown",
   "metadata": {
    "id": "3H4Qsglnjuoi"
   },
   "source": [
    "#### Exercise\n",
    "\n",
    "Consider the string `billgates@microsoft.com`. Write code that finds the username of the email address and the domain of the email address. You will need to use the .find() command, and also use your knowledge of indexing and slicing for this exercise. Hint: You will need to search for the `@` character using find, and then use the result to get the parts of the string before and after the `@` character. (Do not worry if this seems tedious, this is mainly for practice; later on, we will see how to do this in an easier way.)\n"
   ]
  },
  {
   "cell_type": "code",
   "execution_count": null,
   "metadata": {
    "id": "XKkWA9ITjuoj"
   },
   "outputs": [],
   "source": [
    "# your code here\n",
    "email = \"billgates@microsoft.com\""
   ]
  },
  {
   "cell_type": "markdown",
   "metadata": {
    "id": "bZt2gBQ4juop"
   },
   "source": [
    "####  `count` function\n",
    "\n",
    "+ `str_1.count(str_2)`: counts the number of occurrences of one string in another."
   ]
  },
  {
   "cell_type": "code",
   "execution_count": 1,
   "metadata": {
    "id": "om6sdRhKjuoq"
   },
   "outputs": [
    {
     "name": "stdout",
     "output_type": "stream",
     "text": [
      "We see the string ' on ' that many times:  5\n"
     ]
    }
   ],
   "source": [
    "word = \"Python is the word. And on and on and on and on...\"\n",
    "lookfor = \"on\"\n",
    "count = word.count(lookfor)\n",
    "print( \"We see the string '\", lookfor  ,\"' that many times: \",  count)"
   ]
  },
  {
   "cell_type": "code",
   "execution_count": 2,
   "metadata": {
    "id": "1pLgpNJFjuot"
   },
   "outputs": [
    {
     "name": "stdout",
     "output_type": "stream",
     "text": [
      "We see the string ' Python ' that many times:  1\n"
     ]
    }
   ],
   "source": [
    "word = \"Python is the word. And on and on and on and on...\"\n",
    "lookfor = \"Python\"\n",
    "count = word.count(lookfor)\n",
    "print( \"We see the string '\", lookfor  ,\"' that many times: \",  count)"
   ]
  },
  {
   "cell_type": "markdown",
   "metadata": {
    "id": "G2-HOsAAjuo3"
   },
   "source": [
    "Of course, notice that if capitalization is different, the matches will not \"count\"."
   ]
  },
  {
   "cell_type": "code",
   "execution_count": 3,
   "metadata": {
    "id": "SRw61R97juo4"
   },
   "outputs": [
    {
     "name": "stdout",
     "output_type": "stream",
     "text": [
      "We see the string ' PYTHON ' that many times:  0\n"
     ]
    }
   ],
   "source": [
    "word = \"Python is the word. And on and on and on and on...\"\n",
    "lookfor = \"PYTHON\"\n",
    "count = word.count(lookfor)\n",
    "print( \"We see the string '\", lookfor  ,\"' that many times: \",  count)"
   ]
  },
  {
   "cell_type": "markdown",
   "metadata": {
    "id": "0XDocOn-juo8"
   },
   "source": [
    "#### Exercise\n",
    "\n",
    "Convert the code above so that it works in a case-insensitive manner. Use the `lower()` or `upper()` command."
   ]
  },
  {
   "cell_type": "code",
   "execution_count": null,
   "metadata": {
    "id": "MTmmYjU7juo8"
   },
   "outputs": [],
   "source": [
    "# Your code here."
   ]
  },
  {
   "cell_type": "markdown",
   "metadata": {
    "id": "zuncb2q2juo_"
   },
   "source": [
    "#### Exercise\n",
    "\n",
    "Consider the news article from [Eater](https://ny.eater.com/2021/2/2/22255098/dining-outdoor-winter-challenges-critic-robert-sietsema), which is given below, and stored in the string variable `article`.\n",
    "\n",
    "* Count how many times the word `cold` appears in the article. .\n",
    "* Count how many times the word `warm` appears in the article. \n",
    "* Now sum up the occurences of `cold` and `warm` and display the percentage of coverage for each of the two strings. (For example, if warm appears 2 times and cold 3 times, then warm is 40% and cold is 60%.)"
   ]
  },
  {
   "cell_type": "code",
   "execution_count": 4,
   "metadata": {
    "id": "ZiVohU3DjupA"
   },
   "outputs": [],
   "source": [
    "article = \"\"\"\n",
    "A friend of mine claims she loves eating outside in the winter, maybe even more\n",
    " than being in a heated dining room. She brings a shawl with her, but sits on\n",
    " it rather than wraps it around her shoulders, a good reminder that heat can\n",
    " escape from any surface of the body. “It’s like eating in a ski resort,”\n",
    " she tells me, which is a jolly thought.\n",
    "As a restaurant critic, I’m eating outdoors a lot these days.\n",
    " While most people in the city may brave the occasional sub-freezing streetside\n",
    " dinner, I’m out a few nights a week at least. And because I’m dining out\n",
    " cautiously — avoiding overbuilt, shed-like setups that don’t allow for airflow\n",
    " — I’m resigned to being exposed to the elements to avoid being\n",
    " exposed to the virus.\n",
    "While an alfresco dinner in summertime seems like the most pleasant thing in\n",
    " the world, eating outdoors in the New York winter is quite a different kettle\n",
    " of fish. Icy weather introduces a host of new quirks to the dining experience,\n",
    " leaving us with numb fingers, baked faces, cold food that ought to be warm,\n",
    " and grease spots on our coats. Nevertheless, there’s a real joy to be found\n",
    " in persevering and enjoying good food in spite of adversity.\n",
    "With coronavirus-era dining, our cherished habits have been upended.\n",
    " Like many in the city, I formerly ate at 8 p.m. or so, and my colleague\n",
    " Ryan Sutton used to eat much later in the days when many restaurants were open\n",
    " till midnight. Nowadays the rules state that eateries must close by 10 p.m.\n",
    " — and that means really close, so you can’t sashay in at, say, 9:45 p.m. and\n",
    " expect to be fed, as I did recently with two pals at a Portuguese restaurant\n",
    " in the West Village. They served us a cocktail, but no food since\n",
    " the kitchen was already shut.\n",
    "Basking beneath multiple electric heat lamps, we talked about the superiority\n",
    " of electricity over propane gas, with the former providing a more even and \n",
    " predictable heat. Even the electric ones are a mixed blessing. That’s because \n",
    " they only broil one side of you, leaving the other side still cold. If you \n",
    " could turn yourself like a rotisserie, you might be happy, but whether \n",
    " overhead or in front, heat lamps can nearly blister a bald head or fry \n",
    " a face in the course of a meal.\n",
    "By leaving your coat, hat, and gloves on, and intermittently applying your\n",
    " mask, you can partly insulate yourself from this omnidirectional heat,\n",
    " but will gradually begin to swelter on one side, even when it’s freezing \n",
    " outside. And every spot with a liquor license, we decided, ought to offer \n",
    " warm cocktails in the cold winter months, because there’s nothing worse than \n",
    " sitting down on a frigid evening and slurping a drink on the rocks, \n",
    " which makes you as cold inside as out.\n",
    "These radiant heat sources may be more effective in an enclosed space, \n",
    "which brings up another topic. In their quest to make outdoor winter dining \n",
    "more comfortable, many restaurants have overbuilt their street enclosures, \n",
    "often making them look like garden sheds. Impromptu versions of this dodgy \n",
    "arrangement enclose all four sides with plastic and other temporary materials.\n",
    "Current regulations state that outdoor spaces may only be penned in on two \n",
    " sides, though I’ve seen three-sided enclosures look safe as long as maximum \n",
    " air movement is guaranteed — and they are technically allowed at 25 percent \n",
    " capacity. But many of today’s outdoor spaces are way too sealed up, \n",
    " and the tiny plastic partitions between groups are a laughable defense against \n",
    " floating and flowing viruses. Remember, catching COVID involves extended \n",
    " exposure to someone who has the virus in an enclosed space, \n",
    " and a semi-enclosed space can be nearly as bad.\n",
    "This fear forces me to arrive at a restaurant and eyeball the exterior dining \n",
    " space to see if enough air is circulating, automatically rejecting those places\n",
    " enclosed on four or occasionally even three sides. But you often don’t know \n",
    " the safety situation till you get there, forcing me to sometimes reject a \n",
    " space and carry the meal out. My friends and I must then find a park bench to \n",
    " eat on, or sit in a car with windows rolled down and the air system blasting. \n",
    " No meal is so good it’s worth getting sick for.\n",
    "\"\"\"\n"
   ]
  },
  {
   "cell_type": "code",
   "execution_count": 5,
   "metadata": {
    "id": "Hq7mMDZtjupQ"
   },
   "outputs": [
    {
     "name": "stdout",
     "output_type": "stream",
     "text": [
      "We see the string ' cold ' that many times:  4\n"
     ]
    }
   ],
   "source": [
    "# Calculate the number of times that \"cold\" appears in the text\n",
    "word = article\n",
    "lookfor = \"cold\"\n",
    "count = word.count(lookfor)\n",
    "print( \"We see the string '\", lookfor  ,\"' that many times: \",  count)"
   ]
  },
  {
   "cell_type": "code",
   "execution_count": null,
   "metadata": {
    "id": "zUjuflItjupS"
   },
   "outputs": [],
   "source": [
    "# Calculate the number of times that warm appears in the text\n"
   ]
  },
  {
   "cell_type": "code",
   "execution_count": 1,
   "metadata": {
    "id": "xj-u3JP0jupV"
   },
   "outputs": [
    {
     "ename": "NameError",
     "evalue": "name 'YOUR_SOLUTION_HERE' is not defined",
     "output_type": "error",
     "traceback": [
      "\u001b[0;31m---------------------------------------------------------------------------\u001b[0m",
      "\u001b[0;31mNameError\u001b[0m                                 Traceback (most recent call last)",
      "Cell \u001b[0;32mIn[1], line 2\u001b[0m\n\u001b[1;32m      1\u001b[0m \u001b[39m# Compute the percetage for cold (vs total cold+warm)\u001b[39;00m\n\u001b[0;32m----> 2\u001b[0m perc_cold \u001b[39m=\u001b[39m YOUR_SOLUTION_HERE\n",
      "\u001b[0;31mNameError\u001b[0m: name 'YOUR_SOLUTION_HERE' is not defined"
     ]
    }
   ],
   "source": [
    "# Compute the percetage for cold (vs total cold+warm)\n",
    "perc_cold = YOUR_SOLUTION_HERE"
   ]
  },
  {
   "cell_type": "code",
   "execution_count": null,
   "metadata": {
    "id": "RZ-UwTX5jupZ"
   },
   "outputs": [],
   "source": [
    "# Compute the percetage for warm (vs total cold+warm)\n",
    "perc_warm = YOUR_SOLUTION_HERE"
   ]
  },
  {
   "cell_type": "code",
   "execution_count": null,
   "metadata": {
    "id": "KCx3rDY7jupc"
   },
   "outputs": [],
   "source": [
    "# All together\n",
    "print(\"cold\",perc_cold,\"%\")\n",
    "print(\"warm\",perc_warm,\"%\")"
   ]
  },
  {
   "cell_type": "markdown",
   "metadata": {
    "id": "NeeDX6UDjupg"
   },
   "source": [
    "#### `startswith` and `endswith` functions"
   ]
  },
  {
   "cell_type": "markdown",
   "metadata": {
    "id": "gywpGDCWjupj"
   },
   "source": [
    "Finally, we can also check if a particular string starts or ends with a another substring\n",
    "\n",
    "+ `haystack.startswith(needle)`: does a the haystack string start with the needle string?\n",
    "+ `haystack.endswith(needle)`: does a the haystack string end with the needle string?\n"
   ]
  },
  {
   "cell_type": "code",
   "execution_count": 6,
   "metadata": {
    "id": "5Ij4gWu0jupk"
   },
   "outputs": [
    {
     "name": "stdout",
     "output_type": "stream",
     "text": [
      "Does New York University starts withNew York?\n",
      "True\n"
     ]
    }
   ],
   "source": [
    "name = \"New York University\"\n",
    "prefix = \"New York\"\n",
    "print( \"Does \" + name + \" starts with\" + prefix + \"?\")\n",
    "print(name.startswith(prefix))"
   ]
  },
  {
   "cell_type": "code",
   "execution_count": 7,
   "metadata": {
    "id": "u5BfVYtwjupp"
   },
   "outputs": [
    {
     "name": "stdout",
     "output_type": "stream",
     "text": [
      "Does New York University starts withUniversity?\n",
      "False\n"
     ]
    }
   ],
   "source": [
    "name = \"New York University\"\n",
    "prefix = \"University\"\n",
    "print( \"Does \" + name + \" starts with\" + prefix + \"?\")\n",
    "print(name.startswith(prefix))"
   ]
  },
  {
   "cell_type": "code",
   "execution_count": 8,
   "metadata": {
    "id": "HHot4GzXjupr"
   },
   "outputs": [
    {
     "name": "stdout",
     "output_type": "stream",
     "text": [
      "Does New York University ends withUniversity?\n",
      "True\n"
     ]
    }
   ],
   "source": [
    "name = \"New York University\"\n",
    "suffix = \"University\"\n",
    "print( \"Does \" + name + \" ends with\" + suffix + \"?\")\n",
    "print(name.endswith(suffix))"
   ]
  }
 ],
 "metadata": {
  "colab": {
   "provenance": []
  },
  "kernelspec": {
   "display_name": "Python 3",
   "language": "python",
   "name": "python3"
  },
  "language_info": {
   "codemirror_mode": {
    "name": "ipython",
    "version": 3
   },
   "file_extension": ".py",
   "mimetype": "text/x-python",
   "name": "python",
   "nbconvert_exporter": "python",
   "pygments_lexer": "ipython3",
   "version": "3.9.0"
  },
  "vscode": {
   "interpreter": {
    "hash": "aee8b7b246df8f9039afb4144a1f6fd8d2ca17a180786b69acc140d282b71a49"
   }
  }
 },
 "nbformat": 4,
 "nbformat_minor": 1
}
