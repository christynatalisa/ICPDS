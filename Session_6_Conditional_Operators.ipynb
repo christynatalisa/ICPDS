{
 "cells": [
  {
   "cell_type": "code",
   "execution_count": 1,
   "metadata": {},
   "outputs": [
    {
     "name": "stdout",
     "output_type": "stream",
     "text": [
      "Number of rides you can take = 36.36363636363637\n"
     ]
    }
   ],
   "source": [
    "a = input('enter balance = ')\n",
    "def ride_num(a):\n",
    "    balance = 100\n",
    "    return balance/2.75\n",
    "\n",
    "print(f'Number of rides you can take = {ride_num(a)}')\n",
    "\n",
    "\n",
    "\n",
    "    "
   ]
  },
  {
   "cell_type": "code",
   "execution_count": 5,
   "metadata": {},
   "outputs": [
    {
     "ename": "SyntaxError",
     "evalue": "invalid syntax (1175089565.py, line 8)",
     "output_type": "error",
     "traceback": [
      "\u001b[0;36m  Cell \u001b[0;32mIn[5], line 8\u001b[0;36m\u001b[0m\n\u001b[0;31m    else age >65:\u001b[0m\n\u001b[0m         ^\u001b[0m\n\u001b[0;31mSyntaxError\u001b[0m\u001b[0;31m:\u001b[0m invalid syntax\n"
     ]
    }
   ],
   "source": [
    "\n",
    "age = int(input('enter age = '))\n",
    "\n",
    "def MET_ticket(age):\n",
    "    if age <= 17:\n",
    "        price = 17\n",
    "    elif age >= 17 and age<=65 :\n",
    "        price = 30\n",
    "    elif age >65:\n",
    "        price = 22\n",
    "\n",
    "    return price\n",
    "\n",
    "print(f'Your ticket price is = {MET_ticket(age)}')\n"
   ]
  },
  {
   "cell_type": "code",
   "execution_count": 4,
   "metadata": {},
   "outputs": [
    {
     "name": "stdout",
     "output_type": "stream",
     "text": [
      "Your ticket price is = 22\n"
     ]
    }
   ],
   "source": [
    "student = input('are you a student? (Y/N) = ')\n",
    "age = int(input('enter age = '))\n",
    "\n",
    "def MET_ticket(age):\n",
    "    if student == 'Y':\n",
    "        price = 17\n",
    "    elif age >= 17 and age<=65 :\n",
    "        price = 30\n",
    "    elif age >65:\n",
    "        price = 22\n",
    "\n",
    "    return price\n",
    "\n",
    "print(f'Your ticket price is = {MET_ticket(age)}')"
   ]
  },
  {
   "cell_type": "markdown",
   "metadata": {},
   "source": []
  },
  {
   "cell_type": "code",
   "execution_count": null,
   "metadata": {},
   "outputs": [],
   "source": []
  },
  {
   "cell_type": "code",
   "execution_count": null,
   "metadata": {},
   "outputs": [],
   "source": []
  },
  {
   "cell_type": "code",
   "execution_count": null,
   "metadata": {},
   "outputs": [],
   "source": []
  },
  {
   "cell_type": "code",
   "execution_count": null,
   "metadata": {},
   "outputs": [],
   "source": []
  },
  {
   "cell_type": "code",
   "execution_count": null,
   "metadata": {},
   "outputs": [],
   "source": []
  }
 ],
 "metadata": {
  "kernelspec": {
   "display_name": "Python 3",
   "language": "python",
   "name": "python3"
  },
  "language_info": {
   "codemirror_mode": {
    "name": "ipython",
    "version": 3
   },
   "file_extension": ".py",
   "mimetype": "text/x-python",
   "name": "python",
   "nbconvert_exporter": "python",
   "pygments_lexer": "ipython3",
   "version": "3.9.0"
  },
  "orig_nbformat": 4,
  "vscode": {
   "interpreter": {
    "hash": "aee8b7b246df8f9039afb4144a1f6fd8d2ca17a180786b69acc140d282b71a49"
   }
  }
 },
 "nbformat": 4,
 "nbformat_minor": 2
}
