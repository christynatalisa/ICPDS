{
 "cells": [
  {
   "cell_type": "markdown",
   "metadata": {
    "id": "DQceOMwq3kfD"
   },
   "source": [
    "# Assignment 6\n",
    "\n",
    "Due Mar 20 (Mon). Materials up to session 13 are covered."
   ]
  },
  {
   "cell_type": "markdown",
   "metadata": {},
   "source": [
    "### Q1. Create \"a list of 4 integers\" (can be any integers) by using string method `append`. "
   ]
  },
  {
   "cell_type": "code",
   "execution_count": null,
   "metadata": {},
   "outputs": [],
   "source": [
    "# REPLACE THIS WITH YOUR CODE\n",
    "\n",
    "my_list = [] # create an empty list\n",
    "\n",
    "my_list.append(1) # add the integer 1 to the list\n",
    "my_list.append(2) # add the integer 2 to the list\n",
    "my_list.append(3) # add the integer 3 to the list\n",
    "my_list.append(4) # add the integer 4 to the list\n",
    "\n",
    "print(my_list) # output: [1, 2, 3, 4]\n"
   ]
  },
  {
   "cell_type": "markdown",
   "metadata": {},
   "source": [
    "### Q2. Can we mix different types of keys in a dictionary? Demonstrate with code."
   ]
  },
  {
   "cell_type": "markdown",
   "metadata": {},
   "source": [
    "Yes, we can mix different types of keys in a dictionary. In Python, keys in a dictionary can be of any hashable data type, such as integers, strings, tuples, or even custom objects that implement the hash function. Here's an example:\n"
   ]
  },
  {
   "cell_type": "code",
   "execution_count": 1,
   "metadata": {},
   "outputs": [
    {
     "name": "stdout",
     "output_type": "stream",
     "text": [
      "2\n",
      "pi\n",
      "[1, 2, 3]\n"
     ]
    }
   ],
   "source": [
    "# REPLACE THIS WITH YOUR CODE\n",
    "# create a dictionary with mixed types of keys\n",
    "my_dict = {'apple': 2, 3.14: 'pi', (1, 2): [1, 2, 3]}\n",
    "\n",
    "# access values using different types of keys\n",
    "print(my_dict['apple'])   # output: 2\n",
    "print(my_dict[3.14])      # output: 'pi'\n",
    "print(my_dict[(1, 2)])   # output: [1, 2, 3]\n"
   ]
  },
  {
   "cell_type": "markdown",
   "metadata": {},
   "source": [
    "### Q3. Provide examples of a function that uses `print` to output something and returns a value of `None`."
   ]
  },
  {
   "cell_type": "code",
   "execution_count": null,
   "metadata": {},
   "outputs": [],
   "source": [
    "# REPLACE THIS WITH YOUR CODE\n",
    "def greet(name):\n",
    "    print(\"Hello, \" + name + \"! Welcome to my program.\")\n",
    "\n",
    "# call the greet() function\n",
    "greet(\"Alice\")\n"
   ]
  },
  {
   "cell_type": "markdown",
   "metadata": {},
   "source": [
    "### Q4. Create a dictionary `my_dict` with its length >= 4 by using a loop. Here, the length is measured by `len`."
   ]
  },
  {
   "cell_type": "code",
   "execution_count": 1,
   "metadata": {},
   "outputs": [
    {
     "name": "stdout",
     "output_type": "stream",
     "text": [
      "{'key0': 0, 'key1': 1, 'key2': 2, 'key3': 3}\n"
     ]
    }
   ],
   "source": [
    "# REPLACE THIS WITH YOUR CODE\n",
    "# REPLACE THIS WITH YOUR CODE\n",
    "my_dict = {}\n",
    "\n",
    "# Loop through 4 items to add to the dictionary\n",
    "for i in range(4):\n",
    "    key = f\"key{i}\"  # Create a key with a unique name\n",
    "    value = i  # Assign a value\n",
    "    my_dict[key] = value  # Add the key-value pair to the dictionary\n",
    "\n",
    "# Print the resulting dictionary\n",
    "print(my_dict)"
   ]
  },
  {
   "cell_type": "markdown",
   "metadata": {},
   "source": [
    "### Q5. Explain the concepts of `break` and `continue` in a `for`/`while` loop. Also, provide examples where these statements can be applied effectively."
   ]
  },
  {
   "cell_type": "markdown",
   "metadata": {},
   "source": [
    "break and continue are control flow statements used in loops in Python (and other programming languages) to alter the normal flow of execution.\n",
    "\n",
    "break statement:\n",
    "When the break statement is executed inside a loop (for or while), the loop is immediately terminated and the program control resumes at the next statement after the loop. In other words, it breaks out of the loop. Here's an example:"
   ]
  },
  {
   "cell_type": "code",
   "execution_count": 2,
   "metadata": {},
   "outputs": [
    {
     "name": "stdout",
     "output_type": "stream",
     "text": [
      "0\n",
      "1\n",
      "2\n",
      "3\n",
      "4\n"
     ]
    }
   ],
   "source": [
    "# Example of break statement in a for loop\n",
    "for i in range(10):\n",
    "    if i == 5:\n",
    "        break  # terminates the loop when i is 5\n",
    "    print(i)\n",
    "\n",
    "# Output: 0 1 2 3 4\n"
   ]
  },
  {
   "cell_type": "markdown",
   "metadata": {},
   "source": [
    "In the above example, the loop will iterate from 0 to 9. However, when the value of i is 5, the break statement will be executed, and the loop will be terminated immediately.\n",
    "\n",
    "continue statement:\n",
    "When the continue statement is executed inside a loop, the current iteration is stopped, and the loop continues with the next iteration. In other words, it skips the current iteration. Here's an example:"
   ]
  },
  {
   "cell_type": "code",
   "execution_count": 4,
   "metadata": {
    "scrolled": true
   },
   "outputs": [
    {
     "name": "stdout",
     "output_type": "stream",
     "text": [
      "0\n",
      "1\n",
      "2\n",
      "3\n",
      "4\n",
      "6\n",
      "7\n",
      "8\n",
      "9\n"
     ]
    }
   ],
   "source": [
    "# Example of continue statement in a for loop\n",
    "for i in range(10):\n",
    "    if i == 5:\n",
    "        continue  # skips the current iteration when i is 5\n",
    "    print(i)\n",
    "\n",
    "# Output: 0 1 2 3 4 6 7 8 9\n"
   ]
  },
  {
   "cell_type": "markdown",
   "metadata": {},
   "source": [
    "In the above example, the loop will iterate from 0 to 9. However, when the value of i is 5, the continue statement will be executed, and the loop will continue with the next iteration (i.e., it will skip printing 5)."
   ]
  },
  {
   "cell_type": "markdown",
   "metadata": {},
   "source": [
    "### Q6. Construct a string consisting of 99 characters."
   ]
  },
  {
   "cell_type": "code",
   "execution_count": 7,
   "metadata": {},
   "outputs": [],
   "source": [
    "# REPLACE THIS WITH YOUR CODE\n",
    "string = 'This string consists of 99 characters. It includes spaces, letters, numbers, and punctuation, and can be used as an example for various programming exercises or challenges.'\n"
   ]
  },
  {
   "cell_type": "markdown",
   "metadata": {},
   "source": [
    "### Q7. What is the difference between a list of characters and a string in Python? Although these are distinct data types in Python, we may consider them from an operational standpoint. Which operators, functions, and methods can be used or not used with each of them?"
   ]
  },
  {
   "cell_type": "markdown",
   "metadata": {},
   "source": [
    "In Python, a list of characters is a sequence of individual characters, each of which is represented by a single character string. On the other hand, a string is a sequence of characters that can include letters, numbers, spaces, and punctuation.\n",
    "\n",
    "Here are some differences between a list of characters and a string in Python:\n",
    "\n",
    "Representation: A list of characters is represented as a list of strings, whereas a string is represented as a single string.\n",
    "Immutability: Strings are immutable in Python, which means that once created, they cannot be changed. Lists of characters, on the other hand, are mutable and can be modified after creation.\n",
    "Indexing: Both strings and lists of characters can be indexed using integers to access individual elements. However, string indexing returns a single character string, whereas list indexing returns a list of strings, each containing a single character.\n",
    "Concatenation: Strings can be concatenated using the \"+\" operator, whereas lists of characters can be concatenated using the \"+\" operator or the extend() method.\n",
    "Length: The len() function can be used to determine the length of both strings and lists of characters.\n",
    "Some common operators, functions, and methods that can be used with strings and lists of characters are:\n",
    "\n",
    "Indexing: [] operator to access individual elements of the sequence.\n",
    "Slicing:[:] operator to get a subsequence of the original sequence.\n",
    "len(): function to get the length of the sequence.\n",
    "in: operator to check if an element is present in the sequence.\n",
    "+: operator to concatenate two sequences.\n",
    ".join(): method to concatenate a list of strings.\n",
    ".split(): method to split a string into a list of strings based on a given separator.\n",
    ".replace(): method to replace a substring with another substring.\n",
    "However, there are also some methods that are specific to strings or lists of characters. For example, the .join() method can only be used with lists of strings, whereas the .append() and .remove() methods can only be used with lists of characters."
   ]
  },
  {
   "cell_type": "markdown",
   "metadata": {},
   "source": [
    "### Q8. Explain the concepts of global and local variables. \n",
    "\n",
    "(see Section 3 (function) in TP )"
   ]
  },
  {
   "cell_type": "markdown",
   "metadata": {},
   "source": [
    "YOUR EXPLANATION HERE\n",
    "\n",
    "In programming, variables are used to store data values that can be accessed and manipulated throughout a program. There are two types of variables in Python: global variables and local variables.\n",
    "\n",
    "Global variables are variables that are declared outside of any function or class, and can be accessed and modified from anywhere in the program. Global variables can be declared using the global keyword followed by the variable name, like this:"
   ]
  },
  {
   "cell_type": "markdown",
   "metadata": {},
   "source": [
    "### Q9. Convert a string \"175,000,000,000\" (175 billion) into an integer variable of its value 175000000000 in three ways.\n"
   ]
  },
  {
   "cell_type": "code",
   "execution_count": 1,
   "metadata": {},
   "outputs": [],
   "source": [
    "billions = \"175,000,000,000\""
   ]
  },
  {
   "cell_type": "code",
   "execution_count": 2,
   "metadata": {},
   "outputs": [],
   "source": [
    "# Create a variable with its value 175000000000 by applying string SLICING and int function on the variable `billions`\n",
    "# REPLACE THIS WITH YOUR CODE\n",
    "billions = \"175,000,000,000\"\n",
    "value = int(billions.replace(',', '')[0:12])\n"
   ]
  },
  {
   "cell_type": "code",
   "execution_count": null,
   "metadata": {},
   "outputs": [],
   "source": [
    "# Create a variable with its value 175000000000 by applying string REPLACING and int function on the variable `billions`\n",
    "# replace method: \"coffee\".replace(\"c\", \"t\") == \"toffee\"\n",
    "# REPLACE THIS WITH YOUR CODE\n",
    "billions = \"175,000,000,000\"\n",
    "value = int(billions.replace(',', ''))\n"
   ]
  },
  {
   "cell_type": "code",
   "execution_count": null,
   "metadata": {},
   "outputs": [],
   "source": [
    "# Create a variable with its value 175000000000 without using string JOIN and SPLIT (see notebook D4). Use int function.\n",
    "# REPLACE THIS WITH YOUR CODE\n",
    "billions = \"175,000,000,000\"\n",
    "value = 0\n",
    "for char in billions:\n",
    "    if char.isdigit():\n",
    "        value = value * 10 + int(char)\n"
   ]
  },
  {
   "cell_type": "markdown",
   "metadata": {},
   "source": [
    "### Q10. String comparison"
   ]
  },
  {
   "cell_type": "markdown",
   "metadata": {},
   "source": [
    "In Python, \"100\" is smaller than \"20\" as we can confirm below."
   ]
  },
  {
   "cell_type": "code",
   "execution_count": null,
   "metadata": {},
   "outputs": [],
   "source": [
    "\"100\" < \"20\""
   ]
  },
  {
   "cell_type": "markdown",
   "metadata": {},
   "source": [
    "Explain why this is the case, and fix this so that you can evaluate 100 is larger than 20. See notebook D3."
   ]
  },
  {
   "cell_type": "markdown",
   "metadata": {},
   "source": [
    "YOUR EXPLANATION HERE\n",
    "When comparing strings in Python, the comparison is done based on the ASCII values of the characters in the string. In ASCII, the character \"1\" has a lower value than the character \"2\", so the string \"100\" is smaller than the string \"20\".\n",
    "\n",
    "To fix this and evaluate 100 as larger than 20, we need to convert the strings to numbers and compare the numerical values. We can do this using the int() function in Python to convert the strings to integers.\n",
    "\n"
   ]
  },
  {
   "cell_type": "markdown",
   "metadata": {},
   "source": [
    "### Q11. Explain the difference of the two functions below. \n",
    "\n",
    "Note: Two funcions differ by the level of indentation of `return False`. Show some example and demonstrate that these two functions can return different values."
   ]
  },
  {
   "cell_type": "code",
   "execution_count": null,
   "metadata": {},
   "outputs": [],
   "source": [
    "def func_A(my_list, target):\n",
    "    for element in my_list:\n",
    "        if element == target:\n",
    "            return True\n",
    "        return False\n",
    "\n",
    "def func_B(my_list, target):\n",
    "    for element in my_list:\n",
    "        if element == target:\n",
    "            return True\n",
    "    return False"
   ]
  },
  {
   "cell_type": "markdown",
   "metadata": {},
   "source": [
    "The two functions func_A and func_B are similar in that they both search for a target value in a my_list list, but they differ in the indentation of the return False statement.\n",
    "\n",
    "In func_A, the return False statement is indented to the same level as the if statement that checks whether element equals target. This means that if the first element in my_list is not equal to target, the function immediately returns False without searching the rest of the list. This could result in false negatives, where the function returns False even though target is actually in the list, but not in the first position.\n",
    "On the other hand, in func_B, the return False statement is indented to the same level as the for loop that iterates over my_list. This means that the function iterates over the entire list and only returns False if it doesn't find target in the list. This avoids false negatives, but could potentially result in false positives, where the function returns True even though target"
   ]
  },
  {
   "cell_type": "markdown",
   "metadata": {},
   "source": [
    "### Q12:\n",
    "\n",
    "(from materials in Session 13)"
   ]
  },
  {
   "cell_type": "code",
   "execution_count": 4,
   "metadata": {},
   "outputs": [],
   "source": [
    "article = (\n",
    "\"\"\"Bangkokians have been busy: Travelers returning to \"the City of Angels\" after even a few years will notice changes. The impenetrably jammed streets of Chinatown and Old Town, with their glorious religious and royal enclaves, are finally accessible by mass transit with the extension of the Metropolitan Rapid Transit subway. And the long-neglected waterfront of the Chao Phraya River now has two massive, eye-popping developments on opposite banks: the Icon Siam mall and the Four Seasons complex of restaurants, a water garden and a gallery. Meanwhile, a new generation of chefs, designers and artisans has taken advantage of the pandemic lull to open businesses throughout Bangkok, bringing more flair and fun to an already flamboyant city.\n",
    "The chef Thitid \"Ton\" Tassanakajohn, a co-owner of the Michelin-starred Bangkok restaurant Le Du, last year opened Lahnyai Nusara, an intimate restaurant in a living-room-like space amid the Sathorn district's skyscrapers. Get a reservation for one of the half-dozen tables overseen by family photographs and embark on Ton's 12-course menu, based on a cosmopolitan approach to his mom's recipes, like steamed egg with crab meat and truffles. Dinner with wine is around 3,800 Thai baht, or about $115, per person.\n",
    "Dress shamelessly and let Thai D.J.s vibrate away your jet lag at Sing Sing Theater, the current reigning nightclub in Sukhumvit, with a noirish retro-Chinese décor illuminated by swarms of red lanterns and a riot of professional dancers behind screens and on swings that give the place the feel of a Baz Luhrmann film set. Settle into the intimate nooks and balconies surrounding the stage and dance floor or house shuffle with a cordial mix of wealthy locals and Bangkok's expat community, including, at the moment, quite a few exiled Russians. Guest D.J.s and live bands come in for regular parties such as burlesque or Latin nights. Drinks start at 180 THB.\n",
    "In the 1990s, Co van Kessel, a Dutch-born resident of Bangkok who died in 2012, pioneered elaborate, yet surprisingly easy bicycle tours through the city and its surrounding farmland that used canal boats to move between town and country. Today, a friendly staff of young, English-speaking Thai bike enthusiasts have taken up his mantle from a well-marked garage and office next to the River City shopping complex on the Chao Phraya River. Much of the clientele is still Dutch, and it's a mesmerizing and surprisingly safe trip through a maze of alleyway temples and canals (you hop into the boat with your bike), leading to paths above the paddy farms upon which the city was built, one of which provides a delicious local lunch. A five-hour tour is 1,850 THB.\n",
    "Visitors usually head to Wat Pho (\"wat\" means \"temple\" in many parts of Southeast Asia) next to the Grand Palace to marvel at the 151-foot reclining Buddha. But one can match the contentment on his face in a discreet building behind the temple where novices master the art of Thai massage, one of the ancient medical practices to which the wat is devoted. The massage center, Wat Pho Thai Traditional Medical School, is across from the main temple building (there's usually a standing yellow sign in front). Sample their craft with divine foot and back massages starting from 280 THB for 30 minutes.\n",
    "Vietnam War-era military jackets? Butterfly collections? Hand-carved, Scandi-minimalist cutlery? They're all found in the potpourri of shops, galleries and cafes of Warehouse 30, which spans seven colorfully renovated warehouses and anchors Bangkok's thriving arts district surrounding the River City shopping center. Regenerate from all that biking and shopping in one of the complex's most popular cafes, Mother Roaster, run by the septuagenarian super-barista Ploenpit Rianmek, affectionately nicknamed \"Pa Pim,\" who brews some of the best java in town (from 80 THB).\n",
    "Bangkok's Chinatown is a maze of perpetual regeneration. The district, long hemmed in by a permanent traffic jam, is now more accessible by the extension of the subway system in 2019. Finding Potong, a restaurant in a former pharmacy in an alley off an alley, is a worthy adventure. The chef Pam Soontornyanakij is the fifth generation of her family to own and work in this building, having made a detour as a cook in Jean-Georges Vongerichten's culinary empire in New York before returning to bring Western panache to Thai-Chinese fusion. The result is dishes like a traditional corn custard that she serves with smoked salt and on brioche. Her efforts were rewarded with her first Michelin star in November. The tasting menu is 4,800 THB per person; reserve ahead.\n",
    "Over the past decade, the city has become one of Asia's great mixology destinations. The best of the blossoming bar scene is within walking distance of Potong, and includes Teens of Thailand, a cozy jewel-box of a place serving up gin cocktails; Tep Bar in a former shop that specializes in a herbal liquor called ya dong and uses local fruits and spices; and one of the city's hottest newcomers, Tropic City, a Thai take on a tiki bar featuring a dizzying array of rum cocktails. Expect to pay at least 300 THB a cocktail at these bars.\n",
    "The Four Seasons complex, which opened in late 2020, has revolutionized the dreary stretch of river south of the Taksin Bridge. Escape the dense urban surroundings to airy courtyards surrounding terraced pools, outdoor art installations and banyan trees descending to the shore. Head from the lobby to the waterfront via the small contemporary museum, Art Space, a broad whitewashed studio featuring a rotating series of modern art installations curated by Bangkok’s Museum of Contemporary Art. The museum shop features funky one-offs, including a blow-up 10-foot worm (65,000 THB) or customized graffiti tote bags (1,330 THB). Exit the gallery to find a popular French bakery, Cafe Madeleine, which serves excellent croissants (95 THB) and coffee on the wide riverfront terrace.\n",
    "Cross the river on the public ferry (from 13 THB) to Icon Siam mall. Few do malls better than the Thais: Imagine the spaceship from “Close Encounters of the Third Kind” perched on the shore (ignore all the bland Western luxury logos dominating the facade) and step into the light. The first floor has arguably the world’s best food court. Thais flock to the locally run stalls that have replaced so many of Bangkok’s much-missed street vendors. Many stalls don’t have names and just have one specialty, like spicy shrimp soup or pad thai, often made by that vendor’s family for generations. You can easily enjoy a multi-course feast for less than 200 THB. After lunch, visit the top floor balcony to discover a light-and-mirror art installation called “Infinity Forest,” and one of the best views over the river.\"\"\"\n",
    ")"
   ]
  },
  {
   "cell_type": "markdown",
   "metadata": {},
   "source": [
    "#### Q12.1 Create a list of string `word_list` by splitting `article`."
   ]
  },
  {
   "cell_type": "code",
   "execution_count": 5,
   "metadata": {},
   "outputs": [
    {
     "name": "stdout",
     "output_type": "stream",
     "text": [
      "['Bangkokians', 'have', 'been', 'busy:', 'Travelers', 'returning', 'to', '\"the', 'City', 'of', 'Angels\"', 'after', 'even', 'a', 'few', 'years', 'will', 'notice', 'changes.', 'The', 'impenetrably', 'jammed', 'streets', 'of', 'Chinatown', 'and', 'Old', 'Town,', 'with', 'their', 'glorious', 'religious', 'and', 'royal', 'enclaves,', 'are', 'finally', 'accessible', 'by', 'mass', 'transit', 'with', 'the', 'extension', 'of', 'the', 'Metropolitan', 'Rapid', 'Transit', 'subway.', 'And', 'the', 'long-neglected', 'waterfront', 'of', 'the', 'Chao', 'Phraya', 'River', 'now', 'has', 'two', 'massive,', 'eye-popping', 'developments', 'on', 'opposite', 'banks:', 'the', 'Icon', 'Siam', 'mall', 'and', 'the', 'Four', 'Seasons', 'complex', 'of', 'restaurants,', 'a', 'water', 'garden', 'and', 'a', 'gallery.', 'Meanwhile,', 'a', 'new', 'generation', 'of', 'chefs,', 'designers', 'and', 'artisans', 'has', 'taken', 'advantage', 'of', 'the', 'pandemic', 'lull', 'to', 'open', 'businesses', 'throughout', 'Bangkok,', 'bringing', 'more', 'flair', 'and', 'fun', 'to', 'an', 'already', 'flamboyant', 'city.', 'The', 'chef', 'Thitid', '\"Ton\"', 'Tassanakajohn,', 'a', 'co-owner', 'of', 'the', 'Michelin-starred', 'Bangkok', 'restaurant', 'Le', 'Du,', 'last', 'year', 'opened', 'Lahnyai', 'Nusara,', 'an', 'intimate', 'restaurant', 'in', 'a', 'living-room-like', 'space', 'amid', 'the', 'Sathorn', \"district's\", 'skyscrapers.', 'Get', 'a', 'reservation', 'for', 'one', 'of', 'the', 'half-dozen', 'tables', 'overseen', 'by', 'family', 'photographs', 'and', 'embark', 'on', \"Ton's\", '12-course', 'menu,', 'based', 'on', 'a', 'cosmopolitan', 'approach', 'to', 'his', \"mom's\", 'recipes,', 'like', 'steamed', 'egg', 'with', 'crab', 'meat', 'and', 'truffles.', 'Dinner', 'with', 'wine', 'is', 'around', '3,800', 'Thai', 'baht,', 'or', 'about', '$115,', 'per', 'person.', 'Dress', 'shamelessly', 'and', 'let', 'Thai', 'D.J.s', 'vibrate', 'away', 'your', 'jet', 'lag', 'at', 'Sing', 'Sing', 'Theater,', 'the', 'current', 'reigning', 'nightclub', 'in', 'Sukhumvit,', 'with', 'a', 'noirish', 'retro-Chinese', 'décor', 'illuminated', 'by', 'swarms', 'of', 'red', 'lanterns', 'and', 'a', 'riot', 'of', 'professional', 'dancers', 'behind', 'screens', 'and', 'on', 'swings', 'that', 'give', 'the', 'place', 'the', 'feel', 'of', 'a', 'Baz', 'Luhrmann', 'film', 'set.', 'Settle', 'into', 'the', 'intimate', 'nooks', 'and', 'balconies', 'surrounding', 'the', 'stage', 'and', 'dance', 'floor', 'or', 'house', 'shuffle', 'with', 'a', 'cordial', 'mix', 'of', 'wealthy', 'locals', 'and', \"Bangkok's\", 'expat', 'community,', 'including,', 'at', 'the', 'moment,', 'quite', 'a', 'few', 'exiled', 'Russians.', 'Guest', 'D.J.s', 'and', 'live', 'bands', 'come', 'in', 'for', 'regular', 'parties', 'such', 'as', 'burlesque', 'or', 'Latin', 'nights.', 'Drinks', 'start', 'at', '180', 'THB.', 'In', 'the', '1990s,', 'Co', 'van', 'Kessel,', 'a', 'Dutch-born', 'resident', 'of', 'Bangkok', 'who', 'died', 'in', '2012,', 'pioneered', 'elaborate,', 'yet', 'surprisingly', 'easy', 'bicycle', 'tours', 'through', 'the', 'city', 'and', 'its', 'surrounding', 'farmland', 'that', 'used', 'canal', 'boats', 'to', 'move', 'between', 'town', 'and', 'country.', 'Today,', 'a', 'friendly', 'staff', 'of', 'young,', 'English-speaking', 'Thai', 'bike', 'enthusiasts', 'have', 'taken', 'up', 'his', 'mantle', 'from', 'a', 'well-marked', 'garage', 'and', 'office', 'next', 'to', 'the', 'River', 'City', 'shopping', 'complex', 'on', 'the', 'Chao', 'Phraya', 'River.', 'Much', 'of', 'the', 'clientele', 'is', 'still', 'Dutch,', 'and', \"it's\", 'a', 'mesmerizing', 'and', 'surprisingly', 'safe', 'trip', 'through', 'a', 'maze', 'of', 'alleyway', 'temples', 'and', 'canals', '(you', 'hop', 'into', 'the', 'boat', 'with', 'your', 'bike),', 'leading', 'to', 'paths', 'above', 'the', 'paddy', 'farms', 'upon', 'which', 'the', 'city', 'was', 'built,', 'one', 'of', 'which', 'provides', 'a', 'delicious', 'local', 'lunch.', 'A', 'five-hour', 'tour', 'is', '1,850', 'THB.', 'Visitors', 'usually', 'head', 'to', 'Wat', 'Pho', '(\"wat\"', 'means', '\"temple\"', 'in', 'many', 'parts', 'of', 'Southeast', 'Asia)', 'next', 'to', 'the', 'Grand', 'Palace', 'to', 'marvel', 'at', 'the', '151-foot', 'reclining', 'Buddha.', 'But', 'one', 'can', 'match', 'the', 'contentment', 'on', 'his', 'face', 'in', 'a', 'discreet', 'building', 'behind', 'the', 'temple', 'where', 'novices', 'master', 'the', 'art', 'of', 'Thai', 'massage,', 'one', 'of', 'the', 'ancient', 'medical', 'practices', 'to', 'which', 'the', 'wat', 'is', 'devoted.', 'The', 'massage', 'center,', 'Wat', 'Pho', 'Thai', 'Traditional', 'Medical', 'School,', 'is', 'across', 'from', 'the', 'main', 'temple', 'building', \"(there's\", 'usually', 'a', 'standing', 'yellow', 'sign', 'in', 'front).', 'Sample', 'their', 'craft', 'with', 'divine', 'foot', 'and', 'back', 'massages', 'starting', 'from', '280', 'THB', 'for', '30', 'minutes.', 'Vietnam', 'War-era', 'military', 'jackets?', 'Butterfly', 'collections?', 'Hand-carved,', 'Scandi-minimalist', 'cutlery?', \"They're\", 'all', 'found', 'in', 'the', 'potpourri', 'of', 'shops,', 'galleries', 'and', 'cafes', 'of', 'Warehouse', '30,', 'which', 'spans', 'seven', 'colorfully', 'renovated', 'warehouses', 'and', 'anchors', \"Bangkok's\", 'thriving', 'arts', 'district', 'surrounding', 'the', 'River', 'City', 'shopping', 'center.', 'Regenerate', 'from', 'all', 'that', 'biking', 'and', 'shopping', 'in', 'one', 'of', 'the', \"complex's\", 'most', 'popular', 'cafes,', 'Mother', 'Roaster,', 'run', 'by', 'the', 'septuagenarian', 'super-barista', 'Ploenpit', 'Rianmek,', 'affectionately', 'nicknamed', '\"Pa', 'Pim,\"', 'who', 'brews', 'some', 'of', 'the', 'best', 'java', 'in', 'town', '(from', '80', 'THB).', \"Bangkok's\", 'Chinatown', 'is', 'a', 'maze', 'of', 'perpetual', 'regeneration.', 'The', 'district,', 'long', 'hemmed', 'in', 'by', 'a', 'permanent', 'traffic', 'jam,', 'is', 'now', 'more', 'accessible', 'by', 'the', 'extension', 'of', 'the', 'subway', 'system', 'in', '2019.', 'Finding', 'Potong,', 'a', 'restaurant', 'in', 'a', 'former', 'pharmacy', 'in', 'an', 'alley', 'off', 'an', 'alley,', 'is', 'a', 'worthy', 'adventure.', 'The', 'chef', 'Pam', 'Soontornyanakij', 'is', 'the', 'fifth', 'generation', 'of', 'her', 'family', 'to', 'own', 'and', 'work', 'in', 'this', 'building,', 'having', 'made', 'a', 'detour', 'as', 'a', 'cook', 'in', 'Jean-Georges', \"Vongerichten's\", 'culinary', 'empire', 'in', 'New', 'York', 'before', 'returning', 'to', 'bring', 'Western', 'panache', 'to', 'Thai-Chinese', 'fusion.', 'The', 'result', 'is', 'dishes', 'like', 'a', 'traditional', 'corn', 'custard', 'that', 'she', 'serves', 'with', 'smoked', 'salt', 'and', 'on', 'brioche.', 'Her', 'efforts', 'were', 'rewarded', 'with', 'her', 'first', 'Michelin', 'star', 'in', 'November.', 'The', 'tasting', 'menu', 'is', '4,800', 'THB', 'per', 'person;', 'reserve', 'ahead.', 'Over', 'the', 'past', 'decade,', 'the', 'city', 'has', 'become', 'one', 'of', \"Asia's\", 'great', 'mixology', 'destinations.', 'The', 'best', 'of', 'the', 'blossoming', 'bar', 'scene', 'is', 'within', 'walking', 'distance', 'of', 'Potong,', 'and', 'includes', 'Teens', 'of', 'Thailand,', 'a', 'cozy', 'jewel-box', 'of', 'a', 'place', 'serving', 'up', 'gin', 'cocktails;', 'Tep', 'Bar', 'in', 'a', 'former', 'shop', 'that', 'specializes', 'in', 'a', 'herbal', 'liquor', 'called', 'ya', 'dong', 'and', 'uses', 'local', 'fruits', 'and', 'spices;', 'and', 'one', 'of', 'the', \"city's\", 'hottest', 'newcomers,', 'Tropic', 'City,', 'a', 'Thai', 'take', 'on', 'a', 'tiki', 'bar', 'featuring', 'a', 'dizzying', 'array', 'of', 'rum', 'cocktails.', 'Expect', 'to', 'pay', 'at', 'least', '300', 'THB', 'a', 'cocktail', 'at', 'these', 'bars.', 'The', 'Four', 'Seasons', 'complex,', 'which', 'opened', 'in', 'late', '2020,', 'has', 'revolutionized', 'the', 'dreary', 'stretch', 'of', 'river', 'south', 'of', 'the', 'Taksin', 'Bridge.', 'Escape', 'the', 'dense', 'urban', 'surroundings', 'to', 'airy', 'courtyards', 'surrounding', 'terraced', 'pools,', 'outdoor', 'art', 'installations', 'and', 'banyan', 'trees', 'descending', 'to', 'the', 'shore.', 'Head', 'from', 'the', 'lobby', 'to', 'the', 'waterfront', 'via', 'the', 'small', 'contemporary', 'museum,', 'Art', 'Space,', 'a', 'broad', 'whitewashed', 'studio', 'featuring', 'a', 'rotating', 'series', 'of', 'modern', 'art', 'installations', 'curated', 'by', 'Bangkok’s', 'Museum', 'of', 'Contemporary', 'Art.', 'The', 'museum', 'shop', 'features', 'funky', 'one-offs,', 'including', 'a', 'blow-up', '10-foot', 'worm', '(65,000', 'THB)', 'or', 'customized', 'graffiti', 'tote', 'bags', '(1,330', 'THB).', 'Exit', 'the', 'gallery', 'to', 'find', 'a', 'popular', 'French', 'bakery,', 'Cafe', 'Madeleine,', 'which', 'serves', 'excellent', 'croissants', '(95', 'THB)', 'and', 'coffee', 'on', 'the', 'wide', 'riverfront', 'terrace.', 'Cross', 'the', 'river', 'on', 'the', 'public', 'ferry', '(from', '13', 'THB)', 'to', 'Icon', 'Siam', 'mall.', 'Few', 'do', 'malls', 'better', 'than', 'the', 'Thais:', 'Imagine', 'the', 'spaceship', 'from', '“Close', 'Encounters', 'of', 'the', 'Third', 'Kind”', 'perched', 'on', 'the', 'shore', '(ignore', 'all', 'the', 'bland', 'Western', 'luxury', 'logos', 'dominating', 'the', 'facade)', 'and', 'step', 'into', 'the', 'light.', 'The', 'first', 'floor', 'has', 'arguably', 'the', 'world’s', 'best', 'food', 'court.', 'Thais', 'flock', 'to', 'the', 'locally', 'run', 'stalls', 'that', 'have', 'replaced', 'so', 'many', 'of', 'Bangkok’s', 'much-missed', 'street', 'vendors.', 'Many', 'stalls', 'don’t', 'have', 'names', 'and', 'just', 'have', 'one', 'specialty,', 'like', 'spicy', 'shrimp', 'soup', 'or', 'pad', 'thai,', 'often', 'made', 'by', 'that', 'vendor’s', 'family', 'for', 'generations.', 'You', 'can', 'easily', 'enjoy', 'a', 'multi-course', 'feast', 'for', 'less', 'than', '200', 'THB.', 'After', 'lunch,', 'visit', 'the', 'top', 'floor', 'balcony', 'to', 'discover', 'a', 'light-and-mirror', 'art', 'installation', 'called', '“Infinity', 'Forest,”', 'and', 'one', 'of', 'the', 'best', 'views', 'over', 'the', 'river.']\n"
     ]
    }
   ],
   "source": [
    "# REPLACE THIS WITH YOUR CODE\n",
    "\n",
    "word_list = article.split()\n",
    "print(word_list)"
   ]
  },
  {
   "cell_type": "markdown",
   "metadata": {},
   "source": [
    "#### Q12.2 Create a dictionary `word_count` by using a loop over `word_list`. "
   ]
  },
  {
   "cell_type": "code",
   "execution_count": null,
   "metadata": {},
   "outputs": [],
   "source": [
    "# REPLACE THIS WITH YOUR CODE\n",
    "word_count = {}\n",
    "\n",
    "for word in word_list:\n",
    "    if word in word_count:\n",
    "        word_count[word] += 1\n",
    "    else:\n",
    "        word_count[word] = 1"
   ]
  },
  {
   "cell_type": "markdown",
   "metadata": {},
   "source": [
    "### Q13:"
   ]
  },
  {
   "cell_type": "code",
   "execution_count": 7,
   "metadata": {},
   "outputs": [],
   "source": [
    "# A nested list of musicals\n",
    "musicals = {\n",
    "    \"Frozen\"  : { \"place\"    : \"St. James Theatre\",\n",
    "                  \"duration\"  : \"2 hours 15 mins\",\n",
    "                  \"opening\"   : 2018,\n",
    "                  \"closed\"    : 2020\n",
    "               },\n",
    "    \"Lion King\":{ \"place\"   : \"Minskoff Theatre\", \n",
    "                  \"duration\"  : \"2 hours 30 mins\",\n",
    "                  \"opening\"   : 1997,\n",
    "                  \"closed\"    : False\n",
    "               },\n",
    "    \"Wicked\" :  { \"place\"     : \"Gershwin Theatre\",\n",
    "                  \"duration\"  : \"2 hours 45 mins\",\n",
    "                  \"opening\"   : 2003,\n",
    "                  \"closed\"    : False\n",
    "               },\n",
    "    \"Chicago\" : { \"place\"    : \"Ambassador Theatre\",\n",
    "                  \"duration\"  : \"2 hours 30 mins\",\n",
    "                  \"opening\"   : 1996,\n",
    "                  \"closed\"    : False\n",
    "               },\n",
    "    \"Hamilton\": { \"place\"    : \"Richard Rodgers Theatre\",\n",
    "                  \"duration\"  : \"2 hours 55 mins\",\n",
    "                  \"opening\"   : 2015,\n",
    "                  \"closed\"    : False\n",
    "               }\n",
    "}"
   ]
  },
  {
   "cell_type": "markdown",
   "metadata": {},
   "source": [
    "#### Q13.1 Obtain the `type` of the `musicals`."
   ]
  },
  {
   "cell_type": "code",
   "execution_count": 8,
   "metadata": {},
   "outputs": [
    {
     "name": "stdout",
     "output_type": "stream",
     "text": [
      "<class 'dict'>\n"
     ]
    }
   ],
   "source": [
    "# REPLACE THIS WITH YOUR CODE\n",
    "print(type(musicals))"
   ]
  },
  {
   "cell_type": "markdown",
   "metadata": {},
   "source": [
    "#### Q13.2 Obtain the opening year of Hamilton from `musicals`."
   ]
  },
  {
   "cell_type": "code",
   "execution_count": null,
   "metadata": {},
   "outputs": [],
   "source": [
    "# REPLACE THIS WITH YOUR CODE\n",
    "hamilton_opening_year = musicals[\"Hamilton\"][\"opening\"]\n",
    "print(hamilton_opening_year)\n"
   ]
  },
  {
   "cell_type": "markdown",
   "metadata": {},
   "source": [
    "#### Q13.3. Using for loop, print the following\n",
    "\n",
    "```\n",
    "Frozen opened in 2018\n",
    "Lion King opened in 1997\n",
    "Wicked opened in 2003\n",
    "Chicago opened in 1996\n",
    "Hamilton opened in 2015\n",
    "```"
   ]
  },
  {
   "cell_type": "code",
   "execution_count": 9,
   "metadata": {},
   "outputs": [
    {
     "name": "stdout",
     "output_type": "stream",
     "text": [
      "Frozen opened in 2018\n",
      "Lion King opened in 1997\n",
      "Wicked opened in 2003\n",
      "Chicago opened in 1996\n",
      "Hamilton opened in 2015\n"
     ]
    }
   ],
   "source": [
    "# REPLACE THIS WITH YOUR CODE\n",
    "for musical, info in musicals.items():\n",
    "    print(f\"{musical} opened in {info['opening']}\")\n"
   ]
  },
  {
   "cell_type": "markdown",
   "metadata": {},
   "source": [
    "### Q14\n",
    "\n",
    "(adapted from Quiz 3)"
   ]
  },
  {
   "cell_type": "markdown",
   "metadata": {},
   "source": [
    "#### Q14.1 Explain every iteration of the following for loop (specify the current state of any changes of related variables). Additionally, what is the final value of `result`?\n"
   ]
  },
  {
   "cell_type": "code",
   "execution_count": null,
   "metadata": {},
   "outputs": [],
   "source": [
    "alphabets = \"abcdefghijklmnopqrstuvwxyz\"\n",
    "digits = \"0123456789\"\n",
    "def NYU_id_incorrect(astr):\n",
    "    flag_alphabet = False\n",
    "    for char in astr:\n",
    "        if not flag_alphabet and char in alphabets:\n",
    "            flag_alphabet = True\n",
    "        elif char in digits:\n",
    "            return True\n",
    "    return False\n",
    "\n",
    "result = NYU_id(\"jk190\")"
   ]
  },
  {
   "cell_type": "markdown",
   "metadata": {},
   "source": [
    "The for loop iterates over every character in the input string astr. Initially, the flag_alphabet variable is set to False. During the first iteration of the loop, it checks if the current character is a letter and if flag_alphabet is False. If both conditions are true, it sets flag_alphabet to True. If the current character is a digit, it returns True immediately. This is because a correct NYU ID should start with a letter and then be followed by only digits. If there is any digit before a letter, it is an incorrect ID.\n",
    "\n",
    "In the final line of code, the function NYU_id_incorrect is called with the input string \"jk190\". The output of this function call is stored in the variable result. The input string \"jk190\" starts with a letter, so the function will iterate over the rest of the characters. The third character is a digit, so the function will return True because there is a digit before a letter. Therefore, the final value of result is True."
   ]
  },
  {
   "cell_type": "markdown",
   "metadata": {},
   "source": [
    "#### Q14.2 Create a complete version of `NYU_id` function. this function returns `True` for a sequence such as `'jk190'` that has 2-4 alphabets and 2-6 digits.\n",
    "\n",
    "* The function should return `False` for invalid NetIDs, such as `'190jk'`, `'j190k'`.\n",
    "* You may (and probably) use a variable `flag_alphabet`."
   ]
  },
  {
   "cell_type": "code",
   "execution_count": 13,
   "metadata": {},
   "outputs": [
    {
     "name": "stdout",
     "output_type": "stream",
     "text": [
      "True\n",
      "False\n",
      "False\n"
     ]
    }
   ],
   "source": [
    "alphabets = \"abcdefghijklmnopqrstuvwxyz\"\n",
    "digits = \"0123456789\"\n",
    "\n",
    "# REPLACE THIS WITH YOUR CODE\n",
    "def NYU_id(sequence):\n",
    "    # check length of sequence\n",
    "    if len(sequence) < 4 or len(sequence) > 8:\n",
    "        return False\n",
    "    \n",
    "    # initialize flag for alphabet\n",
    "    flag_alphabet = False\n",
    "    \n",
    "    # check each character in sequence\n",
    "    for i in range(len(sequence)):\n",
    "        # check if character is a digit\n",
    "        if sequence[i] in digits:\n",
    "            # check if digit is in valid position\n",
    "            if i < 2 or i > 5:\n",
    "                return False\n",
    "        # check if character is an alphabet\n",
    "        elif sequence[i] in alphabets:\n",
    "            # check if alphabet is in valid position\n",
    "            if i < 0 or i > 3:\n",
    "                return False\n",
    "            # set flag for alphabet to True\n",
    "            flag_alphabet = True\n",
    "        # character is neither an alphabet nor a digit\n",
    "        else:\n",
    "            return False\n",
    "    \n",
    "    # return True only if there is at least one alphabet\n",
    "    return flag_alphabet\n",
    "\n",
    "\n",
    "result = NYU_id(\"jk190\")\n",
    "print(result)\n",
    "print(NYU_id('190jk'))\n",
    "print(NYU_id('j190k'))"
   ]
  },
  {
   "cell_type": "markdown",
   "metadata": {},
   "source": [
    "### Q15. \n",
    "\n",
    "Is the following argument true? \n",
    "\n",
    "```\n",
    "All `if` statements that do not include `else` or `elif` clauses can be replaced by an equivalent `while` loop.\n",
    "```\n",
    "\n",
    "Answer `True` or `False`, and explain your reasoning."
   ]
  },
  {
   "cell_type": "markdown",
   "metadata": {},
   "source": [
    "False.\n",
    "\n",
    "if statements and while loops are two different constructs in Python that serve different purposes. An if statement is used to execute a block of code conditionally based on the evaluation of a boolean expression. On the other hand, a while loop is used to repeat a block of code as long as a certain condition is true.\n",
    "\n",
    "While it's true that some if statements can be transformed into equivalent while loops, not all if statements can be replaced this way. It depends on the specific logic and requirements of the code being executed. Some if statements may not involve repetition and do not have a corresponding while loop equivalent."
   ]
  }
 ],
 "metadata": {
  "colab": {
   "collapsed_sections": [
    "wfg6XEUOsF5r",
    "Su0Y4YyJ3kgD",
    "yZBLvW863khg"
   ],
   "provenance": []
  },
  "kernelspec": {
   "display_name": "Python 3 (ipykernel)",
   "language": "python",
   "name": "python3"
  },
  "language_info": {
   "codemirror_mode": {
    "name": "ipython",
    "version": 3
   },
   "file_extension": ".py",
   "mimetype": "text/x-python",
   "name": "python",
   "nbconvert_exporter": "python",
   "pygments_lexer": "ipython3",
   "version": "3.10.6"
  }
 },
 "nbformat": 4,
 "nbformat_minor": 1
}
