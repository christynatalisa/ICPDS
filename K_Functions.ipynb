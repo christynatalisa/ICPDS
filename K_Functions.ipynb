{
 "cells": [
  {
   "cell_type": "markdown",
   "metadata": {
    "id": "dmEOqRhtzF3j"
   },
   "source": [
    "### Built-in functions\n",
    "\n",
    "Python provides a set of functions already built-in. You are already very familiar with one of them:"
   ]
  },
  {
   "cell_type": "code",
   "execution_count": 1,
   "metadata": {
    "id": "dwm4rUcmzF3v"
   },
   "outputs": [
    {
     "name": "stdout",
     "output_type": "stream",
     "text": [
      "Oh yeah, I am a function! I print things on the screen\n"
     ]
    }
   ],
   "source": [
    "# Here print is the function\n",
    "# Within parentheses we pass ONE parameter, the string with the message\n",
    "print(\"Oh yeah, I am a function! I print things on the screen\")"
   ]
  },
  {
   "cell_type": "code",
   "execution_count": null,
   "metadata": {
    "id": "6-dBpu1izF38"
   },
   "outputs": [],
   "source": [
    "# The print function can take more than one parameter\n",
    "# For example below we pass three strings as parameters\n",
    "name = \"Junpei\"\n",
    "print(\"Hi\", name, \"How are you\")"
   ]
  },
  {
   "cell_type": "markdown",
   "metadata": {
    "id": "dmXeBY39zF4E"
   },
   "source": [
    "- You have already encountered `len`, `sum`, `max`, and `min`."
   ]
  },
  {
   "cell_type": "code",
   "execution_count": 3,
   "metadata": {
    "id": "frwJaxQczF4G"
   },
   "outputs": [
    {
     "name": "stdout",
     "output_type": "stream",
     "text": [
      "Length: 6\n"
     ]
    }
   ],
   "source": [
    "nums = [3, 41, 12, 9, 74, 15]\n",
    "\n",
    "# len() takes as a parameter a string (and returns its length in characters)\n",
    "# or a list/set/dictionary/... (and returns the number of elements)\n",
    "print(\"Length:\", len(nums))"
   ]
  },
  {
   "cell_type": "code",
   "execution_count": 4,
   "metadata": {
    "id": "pfncYCdAzF4P"
   },
   "outputs": [
    {
     "name": "stdout",
     "output_type": "stream",
     "text": [
      "Max: 74\n",
      "Min: 3\n"
     ]
    }
   ],
   "source": [
    "# max() / min() takes as a parameter a *list* and returns \n",
    "# the maximum or minimum element\n",
    "print(\"Max:\", max(nums))\n",
    "print(\"Min:\", min(nums))"
   ]
  },
  {
   "cell_type": "code",
   "execution_count": null,
   "metadata": {
    "id": "yFPZfjIhzF4T"
   },
   "outputs": [],
   "source": [
    "# sum() gets as input a list of numbers and returns their sum\n",
    "print(\"Sum:\", sum(nums))"
   ]
  },
  {
   "cell_type": "markdown",
   "metadata": {
    "id": "9an7M-b2zF4Y"
   },
   "source": [
    "- We have also used various type conversion functions, such as `set`, `list`,  and `tuple`. We can also do type conversions with  `int`, `float`, and `str`:"
   ]
  },
  {
   "cell_type": "code",
   "execution_count": 5,
   "metadata": {
    "id": "sCecDhs9zF4c"
   },
   "outputs": [
    {
     "data": {
      "text/plain": [
       "3"
      ]
     },
     "execution_count": 5,
     "metadata": {},
     "output_type": "execute_result"
    }
   ],
   "source": [
    "# Convert to integer\n",
    "int(3.7)"
   ]
  },
  {
   "cell_type": "code",
   "execution_count": 6,
   "metadata": {
    "id": "StAgHp0yzF4j"
   },
   "outputs": [
    {
     "data": {
      "text/plain": [
       "6.8"
      ]
     },
     "execution_count": 6,
     "metadata": {},
     "output_type": "execute_result"
    }
   ],
   "source": [
    "# Convert to float\n",
    "float('6.8')"
   ]
  },
  {
   "cell_type": "code",
   "execution_count": 7,
   "metadata": {
    "id": "uolujX5UzF4m"
   },
   "outputs": [
    {
     "data": {
      "text/plain": [
       "'233'"
      ]
     },
     "execution_count": 7,
     "metadata": {},
     "output_type": "execute_result"
    }
   ],
   "source": [
    "# Convert to string \n",
    "str(233)"
   ]
  },
  {
   "cell_type": "markdown",
   "metadata": {
    "id": "BxKZhWwyzF4w"
   },
   "source": [
    "- And, we used  `type` to find out the type of a given variable. "
   ]
  },
  {
   "cell_type": "code",
   "execution_count": 8,
   "metadata": {
    "id": "qgxMAE93zF4x"
   },
   "outputs": [
    {
     "data": {
      "text/plain": [
       "float"
      ]
     },
     "execution_count": 8,
     "metadata": {},
     "output_type": "execute_result"
    }
   ],
   "source": [
    "# Type for a float\n",
    "x = 1.99\n",
    "type(x)"
   ]
  },
  {
   "cell_type": "code",
   "execution_count": 9,
   "metadata": {
    "id": "HSTL6roSzF5C"
   },
   "outputs": [
    {
     "data": {
      "text/plain": [
       "int"
      ]
     },
     "execution_count": 9,
     "metadata": {},
     "output_type": "execute_result"
    }
   ],
   "source": [
    "# Type for an element of a list\n",
    "type(nums[1])"
   ]
  },
  {
   "cell_type": "markdown",
   "metadata": {
    "id": "0wrWGQ6wzF5I"
   },
   "source": [
    "- In a variety of contexts, we also used the  `range` and `sorted` functions. "
   ]
  },
  {
   "cell_type": "code",
   "execution_count": 10,
   "metadata": {
    "id": "GomzG2SizF5K"
   },
   "outputs": [
    {
     "data": {
      "text/plain": [
       "[-10, -8, -6, -4, -2, 0, 2, 4, 6, 8]"
      ]
     },
     "execution_count": 10,
     "metadata": {},
     "output_type": "execute_result"
    }
   ],
   "source": [
    "list(range(-10,10,2))"
   ]
  },
  {
   "cell_type": "code",
   "execution_count": 11,
   "metadata": {
    "id": "MKjlEUJ9zF5T"
   },
   "outputs": [
    {
     "data": {
      "text/plain": [
       "[3, 5, 9, 12, 23, 77]"
      ]
     },
     "execution_count": 11,
     "metadata": {},
     "output_type": "execute_result"
    }
   ],
   "source": [
    "# sorted() has a list as input and returns the list with the elements sorted\n",
    "sorted([5,23,3,77,9,12])"
   ]
  },
  {
   "cell_type": "markdown",
   "metadata": {
    "id": "VdhmuqNuzF5W"
   },
   "source": [
    "- You may also have seen the `round` function:"
   ]
  },
  {
   "cell_type": "code",
   "execution_count": 12,
   "metadata": {
    "id": "L9RYyCzrzF5X"
   },
   "outputs": [
    {
     "data": {
      "text/plain": [
       "3.14"
      ]
     },
     "execution_count": 12,
     "metadata": {},
     "output_type": "execute_result"
    }
   ],
   "source": [
    "round(3.14159, 2) "
   ]
  },
  {
   "cell_type": "markdown",
   "metadata": {
    "id": "9OerLESKzF5a"
   },
   "source": [
    "The list at https://docs.python.org/3/library/functions.html contains all the built-in functions of Python.    \n",
    "**As a general rule of thumb, avoid using these bult-in function names as variable names.**"
   ]
  },
  {
   "cell_type": "markdown",
   "metadata": {
    "id": "Pqu3RVw0zF5b"
   },
   "source": [
    "### Functions from Libraries\n",
    "\n",
    "We can also add more functions by `import`-ing libraries. For example, we can import the `math` library. "
   ]
  },
  {
   "cell_type": "code",
   "execution_count": 13,
   "metadata": {
    "id": "ML88bmaazF5h"
   },
   "outputs": [],
   "source": [
    "import math"
   ]
  },
  {
   "cell_type": "code",
   "execution_count": 14,
   "metadata": {
    "id": "SFdTh8otzF5m"
   },
   "outputs": [
    {
     "data": {
      "text/plain": [
       "2345.0"
      ]
     },
     "execution_count": 14,
     "metadata": {},
     "output_type": "execute_result"
    }
   ],
   "source": [
    "# math.fabs returns the absolute value\n",
    "math.fabs(-2345)"
   ]
  },
  {
   "cell_type": "code",
   "execution_count": 15,
   "metadata": {
    "id": "aLM_YU2YzF5p"
   },
   "outputs": [
    {
     "data": {
      "text/plain": [
       "120"
      ]
     },
     "execution_count": 15,
     "metadata": {},
     "output_type": "execute_result"
    }
   ],
   "source": [
    "# math.fabs takes the factorial\n",
    "math.factorial(5)"
   ]
  },
  {
   "cell_type": "code",
   "execution_count": 16,
   "metadata": {
    "id": "ex74Yg0YzF5y"
   },
   "outputs": [
    {
     "data": {
      "text/plain": [
       "True"
      ]
     },
     "execution_count": 16,
     "metadata": {},
     "output_type": "execute_result"
    }
   ],
   "source": [
    "math.factorial(5)  ==  5*4*3*2*1"
   ]
  },
  {
   "cell_type": "markdown",
   "metadata": {
    "id": "I6aXo3cqzF52"
   },
   "source": [
    "Another commonly used library is the `random` library that returns random numbers."
   ]
  },
  {
   "cell_type": "code",
   "execution_count": 18,
   "metadata": {
    "id": "OBes6-oAzF53"
   },
   "outputs": [],
   "source": [
    "import random"
   ]
  },
  {
   "cell_type": "code",
   "execution_count": 17,
   "metadata": {
    "id": "-6_ypoybzF56",
    "scrolled": true
   },
   "outputs": [
    {
     "ename": "NameError",
     "evalue": "name 'random' is not defined",
     "output_type": "error",
     "traceback": [
      "\u001b[0;31m---------------------------------------------------------------------------\u001b[0m",
      "\u001b[0;31mNameError\u001b[0m                                 Traceback (most recent call last)",
      "Cell \u001b[0;32mIn[17], line 3\u001b[0m\n\u001b[1;32m      1\u001b[0m \u001b[39m# random.random() returns random values from 0 to 1\u001b[39;00m\n\u001b[1;32m      2\u001b[0m \u001b[39mfor\u001b[39;00m i \u001b[39min\u001b[39;00m \u001b[39mrange\u001b[39m(\u001b[39m10\u001b[39m):\n\u001b[0;32m----> 3\u001b[0m     \u001b[39mprint\u001b[39m(\u001b[39mround\u001b[39m(random\u001b[39m.\u001b[39mrandom(), \u001b[39m3\u001b[39m))\n",
      "\u001b[0;31mNameError\u001b[0m: name 'random' is not defined"
     ]
    }
   ],
   "source": [
    "# random.random() returns random values from 0 to 1\n",
    "for i in range(10):\n",
    "    print(round(random.random(), 3))"
   ]
  },
  {
   "cell_type": "code",
   "execution_count": null,
   "metadata": {
    "id": "YUWB8eChzF6C"
   },
   "outputs": [],
   "source": [
    "#random.choice() can be used to select items from a list\n",
    "for i in range(5):\n",
    "    print(random.choice(['a','b','c','d']))"
   ]
  },
  {
   "cell_type": "markdown",
   "metadata": {
    "id": "91n37YBVzF6G"
   },
   "source": [
    "And, you have seen the `time` package"
   ]
  },
  {
   "cell_type": "code",
   "execution_count": null,
   "metadata": {
    "id": "-xo8Fgt0zF6H"
   },
   "outputs": [],
   "source": [
    "import time\n",
    "time.sleep(2)\n",
    "print(\"I waited 2 secs.\")"
   ]
  },
  {
   "cell_type": "markdown",
   "metadata": {
    "id": "mY_SokBFzF6M"
   },
   "source": [
    "### User Defined Functions\n",
    "\n",
    "\n",
    "** See also Examples 18, 19, 20, and 21 from Learn Python the Hard Way **\n",
    "\n",
    "Functions assign a name to a block of code the way that variables assign names to bits of data. This seemingly benign naming of things is incredibly powerful; allowing one to reuse common functionality over and over. Well-tested functions form building blocks for large, complex systems. As you progress through Python, you'll find yourself using powerful functions defined in some of Python's vast libraries of code. \n",
    "\n"
   ]
  },
  {
   "cell_type": "markdown",
   "metadata": {
    "id": "qFXpNiGGzF6S"
   },
   "source": [
    "Function definitions begin with the `def` keyword, followed by the name you wish to assign to a function. Following this name are parentheses, `( )`, containing zero or more variable names, those values that are passed into the function. There is then a colon, followed by a code block defining the actions of the function:\n",
    "\n",
    "    def function_name(function_input)\n",
    "        ... function actions ..."
   ]
  },
  {
   "cell_type": "markdown",
   "metadata": {
    "id": "p0CVBP4pzF6V"
   },
   "source": [
    "#### Printing \"Hi\"\n",
    "\n",
    "Let's start by looking at a function that performs a set of steps."
   ]
  },
  {
   "cell_type": "code",
   "execution_count": 2,
   "metadata": {
    "id": "jyKlR803zF6X"
   },
   "outputs": [],
   "source": [
    "def print_hello():\n",
    "    print(\"Hello!\")\n",
    "    "
   ]
  },
  {
   "cell_type": "code",
   "execution_count": 3,
   "metadata": {
    "id": "ub7wHmMazF6b"
   },
   "outputs": [
    {
     "name": "stdout",
     "output_type": "stream",
     "text": [
      "Hello!\n",
      "Hello!\n",
      "Hello!\n",
      "Hello!\n",
      "Hello!\n",
      "Hello!\n",
      "Hello!\n",
      "Hello!\n",
      "Hello!\n",
      "Hello!\n"
     ]
    }
   ],
   "source": [
    "for i in range(10):\n",
    "  print_hello()"
   ]
  },
  {
   "cell_type": "markdown",
   "metadata": {
    "id": "TsmyyFfLzF6m"
   },
   "source": [
    "* Of course, most functions have also one or more _parameters_. For example, the function below will accept the name as a parameter, and then print out the message \"HI _name_\", where _name_ is the value of the parameter that we pass to the function. The function will also convert the _name_ into uppercase:"
   ]
  },
  {
   "cell_type": "code",
   "execution_count": null,
   "metadata": {
    "id": "zlyvSjj-zF6o"
   },
   "outputs": [],
   "source": [
    "def hi_you(name):\n",
    "    '''\n",
    "    This function takes as input/parameter the variable name\n",
    "    And then prints in the screen the message \n",
    "    HI <NAME>! \n",
    "    where <NAME> is the content of the name variable converted to uppercase\n",
    "    '''\n",
    "    print(\"Hi\", name.upper())"
   ]
  },
  {
   "cell_type": "code",
   "execution_count": null,
   "metadata": {
    "id": "8onQCl_hzF65"
   },
   "outputs": [],
   "source": [
    "names = ['Elsa', 'Anna', 'Olaf', 'Kristoff']\n",
    "for n in names:\n",
    "    hi_you(n)"
   ]
  },
  {
   "cell_type": "markdown",
   "metadata": {
    "id": "blY_oDgJBfjy"
   },
   "source": [
    "### Exercises\n"
   ]
  },
  {
   "cell_type": "markdown",
   "metadata": {
    "id": "HnUv-1MJzF7B"
   },
   "source": [
    "* Let's modify the `hi_you` to take as input a *list* of names and print out all of them "
   ]
  },
  {
   "cell_type": "code",
   "execution_count": null,
   "metadata": {
    "id": "tpEVO6qOzF7E"
   },
   "outputs": [],
   "source": [
    "def hi_you_all(list_of_names):\n",
    "    '''\n",
    "    This function takes as input/parameter list_of_names\n",
    "    And then prints in the screen the message \n",
    "    HI <NAME>! \n",
    "    for all the names in the list_of_names.\n",
    "    \n",
    "    The paramater 'names' is a list of strings, with every string\n",
    "    being a name that we want to print out\n",
    "    '''\n",
    "\n",
    "    YOUR_CODE_HERE. # Say \"Hi {name}\" to all the people in list_of_names"
   ]
  },
  {
   "cell_type": "code",
   "execution_count": null,
   "metadata": {
    "id": "fE9uUA4HzF7H"
   },
   "outputs": [],
   "source": [
    "names = ['Elsa', 'Anna', 'Olaf', 'Kristoff']\n",
    "hi_you_all(names)"
   ]
  },
  {
   "cell_type": "markdown",
   "metadata": {
    "id": "Hnx_8cAoBM9y"
   },
   "source": [
    "* (if you have time) Write a function that generates a random password with `n` letters. The value `n` should be a parameter.\n",
    "\n",
    "\n",
    "\n",
    "\n"
   ]
  },
  {
   "cell_type": "code",
   "execution_count": null,
   "metadata": {
    "id": "MyygSUuRzF9D"
   },
   "outputs": [],
   "source": [
    "# This code prints all the letters in the alphabet\n",
    "import string\n",
    "string.ascii_letters"
   ]
  },
  {
   "cell_type": "code",
   "execution_count": null,
   "metadata": {
    "id": "3Msxycl6BSK9"
   },
   "outputs": [],
   "source": [
    "# This code generates one random letter\n",
    "import random\n",
    "random.choice(string.ascii_letters)\n",
    "\n",
    "# Your function `random_password`(n) here.\n",
    "# random_password, upon a call, generate and print n random letters."
   ]
  },
  {
   "cell_type": "markdown",
   "metadata": {
    "id": "f1_AEQ2izF7L"
   },
   "source": [
    "#### The `return` statement \n",
    "\n",
    "Example of computing a math function"
   ]
  },
  {
   "cell_type": "code",
   "execution_count": null,
   "metadata": {
    "id": "0R4wDmh0zF7N"
   },
   "outputs": [],
   "source": [
    "# The functions are often designed to **return** the\n",
    "# result of a computation/operation\n",
    "def mysquare(num):\n",
    "  return num * num\n"
   ]
  },
  {
   "cell_type": "code",
   "execution_count": null,
   "metadata": {
    "id": "K63Ssg0szF7n"
   },
   "outputs": [],
   "source": [
    "x = mysquare(3) # notice that square RETURNS a value that \n",
    "              # we store in variable x \n",
    "              # this is in contrast to hi_you and hi_you_all\n",
    "              # that just printed out messages on the screen\n",
    "print(x)"
   ]
  },
  {
   "cell_type": "code",
   "execution_count": null,
   "metadata": {
    "id": "B-ioKLx2zF7u"
   },
   "outputs": [],
   "source": [
    "for i in range(15):\n",
    "    print(f\"The square of {i} is {my_square(i)}\")"
   ]
  },
  {
   "cell_type": "markdown",
   "metadata": {
    "id": "EO5aJXKqzF74"
   },
   "source": [
    "Note that the function `my_square` has a special keyword `return`. The argument to return is passed to whatever piece of code is calling the function. In this case, the square of the number that was input. "
   ]
  },
  {
   "cell_type": "markdown",
   "metadata": {
    "id": "tFngsLOfAagj"
   },
   "source": [
    "### Exercises\n"
   ]
  },
  {
   "cell_type": "markdown",
   "metadata": {
    "id": "iXV2hDtbzF9y"
   },
   "source": [
    "- Write a function to test whether two strings are equal, ignoring capitalization."
   ]
  },
  {
   "cell_type": "code",
   "execution_count": null,
   "metadata": {
    "id": "9hRb14n7zF90"
   },
   "outputs": [],
   "source": [
    "# Your function `string_equal` here\n",
    "\n",
    "print(string_equal(\"James\", \"jaMES\"))   # True\n",
    "print(string_equal(\"James\", \"Joseph\"))  # False"
   ]
  },
  {
   "cell_type": "markdown",
   "metadata": {
    "id": "UYlJK7QxzF76"
   },
   "source": [
    "#### Solving the quadratic equation (we will skip this: read by yourself!)\n",
    "\n",
    "Here is another example of a function, for solving the quadratic equation \n",
    "$$ a*x^2 + b*x + c = 0$$\n",
    "Recall that the quadratic formula is:\n",
    "$$ x = \\frac{-b \\pm \\sqrt{b^2 - 4ac}}{2a}$$"
   ]
  },
  {
   "cell_type": "code",
   "execution_count": 4,
   "metadata": {
    "id": "JCwlEVHMzF76"
   },
   "outputs": [],
   "source": [
    "import math\n",
    "\n",
    "a = 4\n",
    "b = -32\n",
    "c = 1"
   ]
  },
  {
   "cell_type": "code",
   "execution_count": 5,
   "metadata": {
    "id": "S8yMbKHQzF79"
   },
   "outputs": [
    {
     "name": "stdout",
     "output_type": "stream",
     "text": [
      "Solution 1: 7.969\n",
      "Solution 2: 0.031\n"
     ]
    }
   ],
   "source": [
    "# We want to solve the quadratic equation a*x^2 + b*x + c = 0 \n",
    "\n",
    "# We have two solutions:\n",
    "s1 = (-b + math.sqrt(b**2 - 4*a*c) )  / (2*a)       \n",
    "s2 = (-b - math.sqrt(b**2 - 4*a*c) )  / (2*a)       \n",
    "\n",
    "print(f\"Solution 1: {s1:.3f}\")\n",
    "print(f\"Solution 2: {s2:.3f}\")"
   ]
  },
  {
   "cell_type": "markdown",
   "metadata": {
    "id": "DjTy_bNwzF8A"
   },
   "source": [
    "Let's see an example of how a function can return \"multivalued\" results using tuples/lists."
   ]
  },
  {
   "cell_type": "code",
   "execution_count": 6,
   "metadata": {
    "id": "4zJJiNsrzF8B"
   },
   "outputs": [],
   "source": [
    "def quadratic(a,b,c) :       # Function takes a,b,c as input\n",
    "\n",
    "    s1 = (-b + math.sqrt(b**2 - 4*a*c))/(2*a)   \n",
    "    s2 = (-b - math.sqrt(b**2 - 4*a*c))/(2*a)   \n",
    "    \n",
    "    return s1, s2   # Note that we can return multiple things\n",
    "                    # The \"return\" value does not have to be a single value\n",
    "                    # A function can even return a list, tuple, dictionary, etc."
   ]
  },
  {
   "cell_type": "code",
   "execution_count": 7,
   "metadata": {
    "id": "tZvdNOtuzF8O"
   },
   "outputs": [
    {
     "name": "stdout",
     "output_type": "stream",
     "text": [
      "Solutions: (7.9686269665968865, 0.031373033403113926)\n",
      "Solutions: 7.9686269665968865\n",
      "Solutions: 0.031373033403113926\n"
     ]
    }
   ],
   "source": [
    "# Observe that the function returns a tuple with s1 and s2\n",
    "sol = quadratic(a,b,c)\n",
    "\n",
    "print(\"Solutions:\", sol )\n",
    "print(\"Solutions:\", sol[0] )\n",
    "print(\"Solutions:\", sol[1] )"
   ]
  },
  {
   "cell_type": "code",
   "execution_count": null,
   "metadata": {
    "id": "-O5jtgj2zF8X"
   },
   "outputs": [],
   "source": [
    "# If we want, we can even assign a value to each item returned, like so:\n",
    "sol1, sol2 = quadratic(a,b,c)\n",
    "\n",
    "print(\"Solutions:\", sol1 )\n",
    "print(\"Solutions:\", sol2 )"
   ]
  },
  {
   "cell_type": "code",
   "execution_count": null,
   "metadata": {
    "id": "PxKgBOmuzF8b"
   },
   "outputs": [],
   "source": [
    "# We can even check that the value of the discriminant\n",
    "# is positive before returning a result\n",
    "\n",
    "def quadratic(a,b,c):\n",
    "    \n",
    "    discr = b**2 - 4*a*c\n",
    "    if discr < 0:          #  We will not compute \n",
    "        return None        # \"None\" is a special value, meaning \"nothing\"\n",
    "    \n",
    "    s1 = (-b + math.sqrt(b**2 - 4*a*c))/(2*a)   \n",
    "    s2 = (-b - math.sqrt(b**2 - 4*a*c))/(2*a)   \n",
    "    \n",
    "    return s1, s2  "
   ]
  },
  {
   "cell_type": "code",
   "execution_count": null,
   "metadata": {
    "id": "kjlUpa-kzF8d"
   },
   "outputs": [],
   "source": [
    "quadratic(6,1,9)"
   ]
  },
  {
   "cell_type": "code",
   "execution_count": null,
   "metadata": {
    "id": "bpBY0TIYzF8i"
   },
   "outputs": [],
   "source": [
    "quadratic(6,27,9)"
   ]
  },
  {
   "cell_type": "code",
   "execution_count": null,
   "metadata": {
    "id": "TmiOecQtzF80"
   },
   "outputs": [],
   "source": [
    "## A COMMON MISTAKE:\n",
    "# Using multiple return statements\n",
    "# Why? After we execute the first return, \n",
    "# we do not execute anything below that\n",
    "\n",
    "def quadratic_s1_only(a, b, c):\n",
    "    discr = b**2 - 4*a*c\n",
    "    if discr < 0:          #  We will not compute \n",
    "        return None        # \"None\" is a special value, meaning \"nothing\"\n",
    "    \n",
    "    \n",
    "    s1 = (-b + math.sqrt(b**2 - 4*a*c))/(2*a)   \n",
    "    s2 = (-b - math.sqrt(b**2 - 4*a*c))/(2*a)   \n",
    "    \n",
    "    return s1 # solution 1 \n",
    "    return s2 # solution 2, BUT this will never be executed"
   ]
  },
  {
   "cell_type": "code",
   "execution_count": null,
   "metadata": {
    "id": "39Rb1lkezF8-"
   },
   "outputs": [],
   "source": [
    "quadratic_s1_only(a, b, c)"
   ]
  },
  {
   "cell_type": "markdown",
   "metadata": {
    "id": "nLdvNgLVzF9C"
   },
   "source": [
    "#### Example function: Cleaning up a string\n",
    "We can use the `string` library to get a list of all letters by typing `string.ascii_letters`."
   ]
  },
  {
   "cell_type": "code",
   "execution_count": null,
   "metadata": {
    "id": "Q1evjBvLzF9P"
   },
   "outputs": [],
   "source": [
    "# this function takes as input a phone string variable\n",
    "# and removes anything that is not a letter or space\n",
    "\n",
    "def clean(text):\n",
    "    result   = \"\"\n",
    "    letters  = string.ascii_letters + \" \"\n",
    "    for c in text:  \n",
    "        if c in letters:\n",
    "            result = result + c\n",
    "    return result        "
   ]
  },
  {
   "cell_type": "code",
   "execution_count": null,
   "metadata": {
    "id": "TP_YFouEzF9c"
   },
   "outputs": [],
   "source": [
    "p = \"The Washington Post has 17.7m Followers and 1688 Following\"\n",
    "print(clean(p))"
   ]
  },
  {
   "cell_type": "markdown",
   "metadata": {
    "id": "iAGPsmyVzF9g"
   },
   "source": [
    "#### Exercises\n",
    "\n",
    "* Write a function `in_range` that checks if a number `n` is within a given range `(a,b)` and **returns True or False**. The function takes n, a, and b as parameters.\n",
    "\n"
   ]
  },
  {
   "cell_type": "code",
   "execution_count": 19,
   "metadata": {
    "id": "eYmslTGdzF9h"
   },
   "outputs": [
    {
     "ename": "SyntaxError",
     "evalue": "invalid syntax (3575933309.py, line 3)",
     "output_type": "error",
     "traceback": [
      "\u001b[0;36m  Cell \u001b[0;32mIn[19], line 3\u001b[0;36m\u001b[0m\n\u001b[0;31m    YOUR CODE HERE\u001b[0m\n\u001b[0m         ^\u001b[0m\n\u001b[0;31mSyntaxError\u001b[0m\u001b[0;31m:\u001b[0m invalid syntax\n"
     ]
    }
   ],
   "source": [
    "# Your function here\n",
    "def in_range(n, a, b):\n",
    "  YOUR CODE HERE\n",
    "\n",
    "print(in_range(5, 0, 10)) # 5 is between 0 and 10 -> True\n",
    "print(in_range(3, 5, 10)) # 3 is NOT between 5 and 10 -> False"
   ]
  },
  {
   "cell_type": "markdown",
   "metadata": {
    "id": "2hmq-8cFdYpZ"
   },
   "source": [
    "* Write a `dedupe` function that takes as input a list and returns back another list, with only unique elements and sorted. For example, if the input is `[1,2,5,5,5,3,3,3,3,4,5]` the returned list should be `[1, 2, 3, 4, 5]`. If the input is `['New York', 'New York',  'Paris', 'London', 'Paris']` the returned list should be `['London', 'New York', 'Paris']`."
   ]
  },
  {
   "cell_type": "code",
   "execution_count": null,
   "metadata": {
    "id": "zKBfhofmzF9q"
   },
   "outputs": [],
   "source": [
    "list1 = [1,2,5,5,5,3,3,3,3,4,5]\n",
    "list2 = ['New York', 'New York', 'Paris', 'London', 'Paris']\n",
    "\n",
    "# Your function `dedupe` here\n",
    "def dedupe(input_list):\n",
    "  # Hint: Convert the list into a set to make each element unique, and use `sorted` to make it sorted. \n",
    "  # then return the result\n",
    "  YOUR CODE HERE\n",
    "\n",
    "print(dedupe(list1))"
   ]
  }
 ],
 "metadata": {
  "colab": {
   "collapsed_sections": [
    "UYlJK7QxzF76"
   ],
   "provenance": []
  },
  "kernelspec": {
   "display_name": "Python 3",
   "language": "python",
   "name": "python3"
  },
  "language_info": {
   "codemirror_mode": {
    "name": "ipython",
    "version": 3
   },
   "file_extension": ".py",
   "mimetype": "text/x-python",
   "name": "python",
   "nbconvert_exporter": "python",
   "pygments_lexer": "ipython3",
   "version": "3.9.0"
  },
  "latex_envs": {
   "LaTeX_envs_menu_present": true,
   "autoclose": false,
   "autocomplete": true,
   "bibliofile": "biblio.bib",
   "cite_by": "apalike",
   "current_citInitial": 1,
   "eqLabelWithNumbers": true,
   "eqNumInitial": 1,
   "hotkeys": {
    "equation": "Ctrl-E",
    "itemize": "Ctrl-I"
   },
   "labels_anchors": false,
   "latex_user_defs": false,
   "report_style_numbering": false,
   "user_envs_cfg": false
  },
  "toc": {
   "base_numbering": 1,
   "nav_menu": {},
   "number_sections": false,
   "sideBar": true,
   "skip_h1_title": false,
   "title_cell": "Table of Contents",
   "title_sidebar": "Contents",
   "toc_cell": false,
   "toc_position": {},
   "toc_section_display": true,
   "toc_window_display": true
  },
  "vscode": {
   "interpreter": {
    "hash": "aee8b7b246df8f9039afb4144a1f6fd8d2ca17a180786b69acc140d282b71a49"
   }
  }
 },
 "nbformat": 4,
 "nbformat_minor": 1
}
