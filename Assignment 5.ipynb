{
 "cells": [
  {
   "cell_type": "markdown",
   "metadata": {
    "id": "DQceOMwq3kfD"
   },
   "source": [
    "# Assignment 5\n",
    "\n",
    "Due Mar 6 (Mon). Materials up to session 11 are covered."
   ]
  },
  {
   "cell_type": "markdown",
   "metadata": {},
   "source": [
    "### Q1. Explain the notion of a `definite` loop\n",
    "\n",
    "(see py4e video)"
   ]
  },
  {
   "attachments": {},
   "cell_type": "markdown",
   "metadata": {},
   "source": [
    "YOUR EXPLANATION HERE\n",
    "A definite loop is an interative loop that will continue back to the first line of the loop until the condition is met and the hits a trigger that stops the loop"
   ]
  },
  {
   "cell_type": "markdown",
   "metadata": {},
   "source": [
    "### Q2. Create an infinite `while` loop\n",
    "\n",
    "Optionally, if you have time, create an infinite `for` loop"
   ]
  },
  {
   "cell_type": "code",
   "execution_count": null,
   "metadata": {},
   "outputs": [],
   "source": [
    "# REPLACE THIS WITH YOUR CODE\n"
   ]
  },
  {
   "cell_type": "markdown",
   "metadata": {},
   "source": [
    "### Q3. The following function does not work. Explain why it is wrong and fix it."
   ]
  },
  {
   "cell_type": "code",
   "execution_count": null,
   "metadata": {},
   "outputs": [],
   "source": [
    "# my_add is a function that takes two inputs and returns the sum of them.\n",
    "def my_add(a, b)\n",
    "  a+b"
   ]
  },
  {
   "attachments": {},
   "cell_type": "markdown",
   "metadata": {},
   "source": [
    "YOUR EXPLANATION HERE\n",
    "It contains syntax error, need to add ':' to define function"
   ]
  },
  {
   "cell_type": "code",
   "execution_count": null,
   "metadata": {},
   "outputs": [],
   "source": [
    "# REPLACE THIS WITH YOUR CODE"
   ]
  },
  {
   "cell_type": "markdown",
   "metadata": {},
   "source": [
    "### Q4. \n",
    "\n",
    "Define a function `pizza`. The `pizza` function takes a string as input, and return a string that add \" pizza\" on the tail of it. For example, `pizza(\"Pineapple\")` should return \"Pineapple pizza\". Use `def` keyword to define a function.\n"
   ]
  },
  {
   "cell_type": "code",
   "execution_count": null,
   "metadata": {},
   "outputs": [],
   "source": [
    "# REPLACE THIS WITH YOUR CODE"
   ]
  },
  {
   "cell_type": "code",
   "execution_count": null,
   "metadata": {},
   "outputs": [],
   "source": [
    "print(pizza(\"Pineapple\")) # \"Pineapple pizza\"\n",
    "print(pizza(\"Mushroom\")) # \"Mushroom pizza\"\n",
    "print(pizza(\"Margherita\")) # \"Margherita pizza\""
   ]
  },
  {
   "cell_type": "markdown",
   "metadata": {},
   "source": [
    "### Q5.\n",
    "\n",
    "Define a function `my_len`. The `my_len` function takes a list as input, and return the number of elements in the list. For example, `my_len([\"Pineapple\", \"Mushroom\", \"Margherita\"])` should return `3`. Use `def` keyword to define a function. Use `for` or `while` loop to answer. Do *NOT* use `len`."
   ]
  },
  {
   "cell_type": "code",
   "execution_count": null,
   "metadata": {},
   "outputs": [],
   "source": [
    "# REPLACE THIS WITH YOUR CODE"
   ]
  },
  {
   "cell_type": "code",
   "execution_count": null,
   "metadata": {},
   "outputs": [],
   "source": [
    "print(my_len([\"Pineapple\", \"Mushroom\", \"Margherita\"])) #3\n",
    "print(my_len([])) #0\n",
    "my_str = \"While some of New York’s most celebrated kitchens are dormant,\"\\\n",
    "        \" Winner, a takeout-only cafe in Brooklyn, has flourished.\".split(\" \")\n",
    "print(my_len(my_str)) #18"
   ]
  },
  {
   "cell_type": "markdown",
   "metadata": {},
   "source": [
    "### Q6. Saturday night fever\n",
    "\n",
    "March 1 2021 is Monday. Print the each day of a list of $[1,...,31]$ by using `for` or `while` statement. If the day in this month is Saturday, print \"Dancing!\" instead of printing the day. \n",
    "\n",
    "Hint: Use `for` or `while` loop to iterate over the `days`, and if-else condition to check the reminder.\n",
    "\n",
    "C.f. https://www.youtube.com/watch?v=i5tBXe0kSLA"
   ]
  },
  {
   "cell_type": "code",
   "execution_count": null,
   "metadata": {},
   "outputs": [],
   "source": [
    "days = list(range(1,32)) #list of [1,2,...,31]"
   ]
  },
  {
   "cell_type": "code",
   "execution_count": null,
   "metadata": {},
   "outputs": [],
   "source": [
    "# REPLACE THIS WITH YOUR CODE"
   ]
  },
  {
   "cell_type": "markdown",
   "metadata": {},
   "source": [
    "The expected solution is like\n",
    "\n",
    "```\n",
    "1\n",
    "2\n",
    "3\n",
    "4\n",
    "5\n",
    "Dancing!\n",
    "7\n",
    "8\n",
    "9\n",
    "10\n",
    "11\n",
    "12\n",
    "Dancing!\n",
    "14\n",
    "15\n",
    "... (lines) ...\n",
    "30\n",
    "31\n",
    "```\n"
   ]
  },
  {
   "cell_type": "markdown",
   "metadata": {},
   "source": [
    "### Q7.\n",
    "\n",
    "Write a program that receives user for three pieces of information as variables: \n",
    "* a starting balance, \n",
    "* a target balance, \n",
    "* and an interest rate (entered as 0.05 for 5%, for example)\n",
    "\n",
    "The program then outputs the number of years required for the starting balance to have grown larger than the target balance. While this can be computed directly mathematically, we want for this exercise to use a while loop to figure out the answer. The answer should just be a line stating something like: \"_To grow an initial investment of \\\\$1000 to  \\\\$2000 at 5.0% will require `XX` years_\".\n",
    "\n",
    "Hint: You will need a variable to store the number of years that passed. You will also need a variable to hold the current balance in the account, as it grows over the years."
   ]
  },
  {
   "cell_type": "code",
   "execution_count": null,
   "metadata": {},
   "outputs": [],
   "source": [
    "starting = 1000\n",
    "target = 2000\n",
    "interest = 0.05\n",
    "years = 0\n",
    "\n",
    "# REPLACE THIS WITH YOUR CODE\n",
    "\n",
    "print(\"To grow an initial investment of\",starting,\"to\",\n",
    "      target,\"at\",interest*100,\"%\",\"will require\",years,\"years\")"
   ]
  },
  {
   "cell_type": "markdown",
   "metadata": {},
   "source": [
    "### Q8."
   ]
  },
  {
   "cell_type": "markdown",
   "metadata": {},
   "source": [
    "Write a program that uses a for loop to print\n",
    "\n",
    "* `One of the months of the year is January`\n",
    "* `One of the months of the year is February`\n",
    "* `One of the months of the year is March`\n",
    "* etc ..."
   ]
  },
  {
   "cell_type": "code",
   "execution_count": null,
   "metadata": {},
   "outputs": [],
   "source": [
    "months = [\"Jan\",\"Feb\",\"Mar\",\"Apr\",\"May\",\"Jun\",\"Jul\",\"Aug\",\"Sep\",\"Oct\",\"Nov\",\"Dec\"]\n",
    "\n",
    "# REPLACE THIS WITH YOUR CODE"
   ]
  },
  {
   "cell_type": "markdown",
   "metadata": {},
   "source": [
    "### Q9."
   ]
  },
  {
   "cell_type": "markdown",
   "metadata": {},
   "source": [
    "Assume you have a list of numbers `1, 4, 9, 16`\n",
    "\n",
    "* Write a loop that calculate the sum of number (= implement equivalent of sum function by yourself)."
   ]
  },
  {
   "cell_type": "code",
   "execution_count": null,
   "metadata": {},
   "outputs": [],
   "source": [
    "numbers = [1, 4, 9, 16]\n",
    "\n",
    "my_sum = 0\n",
    "# REPLACE THIS WITH YOUR CODE. Calculate the sum of numbers and put it into my_sum\n",
    "\n",
    "# Print my_sum."
   ]
  },
  {
   "cell_type": "markdown",
   "metadata": {},
   "source": [
    "Optionally,\n",
    "\n",
    "\n",
    "*   Calculate the sum of the squares of the numbers.\n",
    "*   Calculate the sum of the odd numbers (ex `1,4,9,16` -> 1+9=10)\n",
    "*   Convert all the numbers into string and concate it into single string (`1,4,9,16` -> \"14916\")\n",
    "\n",
    "\n"
   ]
  },
  {
   "cell_type": "markdown",
   "metadata": {},
   "source": [
    "### Q10. Penguins revisited\n"
   ]
  },
  {
   "cell_type": "code",
   "execution_count": null,
   "metadata": {},
   "outputs": [],
   "source": [
    "all_penguins = ['Adelie', 'African', 'Chinstrap',\n",
    " 'Emperor', 'Fiordland', 'Galapagos', 'Gentoo',\n",
    " 'Humboldt', 'King', 'Little', 'Macaroni',\n",
    " 'Magellanic', 'Rockhopper', 'Royal', 'Yellow-eyed']\n",
    "all_heights = [28, 27, 27, \n",
    "               45, 28, 19, 32,\n",
    "               27, 37, 16, 27,\n",
    "               27, 21, 30, 30]"
   ]
  },
  {
   "cell_type": "markdown",
   "metadata": {},
   "source": [
    "Print the following by using a `while` loop\n",
    "```\n",
    "The Adelie penguin is around 28 inches tall\n",
    "The African penguin is around 27 inches tall\n",
    "The Chinstrap penguin is around 27 inches tall\n",
    "The Emperor penguin is around 45 inches tall\n",
    "The Fiordland penguin is around 28 inches tall\n",
    "The Galapagos penguin is around 19 inches tall\n",
    "The Gentoo penguin is around 32 inches tall\n",
    "The Humboldt penguin is around 27 inches tall\n",
    "The King penguin is around 37 inches tall\n",
    "The Little penguin is around 16 inches tall\n",
    "The Macaroni penguin is around 27 inches tall\n",
    "The Magellanic penguin is around 27 inches tall\n",
    "The Rockhopper penguin is around 21 inches tall\n",
    "The Royal penguin is around 30 inches tall\n",
    "The Yellow-eyed penguin is around 30 inches tall\n",
    "```"
   ]
  },
  {
   "cell_type": "code",
   "execution_count": null,
   "metadata": {},
   "outputs": [],
   "source": [
    "# REPLACE THIS WITH YOUR CODE"
   ]
  },
  {
   "cell_type": "markdown",
   "metadata": {},
   "source": [
    "Print the following by calculating an average with `while` or `for` loop (and optionally rounding by `round(val, 2)` function).\n",
    "```\n",
    "An average penguin is around 28.07 inches tall\n",
    "```"
   ]
  },
  {
   "cell_type": "code",
   "execution_count": null,
   "metadata": {},
   "outputs": [],
   "source": [
    "# REPLACE THIS WITH YOUR CODE"
   ]
  },
  {
   "cell_type": "markdown",
   "metadata": {},
   "source": [
    "### Q11. Bronx zoo revisited"
   ]
  },
  {
   "cell_type": "code",
   "execution_count": null,
   "metadata": {},
   "outputs": [],
   "source": [
    "open_close = [\"10\", \"17\"] #open at 10am, close at 5pm animal exhibits close 30mins before the close time\n",
    "\n",
    "exhibits = [\n",
    "    \"JUNGLEWORLD\", \"MADAGASCAR!\", \"TIGER MOUNTAIN\", \"BIG BEARS\", \n",
    "    \"AFRICAN PLAINS\", \"AMERICAN BISON\", \"AQUATIC BIRD HOUSE & SEA BIRD AVIARY\", \"BIRDS OF PREY\",\n",
    "    \"BUTTERFLY GARDEN\", \"CARTER GIRAFFE BUILDING\", \"CHILDREN'S ZOO\", \"CONGO GORILLA FOREST\",\n",
    "    \"GELADA RESERVE\", \"HIMALAYAN HIGHLANDS\", \"MOUSE HOUSE\", \"SEA LION POOL\", \n",
    "    \"WILD ASIA MONORAIL\", \"WORLD OF BIRDS\", \"WORLD OF REPTILES\", \"ZOO CENTER\"]\n",
    "featured_exhibits = exhibits[:4]\n",
    "\n",
    "# for example, featured_exhibits[1] is the description on \"MADAGASCAR!\" exhibit\n",
    "featured_exhibits_description = [\n",
    "    \"Grooming each other atop a maze of branches in our Asian jungle,\"\n",
    "    \" the ebony langurs defy expectations. Though most of this species is colored black,\"\n",
    "    \" many of ours are orange, echoing a group on an island in Indonesia.\",\n",
    "    \"There are about 97 lemur species native to the island of Madagascar,\"\n",
    "    \" among them Coquerel’s Sifaka. Ours are often active, using their strong\"\n",
    "    \" hind legs to leap from limb to limb and rock to vine.\",\n",
    "    \"Tiger Mountain is full of things for our big cats—and visitors—to explore.\"\n",
    "    \" Get nose-to-nose with our stars in stripes and discover how we protect tigers\"\n",
    "    \" through our work here at the zoo and in the wild.\",\n",
    "    \"Our brown bears are a fan favorite. It’s easy to understand why, when we watch them\"\n",
    "    \" splash around in the shallow water. In the wild, some of these bears grew too comfortable\"\n",
    "    \" around people or were orphaned, so we brought them to the zoo as rescues.\"]\n",
    "\n",
    "animals = [\n",
    "    \"AARDVARK\", \"AFRICAN PAINTED DOG\", \"ALDABRA TORTOISE\", \"AMERICAN ALLIGATOR\",\n",
    "    \"AMERICAN BISON\", \"AMUR TIGER\", \"ANACONDA\", \"ANDEAN CONDOR\",\n",
    "    \"ASIAN ELEPHANT\", \"BABY DOLL SHEEP\", \"BALD EAGLE\", \"BLUE IGUANA\",\n",
    "    \"BOER GOAT\", \"CALIFORNIA SEA LION\", \"CARIBBEAN FLAMINGO\", \"CHINCHILLA\",\n",
    "    \"COLLARED LEMUR\", \"COQUEREL'S SIFAKA\", \"CUBAN AMAZON PARROT\", \"EBONY LANGUR\",\n",
    "    \"FENNEC FOX\", \"FOSSA\", \"GELADA\", \"GIANT ANTEATER\", \n",
    "    \"GIRAFFE\", \"GORILLA\", \"GRIZZLY BEAR\", \"HENKEL'S LEAF-TAILED GECKO\", \n",
    "    \"INDIAN GHARIAL\", \"INDIAN RHINOCEROS\", \"KING COBRA\", \"KING VULTURE\",\n",
    "    \"KOMODO DRAGON\", \"LINNE'S TWO-TOED SLOTH\", \"LION\", \"LITTLE PENGUIN\",\n",
    "    \"MADAGASCAR TREE BOA\", \"MAGELLANIC PENGUIN\", \"MALAYAN TAPIR\", \"MALAYAN TIGER\", \n",
    "    \"MATSCHIE'S TREE KANGAROO\", \"MINI DONKEY\", \"MONARCH BUTTERFLY\", \"NILE CROCODILE\",\n",
    "    \"NORTH AMERICAN PORCUPINE\", \"NUBIAN IBEX\", \"OKAPI\", \"POISON DART FROG\",\n",
    "    \"PYGMY MARMOSET\", \"RADIATED TORTOISE\", \"RED PANDA\", \"RED RUFFED LEMUR\",\n",
    "    \"RING-TAILED LEMUR\", \"RING-TAILED MONGOOSE\", \"ROCK HYRAX\", \"SMALL CLAWED ASIAN OTTER\",\n",
    "    \"SNOW LEOPARD\", \"SNOWY OWL\", \"SOUTHERN WHITE-FACED OWL\", \"SOUTHERN WHITE RHINOCEROS\",\n",
    "    \"SQUIRREL MONKEY\", \"TUFTED PUFFIN\", \"WHITE CHEEKED GIBBON\", \"WHITE-THROATED BEE EATER\",\n",
    "    \"ZEBRA\"]\n",
    "\n",
    "# for example, animal_exhibit[2] is where \"ALDABRA TORTOISE\" (= animals[2]) is.\n",
    "animal_exhibit = [\n",
    "    \"CARTER GIRAFFE BUILDING\", \"AFRICAN PLAINS\", \"ZOO CENTER\", \"WORLD OF REPTILES\",\n",
    "    \"AMERICAN BISON\", \"TIGER MOUNTAIN\", \"WORLD OF REPTILES\", \"BIRDS OF PREY\",\n",
    "    \"WILD ASIA MONORAIL\", \"CHILDREN'S ZOO\", \"BIRDS OF PREY\", \"WORLD OF REPTILES\",\n",
    "    \"CHILDREN'S ZOO\", \"SEA LION POOL\", \"AQUATIC BIRD HOUSE & SEA BIRD AVIARY\", \"MOUSE HOUSE\",\n",
    "    \"MADAGASCAR!\", \"MADAGASCAR!\", \"WORLD OF BIRDS\", \"JUNGLEWORLD\",\n",
    "    \"CHILDREN'S ZOO\", \"MADAGASCAR!\", \"GELADA RESERVE\", \"CHILDREN'S ZOO\",\n",
    "    \"CARTER GIRAFFE BUILDING\", \"CONGO GORILLA FOREST\", \"BIG BEARS\", \"MADAGASCAR!\",\n",
    "    \"JUNGLEWORLD\", \"WILD ASIA MONORAIL\", \"WORLD OF REPTILES\", \"BIRDS OF PREY\",\n",
    "    \"ZOO CENTER\", \"CHILDREN'S ZOO\", \"AFRICAN PLAINS\", \"AQUATIC BIRD HOUSE & SEA BIRD AVIARY\",\n",
    "    \"MADAGASCAR!\", \"AQUATIC BIRD HOUSE & SEA BIRD AVIARY\", \"JUNGLEWORLD\", \"TIGER MOUNTAIN\",\n",
    "    \"JUNGLEWORLD\", \"CHILDREN'S ZOO\", \"BUTTERFLY GARDEN\", \"MADAGASCAR!\", \n",
    "    \"CHILDREN'S ZOO\", \"BABOON RESERVE\", \"CONGO GORILLA FOREST\", \"WORLD OF REPTILES\",\n",
    "    \"CONGO GORILLA FOREST\", \"MADAGASCAR!\", \"HIMALAYAN HIGHLANDS\", \"MADAGASCAR!\",\n",
    "    \"MADAGASCAR!\", \"MADAGASCAR!\", \"BABOON RESERVE\", \"JUNGLEWORLD\",\n",
    "    \"HIMALAYAN HIGHLANDS\", \"BIRDS OF PREY\", \"CARTER GIRAFFE BUILDING\", \"ZOO CENTER\", \n",
    "    \"CHILDREN'S ZOO\", \"AQUATIC BIRD HOUSE & SEA BIRD AVIARY\", \"JUNGLEWORLD\", \"WORLD OF BIRDS\", \n",
    "    \"AFRICAN PLAINS\"\n",
    "]"
   ]
  },
  {
   "cell_type": "markdown",
   "metadata": {},
   "source": [
    "#### Print the following by using list indexing operator.\n",
    "\n",
    "```\n",
    "The Bronx Zoo opens at 10 and closes at 17.\n",
    "```"
   ]
  },
  {
   "cell_type": "code",
   "execution_count": null,
   "metadata": {},
   "outputs": [],
   "source": [
    "# REPLACE THIS WITH YOUR CODE"
   ]
  },
  {
   "cell_type": "markdown",
   "metadata": {},
   "source": [
    "#### Print the following by using `len` function."
   ]
  },
  {
   "cell_type": "markdown",
   "metadata": {},
   "source": [
    "```\n",
    "There are 20 exhibits\n",
    "```"
   ]
  },
  {
   "cell_type": "code",
   "execution_count": null,
   "metadata": {},
   "outputs": [],
   "source": [
    "# REPLACE THIS WITH YOUR CODE"
   ]
  },
  {
   "cell_type": "markdown",
   "metadata": {},
   "source": [
    "#### Print the following by using `count` function (see notebook F for the count function).\n",
    "\n",
    "\n",
    "\n",
    "```\n",
    "JUNGLEWORLD has 6 species of animals\n",
    "MADAGASCAR! has 10 species of animals\n",
    "TIGER MOUNTAIN has 2 species of animals\n",
    "BIG BEARS has 1 species of animals\n",
    "AFRICAN PLAINS has 3 species of animals\n",
    "AMERICAN BISON has 1 species of animals\n",
    "AQUATIC BIRD HOUSE & SEA BIRD AVIARY has 4 species of animals\n",
    "BIRDS OF PREY has 4 species of animals\n",
    "BUTTERFLY GARDEN has 1 species of animals\n",
    "CARTER GIRAFFE BUILDING has 3 species of animals\n",
    "CHILDREN'S ZOO has 8 species of animals\n",
    "CONGO GORILLA FOREST has 3 species of animals\n",
    "GELADA RESERVE has 1 species of animals\n",
    "HIMALAYAN HIGHLANDS has 2 species of animals\n",
    "MOUSE HOUSE has 1 species of animals\n",
    "SEA LION POOL has 1 species of animals\n",
    "WILD ASIA MONORAIL has 2 species of animals\n",
    "WORLD OF BIRDS has 2 species of animals\n",
    "WORLD OF REPTILES has 5 species of animals\n",
    "ZOO CENTER has 3 species of animals\n",
    "```"
   ]
  },
  {
   "cell_type": "markdown",
   "metadata": {},
   "source": [
    "### Q12. (adapted from session 10)  Create a random password generator function \"get_password\" that generates a random sequence of 10 characters/digits. "
   ]
  },
  {
   "cell_type": "code",
   "execution_count": null,
   "metadata": {},
   "outputs": [],
   "source": [
    "# Preparation\n",
    "import random, string\n",
    "aldigits = string.ascii_letters + string.digits"
   ]
  },
  {
   "cell_type": "code",
   "execution_count": null,
   "metadata": {},
   "outputs": [],
   "source": [
    "random.choice(aldigits)"
   ]
  },
  {
   "cell_type": "code",
   "execution_count": null,
   "metadata": {},
   "outputs": [],
   "source": [
    "def get_password():\n",
    "# REPLACE THIS WITH YOUR CODE"
   ]
  },
  {
   "cell_type": "code",
   "execution_count": null,
   "metadata": {},
   "outputs": [],
   "source": [
    "get_password() # This gives a random password, such as 'EhV3hwtLkz'"
   ]
  },
  {
   "cell_type": "markdown",
   "metadata": {},
   "source": [
    "### Q13. Function debugging (note: same as Q4 in session 11)\n",
    "\n",
    "Functions should be tested by calling several values. In particular, some of the functions works 95\\% of the possible inputs but fails in the other 5\\%. The latter examples are called 'corner cases'."
   ]
  },
  {
   "cell_type": "markdown",
   "metadata": {},
   "source": [
    "#### Q13.1 Confirm the behavior of the following function by debug tracer (pythontutor.com). \n",
    "\n",
    "Note: This program works perfectly, but redundant."
   ]
  },
  {
   "cell_type": "code",
   "execution_count": null,
   "metadata": {},
   "outputs": [],
   "source": [
    "def one(arg): #a function that checks whether the value is 1 or not\n",
    "    return arg == 1\n",
    "    print(\"arg = \",arg)\n",
    "\n",
    "print(one(1))\n",
    "print(one(2))"
   ]
  },
  {
   "cell_type": "markdown",
   "metadata": {},
   "source": [
    "#### Q13.2 Explain why the following program is wrong and fix it.\n",
    "\n",
    "Hint: \n",
    "\n",
    "* Try calling the `Bronx_zoo_ticket` with several different parameters.\n",
    "* Does it work if we replace every `elif` with `if`? "
   ]
  },
  {
   "cell_type": "code",
   "execution_count": null,
   "metadata": {},
   "outputs": [],
   "source": [
    "# Adult (age: 13 & over) $33.95\n",
    "# Senior (age: 65 & over) $28.95\n",
    "# Child (age: 3 - 12) $23.95\n",
    "# Child (age: 2 & under) Free\n",
    "\n",
    "def Bronx_zoo_ticket(age):\n",
    "    cost = 0\n",
    "    if age >= 12:\n",
    "        cost = 33.95\n",
    "    elif age >= 65:\n",
    "        value = 28.95\n",
    "    elif age <= 12:\n",
    "        cost = 23.95\n",
    "    elif age <= 2:\n",
    "        cost = 0"
   ]
  },
  {
   "cell_type": "markdown",
   "metadata": {},
   "source": [
    "YOUR EXPLANATION HERE"
   ]
  },
  {
   "cell_type": "markdown",
   "metadata": {},
   "source": [
    "#### Q13.3  Consider the following function `sentiment`. This function takes a string as an input.\n",
    "\n",
    "* If the input includes both \"good\" and \"bad\", then it returns \"mixed\".\n",
    "* If the input only includes \"good\", then it returns \"happy\".\n",
    "* If the input only includes \"bad\", then it returns \"sad\".\n",
    "* If the input does not include \"good\" or \"bad\", then it returns \"neutral\"\n",
    "\n",
    "Find the \"corner case\" of this function."
   ]
  },
  {
   "cell_type": "code",
   "execution_count": null,
   "metadata": {},
   "outputs": [],
   "source": [
    "def sentiment(my_str):\n",
    "    if \"good\" in my_str:\n",
    "        return \"happy\"\n",
    "    elif \"bad\" in my_str:\n",
    "        return \"sad\"\n",
    "    elif \"good\" in my_str and \"bad\" in my_str:\n",
    "        return \"mixed\"\n",
    "    else:\n",
    "        return \"neutral\""
   ]
  },
  {
   "cell_type": "markdown",
   "metadata": {},
   "source": [
    "#### Q13.4 Consider the following function `leap_year` that checks whether or not the `year`is leap year. Check the function by calling it several times, and propose a fix.\n",
    "\n",
    "Definition of the leap year.\n",
    "```\n",
    "A leap year (also known as an intercalary year or bissextile year) is a calendar year that contains an additional day of February 29. A year is leap year if (1) it is divisible by `400` or (2) divisible by `4`, except for years divisible by `100`.\n",
    "```\n",
    "\n",
    "Note: The function is wrong in several ways.\n"
   ]
  },
  {
   "cell_type": "code",
   "execution_count": null,
   "metadata": {},
   "outputs": [],
   "source": [
    "def leap_year(year):\n",
    "    if (year % 4) == 0:\n",
    "        return True\n",
    "    elif (year % 100) == 0:\n",
    "        return False\n",
    "    elif (year % 400) == 0:\n",
    "        return True"
   ]
  }
 ],
 "metadata": {
  "colab": {
   "collapsed_sections": [
    "wfg6XEUOsF5r",
    "Su0Y4YyJ3kgD",
    "yZBLvW863khg"
   ],
   "provenance": []
  },
  "kernelspec": {
   "display_name": "Python 3 (ipykernel)",
   "language": "python",
   "name": "python3"
  },
  "language_info": {
   "codemirror_mode": {
    "name": "ipython",
    "version": 3
   },
   "file_extension": ".py",
   "mimetype": "text/x-python",
   "name": "python",
   "nbconvert_exporter": "python",
   "pygments_lexer": "ipython3",
   "version": "3.9.12"
  }
 },
 "nbformat": 4,
 "nbformat_minor": 1
}
