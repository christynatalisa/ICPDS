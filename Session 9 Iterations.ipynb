{
 "cells": [
  {
   "cell_type": "markdown",
   "id": "7c51fc31",
   "metadata": {},
   "source": [
    "### The following cell contains the information extracted from the Bronx zoo website"
   ]
  },
  {
   "cell_type": "code",
   "execution_count": 2,
   "id": "ccb408d6",
   "metadata": {},
   "outputs": [],
   "source": [
    "open_close = [\"10\", \"17\"] #open at 10am, close at 5pm animal exhibits close 30mins before the close time\n",
    "\n",
    "exhibits = [\n",
    "    \"JUNGLEWORLD\", \"MADAGASCAR!\", \"TIGER MOUNTAIN\", \"BIG BEARS\", \n",
    "    \"AFRICAN PLAINS\", \"AMERICAN BISON\", \"AQUATIC BIRD HOUSE & SEA BIRD AVIARY\", \"BIRDS OF PREY\",\n",
    "    \"BUTTERFLY GARDEN\", \"CARTER GIRAFFE BUILDING\", \"CHILDREN'S ZOO\", \"CONGO GORILLA FOREST\",\n",
    "    \"GELADA RESERVE\", \"HIMALAYAN HIGHLANDS\", \"MOUSE HOUSE\", \"SEA LION POOL\", \n",
    "    \"WILD ASIA MONORAIL\", \"WORLD OF BIRDS\", \"WORLD OF REPTILES\", \"ZOO CENTER\"]\n",
    "featured_exhibits = exhibits[:4]\n",
    "\n",
    "# for example, featured_exhibits[1] is the description on \"MADAGASCAR!\" exhibit\n",
    "featured_exhibits_description = [\n",
    "    \"Grooming each other atop a maze of branches in our Asian jungle,\"\n",
    "    \" the ebony langurs defy expectations. Though most of this species is colored black,\"\n",
    "    \" many of ours are orange, echoing a group on an island in Indonesia.\",\n",
    "    \"There are about 97 lemur species native to the island of Madagascar,\"\n",
    "    \" among them Coquerel’s Sifaka. Ours are often active, using their strong\"\n",
    "    \" hind legs to leap from limb to limb and rock to vine.\",\n",
    "    \"Tiger Mountain is full of things for our big cats—and visitors—to explore.\"\n",
    "    \" Get nose-to-nose with our stars in stripes and discover how we protect tigers\"\n",
    "    \" through our work here at the zoo and in the wild.\",\n",
    "    \"Our brown bears are a fan favorite. It’s easy to understand why, when we watch them\"\n",
    "    \" splash around in the shallow water. In the wild, some of these bears grew too comfortable\"\n",
    "    \" around people or were orphaned, so we brought them to the zoo as rescues.\"]\n",
    "\n",
    "animals = [\n",
    "    \"AARDVARK\", \"AFRICAN PAINTED DOG\", \"ALDABRA TORTOISE\", \"AMERICAN ALLIGATOR\",\n",
    "    \"AMERICAN BISON\", \"AMUR TIGER\", \"ANACONDA\", \"ANDEAN CONDOR\",\n",
    "    \"ASIAN ELEPHANT\", \"BABY DOLL SHEEP\", \"BALD EAGLE\", \"BLUE IGUANA\",\n",
    "    \"BOER GOAT\", \"CALIFORNIA SEA LION\", \"CARIBBEAN FLAMINGO\", \"CHINCHILLA\",\n",
    "    \"COLLARED LEMUR\", \"COQUEREL'S SIFAKA\", \"CUBAN AMAZON PARROT\", \"EBONY LANGUR\",\n",
    "    \"FENNEC FOX\", \"FOSSA\", \"GELADA\", \"GIANT ANTEATER\", \n",
    "    \"GIRAFFE\", \"GORILLA\", \"GRIZZLY BEAR\", \"HENKEL'S LEAF-TAILED GECKO\", \n",
    "    \"INDIAN GHARIAL\", \"INDIAN RHINOCEROS\", \"KING COBRA\", \"KING VULTURE\",\n",
    "    \"KOMODO DRAGON\", \"LINNE'S TWO-TOED SLOTH\", \"LION\", \"LITTLE PENGUIN\",\n",
    "    \"MADAGASCAR TREE BOA\", \"MAGELLANIC PENGUIN\", \"MALAYAN TAPIR\", \"MALAYAN TIGER\", \n",
    "    \"MATSCHIE'S TREE KANGAROO\", \"MINI DONKEY\", \"MONARCH BUTTERFLY\", \"NILE CROCODILE\",\n",
    "    \"NORTH AMERICAN PORCUPINE\", \"NUBIAN IBEX\", \"OKAPI\", \"POISON DART FROG\",\n",
    "    \"PYGMY MARMOSET\", \"RADIATED TORTOISE\", \"RED PANDA\", \"RED RUFFED LEMUR\",\n",
    "    \"RING-TAILED LEMUR\", \"RING-TAILED MONGOOSE\", \"ROCK HYRAX\", \"SMALL CLAWED ASIAN OTTER\",\n",
    "    \"SNOW LEOPARD\", \"SNOWY OWL\", \"SOUTHERN WHITE-FACED OWL\", \"SOUTHERN WHITE RHINOCEROS\",\n",
    "    \"SQUIRREL MONKEY\", \"TUFTED PUFFIN\", \"WHITE CHEEKED GIBBON\", \"WHITE-THROATED BEE EATER\",\n",
    "    \"ZEBRA\"]\n",
    "\n",
    "# for example, animal_exhibit[2] is where \"ALDABRA TORTOISE\" (= animals[2]) is.\n",
    "animal_exhibit = [\n",
    "    \"CARTER GIRAFFE BUILDING\", \"AFRICAN PLAINS\", \"ZOO CENTER\", \"WORLD OF REPTILES\",\n",
    "    \"AMERICAN BISON\", \"TIGER MOUNTAIN\", \"WORLD OF REPTILES\", \"BIRDS OF PREY\",\n",
    "    \"WILD ASIA MONORAIL\", \"CHILDREN'S ZOO\", \"BIRDS OF PREY\", \"WORLD OF REPTILES\",\n",
    "    \"CHILDREN'S ZOO\", \"SEA LION POOL\", \"AQUATIC BIRD HOUSE AND SEA BIRD AVIARY\", \"MOUSE HOUSE\",\n",
    "    \"MADAGASCAR!\", \"MADAGASCAR!\", \"WORLD OF BIRDS\", \"JUNGLEWORLD\",\n",
    "    \"CHILDREN'S ZOO\", \"MADAGASCAR!\", \"BABOON RESERVE\", \"CHILDREN'S ZOO\",\n",
    "    \"CARTER GIRAFFE BUILDING\", \"CONGO GORILLA FOREST\", \"BIG BEARS\", \"MADAGASCAR!\",\n",
    "    \"JUNGLEWORLD\", \"WILD ASIA MONORAIL\", \"WORLD OF REPTILES\", \"BIRDS OF PREY\",\n",
    "    \"ZOO CENTER\", \"CHILDREN'S ZOO\", \"AFRICAN PLAINS\", \"AQUATIC BIRD HOUSE AND SEA BIRD AVIARY\",\n",
    "    \"MADAGASCAR!\", \"AQUATIC BIRD HOUSE AND SEA BIRD AVIARY\", \"JUNGLEWORLD\", \"TIGER MOUNTAIN\",\n",
    "    \"JUNGLEWORLD\", \"CHILDREN'S ZOO\", \"BUTTERFLY GARDEN\", \"MADAGASCAR!\", \n",
    "    \"CHILDREN'S ZOO\", \"BABOON RESERVE\", \"CONGO GORILLA FOREST\", \"WORLD OF REPTILES\",\n",
    "    \"CONGO GORILLA FOREST\", \"MADAGASCAR!\", \"HIMALAYAN HIGHLANDS\", \"MADAGASCAR!\",\n",
    "    \"MADAGASCAR!\", \"MADAGASCAR!\", \"BABOON RESERVE\", \"JUNGLEWORLD\",\n",
    "    \"HIMALAYAN HIGHLANDS\", \"BIRDS OF PREY\", \"CARTER GIRAFFE BUILDING\", \"ZOO CENTER\", \n",
    "    \"CHILDREN'S ZOO\", \"AQUATIC BIRD HOUSE AND SEA BIRD AVIARY\", \"JUNGLEWORLD\", \"WORLD OF BIRDS\", \n",
    "    \"AFRICAN PLAINS\"\n",
    "]\n",
    "\n",
    "# Admission\n",
    "# Adult (13 & over) $33.95\n",
    "# Senior (65 & over) $28.95\n",
    "# Child (3-12) $23.95\n",
    "# Child (2 & under) FREE"
   ]
  },
  {
   "cell_type": "markdown",
   "id": "ac386bcd",
   "metadata": {},
   "source": [
    "### Your code starts here"
   ]
  },
  {
   "cell_type": "code",
   "execution_count": 9,
   "id": "71f4394d",
   "metadata": {},
   "outputs": [
    {
     "name": "stdout",
     "output_type": "stream",
     "text": [
      "JUNGLEWORLD\n",
      "MADAGASCAR!\n",
      "TIGER MOUNTAIN\n",
      "BIG BEARS\n"
     ]
    }
   ],
   "source": [
    "# YOUR CODE HERE\n",
    "the_index = 0\n",
    "while the_index < len(featured_exhibits):\n",
    "    if the_index > len(featured_exhibits):\n",
    "        break\n",
    "    print(featured_exhibits[the_index])\n",
    "    the_index += 1\n"
   ]
  },
  {
   "cell_type": "code",
   "execution_count": 10,
   "id": "fa6e6bf2",
   "metadata": {},
   "outputs": [
    {
     "name": "stdout",
     "output_type": "stream",
     "text": [
      "AQUATIC BIRD HOUSE & SEA BIRD AVIARY\n",
      "BIRDS OF PREY\n",
      "WORLD OF BIRDS\n"
     ]
    }
   ],
   "source": [
    "# only print the ones that containg Bird\n",
    "the_index = 0\n",
    "while the_index < len(exhibits):\n",
    "\n",
    "    if 'BIRD' in exhibits[the_index]:\n",
    "        print(exhibits[the_index])\n",
    "        \n",
    "   \n",
    "    the_index += 1"
   ]
  },
  {
   "cell_type": "code",
   "execution_count": 11,
   "id": "150d384a",
   "metadata": {},
   "outputs": [
    {
     "name": "stdout",
     "output_type": "stream",
     "text": [
      "SMALL CLAWED ASIAN OTTER\n",
      "SNOW LEOPARD\n",
      "SNOWY OWL\n",
      "SOUTHERN WHITE-FACED OWL\n",
      "SOUTHERN WHITE RHINOCEROS\n",
      "SQUIRREL MONKEY\n"
     ]
    }
   ],
   "source": [
    "# only print animals that starts with S\n",
    "the_index = 0\n",
    "while the_index < len(animals):\n",
    "    check_S = animals[the_index]\n",
    "    if check_S[0] == 'S':\n",
    "        print(animals[the_index])\n",
    "    the_index += 1"
   ]
  },
  {
   "cell_type": "code",
   "execution_count": 12,
   "id": "d18c8702",
   "metadata": {},
   "outputs": [
    {
     "name": "stdout",
     "output_type": "stream",
     "text": [
      "AMERICAN ALLIGATOR\n",
      "AMUR TIGER\n",
      "ANDEAN CONDOR\n",
      "COLLARED LEMUR\n",
      "EBONY LANGUR\n",
      "GIANT ANTEATER\n",
      "GRIZZLY BEAR\n",
      "MALAYAN TAPIR\n",
      "MALAYAN TIGER\n",
      "RED RUFFED LEMUR\n",
      "RING-TAILED LEMUR\n",
      "SMALL CLAWED ASIAN OTTER\n",
      "WHITE-THROATED BEE EATER\n"
     ]
    }
   ],
   "source": [
    "# only print animals that end with R\n",
    "the_index = 0\n",
    "while the_index < len(animals):\n",
    "    check_S = animals[the_index]\n",
    "    if check_S[-1] == 'R':\n",
    "        print(animals[the_index])\n",
    "    the_index += 1"
   ]
  },
  {
   "cell_type": "code",
   "execution_count": 13,
   "id": "7468fb96",
   "metadata": {},
   "outputs": [
    {
     "name": "stdout",
     "output_type": "stream",
     "text": [
      "AARDVARK\n",
      "AFRICAN PAINTED DOG\n",
      "ALDABRA TORTOISE\n",
      "AMERICAN ALLIGATOR\n",
      "AMERICAN BISON\n",
      "AMUR TIGER\n",
      "ANACONDA\n",
      "ANDEAN CONDOR\n",
      "ASIAN ELEPHANT\n"
     ]
    }
   ],
   "source": [
    "#print if user input is an animal in bronx zoo\n",
    "user_input = input('Input animal = ')\n",
    "the_index = 0\n",
    "while the_index < len(animals):\n",
    "    #if input is single character, print the animal that starts with this character\n",
    "    if len(user_input) == 1:\n",
    "      check_letter = animals[the_index]\n",
    "      if check_letter[0] == user_input:\n",
    "        print(animals[the_index])\n",
    "    elif user_input in animals:\n",
    "        print('the animal is in the bronx zoo')\n",
    "        break\n",
    "    the_index += 1"
   ]
  },
  {
   "cell_type": "markdown",
   "id": "113a6448",
   "metadata": {},
   "source": [
    "### Misc."
   ]
  },
  {
   "cell_type": "code",
   "execution_count": null,
   "id": "b2fb2241",
   "metadata": {},
   "outputs": [],
   "source": [
    "# FYI \n",
    "\n",
    "input(\"Comment\") #print \"Comment\", and then asks for the user input (I/O)\n",
    "\n",
    "# for non-perfect match\n",
    "import editdistance\n",
    "editdistance.eval('banana', 'bahama')"
   ]
  },
  {
   "cell_type": "code",
   "execution_count": null,
   "id": "7651b989",
   "metadata": {},
   "outputs": [],
   "source": []
  },
  {
   "cell_type": "code",
   "execution_count": null,
   "id": "73067b1e",
   "metadata": {},
   "outputs": [],
   "source": []
  },
  {
   "cell_type": "code",
   "execution_count": null,
   "id": "88803f4f",
   "metadata": {},
   "outputs": [],
   "source": []
  },
  {
   "cell_type": "code",
   "execution_count": null,
   "id": "c6d47996",
   "metadata": {},
   "outputs": [],
   "source": []
  },
  {
   "cell_type": "code",
   "execution_count": null,
   "id": "3fe4e225",
   "metadata": {},
   "outputs": [],
   "source": []
  },
  {
   "cell_type": "code",
   "execution_count": null,
   "id": "989c6e65",
   "metadata": {},
   "outputs": [],
   "source": []
  },
  {
   "cell_type": "code",
   "execution_count": null,
   "id": "7574d69b",
   "metadata": {},
   "outputs": [],
   "source": []
  },
  {
   "cell_type": "code",
   "execution_count": null,
   "id": "165bc284",
   "metadata": {},
   "outputs": [],
   "source": []
  },
  {
   "cell_type": "code",
   "execution_count": null,
   "id": "cc613f1a",
   "metadata": {},
   "outputs": [],
   "source": []
  },
  {
   "cell_type": "code",
   "execution_count": null,
   "id": "1b972212",
   "metadata": {},
   "outputs": [],
   "source": []
  },
  {
   "cell_type": "code",
   "execution_count": null,
   "id": "a8fab968",
   "metadata": {},
   "outputs": [],
   "source": []
  }
 ],
 "metadata": {
  "kernelspec": {
   "display_name": "Python 3",
   "language": "python",
   "name": "python3"
  },
  "language_info": {
   "codemirror_mode": {
    "name": "ipython",
    "version": 3
   },
   "file_extension": ".py",
   "mimetype": "text/x-python",
   "name": "python",
   "nbconvert_exporter": "python",
   "pygments_lexer": "ipython3",
   "version": "3.9.0"
  },
  "vscode": {
   "interpreter": {
    "hash": "aee8b7b246df8f9039afb4144a1f6fd8d2ca17a180786b69acc140d282b71a49"
   }
  }
 },
 "nbformat": 4,
 "nbformat_minor": 5
}
