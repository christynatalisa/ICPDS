{
 "cells": [
  {
   "cell_type": "markdown",
   "id": "1aa7fdb9",
   "metadata": {
    "id": "1aa7fdb9"
   },
   "source": [
    "## Debugging\n",
    "\n",
    "Debug is a process of removing bugs (= unintended behaviors of the program).\n",
    "\n",
    "TP describes debug as: \n",
    "\n",
    "* https://greenteapress.com/thinkpython2/html/thinkpython2002.html#sec12\n",
    "* https://greenteapress.com/thinkpython2/html/thinkpython2004.html#sec38\n",
    "* https://greenteapress.com/thinkpython2/html/thinkpython2008.html#sec88\n",
    "\n",
    "```\n",
    "One of the most important skills you will acquire is debugging. Although it can be frustrating, debugging is one of the most intellectually rich, challenging, and interesting parts of programming.\n",
    "In some ways debugging is like detective work. You are confronted with clues and you have to infer the processes and events that led to the results you see.\n",
    "```\n",
    "\n",
    "\n",
    "```\n",
    "As you start writing bigger programs, you might find yourself spending more time debugging. More code means more chances to make an error and more places for bugs to hide.\n",
    "```"
   ]
  },
  {
   "cell_type": "markdown",
   "id": "3abb2728",
   "metadata": {
    "id": "3abb2728"
   },
   "source": [
    "### Q1. While loops\n",
    "\n",
    "Idea: Check the state of the iteration variable by using `print`."
   ]
  },
  {
   "cell_type": "markdown",
   "id": "ac386bcd",
   "metadata": {
    "id": "ac386bcd"
   },
   "source": [
    "#### Q1.1 Confirm the state of iteration variable (loop counter) by putting `print` there. \n"
   ]
  },
  {
   "cell_type": "code",
   "execution_count": 1,
   "id": "2241cdbf",
   "metadata": {
    "id": "2241cdbf"
   },
   "outputs": [
    {
     "ename": "KeyboardInterrupt",
     "evalue": "",
     "output_type": "error",
     "traceback": [
      "\u001b[0;31m---------------------------------------------------------------------------\u001b[0m",
      "\u001b[0;31mKeyboardInterrupt\u001b[0m                         Traceback (most recent call last)",
      "\u001b[1;32m/Users/christynatalisa/Downloads/Intro to Programming & Data Science/debugging.ipynb Cell 4\u001b[0m in \u001b[0;36m<cell line: 4>\u001b[0;34m()\u001b[0m\n\u001b[1;32m      <a href='vscode-notebook-cell:/Users/christynatalisa/Downloads/Intro%20to%20Programming%20%26%20Data%20Science/debugging.ipynb#W3sZmlsZQ%3D%3D?line=1'>2</a>\u001b[0m i \u001b[39m=\u001b[39m \u001b[39m0\u001b[39m\n\u001b[1;32m      <a href='vscode-notebook-cell:/Users/christynatalisa/Downloads/Intro%20to%20Programming%20%26%20Data%20Science/debugging.ipynb#W3sZmlsZQ%3D%3D?line=2'>3</a>\u001b[0m s \u001b[39m=\u001b[39m \u001b[39m0\u001b[39m \u001b[39m#summation\u001b[39;00m\n\u001b[0;32m----> <a href='vscode-notebook-cell:/Users/christynatalisa/Downloads/Intro%20to%20Programming%20%26%20Data%20Science/debugging.ipynb#W3sZmlsZQ%3D%3D?line=3'>4</a>\u001b[0m \u001b[39mwhile\u001b[39;00m i \u001b[39m<\u001b[39m \u001b[39m10\u001b[39m:\n\u001b[1;32m      <a href='vscode-notebook-cell:/Users/christynatalisa/Downloads/Intro%20to%20Programming%20%26%20Data%20Science/debugging.ipynb#W3sZmlsZQ%3D%3D?line=4'>5</a>\u001b[0m     s \u001b[39m+\u001b[39m\u001b[39m=\u001b[39m i\n",
      "\u001b[0;31mKeyboardInterrupt\u001b[0m: "
     ]
    }
   ],
   "source": [
    "# This program does NOT stop\n",
    "i = 0\n",
    "s = 0 #summation\n",
    "while i < 10:\n",
    "    s += i "
   ]
  },
  {
   "cell_type": "markdown",
   "id": "373f202c",
   "metadata": {
    "id": "373f202c"
   },
   "source": [
    "#### Q1.2 Confirm the state of iteration variable (loop counter) and explain why the following program is wrong. Fix the program."
   ]
  },
  {
   "cell_type": "code",
   "execution_count": 2,
   "id": "dc31209d",
   "metadata": {
    "id": "dc31209d"
   },
   "outputs": [
    {
     "name": "stdout",
     "output_type": "stream",
     "text": [
      "Summation is 54\n"
     ]
    }
   ],
   "source": [
    "# 1+2+...+10 = 55\n",
    "my_list = [1,2,3,4,5,6,7,8,9,10]\n",
    "\n",
    "i = 1\n",
    "s = 0 # summation\n",
    "while i < len(my_list):\n",
    "  s += my_list[i]\n",
    "  i += 1\n",
    "print(f\"Summation is {s}\") # It says 54, which is not correct!"
   ]
  },
  {
   "cell_type": "markdown",
   "id": "f066451b",
   "metadata": {
    "id": "f066451b"
   },
   "source": [
    "### Q2. For loops\n",
    "\n",
    "The following (Q2.X) are *wrong* solutions to the problems in NetID problems (session 10). Confirm it is wrong, `print` the state of variables for each iteration, and debug it."
   ]
  },
  {
   "cell_type": "code",
   "execution_count": null,
   "id": "fe9fd204",
   "metadata": {
    "id": "fe9fd204"
   },
   "outputs": [],
   "source": [
    "import string # using library\n",
    "alphabets =  string.ascii_lowercase\n",
    "digits = string.digits\n",
    "aldigits = string.ascii_lowercase + string.digits\n",
    "aldigits"
   ]
  },
  {
   "cell_type": "markdown",
   "id": "47b057ea",
   "metadata": {
    "id": "47b057ea"
   },
   "source": [
    "#### Q2.1 Original problem: Take user’s input text and save it into a variable (say, `netid`), and check each character of `netid` is legal (included in aldigits) or not. \n",
    "\n",
    "Hint: the `if` condition is wrong. Confirm which character is incorrectly classified by printing `char`"
   ]
  },
  {
   "cell_type": "code",
   "execution_count": null,
   "id": "a46c32b9",
   "metadata": {
    "id": "a46c32b9"
   },
   "outputs": [],
   "source": [
    "netid = input(\"Put a NetID\")\n",
    "for char in netid:\n",
    "    if char not in alphabets or digits:\n",
    "        print(\"please use only alphabets and digits\")\n",
    "        break"
   ]
  },
  {
   "cell_type": "markdown",
   "id": "a60b63d4",
   "metadata": {
    "id": "a60b63d4"
   },
   "source": [
    "#### Q2.2 Original Problem: Take user’s input text and save it into a variable (say, `netid`). Count the number of alphabets and digits. Warn if at least two alphabets and two digits are not included.\n",
    "\n",
    "Hint: The counters there are wrong in some way. Trace the state of them by `print` or pythontutor.com."
   ]
  },
  {
   "cell_type": "code",
   "execution_count": null,
   "id": "016edf14",
   "metadata": {
    "id": "016edf14"
   },
   "outputs": [],
   "source": [
    "netid = input(\"Put a NetID\")\n",
    "for char in netid:\n",
    "    alphabet_count = 0\n",
    "    digit_count = 0\n",
    "    if char in alphabets:\n",
    "        alphabet_count = alphabet_count + 1\n",
    "    if char in digits:\n",
    "        digit_count = digit_count + 1\n",
    "if alphabet_count < 2:\n",
    "    print(\"use at least two alphabets\")\n",
    "if digit_count < 2:\n",
    "    print(\"use at least two digits\")"
   ]
  },
  {
   "cell_type": "markdown",
   "id": "4bdc764c",
   "metadata": {
    "id": "4bdc764c"
   },
   "source": [
    "### Q3. Errors\n"
   ]
  },
  {
   "cell_type": "markdown",
   "id": "d83125af",
   "metadata": {
    "id": "d83125af"
   },
   "source": [
    "In some of the errors, print debug does not work. Fortunately, syntax errors are easier to fix than runtime errors."
   ]
  },
  {
   "cell_type": "markdown",
   "id": "01ded5a0",
   "metadata": {
    "id": "01ded5a0"
   },
   "source": [
    "#### Q3.1 Explain why it is wrong and how to fix it. Optinally, consider why it is saying `int' object is not callable`."
   ]
  },
  {
   "cell_type": "code",
   "execution_count": null,
   "id": "d06343d6",
   "metadata": {
    "id": "d06343d6"
   },
   "outputs": [],
   "source": [
    "2 (1 + 4) #original intention is to obtain 10"
   ]
  },
  {
   "cell_type": "markdown",
   "id": "268afdf1",
   "metadata": {
    "id": "268afdf1"
   },
   "source": [
    "#### Q3.2 Explain what is wrong with the following code"
   ]
  },
  {
   "cell_type": "code",
   "execution_count": null,
   "id": "75fa5f88",
   "metadata": {
    "id": "75fa5f88"
   },
   "outputs": [],
   "source": [
    "x = 0\n",
    "y = 1\n",
    "if True:\n",
    "    x = x + 1\n",
    "      y = y + 2 "
   ]
  },
  {
   "cell_type": "markdown",
   "id": "fb51a39a",
   "metadata": {
    "id": "fb51a39a"
   },
   "source": [
    "#### Q3.3 (challenging) Explain what is wrong with the following code"
   ]
  },
  {
   "cell_type": "code",
   "execution_count": null,
   "id": "93be0b05",
   "metadata": {
    "id": "93be0b05"
   },
   "outputs": [],
   "source": [
    "x = 0\n",
    "y = 1\n",
    "z = 2\n",
    "if True:\n",
    "    x = x + 1\n",
    "    y = y + 2 \n",
    "    z = z + 3"
   ]
  },
  {
   "cell_type": "markdown",
   "id": "4-HxQGHA0Kjb",
   "metadata": {
    "id": "4-HxQGHA0Kjb"
   },
   "source": [
    "#### Q3.4 Explain the error of the following code"
   ]
  },
  {
   "cell_type": "code",
   "execution_count": null,
   "id": "seqUSJSF0rE0",
   "metadata": {
    "id": "seqUSJSF0rE0"
   },
   "outputs": [],
   "source": [
    "#$30 for adults; $22 for seniors; $17 for students.\n",
    "#Free for children under 12.\n",
    "\n",
    "def MET_ticket():\n",
    "    if age < 12:\n",
    "        return 0\n",
    "    elif age >= 65:\n",
    "        return 22\n",
    "    else:\n",
    "        return 30\n",
    "\n",
    "MET_ticket(age = 20)"
   ]
  },
  {
   "cell_type": "markdown",
   "id": "tHsBe39lcs5x",
   "metadata": {
    "id": "tHsBe39lcs5x"
   },
   "source": [
    "#### Q3.5 (Solve this after completing all the other questions.) Create code cells that yields each of \n",
    "\n",
    "* AttributeError\n",
    "* NameError\n",
    "* TypeError\n",
    "* ValueError\n",
    "* IndexError\n",
    "* ZeroDivisionError\n",
    "* OverflowError (a large arithmetic number)\n",
    "* Finite computation but requires a very large amount of computation, which never ends in practice"
   ]
  },
  {
   "cell_type": "markdown",
   "id": "39672241",
   "metadata": {
    "id": "39672241"
   },
   "source": [
    "### Q4. Functions\n",
    "\n",
    "Functions should be tested by calling several values. In particular, some of the functions works 95\\% of the possible inputs but fails in the other 5\\%. The latter examples are called 'corner cases'."
   ]
  },
  {
   "cell_type": "markdown",
   "id": "0a97a8b1",
   "metadata": {
    "id": "0a97a8b1"
   },
   "source": [
    "#### Q4.1 Confirm the behavior of the following function by debug tracer (pythontutor.com). \n",
    "\n",
    "Note: This program works perfectly, but redundant."
   ]
  },
  {
   "cell_type": "code",
   "execution_count": null,
   "id": "4d10a713",
   "metadata": {
    "id": "4d10a713"
   },
   "outputs": [],
   "source": [
    "def one(arg): #a function that checks whether the value is 1 or not\n",
    "    return arg == 1\n",
    "    print(\"arg = \",arg)\n",
    "\n",
    "print(one(1))\n",
    "print(one(2))"
   ]
  },
  {
   "cell_type": "markdown",
   "id": "5f09afcf",
   "metadata": {
    "id": "5f09afcf"
   },
   "source": [
    "#### Q4.2 Consider why the following program is wrong. \n",
    "\n",
    "Hint: \n",
    "\n",
    "* Try calling the `Bronx_zoo_ticket` with several different parameters.\n",
    "* Does it work if we replace every `elif` with `if`? "
   ]
  },
  {
   "cell_type": "code",
   "execution_count": null,
   "id": "3a37c93c",
   "metadata": {
    "id": "3a37c93c"
   },
   "outputs": [],
   "source": [
    "# Adult (age: 13 & over) $33.95\n",
    "# Senior (age: 65 & over) $28.95\n",
    "# Child (age: 3 - 12) $23.95\n",
    "# Child (age: 2 & under) Free\n",
    "\n",
    "def Bronx_zoo_ticket(age):\n",
    "    cost = 0\n",
    "    if age >= 12:\n",
    "        cost = 33.95\n",
    "    elif age >= 65:\n",
    "        value = 28.95\n",
    "    elif age <= 12:\n",
    "        cost = 23.95\n",
    "    elif age <= 2:\n",
    "        cost = 0"
   ]
  },
  {
   "cell_type": "markdown",
   "id": "5087f9da",
   "metadata": {
    "id": "5087f9da"
   },
   "source": [
    "#### Q4.3  Consider the following function `sentiment`. This function takes a string as an input.\n",
    "\n",
    "* If the input includes both \"good\" and \"bad\", then it returns \"mixed\".\n",
    "* If the input only includes \"good\", then it returns \"happy\".\n",
    "* If the input only includes \"bad\", then it returns \"sad\".\n",
    "* If the input does not include \"good\" or \"bad\", then it returns \"neutral\"\n",
    "\n",
    "Find the \"corner case\" of this function."
   ]
  },
  {
   "cell_type": "code",
   "execution_count": null,
   "id": "2e204fc2",
   "metadata": {
    "id": "2e204fc2"
   },
   "outputs": [],
   "source": [
    "def sentiment(my_str):\n",
    "    if \"good\" in my_str:\n",
    "        return \"happy\"\n",
    "    elif \"bad\" in my_str:\n",
    "        return \"sad\"\n",
    "    elif \"good\" in my_str and \"bad\" in my_str:\n",
    "        return \"mixed\"\n",
    "    else:\n",
    "        return \"neutral\""
   ]
  },
  {
   "cell_type": "markdown",
   "id": "bbf15d1d",
   "metadata": {
    "id": "bbf15d1d"
   },
   "source": [
    "#### Q4.4 Consider the following function `leap_year` that checks whether or not the `year` (argument) is leap year. Check the function by calling it several times\n",
    "\n",
    "Definition of the leap year.\n",
    "```\n",
    "A leap year (also known as an intercalary year or bissextile year) is a calendar year that contains an additional day of February 29. A year is leap year if (1) it is divisible by `400` or (2) divisible by `4`, except for years divisible by `100`.\n",
    "```\n",
    "\n",
    "Note: The function is wrong in several ways.\n"
   ]
  },
  {
   "cell_type": "code",
   "execution_count": null,
   "id": "aba52598",
   "metadata": {
    "id": "aba52598"
   },
   "outputs": [],
   "source": [
    "def leap_year(year):\n",
    "    if (year % 4) == 0:\n",
    "        return True\n",
    "    elif (year % 100) == 0:\n",
    "        return False\n",
    "    elif (year % 400) == 0:\n",
    "        return True"
   ]
  }
 ],
 "metadata": {
  "colab": {
   "provenance": []
  },
  "kernelspec": {
   "display_name": "Python 3 (ipykernel)",
   "language": "python",
   "name": "python3"
  },
  "language_info": {
   "codemirror_mode": {
    "name": "ipython",
    "version": 3
   },
   "file_extension": ".py",
   "mimetype": "text/x-python",
   "name": "python",
   "nbconvert_exporter": "python",
   "pygments_lexer": "ipython3",
   "version": "3.9.12"
  }
 },
 "nbformat": 4,
 "nbformat_minor": 5
}
