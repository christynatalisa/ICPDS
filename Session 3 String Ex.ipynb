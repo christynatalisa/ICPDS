{
 "cells": [
  {
   "cell_type": "markdown",
   "id": "f7441113",
   "metadata": {},
   "source": [
    "[Session 3] 01/31/23 String operations, contanetation, multiplication, indexing, slicing"
   ]
  },
  {
   "cell_type": "code",
   "execution_count": 8,
   "id": "30f58410",
   "metadata": {},
   "outputs": [
    {
     "name": "stdout",
     "output_type": "stream",
     "text": [
      "HelloHello\n"
     ]
    }
   ],
   "source": [
    "hello1 = 'Hello'\n",
    "hello2 = \"Hello\"\n",
    "\n",
    "hi = hello1+ hello2\n",
    "print(hi)"
   ]
  },
  {
   "cell_type": "code",
   "execution_count": 7,
   "id": "b01aa9be",
   "metadata": {},
   "outputs": [
    {
     "data": {
      "text/plain": [
       "'Hello'"
      ]
     },
     "execution_count": 7,
     "metadata": {},
     "output_type": "execute_result"
    }
   ],
   "source": [
    "\"\"\"Hello\"\"\"\n",
    "'''Hello'''"
   ]
  },
  {
   "cell_type": "code",
   "execution_count": 10,
   "id": "d22a4864",
   "metadata": {},
   "outputs": [
    {
     "name": "stdout",
     "output_type": "stream",
     "text": [
      "HelloHelloHelloHelloHello\n"
     ]
    },
    {
     "data": {
      "text/plain": [
       "25"
      ]
     },
     "execution_count": 10,
     "metadata": {},
     "output_type": "execute_result"
    }
   ],
   "source": [
    "hello1 = 'Hello'\n",
    "hello2 = \"Hello\"\n",
    "\n",
    "hi = hello1*5\n",
    "print(hi)\n",
    "len(hi)"
   ]
  },
  {
   "cell_type": "code",
   "execution_count": 12,
   "id": "e06e2f4a",
   "metadata": {},
   "outputs": [
    {
     "data": {
      "text/plain": [
       "19"
      ]
     },
     "execution_count": 12,
     "metadata": {},
     "output_type": "execute_result"
    }
   ],
   "source": [
    "x = \"New_York_University\"\n",
    "len (x)\n"
   ]
  },
  {
   "cell_type": "code",
   "execution_count": 14,
   "id": "4de4078d",
   "metadata": {},
   "outputs": [
    {
     "name": "stdout",
     "output_type": "stream",
     "text": [
      "\n",
      "line1\n",
      "line2\n",
      "\n"
     ]
    }
   ],
   "source": [
    "hi = \"\"\"\n",
    "line1\n",
    "line2\n",
    "\"\"\"\n",
    "\n",
    "print(hi)"
   ]
  },
  {
   "cell_type": "code",
   "execution_count": 15,
   "id": "678d7e61",
   "metadata": {},
   "outputs": [
    {
     "name": "stdout",
     "output_type": "stream",
     "text": [
      "line1\n",
      "line2\n"
     ]
    }
   ],
   "source": [
    "hi = \"line1\\nline2\"\n",
    "\n",
    "\n",
    "print(hi)"
   ]
  },
  {
   "cell_type": "code",
   "execution_count": 1,
   "id": "a3b1bf3e",
   "metadata": {},
   "outputs": [
    {
     "name": "stdout",
     "output_type": "stream",
     "text": [
      "19\n",
      "N Y U\n"
     ]
    }
   ],
   "source": [
    "univ = 'New York University'\n",
    "letter1 = univ[0]\n",
    "letter2 = univ[4]\n",
    "letter3 = univ[9]\n",
    "print(len(univ))\n",
    "print(letter1, letter2, letter3)"
   ]
  },
  {
   "cell_type": "code",
   "execution_count": 2,
   "id": "0bf4c7a3",
   "metadata": {},
   "outputs": [
    {
     "name": "stdout",
     "output_type": "stream",
     "text": [
      "New York\n"
     ]
    }
   ],
   "source": [
    "letter1 = univ[0:8]\n",
    "print(letter1)"
   ]
  },
  {
   "cell_type": "code",
   "execution_count": 3,
   "id": "ef2cd766",
   "metadata": {},
   "outputs": [
    {
     "name": "stdout",
     "output_type": "stream",
     "text": [
      "University\n"
     ]
    }
   ],
   "source": [
    "letter1 = univ[-10:]\n",
    "print(letter1)"
   ]
  },
  {
   "cell_type": "code",
   "execution_count": 4,
   "id": "a3085ea8",
   "metadata": {},
   "outputs": [
    {
     "name": "stdout",
     "output_type": "stream",
     "text": [
      "York\n"
     ]
    }
   ],
   "source": [
    "letter1 = univ[-15:-11]\n",
    "print(letter1)"
   ]
  },
  {
   "cell_type": "code",
   "execution_count": null,
   "id": "cc6f6f9c",
   "metadata": {},
   "outputs": [],
   "source": []
  },
  {
   "cell_type": "code",
   "execution_count": null,
   "id": "3568ddb3",
   "metadata": {},
   "outputs": [],
   "source": []
  }
 ],
 "metadata": {
  "kernelspec": {
   "display_name": "Python 3 (ipykernel)",
   "language": "python",
   "name": "python3"
  },
  "language_info": {
   "codemirror_mode": {
    "name": "ipython",
    "version": 3
   },
   "file_extension": ".py",
   "mimetype": "text/x-python",
   "name": "python",
   "nbconvert_exporter": "python",
   "pygments_lexer": "ipython3",
   "version": "3.10.6"
  }
 },
 "nbformat": 4,
 "nbformat_minor": 5
}
