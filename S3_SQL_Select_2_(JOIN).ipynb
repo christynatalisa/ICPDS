{
 "cells": [
  {
   "cell_type": "markdown",
   "metadata": {
    "id": "Sc7ov1-CFsCI"
   },
   "source": [
    "# MySQL SELECT from Database (cont.)"
   ]
  },
  {
   "cell_type": "code",
   "execution_count": 4,
   "metadata": {
    "id": "f_A2sJsh-K4i"
   },
   "outputs": [],
   "source": [
    "from sqlalchemy import create_engine\n",
    "\n",
    "conn_string = 'mysql://{user}:{password}@{host}/{database}?charset=utf8'.format(\n",
    "    host = 'mysql-techub-2300010003-spring.db', \n",
    "    user = 'dbreader',\n",
    "    password = 'ub232023',\n",
    "    database = 'imdb')\n",
    "\n",
    "engine = create_engine(conn_string)\n",
    "con = engine.connect()"
   ]
  },
  {
   "cell_type": "code",
   "execution_count": 5,
   "metadata": {
    "id": "K1n4Ui4Ruky2"
   },
   "outputs": [
    {
     "data": {
      "application/javascript": [
       "\n",
       "    require(['notebook/js/codecell'], function(codecell) {\n",
       "      // https://github.com/jupyter/notebook/issues/2453\n",
       "      codecell.CodeCell.options_default.highlight_modes['magic_text/x-sql'] = {'reg':[/^%read_sql/, /.*=\\s*%read_sql/,\n",
       "                                                                                      /^%%read_sql/]};\n",
       "      Jupyter.notebook.events.one('kernel_ready.Kernel', function(){\n",
       "          console.log('BBBBB');\n",
       "          Jupyter.notebook.get_cells().map(function(cell){\n",
       "              if (cell.cell_type == 'code'){ cell.auto_highlight(); } }) ;\n",
       "      });\n",
       "    });\n",
       "    "
      ]
     },
     "metadata": {},
     "output_type": "display_data"
    }
   ],
   "source": [
    "# Prepare sql_magic library that enable to query to database easily.\n",
    "%reload_ext sql_magic\n",
    "%config SQL.conn_name = 'engine'"
   ]
  },
  {
   "cell_type": "code",
   "execution_count": null,
   "metadata": {
    "id": "pRoICAjnAaU9"
   },
   "outputs": [],
   "source": [
    "# CAUTION! PLEASE RUN THIS CELL! This cell limits the maximum number of records to obtain.\n",
    "%%read_sql\n",
    "SET sql_safe_updates=1, sql_select_limit=1000, max_join_size=1000000000;"
   ]
  },
  {
   "cell_type": "markdown",
   "metadata": {
    "id": "rzOWGMo0ADd2"
   },
   "source": [
    "Now we are all set! Let us start querying data from IMDB database.\n",
    "\n",
    "\n",
    "\n"
   ]
  },
  {
   "cell_type": "code",
   "execution_count": null,
   "metadata": {
    "id": "4j-j5nDDuwrw"
   },
   "outputs": [],
   "source": [
    "# Declare using imdb database.\n",
    "%%read_sql\n",
    "USE imdb;"
   ]
  },
  {
   "cell_type": "code",
   "execution_count": null,
   "metadata": {
    "id": "jZ1K7uhNuxPE"
   },
   "outputs": [],
   "source": [
    "# This shows the list of tables \"NameBasics, TitleAkas, TitleBasics...\"\n",
    "%%read_sql\n",
    "SHOW TABLES;"
   ]
  },
  {
   "cell_type": "markdown",
   "metadata": {
    "id": "P2ka1VUS-niB"
   },
   "source": [
    "## Session starts here."
   ]
  },
  {
   "cell_type": "markdown",
   "metadata": {
    "id": "pOsM5dRVHP2G"
   },
   "source": [
    "See also\n",
    "> https://www.imdb.com/interfaces/"
   ]
  },
  {
   "cell_type": "markdown",
   "metadata": {
    "id": "jAP2x4JrAFLb"
   },
   "source": [
    "#### What is `JOIN`?\n",
    "\n",
    "```\n",
    "A SQL join clause combines records from two or more tables in a database.  (Wikipedia)\n",
    "```\n",
    "\n",
    "Relationals database is all about working with the relationships between tables to answer information needs. In this notebook, we will work on how to use **JOIN** clause to obtain inter-table information.\n",
    "\n"
   ]
  },
  {
   "cell_type": "markdown",
   "metadata": {
    "id": "952pQWeyHYZN"
   },
   "source": [
    "In the IMDB database, each movie / drama is identified by `tconst` (= primary keys). Examples include\n",
    "\n",
    "```\n",
    "https://www.imdb.com/title/tt1136608\n",
    "https://www.imdb.com/title/tt1475582\n",
    "```\n",
    "\n",
    "(ttXXXXXXX corresponds to `tconst`)"
   ]
  },
  {
   "cell_type": "markdown",
   "metadata": {
    "id": "LUw8CxQiLZ51"
   },
   "source": [
    "`tconst` is the primary key of the **`TitleBasics`** table. While this table gives you some basic information, some of related information is not in this table. For example, what is the average rating of Spider-Man series? The rating information is in the **`TitleRatings`** database. We will work on to obtain these information."
   ]
  },
  {
   "cell_type": "markdown",
   "metadata": {
    "id": "2q6nDOzbVDx5"
   },
   "source": [
    "First, identify the `tconst`s of Spider-Man series."
   ]
  },
  {
   "cell_type": "code",
   "execution_count": null,
   "metadata": {
    "id": "jDR_w9fZVZQo"
   },
   "outputs": [],
   "source": [
    "%%read_sql\n",
    "SELECT tconst,primaryTitle,startYear FROM TitleBasics \n",
    "WHERE \n",
    "originalTitle IN (\"Spider-Man\", \"Spider-Man 2\", \"Spider-Man 3\", \"The Amazing Spider-Man\", \"The Amazing Spider-Man 2\") \n",
    "AND\n",
    "titleType = \"movie\"\n",
    ";"
   ]
  },
  {
   "cell_type": "markdown",
   "metadata": {
    "id": "vYZo5zZ1EucE"
   },
   "source": [
    "Syntax of **JOIN** clause is as follows.\n",
    "\n",
    "```\n",
    "SELECT averageRating, numVotes \n",
    "FROM TitleRating r\n",
    "INNER JOIN TitleBasics b ON r.tconst = b.tconst\n",
    "```\n",
    "\n",
    "\n",
    "\n"
   ]
  },
  {
   "cell_type": "markdown",
   "metadata": {
    "id": "ZwfNK-tAGWxe"
   },
   "source": [
    "#### INNER JOIN\n",
    "\n",
    "Combine the information on the TitleBasics table with other tables."
   ]
  },
  {
   "cell_type": "code",
   "execution_count": null,
   "metadata": {
    "id": "fSRsd0lrG1Md"
   },
   "outputs": [],
   "source": [
    "%%read_sql\n",
    "SELECT *\n",
    "FROM TitleRatings r\n",
    "INNER JOIN TitleBasics b ON r.tconst = b.tconst\n",
    "WHERE\n",
    "originalTitle IN (\"Spider-Man\", \"Spider-Man 2\", \"Spider-Man 3\", \"The Amazing Spider-Man\", \"The Amazing Spider-Man 2\") \n",
    "AND\n",
    "titleType = \"movie\"\n",
    ";"
   ]
  },
  {
   "cell_type": "code",
   "execution_count": null,
   "metadata": {
    "id": "bLhg-36zg81n"
   },
   "outputs": [],
   "source": [
    "%%read_sql\n",
    "SELECT *\n",
    "FROM TitlePrincipals p\n",
    "INNER JOIN TitleBasics b ON p.tconst = b.tconst\n",
    "WHERE\n",
    "originalTitle IN (\"The Amazing Spider-Man 2\") \n",
    "AND\n",
    "titleType = \"movie\"\n",
    ";"
   ]
  },
  {
   "cell_type": "markdown",
   "metadata": {
    "id": "Hx6znxxGebx0"
   },
   "source": [
    "We can restrict the columns to show like:"
   ]
  },
  {
   "cell_type": "code",
   "execution_count": null,
   "metadata": {
    "id": "0cP4plb7eaAr"
   },
   "outputs": [],
   "source": [
    "%%read_sql\n",
    "SELECT averageRating, originalTitle\n",
    "FROM TitleRatings r\n",
    "INNER JOIN TitleBasics b ON r.tconst = b.tconst\n",
    "WHERE\n",
    "originalTitle IN (\"Spider-Man\", \"Spider-Man 2\", \"Spider-Man 3\", \"The Amazing Spider-Man\", \"The Amazing Spider-Man 2\") \n",
    "AND\n",
    "titleType = \"movie\"\n",
    ";"
   ]
  },
  {
   "cell_type": "markdown",
   "metadata": {
    "id": "9pryEPbdxpd0"
   },
   "source": [
    "#### Exercise\n",
    "\n",
    "Create queries that answers to the following questions Q1-Q3.\n",
    "\n",
    "\n",
    "\n",
    "```\n",
    "Q1. Find a movie with its **primaryTitle** \"Les Miserables\"\n",
    "      and **startYear**  2012 in **TitleBasics** table.\n",
    "Q2. Find the **averageRating** of the movie by INNER JOINing\n",
    "      the info of Q1 with **TitleRatings** table.\n",
    "    This should return a floating point number \n",
    "Q3. Find the **directors** of the movie by INNER JOINing\n",
    "      the info of Q1 with **TitleCrew** table.\n",
    "    This should return \"nmXXXXXXX\". \n",
    "```\n",
    "\n",
    "\n"
   ]
  },
  {
   "cell_type": "code",
   "execution_count": null,
   "metadata": {
    "id": "9dGWlfCxxrha"
   },
   "outputs": [],
   "source": [
    "%%read_sql\n",
    "# YOUR SQL QUERY for Q1 HERE. REMOVE THIS COMMENT."
   ]
  },
  {
   "cell_type": "code",
   "execution_count": null,
   "metadata": {
    "id": "dvOjHCaY1D7X"
   },
   "outputs": [],
   "source": [
    "%%read_sql\n",
    "# YOUR SQL QUERY for Q2 HERE. REMOVE THIS COMMENT."
   ]
  },
  {
   "cell_type": "code",
   "execution_count": null,
   "metadata": {
    "id": "FxVBpJAw1EEK"
   },
   "outputs": [],
   "source": [
    "%%read_sql\n",
    "# YOUR SQL QUERY for Q3 HERE. REMOVE THIS COMMENT."
   ]
  },
  {
   "cell_type": "markdown",
   "metadata": {
    "id": "MFuZjn-pmUjk"
   },
   "source": [
    "#### **OUTER JOIN**\n",
    "\n",
    "We here demonstrate the difference between **INNER JOIN** and **OUTER JOIN**. While all the records in `TitleRatings` table have tconst (corresponding movie/drama ID), but not all the movie/drama has corresponding `TitleRatings` record. In other words, not all the movies are rated. In this case, INNER JOIN and OUTER JOIN makes a difference. To see this, let us find the information on \"Sherlock\"."
   ]
  },
  {
   "cell_type": "code",
   "execution_count": null,
   "metadata": {
    "id": "FoOYDFp9tFJl"
   },
   "outputs": [],
   "source": [
    "%%read_sql\n",
    "SELECT *\n",
    "FROM TitleRatings r\n",
    "INNER JOIN TitleBasics b ON r.tconst = b.tconst\n",
    "WHERE\n",
    "originalTitle = \"Sherlock\"\n",
    ";"
   ]
  },
  {
   "cell_type": "code",
   "execution_count": null,
   "metadata": {
    "id": "ydFbsZ5KxXEp"
   },
   "outputs": [],
   "source": [
    "%%read_sql\n",
    "SELECT *\n",
    "FROM TitleRatings r\n",
    "RIGHT JOIN TitleBasics b ON r.tconst = b.tconst\n",
    "WHERE\n",
    "originalTitle = \"Sherlock\"\n",
    ";"
   ]
  },
  {
   "cell_type": "markdown",
   "metadata": {
    "id": "3HSsM4Vkfemy"
   },
   "source": [
    "#### JOINING more than 2 tables\n",
    "\n",
    "IMDB database involves \n",
    "\n",
    "1.   movies/dramas identified by `tconst`, and\n",
    "2.   related peoples identified by `nconst`.\n",
    "\n",
    "Basic info of each movie is in `TitleBasics` table, whereas info on each person is in `NameBasics` table. Note that the relation between movies and people are **Many-to-Many**, which implies there is a bridge table that relates two tables. Namely, `TitlePrincipals` table relates the two entities."
   ]
  },
  {
   "cell_type": "markdown",
   "metadata": {
    "id": "3VUnp21Lk8bB"
   },
   "source": [
    "We here retrieve the information on these tables. First, we restrict our attention to the movie \"Spider-Man: Far from Home\" (2019).\n",
    "\n",
    "(or, we may use \"Spider-Man: No Way Home\" (2021))"
   ]
  },
  {
   "cell_type": "code",
   "execution_count": null,
   "metadata": {
    "id": "F7Y2Rog_mrsA"
   },
   "outputs": [],
   "source": [
    "%%read_sql\n",
    "SELECT * FROM TitleBasics \n",
    "WHERE \n",
    "originalTitle = \"Spider-Man: Far from Home\"\n",
    "AND\n",
    "titleType = \"movie\"\n",
    ";"
   ]
  },
  {
   "cell_type": "markdown",
   "metadata": {
    "id": "JVDJmy8BnK90"
   },
   "source": [
    "Let us get the related people related to \"Far from Home\" movie.\n"
   ]
  },
  {
   "cell_type": "code",
   "execution_count": null,
   "metadata": {
    "id": "m08k6RWFnXrU"
   },
   "outputs": [],
   "source": [
    "%%read_sql\n",
    "SELECT nconst, category, job, characters\n",
    "FROM TitlePrincipals p\n",
    "INNER JOIN TitleBasics b ON p.tconst = b.tconst\n",
    "WHERE \n",
    "originalTitle = \"Spider-Man: Far from Home\"\n",
    "AND\n",
    "titleType = \"movie\"\n",
    ";"
   ]
  },
  {
   "cell_type": "markdown",
   "metadata": {
    "id": "njtELW_Wn4f8"
   },
   "source": [
    "We found 9 people. Although the people are identified by `nconst`, above has no information on these people (including their names!). We can manually obtain their information by, for example,"
   ]
  },
  {
   "cell_type": "code",
   "execution_count": null,
   "metadata": {
    "id": "Hi0Gmoq4pQWd"
   },
   "outputs": [],
   "source": [
    "%%read_sql\n",
    "SELECT *\n",
    "FROM NameBasics\n",
    "WHERE \n",
    "nconst = \"nm4043618\"\n",
    ";"
   ]
  },
  {
   "cell_type": "markdown",
   "metadata": {
    "id": "UkfBXiN9poda"
   },
   "source": [
    "The downside of the query above is we need to type the nconst for each person manually. Instead, we would like to obtain information on the people by one query from \"Far from Home\". This can be done by using INNER JOINing three tables."
   ]
  },
  {
   "cell_type": "code",
   "execution_count": null,
   "metadata": {
    "id": "5ejy1BrgrMip"
   },
   "outputs": [],
   "source": [
    "%%read_sql\n",
    "SELECT *\n",
    "FROM TitlePrincipals p\n",
    "INNER JOIN TitleBasics b \n",
    "ON p.tconst = b.tconst\n",
    "INNER JOIN NameBasics n \n",
    "ON p.nconst = n.nconst\n",
    "WHERE \n",
    "originalTitle = \"Spider-Man: Far from Home\"\n",
    "AND\n",
    "titleType = \"movie\"\n",
    ";"
   ]
  },
  {
   "cell_type": "markdown",
   "metadata": {
    "id": "srAhefERrru6"
   },
   "source": [
    "Too much information? Restrict our interest to selected categories."
   ]
  },
  {
   "cell_type": "code",
   "execution_count": null,
   "metadata": {
    "id": "4uVWE61xr2Lr"
   },
   "outputs": [],
   "source": [
    "%%read_sql\n",
    "SELECT primaryName, category, job, characters\n",
    "FROM TitlePrincipals p\n",
    "INNER JOIN TitleBasics b \n",
    "ON p.tconst = b.tconst\n",
    "INNER JOIN NameBasics n \n",
    "ON p.nconst = n.nconst\n",
    "WHERE \n",
    "originalTitle = \"Spider-Man: Far from Home\"\n",
    "AND\n",
    "titleType = \"movie\"\n",
    ";"
   ]
  },
  {
   "cell_type": "markdown",
   "metadata": {
    "id": "I3HIlss91SLZ"
   },
   "source": [
    "#### Exercise (cont. from Q3 in \"Les Miserables\" questions above)\n",
    "\n",
    "\n",
    "```\n",
    "Q4. Find the **PrimaryName** of the director in Les Miserables (2012) by INNER JOINing the info of Q3 with **NameBasics** table.\n",
    "```\n",
    "\n"
   ]
  },
  {
   "cell_type": "code",
   "execution_count": null,
   "metadata": {
    "id": "-vFfVb4C2hP6"
   },
   "outputs": [],
   "source": [
    "%%read_sql\n",
    "# YOUR SQL QUERY for Q4 HERE. REMOVE THIS COMMENT."
   ]
  },
  {
   "cell_type": "markdown",
   "metadata": {
    "id": "GHxYk8zp1aER"
   },
   "source": [
    "#### For future preview\n",
    "\n",
    "The largest advantage of IMDB database is its volume. There are >8M movie/dramas in the database, and statistics is about how we represent large number of datapoints. In the sequel, we will learn how to calculate statistics."
   ]
  },
  {
   "cell_type": "markdown",
   "metadata": {
    "id": "HkkQYeHH3FZ4"
   },
   "source": [
    "### Additional Exercise (if we have time)\n",
    "\n",
    "Find the averageRating of your favorite movie."
   ]
  },
  {
   "cell_type": "code",
   "execution_count": null,
   "metadata": {
    "id": "xgts7IE_3LL6"
   },
   "outputs": [],
   "source": [
    "%%read_sql\n",
    "# YOUR SQL QUERY HERE. REMOVE THIS COMMENT."
   ]
  },
  {
   "cell_type": "markdown",
   "metadata": {
    "id": "vuTQoHNg0YY5"
   },
   "source": [
    "### Additional Exercise (if we have time)\n",
    "\n",
    "IMDB also includes some video games. \n",
    "\n",
    "*   Q1. Find all the video games in IMDB released in 2022.\n",
    "*   Q2. Find all the video games in IMDB released in 2022 and their average rating over 8.5.\n",
    "*   Q3. Find the top-10 video games in 2022 in terms of popularity (i.e., numVotes).\n",
    "\n"
   ]
  },
  {
   "cell_type": "code",
   "execution_count": null,
   "metadata": {
    "id": "ZooASN6u3mLD"
   },
   "outputs": [],
   "source": [
    "%%read_sql\n",
    "# YOUR SQL QUERY for Q1 HERE. REMOVE THIS COMMENT."
   ]
  },
  {
   "cell_type": "code",
   "execution_count": null,
   "metadata": {
    "id": "BxDObpRk3mLD"
   },
   "outputs": [],
   "source": [
    "%%read_sql\n",
    "# YOUR SQL QUERY for Q2 HERE. REMOVE THIS COMMENT."
   ]
  },
  {
   "cell_type": "code",
   "execution_count": null,
   "metadata": {
    "id": "rhJH5MQS4XfM"
   },
   "outputs": [],
   "source": [
    "%%read_sql\n",
    "# YOUR SQL QUERY for Q3 HERE. REMOVE THIS COMMENT."
   ]
  }
 ],
 "metadata": {
  "colab": {
   "machine_shape": "hm",
   "provenance": []
  },
  "kernelspec": {
   "display_name": "Python [conda env:python39]",
   "language": "python",
   "name": "conda-env-python39-py"
  },
  "language_info": {
   "codemirror_mode": {
    "name": "ipython",
    "version": 3
   },
   "file_extension": ".py",
   "mimetype": "text/x-python",
   "name": "python",
   "nbconvert_exporter": "python",
   "pygments_lexer": "ipython3",
   "version": "3.9.16"
  }
 },
 "nbformat": 4,
 "nbformat_minor": 1
}
