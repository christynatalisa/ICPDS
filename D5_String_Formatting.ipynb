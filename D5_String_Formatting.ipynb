{
 "cells": [
  {
   "cell_type": "markdown",
   "metadata": {
    "id": "8N_LO0d_LlaA"
   },
   "source": [
    "# String Formatting: f-String\n",
    "\n",
    "(revised at Feb 8 2021: We now learn [f-String](https://realpython.com/python-f-strings/), which is the most modern way to do string formatting)"
   ]
  },
  {
   "cell_type": "markdown",
   "metadata": {
    "id": "nIc4dcw3LlaJ"
   },
   "source": [
    "Often one wants to embed other information into strings, sometimes with special formatting constraints. In python, one may insert special formatting characters into strings that convey what type of data should be inserted and where, and how the \"stringified\" form should be formatted. For instance:"
   ]
  },
  {
   "cell_type": "code",
   "execution_count": null,
   "metadata": {
    "id": "W5uHudb-LlaP"
   },
   "outputs": [],
   "source": [
    "# Coordinates of Stern's location\n",
    "latitude = \"40.73N\"\n",
    "longitude = \"73.99W\"\n",
    "\n",
    "# Watch out blue \"f\" in front of the text \n",
    "print(f'Coordinates: {latitude}, {longitude}') \n",
    "# what if you remove `{}` ?"
   ]
  },
  {
   "cell_type": "markdown",
   "metadata": {
    "id": "r16pjPm0owax"
   },
   "source": [
    "C.f. [latitude and longitude](https://journeynorth.org/tm/LongitudeIntro.html) "
   ]
  },
  {
   "cell_type": "markdown",
   "metadata": {
    "id": "YAB5hzb3p5eW"
   },
   "source": [
    "#### Exercise\n",
    "Print the price of Apples in a format like `Fuji: $1.29` (*Name* colon space dollar *price*)"
   ]
  },
  {
   "cell_type": "code",
   "execution_count": 2,
   "metadata": {
    "id": "r0qqEynKqr0f"
   },
   "outputs": [],
   "source": [
    "fuji_name = \"Fuji\"\n",
    "fuji_price = 1.29\n",
    "gala_name = \"Gala\"\n",
    "gala_price = 1.19\n",
    "gd_name = \"Golden Delicious\"\n",
    "gd_price = 1.09"
   ]
  },
  {
   "cell_type": "code",
   "execution_count": 3,
   "metadata": {
    "id": "rQc_ujsxq10A"
   },
   "outputs": [
    {
     "name": "stdout",
     "output_type": "stream",
     "text": [
      "Fuji=1.29\n",
      "Gala=1.19\n",
      "Golden Delicious=1.09\n"
     ]
    }
   ],
   "source": [
    "# Naive solution: Print all without using variables\n",
    "\"\"\"\n",
    "Fuji: $1.29\n",
    "Gala: $1.19\n",
    "Golden Delicious: $1.09\n",
    "\"\"\"\n",
    "\n",
    "# Your code here\n",
    "print(f'{fuji_name}={fuji_price}\\n{gala_name}={gala_price}\\n{gd_name}={gd_price}')"
   ]
  },
  {
   "cell_type": "markdown",
   "metadata": {
    "id": "kGRrlSWALla4"
   },
   "source": [
    "#### More formatting options\n",
    "\n",
    "Below we will see a few more options, mainly for formatting numbers. We can achieve the formatting by adding after the number/name the character `:` follows by a set of formatting options."
   ]
  },
  {
   "cell_type": "markdown",
   "metadata": {
    "id": "ay95CrB7LlbD"
   },
   "source": [
    "Some common `type`s: \n",
    "\n",
    "* `d` integer\n",
    "* `f` floating point\n",
    "* `%` percent\n",
    "* `e` exponential format\n",
    "* `c` character\n",
    "* `s` string \n"
   ]
  },
  {
   "cell_type": "markdown",
   "metadata": {
    "id": "cF7_d6bKLlbF"
   },
   "source": [
    "##### Formatting decimal numbers"
   ]
  },
  {
   "cell_type": "code",
   "execution_count": 1,
   "metadata": {
    "id": "rGDSm2aKLlbJ"
   },
   "outputs": [
    {
     "name": "stdout",
     "output_type": "stream",
     "text": [
      "Result: | 4.3478260869565215 |\n"
     ]
    }
   ],
   "source": [
    "# Note: This is *NOT* using f-String formatting.\n",
    "# Notice the spaces before and after the result.\n",
    "print(\"Result: |\",100/23,\"|\")"
   ]
  },
  {
   "cell_type": "code",
   "execution_count": null,
   "metadata": {
    "id": "d0Jo9Fk3Llbq"
   },
   "outputs": [],
   "source": [
    "# Using the f-String notation. Notice that the spaces around the number disappear.\n",
    "num = 100/23\n",
    "print(f\"Result: |{num}|\")"
   ]
  },
  {
   "cell_type": "code",
   "execution_count": null,
   "metadata": {
    "id": "XKmY56PKLlbz"
   },
   "outputs": [],
   "source": [
    "# Now we specify the type of \"num\" and we say it will be a f (= floating point)\n",
    "# Notice that we got a smaller number of decimal digits.\n",
    "num = 100/23\n",
    "print(f\"Result: |{num:f}|\")"
   ]
  },
  {
   "cell_type": "code",
   "execution_count": null,
   "metadata": {
    "id": "Om5nqbyGLlb3"
   },
   "outputs": [],
   "source": [
    "# Now let's specify the length that we want to reserve for the string\n",
    "# The number above took a total of 8 characters (including the decimal)\n",
    "# Now let's specify that we have 10 characters available.\n",
    "# Notice the spaces in front of the number in the result\n",
    "num = 100/23\n",
    "print(f\"Result: |{num:10f}|\")"
   ]
  },
  {
   "cell_type": "code",
   "execution_count": null,
   "metadata": {
    "id": "zd1dZn82Llb8"
   },
   "outputs": [],
   "source": [
    "# 2-digit precision for the decimals\n",
    "num = 100/23\n",
    "print(f\"Result: |{num:.2f}|\")"
   ]
  },
  {
   "cell_type": "code",
   "execution_count": null,
   "metadata": {
    "id": "xBFRDIxzLlcL"
   },
   "outputs": [],
   "source": [
    "# Compare with having 8 digits, 2 for decimals\n",
    "num = 100/23\n",
    "print(f\"Result: |{num:8.2f}|\")"
   ]
  },
  {
   "cell_type": "code",
   "execution_count": null,
   "metadata": {
    "id": "FbzFpwEjJzUw"
   },
   "outputs": [],
   "source": [
    "num = 10/3.\n",
    "print(f\"Result: |{num:f}|\")"
   ]
  },
  {
   "cell_type": "code",
   "execution_count": null,
   "metadata": {
    "id": "lN7vBQS-Llcl"
   },
   "outputs": [],
   "source": [
    "# Or having 8 digits, 5 for decimals\n",
    "print(f\"Result: |{num:8.5f}|\")"
   ]
  },
  {
   "cell_type": "code",
   "execution_count": null,
   "metadata": {
    "id": "dXmDV623upHN"
   },
   "outputs": [],
   "source": [
    "# You may put value directly \n",
    "print(f\"Result: |{100/23:8.5f}|\")"
   ]
  },
  {
   "cell_type": "code",
   "execution_count": null,
   "metadata": {
    "id": "I5mSDBiFLlcs"
   },
   "outputs": [],
   "source": [
    "# Keep seven digits for the whole number, out of which 2 for the decimals\n",
    "print(f\"Result: |{100/23:7.2f}|\")\n",
    "print(f\"Result: |{1000/23:7.2f}|\")\n",
    "print(f\"Result: |{10000/23:7.2f}|\")\n",
    "print(f\"Result: |{100000/23:7.2f}|\")\n",
    "print(f\"Result: |{1000000/23:7.2f}|\")"
   ]
  },
  {
   "cell_type": "markdown",
   "metadata": {
    "id": "QlGkDrHMLlc0"
   },
   "source": [
    "##### Extra options: Comma-separated thousands, zero padding"
   ]
  },
  {
   "cell_type": "code",
   "execution_count": null,
   "metadata": {
    "id": "RBa6-0JHLlc3"
   },
   "outputs": [],
   "source": [
    "# Sixteen digits total and four decimal digits, with comma-separated thousands\n",
    "num = 1000000/7\n",
    "print(f\"Result: |{num:16,.4f}|\")"
   ]
  },
  {
   "cell_type": "markdown",
   "metadata": {
    "id": "4evwBHMJxIXa"
   },
   "source": [
    "#### Exercise\n",
    "\n",
    "You went with 2 friends to a restaurant and shared 236 dollars of food (incl. tax and tip -- we learned how to calculate tax and tips before). You used your credit card and the payment is split into three. Display the amount you paid, with 1-decimal precision by using f-String and 1-digit precision decimal (float)."
   ]
  },
  {
   "cell_type": "code",
   "execution_count": null,
   "metadata": {
    "id": "stZTo07EzBSF"
   },
   "outputs": [],
   "source": [
    "# YOUR ANSWER HERE. Print \"I paid <VALUE_WITH_ONE-DIGIT_PRECISION> dollars in the restaurant.\"."
   ]
  },
  {
   "cell_type": "markdown",
   "metadata": {
    "id": "bj1e9FXT0GOq"
   },
   "source": [
    "If you finish the exercise above and have some time, read the following: The following is about how to print percentages and left-right alignments."
   ]
  },
  {
   "cell_type": "markdown",
   "metadata": {
    "id": "bxPgF5FcLld6"
   },
   "source": [
    "##### Percentages, alignment (may skip depending on timeslot)"
   ]
  },
  {
   "cell_type": "code",
   "execution_count": null,
   "metadata": {
    "id": "133pbL50Lld9"
   },
   "outputs": [],
   "source": [
    "correct = 19\n",
    "total = 22\n",
    "# Expressing a percentage: We use % instead of f\n",
    "# We ask for 7 characters total, and two decimal numbers.\n",
    "# The 7 characters include the % sign, and the decimal point\n",
    "# so we have three characters allocated for the integer part\n",
    "# Our number has only two digits in the integer, so we get an \n",
    "# empty space in front\n",
    "result = correct / total\n",
    "print(f'Correct answers: |{result:7.2%}|')"
   ]
  },
  {
   "cell_type": "code",
   "execution_count": null,
   "metadata": {
    "id": "ZsnGnJVoLleA"
   },
   "outputs": [],
   "source": [
    "# alignment\n",
    "# < means left alignment\n",
    "# 30 means 30 characters allocated for the message\n",
    "# s means string (it is the default, and often omitted)\n",
    "message='left aligned message'\n",
    "print(f'|{message:<30s}|')"
   ]
  },
  {
   "cell_type": "code",
   "execution_count": null,
   "metadata": {
    "id": "p2wO_jC5LleG"
   },
   "outputs": [],
   "source": [
    "# ^ means center alignment\n",
    "message='centered message'\n",
    "print(f'|{message:^30s}|')"
   ]
  },
  {
   "cell_type": "code",
   "execution_count": null,
   "metadata": {
    "id": "KVUmT7_rLleK"
   },
   "outputs": [],
   "source": [
    "# > means right alignment\n",
    "message='right aligned message'\n",
    "print(f'|{message:>30s}|')"
   ]
  },
  {
   "cell_type": "markdown",
   "metadata": {
    "id": "XUsmNprjLleR"
   },
   "source": [
    "#### Exercise (do it yourself)\n"
   ]
  },
  {
   "cell_type": "markdown",
   "metadata": {
    "id": "fUrxSsOcLleS"
   },
   "source": [
    "\n",
    "We have a list of people and scores to display. \n",
    "\n",
    "Write code that:\n",
    "* Align the names to the left, and the scores to the right\n",
    "* Allocate 10 characters for the name, and 5 characters for the score (5 for the integer, one for the decimal point, and 1 for decimal number)\n",
    "\n",
    "We want the outcome to look like this:\n",
    "\n",
    "```\n",
    "Name       Score\n",
    "----       -----\n",
    "Your Name   10.0\n",
    "Keiko        8.5\n",
    "Junpei       7.1\n",
    "``` \n"
   ]
  },
  {
   "cell_type": "code",
   "execution_count": null,
   "metadata": {
    "id": "Ug3y3rRULleV"
   },
   "outputs": [],
   "source": [
    "name1 = \"Your Name\" #Put your name here. \n",
    "name2 = \"Keiko\"\n",
    "name3 = \"Junpei\"\n",
    "score1 = 10.0\n",
    "score2 = 8.51324\n",
    "score3 = 7.12321"
   ]
  }
 ],
 "metadata": {
  "colab": {
   "collapsed_sections": [
    "oHG2itm4Llea"
   ],
   "provenance": []
  },
  "kernelspec": {
   "display_name": "Python 3",
   "language": "python",
   "name": "python3"
  },
  "language_info": {
   "codemirror_mode": {
    "name": "ipython",
    "version": 3
   },
   "file_extension": ".py",
   "mimetype": "text/x-python",
   "name": "python",
   "nbconvert_exporter": "python",
   "pygments_lexer": "ipython3",
   "version": "3.9.0"
  },
  "vscode": {
   "interpreter": {
    "hash": "aee8b7b246df8f9039afb4144a1f6fd8d2ca17a180786b69acc140d282b71a49"
   }
  }
 },
 "nbformat": 4,
 "nbformat_minor": 1
}
