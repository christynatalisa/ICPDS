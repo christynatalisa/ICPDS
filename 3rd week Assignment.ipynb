{
 "cells": [
  {
   "cell_type": "markdown",
   "metadata": {
    "id": "DQceOMwq3kfD"
   },
   "source": [
    "# Assignments 3\n",
    "\n",
    "Due Feb 13 (Mon)\n",
    "\n",
    "* \"Explain\" indicates you are expected to answer in natural language in Markdown cells. The others should be answered by programs (= code cells)."
   ]
  },
  {
   "cell_type": "markdown",
   "metadata": {
    "heading_collapsed": true,
    "id": "PtGOh_kV3kfF"
   },
   "source": [
    "## This assignment is about `conditional` and `functions`\n",
    "\n"
   ]
  },
  {
   "cell_type": "markdown",
   "metadata": {},
   "source": [
    "### Q1. Explain the difference between `=` and `==`"
   ]
  },
  {
   "cell_type": "markdown",
   "metadata": {},
   "source": [
    "`=` is an assignment operator and `==` is for a comparison operator, it checks if one value is exactly the same as the other. "
   ]
  },
  {
   "cell_type": "markdown",
   "metadata": {},
   "source": [
    "### Q2. Explain boolean logic operators (`and`, `or`, and `not`) by showing some examples.\n",
    "\n",
    "Hint: See Notebook E."
   ]
  },
  {
   "cell_type": "markdown",
   "metadata": {},
   "source": [
    "`AND`\n",
    "\n",
    "An `AND` operator compares two Boolean values and returns true only if both values are true.\n",
    "\n",
    "\n",
    "\n",
    "`OR`\n",
    "\n",
    "An `OR` operator compares two Boolean values and returns true if either value is true.\n",
    "\n",
    "\n",
    "\n",
    "`NOT`\n",
    "\n",
    "A `NOT` operator negates a Boolean value, reversing it from true to false or vice versa.\n",
    "\n",
    "\n"
   ]
  },
  {
   "cell_type": "code",
   "execution_count": 16,
   "metadata": {
    "scrolled": true
   },
   "outputs": [
    {
     "name": "stdout",
     "output_type": "stream",
     "text": [
      "True\n",
      "True\n",
      "True\n"
     ]
    }
   ],
   "source": [
    "#AND\n",
    "number = 18\n",
    "print(number == 18 and 'hello' == 'hello')\n",
    "#OR\n",
    "print(True or False == True)\n",
    "#NOT\n",
    "print(not True == False)"
   ]
  },
  {
   "cell_type": "markdown",
   "metadata": {},
   "source": [
    "### Q3. An expression, when evaluated, returns a value. Explain the evaluation of the following expression, step by step. "
   ]
  },
  {
   "cell_type": "code",
   "execution_count": 17,
   "metadata": {},
   "outputs": [
    {
     "data": {
      "text/plain": [
       "False"
      ]
     },
     "execution_count": 17,
     "metadata": {},
     "output_type": "execute_result"
    }
   ],
   "source": [
    "not (1 == 1 and 0 != 1)"
   ]
  },
  {
   "cell_type": "markdown",
   "metadata": {},
   "source": [
    "1. not(True and True)\n",
    "\n",
    "2. not(True)\n",
    "\n",
    "3. False"
   ]
  },
  {
   "cell_type": "markdown",
   "metadata": {},
   "source": [
    "### Q4. Explain the `in` operator. In particular, how it is used and to what kinds of values it returns when it is evaluated?\n"
   ]
  },
  {
   "cell_type": "markdown",
   "metadata": {},
   "source": [
    "the in operator evaluates if a certain value/string is contained/appears in another string"
   ]
  },
  {
   "cell_type": "markdown",
   "metadata": {},
   "source": [
    "### Q5. Explain the `compound statement`. Show two examples of them and what kind of syntax is used there?\n",
    "\n",
    "Hint: There are only two compound statements that appeared in this week."
   ]
  },
  {
   "cell_type": "markdown",
   "metadata": {},
   "source": [
    "Compound statement is a group of two or more statements connected using words such as 'or', 'and', 'if', 'if and only if'. It contains multiple sub-statements, each of which is executed sequentially. \n",
    "For example: "
   ]
  },
  {
   "cell_type": "code",
   "execution_count": 44,
   "metadata": {},
   "outputs": [
    {
     "name": "stdout",
     "output_type": "stream",
     "text": [
      "x is positive\n"
     ]
    }
   ],
   "source": [
    "x = 5\n",
    "\n",
    "if x > 0:\n",
    "    print(\"x is positive\")\n",
    "else:\n",
    "    print(\"x is non-positive\")\n"
   ]
  },
  {
   "cell_type": "markdown",
   "metadata": {},
   "source": [
    "The if-else statement checks a condition and then executes a block of code based on whether the condition is True or False. The if keyword is used to start the statement, followed by a condition in parentheses, and a colon. The statements inside the if block are indented and are executed if the condition is True. The else keyword is used to define the code block to be executed if the condition is False."
   ]
  },
  {
   "cell_type": "markdown",
   "metadata": {},
   "source": [
    "### Q6. Show two examples of `I/O`. Explain the concept of it.\n",
    "\n",
    "See https://wellsr.com/python/basics/python-io-input-output-examples/"
   ]
  },
  {
   "cell_type": "markdown",
   "metadata": {},
   "source": [
    "I/O, or Input/Output, refers to the communication between a computer program and the outside world, such as a user. In Python, you can perform I/O using various functions and methods, such as `input()`, `print()`"
   ]
  },
  {
   "cell_type": "code",
   "execution_count": 36,
   "metadata": {},
   "outputs": [
    {
     "name": "stdout",
     "output_type": "stream",
     "text": [
      "What's your name? christy\n",
      "Hello, christy!\n"
     ]
    }
   ],
   "source": [
    "name = input(\"What's your name? \")\n",
    "print(\"Hello, \" + name + \"!\")"
   ]
  },
  {
   "cell_type": "markdown",
   "metadata": {},
   "source": [
    "### Q7. Write a code that checks whether the article (= string variable `article`) contains all of the following words \"food\", \"restaurant\", \"New York\", \"Village\""
   ]
  },
  {
   "cell_type": "code",
   "execution_count": 21,
   "metadata": {},
   "outputs": [],
   "source": [
    "article = \"\"\"\n",
    "The second branch of the Lower East Side dumpling stall has an expanded menu, including a handful of Japanese dishes. Chinese dumplings are still the most important offering, whether stuffed with meat, seafood, or vegetables. The pork dumplings in spicy sauce with a splash of sesame paste are one of the best things, or go for one of the wedge-shaped sandwiches on sesame bread, which top out at $6.\n",
    "Propel through the grocery section in the front of Zaragoza to find a darling little dining room in the rear, where the food of Puebla has been served since 2000. One specialty of the house is chicken or potato flautas, but you may also get tacos, enchiladas, egg-stuffed Mexican meatballs in chile gravy, shredded beef with chipotle sauce, or cheesy chiles rellenos, depending on what the cook has whipped up that day.\n",
    "This St. Marks cheap eats mainstay peddles the Japanese noodle less ubiquitous in New York, udon — thick, spongy, farinaceous ropes of pleasure, swimming in a rich sweet broth and topped with bonus ingredients. Sure the walk-down space is cramped and dim, but the soups are delicious, including my favorite, fried chicken. The shrimp tempura is equally good, and curries are also available. Cash only.\n",
    "Walking into B&H is travel in a time machine, sending you back to the days when Second Avenue was known as the Yiddish Broadway. It's also one of the few specimens of the Jewish dairy restaurant remaining in the city; it's been around for more than 70 years but was upgraded slightly after an explosion damaged the space. You can't go wrong with one of the vegetarian soups sided with buttered, house-made challah bread sweet as brioche. The place sells fish sandwiches and entrees, too. Sit at the formica lunch counter and kibbitz with the regulars. Cash only.\n",
    "Classic Middle Eastern food — some of the best of it vegetarian — is the forte of Rakka Cafe, which has been on St. Marks for more than three decades. A vegetarian combo might include freshly fried falafel, babaganoush, tabouli, and labneh served with a stack of warm pitas. Meat sandwiches such as lamb shawarma are also bargain priced, and there's outdoor seating in warm weather.\n",
    "This coffee bar produces some of the city's best joe with its own proprietary blends of beans. But a closely held secret is the baking program, helmed by co-owner Liz Quijada. Find a shifting roster of cakes, sweet breads, cookies, and miscellaneous savory items like fritadas and pressed small sandwiches, too. So it's one of the best places in the East Village for a snack, as the samba floats up around you and happy customers chatter in Portuguese, Spanish, or English. Cash only.\n",
    "Right on Tompkins Square, the East Village's iconic snack shop crams a lot of food into a small narrow space with no seating. However, you can stand at the counter and eat your twice cooked french fries, toasted cheese sandwich, ice cream sundae, hot dog with chili, fried Oreos, nachos, or surprisingly good beignets, which get a sprinkle of powdered sugar as they're passed across the counter. Yes, the place is a lovable mess, with pictures of rock stars on the wall. Cash only.\n",
    "It started out as an Italian bakery three decades ago and gradually, most of the baked goods disappeared in favor of Pueblan antojitos. This place was on top of the breakfast taco and burrito thing before any other establishment in town caught on. My favorite dish is chicken enchiladas with guajillo chile sauce, red as a brick and fiery has hell.\n",
    "Of several Punjabi canteens in the East Village, this one is the best. It's also a convenience store, providing only three window stools for dining in, but the food verges on the superb. I'm talking about potato samosas bigger than a wrestler's fist for only $1.50, and “small” servings of chicken curry and pullao rice for $5 that are really much bigger than the designation implies. Ask for chutney and get some very nice green raita on the side.\n",
    "This Puerto Rican cafe has been a neighborhood gathering place since 1976, opened by the late Adela Fargas, and it's still often a lively scene. The paprika dusted rotisserie chickens are fabled, but you'll do just as well with roast pork served with rice and beans, an avocado or octopus salad, or a Cubano or other pressed sandwich. The dining room is comfortable, and the garlicky aroma of the food drifts down Avenue C. Cash only.\n",
    "\"\"\""
   ]
  },
  {
   "cell_type": "code",
   "execution_count": 25,
   "metadata": {},
   "outputs": [
    {
     "name": "stdout",
     "output_type": "stream",
     "text": [
      "Article contains the words = True\n"
     ]
    }
   ],
   "source": [
    "words = [\"food\", \"restaurant\", \"New York\", \"Village\"]\n",
    "document = article\n",
    "is_food = \"food\" in document\n",
    "is_restaurant = \"restaurant\" in document\n",
    "is_new_york = \"New York\" in document\n",
    "is_village = \"Village\" in document\n",
    "is_true = is_food == True and is_restaurant == True and is_new_york == True and is_village == True\n",
    "print(f'Article contains the words = {is_true}')"
   ]
  },
  {
   "cell_type": "markdown",
   "metadata": {},
   "source": [
    "### Q8. Fill in the conditions below.\n",
    "\n",
    "(this question is from the notebook)\n",
    "\n",
    " You need to be 16 years old and above to drive. If you are above 16, you also need to have a driving license. Write a conditional expression that checks the age and prints out: (a) whether the person is too young to drive, (b) whether the person satisfies the age criteria but needs a driving license, or (c) the person can drive.\n"
   ]
  },
  {
   "cell_type": "code",
   "execution_count": 35,
   "metadata": {},
   "outputs": [
    {
     "name": "stdout",
     "output_type": "stream",
     "text": [
      "You can drive.\n"
     ]
    }
   ],
   "source": [
    "age = 20\n",
    "license = True\n",
    "#Write a condition here. use if-else clause that checks age and license. \n",
    "if age < 16:\n",
    "  print(\"Too young to drive.\")\n",
    "elif license == True: #if you have license\n",
    "  print(\"You can drive.\") \n",
    "else: #if you do not have license nor age < 16\n",
    "  print(\"Need a driving license\")"
   ]
  },
  {
   "cell_type": "markdown",
   "metadata": {},
   "source": [
    "### Q9. Write a function `CPZ_ticket` that `return`s the ticket price of the central park zoo. The function takes `age` as a parameter. The price of ticket is below. Test the function by calling it several times.\n",
    "\n",
    "* Adult: \\$19.95\n",
    "* Child (3-12 yo): \\$14.95 \n",
    "* Senior (>= 65 yo): \\$16.95 \n"
   ]
  },
  {
   "cell_type": "code",
   "execution_count": 42,
   "metadata": {},
   "outputs": [
    {
     "name": "stdout",
     "output_type": "stream",
     "text": [
      "enter age = 2\n",
      "Your ticket price is = $free\n"
     ]
    }
   ],
   "source": [
    "# REPLACE THIS WITH YOUR CODE\n",
    "age = int(input('enter age = '))\n",
    "\n",
    "def CPZ_ticket(age):\n",
    "    if 3<= age <= 12:\n",
    "        price = 14.95\n",
    "    elif 12 < age < 65 :\n",
    "        price = 19.95\n",
    "    elif age >= 65:\n",
    "        price = 16.95\n",
    "    else:\n",
    "        price = 'free'\n",
    "\n",
    "    return price\n",
    "\n",
    "print(f'Your ticket price is = ${CPZ_ticket(age)}')"
   ]
  },
  {
   "cell_type": "markdown",
   "metadata": {},
   "source": [
    "### Q10.  Write a function `leap_year` that checks whether or not the `year` (argument) is leap year. Check the function by calling it several times (try 2000, 2200, 2040, 2022, 2023). \n",
    "\n",
    "A leap year (also known as an intercalary year or bissextile year) is a calendar year that contains an additional day of February 29. A year is leap year if (1) it is divisible by `400` or (2) divisible by `4`, except for years divisible by `100`."
   ]
  },
  {
   "cell_type": "code",
   "execution_count": 43,
   "metadata": {},
   "outputs": [
    {
     "name": "stdout",
     "output_type": "stream",
     "text": [
      "True\n",
      "False\n",
      "True\n",
      "False\n",
      "False\n"
     ]
    }
   ],
   "source": [
    "# REPLACE THIS WITH YOUR CODE\n",
    "def is_leap_year(year):\n",
    "    if (year % 400 == 0) or ((year % 4 == 0) and (year % 100 != 0)):\n",
    "        return True\n",
    "    else:\n",
    "        return False\n",
    "    \n",
    "print(is_leap_year(2000)) # True\n",
    "print(is_leap_year(2200)) # False\n",
    "print(is_leap_year(2040)) # True\n",
    "print(is_leap_year(2022)) # False\n",
    "print(is_leap_year(2023)) # False"
   ]
  },
  {
   "cell_type": "code",
   "execution_count": null,
   "metadata": {},
   "outputs": [],
   "source": []
  }
 ],
 "metadata": {
  "colab": {
   "collapsed_sections": [
    "wfg6XEUOsF5r",
    "Su0Y4YyJ3kgD",
    "yZBLvW863khg"
   ],
   "provenance": []
  },
  "kernelspec": {
   "display_name": "Python 3 (ipykernel)",
   "language": "python",
   "name": "python3"
  },
  "language_info": {
   "codemirror_mode": {
    "name": "ipython",
    "version": 3
   },
   "file_extension": ".py",
   "mimetype": "text/x-python",
   "name": "python",
   "nbconvert_exporter": "python",
   "pygments_lexer": "ipython3",
   "version": "3.10.6"
  }
 },
 "nbformat": 4,
 "nbformat_minor": 1
}
