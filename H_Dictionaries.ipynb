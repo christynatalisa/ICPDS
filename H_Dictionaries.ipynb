{
 "cells": [
  {
   "cell_type": "markdown",
   "metadata": {
    "id": "9LoGrKx-tndc"
   },
   "source": [
    "# Dictionaries"
   ]
  },
  {
   "cell_type": "markdown",
   "metadata": {
    "id": "_w4HleAitnde"
   },
   "source": [
    "Dictionaries are data structures containing key-value pairs. \n",
    "\n",
    "Dictionaries have a set of unique keys and are used to retrieve the value information associated with these keys. \n",
    "\n",
    "For instance, a dictionary might be used to store:\n",
    "* for each user (the key), that user's location (the value), or \n",
    "* for each product id (the key), the description associated with that product (the value). \n",
    "\n",
    "Dictionaries are very common and are frequently used and encountered in practice. "
   ]
  },
  {
   "cell_type": "markdown",
   "metadata": {
    "heading_collapsed": true,
    "id": "bna4jFG_tndg"
   },
   "source": [
    "## Creating Dictionaries"
   ]
  },
  {
   "cell_type": "markdown",
   "metadata": {
    "hidden": true,
    "id": "mlQfCCSXtndj"
   },
   "source": [
    "Dictionaries are specified by curly braces, `{ }`, containing zero or more comma-separated key-value pairs. In each key-value pair the keys and values are separated by a colon, `:`."
   ]
  },
  {
   "cell_type": "code",
   "execution_count": null,
   "metadata": {
    "hidden": true,
    "id": "sTSXIJTstndk"
   },
   "outputs": [],
   "source": [
    "# Dictionary with four key value pairs\n",
    "a_dict = {\"a\":1, \"b\":2, \"c\":3, \"d\": 4}\n",
    "\n",
    "# The a, b, c, d are keys\n",
    "# The 1, 2, 3, 4 are values\n",
    "print(a_dict)"
   ]
  },
  {
   "cell_type": "code",
   "execution_count": null,
   "metadata": {
    "hidden": true,
    "id": "VjtyH7aLtndr"
   },
   "outputs": [],
   "source": [
    "# A key cannot be repeated\n",
    "# See what happens when we repeat the key \"c\"\n",
    "a_dict = {\"a\":1, \"b\":2, \"c\":3, \"d\": 4, \"c\": 4}\n",
    "print(a_dict)"
   ]
  },
  {
   "cell_type": "markdown",
   "metadata": {
    "hidden": true,
    "id": "CZI0ErTVtndu"
   },
   "source": [
    "Here is a more realistic dictionary. It contains three keys, \"candy\", \"chocolate\", and \"cookie\". Each of these keys has a value associated with it, which in the case below corresponds to a phone number."
   ]
  },
  {
   "cell_type": "code",
   "execution_count": 1,
   "metadata": {
    "hidden": true,
    "id": "Z4QJrUCztndv"
   },
   "outputs": [
    {
     "name": "stdout",
     "output_type": "stream",
     "text": [
      "{'candy': 100, 'chocolate': 5, 'cookie': 7}\n"
     ]
    }
   ],
   "source": [
    "sweets = {\n",
    "    \"candy\": 100,\n",
    "    \"chocolate\": 5,\n",
    "    \"cookie\" : 7,\n",
    "}\n",
    "\n",
    "print(sweets)"
   ]
  },
  {
   "cell_type": "markdown",
   "metadata": {
    "hidden": true,
    "id": "NJLRBsnEtnd2"
   },
   "source": [
    "And here is another dictionary, with three keys, \"ip\", \"logitude\", and \"latitude\", which capture an IP address and its geolocation."
   ]
  },
  {
   "cell_type": "code",
   "execution_count": null,
   "metadata": {
    "hidden": true,
    "id": "nJSLmiXItnd4"
   },
   "outputs": [],
   "source": [
    "geoip = {\n",
    "    \"longitude\": -73.9965,\n",
    "    \"latitude\": 40.7291,\n",
    "    \"ip\": \"216.165.95.168\"\n",
    "}\n",
    "\n",
    "print(geoip)"
   ]
  },
  {
   "cell_type": "markdown",
   "metadata": {
    "heading_collapsed": true,
    "id": "q5n_zQL0tnd_"
   },
   "source": [
    "## Accessing Dictionary Elements"
   ]
  },
  {
   "cell_type": "markdown",
   "metadata": {
    "hidden": true,
    "id": "oIfCtoB5tneB"
   },
   "source": [
    "To access elements in the dictionary we use the key in brackets, or the `get()` command, as follows:"
   ]
  },
  {
   "cell_type": "code",
   "execution_count": null,
   "metadata": {
    "hidden": true,
    "id": "-gFTGaz_tneC"
   },
   "outputs": [],
   "source": [
    "print(geoip[\"ip\"])"
   ]
  },
  {
   "cell_type": "code",
   "execution_count": null,
   "metadata": {
    "hidden": true,
    "id": "iKxprISutneG"
   },
   "outputs": [],
   "source": [
    "# or, alternatively\n",
    "print(geoip.get(\"ip\"))"
   ]
  },
  {
   "cell_type": "code",
   "execution_count": null,
   "metadata": {
    "hidden": true,
    "id": "-o_joX3atneK"
   },
   "outputs": [],
   "source": [
    "#print(sweets[\"candy\"])\n",
    "sweets[\"candy\"] "
   ]
  },
  {
   "cell_type": "code",
   "execution_count": null,
   "metadata": {
    "hidden": true,
    "id": "irtzIXMttneT"
   },
   "outputs": [],
   "source": [
    "# or, alternatively\n",
    "print(sweets.get(\"candy\"))"
   ]
  },
  {
   "cell_type": "markdown",
   "metadata": {
    "hidden": true,
    "id": "fxu8qDdStneX"
   },
   "source": [
    "### Adding new entries, updating existing ones, deleting entries\n",
    "\n",
    "We can add an entry in the dictionary by assigning a value to a particular key. If the key already exists, the value assigned to that key gets updatd."
   ]
  },
  {
   "cell_type": "code",
   "execution_count": null,
   "metadata": {
    "hidden": true,
    "id": "ktuc4f6dtnec"
   },
   "outputs": [],
   "source": [
    "# Add a new key, \"isp\", with value \"New York University\"\n",
    "geoip[\"isp\"] = \"New York University\"\n",
    "print(geoip)"
   ]
  },
  {
   "cell_type": "code",
   "execution_count": 2,
   "metadata": {
    "hidden": true,
    "id": "B-et9v-wtneh"
   },
   "outputs": [
    {
     "name": "stdout",
     "output_type": "stream",
     "text": [
      "{'candy': 100, 'chocolate': 10, 'cookie': 7, 'donut': 2}\n"
     ]
    }
   ],
   "source": [
    "# Update the valye for \"chocolate\"\n",
    "sweets['chocolate'] = 10\n",
    "# Add a new key, \"donut\", and the corresponding value\n",
    "sweets['donut'] = 2\n",
    "print(sweets)"
   ]
  },
  {
   "cell_type": "markdown",
   "metadata": {
    "hidden": true,
    "id": "Vl_g-bf5tnen"
   },
   "source": [
    "If we want to remove a key `x` from the dictionary, the command `dict.pop(x)` removes the key `x` and its associated value from the dictionary"
   ]
  },
  {
   "cell_type": "code",
   "execution_count": null,
   "metadata": {
    "hidden": true,
    "id": "sOSInCpPtneo"
   },
   "outputs": [],
   "source": [
    "# Remove candy from the phones dictionary\n",
    "sweets.pop('candy')\n",
    "print(sweets)"
   ]
  },
  {
   "cell_type": "markdown",
   "metadata": {
    "heading_collapsed": true,
    "id": "VGAALNqOtnes"
   },
   "source": [
    "## Checking if a key appears in a dictionary\n",
    "\n"
   ]
  },
  {
   "cell_type": "markdown",
   "metadata": {
    "hidden": true,
    "id": "_at4ixHVtnet"
   },
   "source": [
    "Like the set, the easiest way to check if a particular **key** is in a dictionary is through the `in` keyword:"
   ]
  },
  {
   "cell_type": "code",
   "execution_count": null,
   "metadata": {
    "hidden": true,
    "id": "QW93dTPVtneu"
   },
   "outputs": [],
   "source": [
    "\"chocolate\" in sweets"
   ]
  },
  {
   "cell_type": "code",
   "execution_count": null,
   "metadata": {
    "hidden": true,
    "id": "wYBnMWkNtne0"
   },
   "outputs": [],
   "source": [
    "\"cake\" in sweets"
   ]
  },
  {
   "cell_type": "markdown",
   "metadata": {
    "heading_collapsed": true,
    "id": "aBKcR5UjtnfB"
   },
   "source": [
    "## Accessing keys and values"
   ]
  },
  {
   "cell_type": "markdown",
   "metadata": {
    "hidden": true,
    "id": "Pi1-3IaUtnfD"
   },
   "source": [
    "Some common operations on dictionaries:\n",
    "\n",
    "+ `dict.keys()`: returns a list containing the keys of a dictionary\n",
    "+ `dict.values()`: returns a list containing the values in a dictionary"
   ]
  },
  {
   "cell_type": "code",
   "execution_count": null,
   "metadata": {
    "hidden": true,
    "id": "boSQ-Fy7tnfF"
   },
   "outputs": [],
   "source": [
    "sweets = {\n",
    "    \"candy\": 100,\n",
    "    \"chocolate\": 5,\n",
    "    \"cookie\" : 7,\n",
    "    \"donut\": 2\n",
    "}"
   ]
  },
  {
   "cell_type": "code",
   "execution_count": null,
   "metadata": {
    "hidden": true,
    "id": "AglURKWBtnfJ"
   },
   "outputs": [],
   "source": [
    "sweets.keys()"
   ]
  },
  {
   "cell_type": "code",
   "execution_count": null,
   "metadata": {
    "hidden": true,
    "id": "Mh3TOeBNtnfM"
   },
   "outputs": [],
   "source": [
    "sorted(sweets.keys())"
   ]
  },
  {
   "cell_type": "code",
   "execution_count": null,
   "metadata": {
    "hidden": true,
    "id": "r4A0RhmVtnfS"
   },
   "outputs": [],
   "source": [
    "sweets.values()"
   ]
  },
  {
   "cell_type": "markdown",
   "metadata": {
    "heading_collapsed": true,
    "id": "iB9Ec7sftnfW"
   },
   "source": [
    "## Exercise\n",
    "\n"
   ]
  },
  {
   "cell_type": "markdown",
   "metadata": {
    "hidden": true,
    "id": "fACXPqTvtnfX"
   },
   "source": [
    "* Find the common keys in `a_dict` and `b_dict`\n",
    "* (If you have more time) Find the common values in `a_dict` and `b_dict` \n"
   ]
  },
  {
   "cell_type": "code",
   "execution_count": null,
   "metadata": {
    "hidden": true,
    "id": "7v9g2DsDtnfY"
   },
   "outputs": [],
   "source": [
    "a_dict = {\"chocolate\":5 , \"candy\":50, \"donut\":3, \"cookie\": 4}\n",
    "b_dict = {\"candy\":20, \"cookie\":4}\n",
    "print(a_dict)\n",
    "print(b_dict)"
   ]
  },
  {
   "cell_type": "code",
   "execution_count": null,
   "metadata": {
    "hidden": true,
    "id": "cI5fn1p1tnfb",
    "solution2": "hidden"
   },
   "outputs": [],
   "source": [
    "# Lets find the common keys first\n",
    "\n",
    "# Extract the keys from each dictionary. What is the function that returns keys of a dictionary? \n",
    "YOUR CODE HERE\n",
    "\n",
    "# Then compute the intersection\n",
    "# Keys are guaranteed to be unique, so the dict_keys \n",
    "# behaves like a set, and supports set operations\n",
    "# Hint: set intersection operation. See also Notebook G.\n",
    "YOUR CODE HERE\n",
    "\n",
    "# Finally, print common_keys \n",
    "print(\"Common keys\", common_keys)"
   ]
  }
 ],
 "metadata": {
  "colab": {
   "collapsed_sections": [
    "S8vVtI0j5EUR"
   ],
   "provenance": []
  },
  "kernelspec": {
   "display_name": "Python 3 (ipykernel)",
   "language": "python",
   "name": "python3"
  },
  "language_info": {
   "codemirror_mode": {
    "name": "ipython",
    "version": 3
   },
   "file_extension": ".py",
   "mimetype": "text/x-python",
   "name": "python",
   "nbconvert_exporter": "python",
   "pygments_lexer": "ipython3",
   "version": "3.9.0"
  }
 },
 "nbformat": 4,
 "nbformat_minor": 1
}
