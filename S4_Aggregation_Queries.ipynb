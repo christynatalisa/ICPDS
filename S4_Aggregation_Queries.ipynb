{
 "cells": [
  {
   "cell_type": "markdown",
   "metadata": {
    "id": "Sc7ov1-CFsCI"
   },
   "source": [
    "# MySQL Aggregation Queries"
   ]
  },
  {
   "cell_type": "code",
   "execution_count": 1,
   "metadata": {
    "id": "VMVDBih2F0jU"
   },
   "outputs": [],
   "source": [
    "from sqlalchemy import create_engine\n",
    "\n",
    "conn_string = 'mysql://{user}:{password}@{host}/{database}?charset=utf8'.format(\n",
    "    host = 'mysql-techub-2300010003-spring.db', \n",
    "    user = 'dbreader',\n",
    "    password = 'ub232023',\n",
    "    database = 'imdb')\n",
    "\n",
    "engine = create_engine(conn_string)\n",
    "con = engine.connect()"
   ]
  },
  {
   "cell_type": "code",
   "execution_count": 2,
   "metadata": {
    "id": "K1n4Ui4Ruky2"
   },
   "outputs": [
    {
     "data": {
      "application/javascript": [
       "\n",
       "    require(['notebook/js/codecell'], function(codecell) {\n",
       "      // https://github.com/jupyter/notebook/issues/2453\n",
       "      codecell.CodeCell.options_default.highlight_modes['magic_text/x-sql'] = {'reg':[/^%read_sql/, /.*=\\s*%read_sql/,\n",
       "                                                                                      /^%%read_sql/]};\n",
       "      Jupyter.notebook.events.one('kernel_ready.Kernel', function(){\n",
       "          console.log('BBBBB');\n",
       "          Jupyter.notebook.get_cells().map(function(cell){\n",
       "              if (cell.cell_type == 'code'){ cell.auto_highlight(); } }) ;\n",
       "      });\n",
       "    });\n",
       "    "
      ]
     },
     "metadata": {},
     "output_type": "display_data"
    }
   ],
   "source": [
    "# Prepare sql_magic library that enable to query to database easily.\n",
    "%reload_ext sql_magic\n",
    "%config SQL.conn_name = 'engine'"
   ]
  },
  {
   "cell_type": "code",
   "execution_count": null,
   "metadata": {
    "colab": {
     "base_uri": "https://localhost:8080/"
    },
    "id": "pRoICAjnAaU9",
    "outputId": "fe836822-d5b5-4978-8aed-8480f28442a7"
   },
   "outputs": [
    {
     "name": "stdout",
     "output_type": "stream",
     "text": [
      "Query started at 02:53:02 AM UTC; Query executed in 0.02 m"
     ]
    },
    {
     "data": {
      "text/plain": [
       "<sql_magic.exceptions.EmptyResult at 0x7f13c4d52050>"
      ]
     },
     "execution_count": 6,
     "metadata": {},
     "output_type": "execute_result"
    }
   ],
   "source": [
    "# CAUTION! PLEASE RUN THIS CELL! This cell limits the maximum number of records to obtain.\n",
    "%%read_sql\n",
    "SET sql_safe_updates=1, sql_select_limit=1000, max_join_size=1000000000;"
   ]
  },
  {
   "cell_type": "markdown",
   "metadata": {
    "id": "rzOWGMo0ADd2"
   },
   "source": [
    "Now we are all set! Let us start querying data from IMDB database.\n",
    "\n",
    "\n",
    "\n"
   ]
  },
  {
   "cell_type": "code",
   "execution_count": null,
   "metadata": {
    "id": "kWncpAuWzbWT"
   },
   "outputs": [],
   "source": [
    "# Check there is imdb database. \n",
    "%%read_sql\n",
    "SHOW DATABASES;"
   ]
  },
  {
   "cell_type": "code",
   "execution_count": null,
   "metadata": {
    "id": "jZ1K7uhNuxPE"
   },
   "outputs": [],
   "source": [
    "# This shows the list of tables \"NameBasics, TitleAkas, TitleBasics...\"\n",
    "%%read_sql\n",
    "SHOW TABLES;"
   ]
  },
  {
   "cell_type": "markdown",
   "metadata": {
    "id": "P2ka1VUS-niB"
   },
   "source": [
    "## Session starts here."
   ]
  },
  {
   "cell_type": "markdown",
   "metadata": {
    "id": "pOsM5dRVHP2G"
   },
   "source": [
    "See also\n",
    "> https://www.imdb.com/interfaces/"
   ]
  },
  {
   "cell_type": "markdown",
   "metadata": {
    "id": "jAP2x4JrAFLb"
   },
   "source": [
    "#### COUNT queries\n",
    "\n"
   ]
  },
  {
   "cell_type": "markdown",
   "metadata": {
    "id": "ADpmYR-P0WzV"
   },
   "source": [
    "The simplest COUNT query would be"
   ]
  },
  {
   "cell_type": "code",
   "execution_count": null,
   "metadata": {
    "id": "jDR_w9fZVZQo"
   },
   "outputs": [],
   "source": [
    "%%read_sql\n",
    "SELECT count(*) FROM TitleBasics ;"
   ]
  },
  {
   "cell_type": "markdown",
   "metadata": {
    "id": "9cvgtXCoHbaN"
   },
   "source": [
    "which counts # of records in the TitleBasics table."
   ]
  },
  {
   "cell_type": "markdown",
   "metadata": {
    "id": "bxl_nzOYIH1i"
   },
   "source": [
    "The next query counts # of records with **Non-NULL startYear**."
   ]
  },
  {
   "cell_type": "code",
   "execution_count": null,
   "metadata": {
    "colab": {
     "base_uri": "https://localhost:8080/",
     "height": 99
    },
    "id": "7P0IRzWsIbrh",
    "outputId": "ad7a42b6-60b1-4043-afdc-3b63cd27ef5c"
   },
   "outputs": [
    {
     "name": "stdout",
     "output_type": "stream",
     "text": [
      "Query started at 02:27:56 AM UTC; Query executed in 0.08 m"
     ]
    },
    {
     "data": {
      "text/html": [
       "\n",
       "  <div id=\"df-ff219274-4e9f-4a77-9ec7-3e2a43e1c778\">\n",
       "    <div class=\"colab-df-container\">\n",
       "      <div>\n",
       "<style scoped>\n",
       "    .dataframe tbody tr th:only-of-type {\n",
       "        vertical-align: middle;\n",
       "    }\n",
       "\n",
       "    .dataframe tbody tr th {\n",
       "        vertical-align: top;\n",
       "    }\n",
       "\n",
       "    .dataframe thead th {\n",
       "        text-align: right;\n",
       "    }\n",
       "</style>\n",
       "<table border=\"1\" class=\"dataframe\">\n",
       "  <thead>\n",
       "    <tr style=\"text-align: right;\">\n",
       "      <th></th>\n",
       "      <th>count(startYear)</th>\n",
       "    </tr>\n",
       "  </thead>\n",
       "  <tbody>\n",
       "    <tr>\n",
       "      <th>0</th>\n",
       "      <td>7615673</td>\n",
       "    </tr>\n",
       "  </tbody>\n",
       "</table>\n",
       "</div>\n",
       "      <button class=\"colab-df-convert\" onclick=\"convertToInteractive('df-ff219274-4e9f-4a77-9ec7-3e2a43e1c778')\"\n",
       "              title=\"Convert this dataframe to an interactive table.\"\n",
       "              style=\"display:none;\">\n",
       "        \n",
       "  <svg xmlns=\"http://www.w3.org/2000/svg\" height=\"24px\"viewBox=\"0 0 24 24\"\n",
       "       width=\"24px\">\n",
       "    <path d=\"M0 0h24v24H0V0z\" fill=\"none\"/>\n",
       "    <path d=\"M18.56 5.44l.94 2.06.94-2.06 2.06-.94-2.06-.94-.94-2.06-.94 2.06-2.06.94zm-11 1L8.5 8.5l.94-2.06 2.06-.94-2.06-.94L8.5 2.5l-.94 2.06-2.06.94zm10 10l.94 2.06.94-2.06 2.06-.94-2.06-.94-.94-2.06-.94 2.06-2.06.94z\"/><path d=\"M17.41 7.96l-1.37-1.37c-.4-.4-.92-.59-1.43-.59-.52 0-1.04.2-1.43.59L10.3 9.45l-7.72 7.72c-.78.78-.78 2.05 0 2.83L4 21.41c.39.39.9.59 1.41.59.51 0 1.02-.2 1.41-.59l7.78-7.78 2.81-2.81c.8-.78.8-2.07 0-2.86zM5.41 20L4 18.59l7.72-7.72 1.47 1.35L5.41 20z\"/>\n",
       "  </svg>\n",
       "      </button>\n",
       "      \n",
       "  <style>\n",
       "    .colab-df-container {\n",
       "      display:flex;\n",
       "      flex-wrap:wrap;\n",
       "      gap: 12px;\n",
       "    }\n",
       "\n",
       "    .colab-df-convert {\n",
       "      background-color: #E8F0FE;\n",
       "      border: none;\n",
       "      border-radius: 50%;\n",
       "      cursor: pointer;\n",
       "      display: none;\n",
       "      fill: #1967D2;\n",
       "      height: 32px;\n",
       "      padding: 0 0 0 0;\n",
       "      width: 32px;\n",
       "    }\n",
       "\n",
       "    .colab-df-convert:hover {\n",
       "      background-color: #E2EBFA;\n",
       "      box-shadow: 0px 1px 2px rgba(60, 64, 67, 0.3), 0px 1px 3px 1px rgba(60, 64, 67, 0.15);\n",
       "      fill: #174EA6;\n",
       "    }\n",
       "\n",
       "    [theme=dark] .colab-df-convert {\n",
       "      background-color: #3B4455;\n",
       "      fill: #D2E3FC;\n",
       "    }\n",
       "\n",
       "    [theme=dark] .colab-df-convert:hover {\n",
       "      background-color: #434B5C;\n",
       "      box-shadow: 0px 1px 3px 1px rgba(0, 0, 0, 0.15);\n",
       "      filter: drop-shadow(0px 1px 2px rgba(0, 0, 0, 0.3));\n",
       "      fill: #FFFFFF;\n",
       "    }\n",
       "  </style>\n",
       "\n",
       "      <script>\n",
       "        const buttonEl =\n",
       "          document.querySelector('#df-ff219274-4e9f-4a77-9ec7-3e2a43e1c778 button.colab-df-convert');\n",
       "        buttonEl.style.display =\n",
       "          google.colab.kernel.accessAllowed ? 'block' : 'none';\n",
       "\n",
       "        async function convertToInteractive(key) {\n",
       "          const element = document.querySelector('#df-ff219274-4e9f-4a77-9ec7-3e2a43e1c778');\n",
       "          const dataTable =\n",
       "            await google.colab.kernel.invokeFunction('convertToInteractive',\n",
       "                                                     [key], {});\n",
       "          if (!dataTable) return;\n",
       "\n",
       "          const docLinkHtml = 'Like what you see? Visit the ' +\n",
       "            '<a target=\"_blank\" href=https://colab.research.google.com/notebooks/data_table.ipynb>data table notebook</a>'\n",
       "            + ' to learn more about interactive tables.';\n",
       "          element.innerHTML = '';\n",
       "          dataTable['output_type'] = 'display_data';\n",
       "          await google.colab.output.renderOutput(dataTable, element);\n",
       "          const docLink = document.createElement('div');\n",
       "          docLink.innerHTML = docLinkHtml;\n",
       "          element.appendChild(docLink);\n",
       "        }\n",
       "      </script>\n",
       "    </div>\n",
       "  </div>\n",
       "  "
      ],
      "text/plain": [
       "   count(startYear)\n",
       "0           7615673"
      ]
     },
     "execution_count": 9,
     "metadata": {},
     "output_type": "execute_result"
    }
   ],
   "source": [
    "%%read_sql\n",
    "SELECT count(startYear) FROM TitleBasics ;"
   ]
  },
  {
   "cell_type": "markdown",
   "metadata": {
    "id": "NPLbL9eu9IUZ"
   },
   "source": [
    "Similarly, the next query counts # of records with **Non-NULL endYear**."
   ]
  },
  {
   "cell_type": "code",
   "execution_count": null,
   "metadata": {
    "id": "Z01PaDoyITm8"
   },
   "outputs": [],
   "source": [
    "%%read_sql\n",
    "SELECT count(endYear) FROM TitleBasics ;"
   ]
  },
  {
   "cell_type": "markdown",
   "metadata": {
    "id": "3XaWUSboIleW"
   },
   "source": [
    "Remember that **DISTINCT** query returns the records with distinct element. For example, the following query returns each possible titleTypes."
   ]
  },
  {
   "cell_type": "code",
   "execution_count": null,
   "metadata": {
    "id": "Tk7Vv1V0I0wI"
   },
   "outputs": [],
   "source": [
    "%%read_sql\n",
    "SELECT DISTINCT titleType FROM TitleBasics;"
   ]
  },
  {
   "cell_type": "markdown",
   "metadata": {
    "id": "rkQeRgIwJ1xy"
   },
   "source": [
    "**COUNT(DISTINCT attr)** counts the number of distinct, non-Null values for the attribute in the group."
   ]
  },
  {
   "cell_type": "code",
   "execution_count": null,
   "metadata": {
    "id": "_RdLV_ZSJ0vB"
   },
   "outputs": [],
   "source": [
    "%%read_sql\n",
    "SELECT COUNT(DISTINCT titleType) FROM TitleBasics;"
   ]
  },
  {
   "cell_type": "markdown",
   "metadata": {
    "id": "1g2X68kO9c8t"
   },
   "source": [
    "#### **MAX** and **MIN**"
   ]
  },
  {
   "cell_type": "markdown",
   "metadata": {
    "id": "-0xT0w5oMOxO"
   },
   "source": [
    "**MAX** return the record of maximum attirbute value in the group."
   ]
  },
  {
   "cell_type": "code",
   "execution_count": null,
   "metadata": {
    "id": "MelIbbvoMtQM"
   },
   "outputs": [],
   "source": [
    "%%read_sql\n",
    "SELECT MAX(startYear) FROM TitleBasics;"
   ]
  },
  {
   "cell_type": "markdown",
   "metadata": {
    "id": "QBVlEBAgOQ4X"
   },
   "source": [
    "You can take a max of a text attribute (alphabetical order)."
   ]
  },
  {
   "cell_type": "code",
   "execution_count": null,
   "metadata": {
    "id": "s3x_GdqkOZi3"
   },
   "outputs": [],
   "source": [
    "%%read_sql\n",
    "SELECT MAX(titleType) FROM TitleBasics;"
   ]
  },
  {
   "cell_type": "markdown",
   "metadata": {
    "id": "WkUCPB5QPzPE"
   },
   "source": [
    "Of course, there is corresponding **MIN** clause."
   ]
  },
  {
   "cell_type": "code",
   "execution_count": null,
   "metadata": {
    "id": "g6PRu8VEP31y"
   },
   "outputs": [],
   "source": [
    "%%read_sql\n",
    "SELECT MIN(startYear) FROM TitleBasics;"
   ]
  },
  {
   "cell_type": "code",
   "execution_count": null,
   "metadata": {
    "id": "iWhwrJS59mpj"
   },
   "outputs": [],
   "source": [
    "%%read_sql\n",
    "SELECT MIN(titleType) FROM TitleBasics;"
   ]
  },
  {
   "cell_type": "markdown",
   "metadata": {
    "id": "ZwfNK-tAGWxe"
   },
   "source": [
    "#### Statistics\n",
    "\n",
    "**SUM** and **AVG** (average) value of an attribute are also calculated as follows."
   ]
  },
  {
   "cell_type": "code",
   "execution_count": null,
   "metadata": {
    "id": "fSRsd0lrG1Md"
   },
   "outputs": [],
   "source": [
    "%%read_sql\n",
    "SELECT AVG(averageRating) FROM TitleRatings;"
   ]
  },
  {
   "cell_type": "code",
   "execution_count": null,
   "metadata": {
    "id": "S-oLU1SSRGP8"
   },
   "outputs": [],
   "source": [
    "%%read_sql\n",
    "SELECT SUM(averageRating) FROM TitleRatings;"
   ]
  },
  {
   "cell_type": "markdown",
   "metadata": {
    "id": "Rnq1yssqRijb"
   },
   "source": [
    "The following is another way to calculate the average of the rating."
   ]
  },
  {
   "cell_type": "code",
   "execution_count": null,
   "metadata": {
    "id": "2B2gFJgJRZkI"
   },
   "outputs": [],
   "source": [
    "%%read_sql\n",
    "SELECT SUM(averageRating) / COUNT(averageRating) FROM TitleRatings;"
   ]
  },
  {
   "cell_type": "markdown",
   "metadata": {
    "id": "QtekC5Uw98H2"
   },
   "source": [
    "#### Average movie rating of an actor"
   ]
  },
  {
   "cell_type": "markdown",
   "metadata": {
    "id": "A6JpyhIJ-4RW"
   },
   "source": [
    "`nm0000216` is the nconst of Arnold Schwarzenegger. The following query shows the averageRating of the movies that he is appearing. "
   ]
  },
  {
   "cell_type": "code",
   "execution_count": null,
   "metadata": {
    "id": "MRgB4dXH9fo0"
   },
   "outputs": [],
   "source": [
    "%%read_sql\n",
    "SELECT averageRating,originalTitle\n",
    "FROM TitleRatings r\n",
    "INNER JOIN TitleBasics b \n",
    "ON r.tconst = b.tconst\n",
    "INNER JOIN TitlePrincipals p\n",
    "ON p.tconst = b.tconst\n",
    "WHERE nconst = \"nm0000216\"\n",
    ";"
   ]
  },
  {
   "cell_type": "code",
   "execution_count": null,
   "metadata": {
    "id": "6embEe5_BeQ9"
   },
   "outputs": [],
   "source": [
    "%%read_sql\n",
    "SELECT AVG(averageRating)\n",
    "FROM TitleRatings r\n",
    "INNER JOIN TitleBasics b \n",
    "ON r.tconst = b.tconst\n",
    "INNER JOIN TitlePrincipals p\n",
    "ON p.tconst = b.tconst\n",
    "WHERE nconst = \"nm0000216\"\n",
    ";"
   ]
  },
  {
   "cell_type": "markdown",
   "metadata": {
    "id": "KUPBW9D5SXb6"
   },
   "source": [
    "#### Exercise\n",
    "\n",
    "Write queries that answer to the following questions.\n",
    "\n",
    "1.   Find the `nconst` of Natalie Portman (= primaryName) from NameBasics table.\n",
    "2.   Find all the tconst of the movies / TV series, etc where Natalie Portman is acting by joining it with TitlePrincipals table.\n",
    "3.   Find average of `averageRating` of the moviews where Natalie Portman is acting by joining the result of Q2 with TitleRatings table."
   ]
  },
  {
   "cell_type": "code",
   "execution_count": null,
   "metadata": {
    "id": "lCWEyx4I_A1F"
   },
   "outputs": [],
   "source": [
    "# Your Solution to Q1\n",
    "%%read_sql\n",
    "# YOUR QUERY HERE (REMOVE THIS COMMENT)"
   ]
  },
  {
   "cell_type": "code",
   "execution_count": null,
   "metadata": {
    "id": "AubUq6OS_kvb"
   },
   "outputs": [],
   "source": [
    "# Your Solution to Q2\n",
    "%%read_sql\n",
    "# YOUR QUERY HERE (REMOVE THIS COMMENT)"
   ]
  },
  {
   "cell_type": "code",
   "execution_count": null,
   "metadata": {
    "id": "d2j9UQVF_v3l"
   },
   "outputs": [],
   "source": [
    "# Your Solution to Q3\n",
    "%%read_sql\n",
    "# YOUR QUERY HERE (REMOVE THIS COMMENT)"
   ]
  },
  {
   "cell_type": "markdown",
   "metadata": {
    "id": "gJ_SxAxJ8BrG"
   },
   "source": [
    "#### NOTE: in the subsequent cells we are working on **GROUP BY** queries, which is usually computation heavy and thus tend to be slow."
   ]
  },
  {
   "cell_type": "markdown",
   "metadata": {
    "id": "KqrhUN79uHzh"
   },
   "source": [
    "#### **GROUP BY** queries"
   ]
  },
  {
   "cell_type": "markdown",
   "metadata": {
    "id": "zM83aIK5AWUT"
   },
   "source": [
    "The **GROUP BY** clause sorts data into groups for the purpose of aggregation. It is similar to ORDER BY, but it occurs in an earlier stage of the query process. The resutl of GROUP BY is used to organize the data before other clauses."
   ]
  },
  {
   "cell_type": "markdown",
   "metadata": {
    "id": "qisNml_jAJ2g"
   },
   "source": [
    "The following is the average value of the startYear (released year) of each titleType."
   ]
  },
  {
   "cell_type": "code",
   "execution_count": null,
   "metadata": {
    "id": "4MxBfbZTTOwb"
   },
   "outputs": [],
   "source": [
    "%%read_sql\n",
    "SELECT AVG(startYear),titleType FROM TitleBasics\n",
    "GROUP BY titleType;"
   ]
  },
  {
   "cell_type": "markdown",
   "metadata": {
    "id": "F761p17mBXbO"
   },
   "source": [
    "Notice that **titleType** attribute appears in GROUP BY clause. All attribute might be the aggregated value or the attribute that appears in GROUP BY clause."
   ]
  },
  {
   "cell_type": "markdown",
   "metadata": {
    "id": "yV3s_u85A-7Y"
   },
   "source": [
    "The following counts the number of movies released in each year."
   ]
  },
  {
   "cell_type": "code",
   "execution_count": null,
   "metadata": {
    "id": "3TzSs3LF8e1j"
   },
   "outputs": [],
   "source": [
    "%%read_sql\n",
    "SELECT startYear, COUNT(*) FROM TitleBasics\n",
    "WHERE \n",
    "startYear > 2000 AND startYear < 2020\n",
    "AND\n",
    "titleType = \"movie\"\n",
    "GROUP BY startYear\n",
    ";"
   ]
  },
  {
   "cell_type": "markdown",
   "metadata": {
    "id": "VuJ5oRZEuuL4"
   },
   "source": [
    "The following group query is combined with AVG, which calculate the averaged rating of movies in each year."
   ]
  },
  {
   "cell_type": "code",
   "execution_count": null,
   "metadata": {
    "id": "crIDlaby7QaE"
   },
   "outputs": [],
   "source": [
    "%%read_sql\n",
    "SELECT AVG(averageRating),startYear\n",
    "FROM TitleRatings r\n",
    "INNER JOIN TitleBasics b ON r.tconst = b.tconst\n",
    "WHERE \n",
    "startYear >= 2010 AND startYear <= 2019\n",
    "AND \n",
    "titleType = \"tvSeries\"\n",
    "GROUP BY startYear\n",
    ";"
   ]
  },
  {
   "cell_type": "code",
   "execution_count": null,
   "metadata": {
    "id": "obO4VB9go1qX"
   },
   "outputs": [],
   "source": [
    "# CAUTION! PLEASE RUN THIS CELL! This cell limits the maximum number of records to obtain.\n",
    "%%read_sql\n",
    "SET sql_safe_updates=1, sql_select_limit=1000, max_join_size=1000000000;"
   ]
  },
  {
   "cell_type": "code",
   "execution_count": null,
   "metadata": {
    "id": "MJ30xPmpm2pK"
   },
   "outputs": [],
   "source": [
    "%%read_sql\n",
    "select * from TitlePrincipals limit 1000;"
   ]
  },
  {
   "cell_type": "markdown",
   "metadata": {
    "id": "okkjsfzxuvMP"
   },
   "source": [
    "#### **HAVING** clause\n",
    "\n",
    "**HAVING** is the aggregated version of **WHERE** query. The following query is the number of movies where Bruce Willis (nm0000246) participated for each year."
   ]
  },
  {
   "cell_type": "code",
   "execution_count": null,
   "metadata": {
    "id": "y5IHvRNGDXZn"
   },
   "outputs": [],
   "source": [
    "%%read_sql\n",
    "SELECT startYear, count(*) FROM TitlePrincipals p\n",
    "INNER JOIN TitleBasics b\n",
    "ON\n",
    "p.tconst = b.tconst\n",
    "WHERE\n",
    "nconst = \"nm0000246\"\n",
    "AND\n",
    "titleType = \"movie\"\n",
    "GROUP BY startYear\n",
    "HAVING count(*) >= 3\n",
    "ORDER BY startYear\n",
    ";"
   ]
  },
  {
   "cell_type": "markdown",
   "metadata": {
    "id": "ZKxV3m6gFc79"
   },
   "source": [
    "#### Exercises (solve it!)"
   ]
  },
  {
   "cell_type": "markdown",
   "metadata": {
    "id": "klmR1gVxFjSb"
   },
   "source": [
    "1.   Obtain average of `averageRating` of the all the movies in 2021 (Hint, Use AVG, JOIN, WHERE).\n",
    "2.   Obtain average of `averageRating` of all the rows of 2021, grouped by `titleType` (ex: movie, TVSeries, ...).\n",
    "3.   Obtain average of `averageRating` of all the rows of 2021, grouped by `titleType` (ex: movie, TVSeries, ...). Here, restrict the titleTypes to keep titleTypes **having** more than 1000 rows."
   ]
  },
  {
   "cell_type": "code",
   "execution_count": null,
   "metadata": {
    "id": "mh_34itAFx8F"
   },
   "outputs": [],
   "source": [
    "%%read_sql\n",
    "# Your solution to Q1"
   ]
  },
  {
   "cell_type": "code",
   "execution_count": null,
   "metadata": {
    "id": "O3SqRMATG2EZ"
   },
   "outputs": [],
   "source": [
    "%%read_sql\n",
    "# Your solution to Q2"
   ]
  },
  {
   "cell_type": "code",
   "execution_count": null,
   "metadata": {
    "id": "EV4aUHW9HSs2"
   },
   "outputs": [],
   "source": [
    "%%read_sql\n",
    "# Your solution to Q3"
   ]
  },
  {
   "cell_type": "markdown",
   "metadata": {
    "id": "wYIoqxUiFKos"
   },
   "source": [
    "#### Exercises (if we have time)\n",
    "\n",
    "\n",
    "1.   Find the nconst of Christpher Lee (born in 1922).\n",
    "2.   Find all the tconsts where Christopher Lee (born in 1922) is participating.\n",
    "3.   Find all the primaryTitles of the movies where Christopher Lee (born in 1922) is participating (Hint: JOIN clause).\n",
    "4.   Find the movies (and games) where Christopher Lee (born in 1922) is playing \"Saruman\" (Hint: LIKE clause).\n",
    "5.   Find the number of actors whose name starts with \"Christopher\" (Hint: LIKE clause).\n",
    "6.   Find the Christopher who appears in the largest number of tconsts (=movies/TVseries/etc). Hint: GROUP BY, COUNT, ORDER BY.\n",
    "7.   Find all the Christophers who appears in more than 100 movies/TVseries/etc (Hint: HAVING)."
   ]
  },
  {
   "cell_type": "code",
   "execution_count": null,
   "metadata": {
    "id": "TcS4n_TLFyul"
   },
   "outputs": [],
   "source": [
    "# Your solution to Q1\n",
    "%%read_sql\n",
    "# YOUR QUERY HERE (REMOVE THIS COMMENT)"
   ]
  },
  {
   "cell_type": "code",
   "execution_count": null,
   "metadata": {
    "id": "AG4qOG0jQqkZ"
   },
   "outputs": [],
   "source": [
    "# Your solution to Q2\n",
    "%%read_sql\n",
    "# YOUR QUERY HERE (REMOVE THIS COMMENT)"
   ]
  },
  {
   "cell_type": "code",
   "execution_count": null,
   "metadata": {
    "id": "OvMJ68p_Qqr-"
   },
   "outputs": [],
   "source": [
    "# Your Solution to Q3\n",
    "%%read_sql\n",
    "# YOUR QUERY HERE (REMOVE THIS COMMENT)"
   ]
  },
  {
   "cell_type": "code",
   "execution_count": null,
   "metadata": {
    "id": "B8dwkk2dqU1F"
   },
   "outputs": [],
   "source": [
    "# Your Solution to Q4\n",
    "%%read_sql\n",
    "# YOUR QUERY HERE (REMOVE THIS COMMENT)"
   ]
  },
  {
   "cell_type": "code",
   "execution_count": null,
   "metadata": {
    "id": "jYuP6cHYqV1-"
   },
   "outputs": [],
   "source": [
    "# Your Solution to Q5\n",
    "%%read_sql\n",
    "# YOUR QUERY HERE (REMOVE THIS COMMENT)"
   ]
  },
  {
   "cell_type": "code",
   "execution_count": null,
   "metadata": {
    "id": "y72wNKseH1NX"
   },
   "outputs": [],
   "source": [
    "# Your Solution to Q6\n",
    "%%read_sql\n",
    "# YOUR QUERY HERE (REMOVE THIS COMMENT)"
   ]
  },
  {
   "cell_type": "code",
   "execution_count": null,
   "metadata": {
    "id": "5DVo5Gr7MErJ"
   },
   "outputs": [],
   "source": [
    "# Your Solution to Q7\n",
    "%%read_sql\n",
    "# YOUR QUERY HERE (REMOVE THIS COMMENT)"
   ]
  },
  {
   "cell_type": "markdown",
   "metadata": {
    "id": "AH57zDRMrGS0"
   },
   "source": [
    "#### More exercises for your interest\n",
    "\n",
    "Consider your favorite actors.\n",
    "\n",
    "1.   Identify the nconsts of the actors.\n",
    "2.   Count the number of titles (tconsts) each actor is attending.\n",
    "3.   Count the number of peoples (nconsts) who plays together with each actor.\n",
    "\n",
    "\n"
   ]
  }
 ],
 "metadata": {
  "colab": {
   "machine_shape": "hm",
   "provenance": []
  },
  "kernelspec": {
   "display_name": "Python [conda env:python39]",
   "language": "python",
   "name": "conda-env-python39-py"
  },
  "language_info": {
   "codemirror_mode": {
    "name": "ipython",
    "version": 3
   },
   "file_extension": ".py",
   "mimetype": "text/x-python",
   "name": "python",
   "nbconvert_exporter": "python",
   "pygments_lexer": "ipython3",
   "version": "3.9.16"
  }
 },
 "nbformat": 4,
 "nbformat_minor": 1
}
