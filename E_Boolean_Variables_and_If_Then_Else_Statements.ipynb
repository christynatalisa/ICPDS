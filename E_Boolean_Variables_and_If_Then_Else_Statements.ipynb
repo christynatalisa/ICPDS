{
 "cells": [
  {
   "cell_type": "markdown",
   "metadata": {
    "id": "ruL8neHAUeip"
   },
   "source": [
    "### Primitive Data Types: Booleans\n",
    "\n",
    "These are the basic data types that constitute all of the more complex data structures in python. The basic data types are the following:\n",
    "\n",
    "* Strings (for text: last week)\n",
    "* Numeric types (integers and decimals)\n",
    "* Booleans <- today!\n"
   ]
  },
  {
   "cell_type": "markdown",
   "metadata": {
    "id": "aEd81YmEUeis"
   },
   "source": [
    "### Booleans\n",
    "\n",
    "Booleans represent the truth or success of a statement, and are commonly used for branching and checking status in code.\n",
    "\n",
    "They can take two values: `True` or `False`."
   ]
  },
  {
   "cell_type": "code",
   "execution_count": null,
   "metadata": {
    "id": "kc0ycy2LUeiw"
   },
   "outputs": [],
   "source": [
    "bool_1 = True \n",
    "bool_2 = False\n",
    "\n",
    "print(bool_1)\n",
    "print(bool_2)\n",
    "print(type(bool_1))"
   ]
  },
  {
   "cell_type": "markdown",
   "metadata": {
    "id": "w0R9WAXmUei2"
   },
   "source": [
    "If you remember from our strings session, we could execute a command that checks in a string appears within another. For example:\n"
   ]
  },
  {
   "cell_type": "code",
   "execution_count": null,
   "metadata": {
    "id": "V6ZadPfMUei4"
   },
   "outputs": [],
   "source": [
    "lookfor = \"Trump\"\n",
    "text = \"\"\"Donald J. Trump's lawyers on Monday denounced the impeachment case against him as\n",
    " partisan \"political theater,\" arguing on the eve of the Senate’s trial that he bore no responsibility\n",
    " for the deadly assault on the Capitol and that trying a former president at all was unconstitutional.\"\"\"\n",
    "\n",
    "trump_in_text = lookfor in text\n",
    "print(\"Does Trump appear in the text?\", trump_in_text)\n",
    "type(lookfor in text) # What is the type of \"A in B\"?\n",
    "\n",
    "# NYT Feb 08 2021 https://www.nytimes.com/live/2021/02/08/us/trump-impeachment"
   ]
  },
  {
   "cell_type": "markdown",
   "metadata": {
    "id": "USzzvCgnUei_"
   },
   "source": [
    "### Boolean Operations:\n",
    "\n",
    "Frequently, one wants to combine or modify boolean values. Python has several operations for just this purpose:\n",
    "\n",
    "+ `not a`: returns the opposite value of `a`.\n",
    "+ `a and b`: returns true if and only if both `a` and `b` are true.\n",
    "+ `a or b`: returns true either `a` or `b` are true, or both.\n",
    "\n",
    "Like mathematical expressions, boolean expressions can be nested using parentheses. "
   ]
  },
  {
   "cell_type": "markdown",
   "metadata": {
    "id": "78AVOqaR2i7H"
   },
   "source": [
    "![image.png](data:image/png;base64,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)"
   ]
  },
  {
   "cell_type": "markdown",
   "metadata": {
    "id": "1w7bif2enirF"
   },
   "source": [
    "c.f. Truth table (above -- 1 = True, 0 = False)"
   ]
  },
  {
   "cell_type": "markdown",
   "metadata": {
    "id": "CoaadhQgUej0"
   },
   "source": [
    "### Exercise\n",
    "\n",
    "Complete Exercises 1-12 in LPTHW [28](http://learnpythonthehardway.org/book/ex28.html). You can find them also below. Try to **infer the outcome before executing the cell**."
   ]
  },
  {
   "cell_type": "code",
   "execution_count": null,
   "metadata": {
    "id": "K_MeIQLgUej1"
   },
   "outputs": [],
   "source": [
    "#1\n",
    "True and True"
   ]
  },
  {
   "cell_type": "code",
   "execution_count": null,
   "metadata": {
    "id": "LldsW5gNUej7"
   },
   "outputs": [],
   "source": [
    "#2\n",
    "False and True"
   ]
  },
  {
   "cell_type": "code",
   "execution_count": null,
   "metadata": {
    "id": "z9kCpT-xUej_"
   },
   "outputs": [],
   "source": [
    "#3\n",
    "1 == 1 and 2 == 1"
   ]
  },
  {
   "cell_type": "code",
   "execution_count": null,
   "metadata": {
    "id": "OoGu3pc0UekJ"
   },
   "outputs": [],
   "source": [
    "#4\n",
    "\"test\" == \"test\""
   ]
  },
  {
   "cell_type": "code",
   "execution_count": null,
   "metadata": {
    "id": "TWhuKr_RUekN"
   },
   "outputs": [],
   "source": [
    "#5\n",
    "1 == 1 or 2 != 1"
   ]
  },
  {
   "cell_type": "code",
   "execution_count": null,
   "metadata": {
    "id": "6wBv36WcUekS"
   },
   "outputs": [],
   "source": [
    "#6\n",
    "True and 1 == 1"
   ]
  },
  {
   "cell_type": "code",
   "execution_count": null,
   "metadata": {
    "id": "zLPuOfXlUekY"
   },
   "outputs": [],
   "source": [
    "#7\n",
    "False and 0 != 0"
   ]
  },
  {
   "cell_type": "code",
   "execution_count": null,
   "metadata": {
    "id": "6IrBy0i2Uekb"
   },
   "outputs": [],
   "source": [
    "#8\n",
    "True or 1 == 1"
   ]
  },
  {
   "cell_type": "code",
   "execution_count": null,
   "metadata": {
    "id": "4IZg58tVUeke"
   },
   "outputs": [],
   "source": [
    "#9\n",
    "\"test\" == \"testing\""
   ]
  },
  {
   "cell_type": "code",
   "execution_count": null,
   "metadata": {
    "id": "VfLoHETQUekk"
   },
   "outputs": [],
   "source": [
    "#10\n",
    "1 != 0 and 2 == 1"
   ]
  },
  {
   "cell_type": "code",
   "execution_count": null,
   "metadata": {
    "id": "jUQbCSZ0Ueko"
   },
   "outputs": [],
   "source": [
    "#11\n",
    "\"test\" != \"testing\""
   ]
  },
  {
   "cell_type": "code",
   "execution_count": null,
   "metadata": {
    "id": "_hEfaQWiUekt"
   },
   "outputs": [],
   "source": [
    "#12\n",
    "\"test\" == 1"
   ]
  },
  {
   "cell_type": "markdown",
   "metadata": {
    "id": "CaTwwNPOUekw"
   },
   "source": [
    "Now Complete Exercises 12-20 in [28](http://learnpythonthehardway.org/book/ex28.html). But this time let's examine how to evaluate these expressions on a step by step basis."
   ]
  },
  {
   "cell_type": "code",
   "execution_count": null,
   "metadata": {
    "id": "PTgSnOVrUekx"
   },
   "outputs": [],
   "source": [
    "#13\n",
    "not (True and False)"
   ]
  },
  {
   "cell_type": "code",
   "execution_count": null,
   "metadata": {
    "id": "ANDgtUwqUek4"
   },
   "outputs": [],
   "source": [
    "#14\n",
    "not (1 == 1 and 0 != 1)"
   ]
  },
  {
   "cell_type": "code",
   "execution_count": null,
   "metadata": {
    "id": "n65fB0aGUek7"
   },
   "outputs": [],
   "source": [
    "#15\n",
    "not (10 == 1 or 1000 == 1000)"
   ]
  },
  {
   "cell_type": "code",
   "execution_count": null,
   "metadata": {
    "id": "kl1Pb5e1Uek_"
   },
   "outputs": [],
   "source": [
    "#16\n",
    "not (1 != 10 or 3 == 4)"
   ]
  },
  {
   "cell_type": "code",
   "execution_count": null,
   "metadata": {
    "id": "NmhJDn8mUelE"
   },
   "outputs": [],
   "source": [
    "#17\n",
    "not (\"testing\" == \"testing\" and \"Zed\" == \"Cool Guy\")"
   ]
  },
  {
   "cell_type": "code",
   "execution_count": null,
   "metadata": {
    "id": "hRy3edQgUelH"
   },
   "outputs": [],
   "source": [
    "#18\n",
    "1 == 1 and (not (\"testing\" == 1 or 1 == 0))"
   ]
  },
  {
   "cell_type": "code",
   "execution_count": null,
   "metadata": {
    "id": "WtuQgAIsUelM"
   },
   "outputs": [],
   "source": [
    "#19\n",
    "\"chunky\" == \"bacon\" and (not (3 == 4 or 3 == 3))"
   ]
  },
  {
   "cell_type": "code",
   "execution_count": null,
   "metadata": {
    "id": "Z-ExNjPgUelT"
   },
   "outputs": [],
   "source": [
    "#20\n",
    "3 == 3 and (not (\"testing\" == \"testing\" or \"Python\" == \"Fun\"))"
   ]
  },
  {
   "cell_type": "code",
   "execution_count": null,
   "metadata": {
    "id": "zUBpHH1fUelb"
   },
   "outputs": [],
   "source": [
    "#bonus\n",
    "3 != 4 and not (\"testing\" != \"test\" or \"Python\" == \"Python\")"
   ]
  },
  {
   "cell_type": "markdown",
   "metadata": {
    "id": "ud3jsWR-Uelf"
   },
   "source": [
    "### Exercise\n",
    "\n",
    "Now let's try to write the boolean expressions that will evaluate different conditions, given a set of other variables."
   ]
  },
  {
   "cell_type": "code",
   "execution_count": 2,
   "metadata": {
    "id": "ZsLzxRwRUelg"
   },
   "outputs": [
    {
     "name": "stdout",
     "output_type": "stream",
     "text": [
      "Age: 22; can drink alcohol? True\n"
     ]
    }
   ],
   "source": [
    "age = 22\n",
    "# You need to be at least 21 yo (since 1985) \n",
    "can_drink_alcohol = int(age) # Assign a variable \"can_drink_alcohol\" by using age\n",
    "print(f\"Age: {age}; can drink alcohol? {can_drink_alcohol>=21}\" )\n",
    "\n",
    "#f in print is simple formatting (see NYUClasses Message on Tuesday)"
   ]
  },
  {
   "cell_type": "code",
   "execution_count": 3,
   "metadata": {
    "id": "BJ-QdnF-Uelq"
   },
   "outputs": [
    {
     "name": "stdout",
     "output_type": "stream",
     "text": [
      "Age: 18; can get driving license? True\n"
     ]
    }
   ],
   "source": [
    "age = 18\n",
    "# You need to be at least 16 yo\n",
    "can_get_driving_license= int(age) # Assign a variable \"can_get_driving_license\" by using age\n",
    "print(f\"Age: {age}; can get driving license? {can_get_driving_license>=16}\" )"
   ]
  },
  {
   "cell_type": "code",
   "execution_count": 5,
   "metadata": {
    "id": "YU3yTYbpUelt"
   },
   "outputs": [
    {
     "name": "stdout",
     "output_type": "stream",
     "text": [
      "US Citizen: True; can get US passport? True\n"
     ]
    }
   ],
   "source": [
    "us_citizen = True\n",
    "# You need to be a US Citizen\n",
    "can_get_us_passport = str(us_citizen) # Assign a variable \"can_get_us_passport\" by using us_citizen\n",
    "print(f\"US Citizen: {us_citizen}; can get US passport? {can_get_us_passport=='True'}\" )\n"
   ]
  },
  {
   "cell_type": "code",
   "execution_count": null,
   "metadata": {
    "id": "4WnfN7SYUely"
   },
   "outputs": [],
   "source": [
    "# You must be at least 18 and a US Citizen\n",
    "age = 17\n",
    "us_citizen = True\n",
    "YOUR_CODE_HERE # Assign a variable \"can_vote\" by using age and us_citizen\n",
    "print(f\"US Citizen: {us_citizen}; Age: {age}\\nCan Vote? {can_vote}\" )"
   ]
  },
  {
   "cell_type": "code",
   "execution_count": null,
   "metadata": {
    "id": "cWB2zEsUUel8"
   },
   "outputs": [],
   "source": [
    "# You need to be at least 35, a US Citizen, and born in the US\n",
    "age = 35\n",
    "us_citizen = True\n",
    "born_in_us = False\n",
    "YOUR_CODE_HERE # Assign a variable \"can_be_president\" by using age and us_citizen and born_in_us\n",
    "print(f\"US Citizen: {us_citizen}; Age: {age}; Born in US? {born_in_us}\\nCan be president? {can_be_president}\" )"
   ]
  },
  {
   "cell_type": "markdown",
   "metadata": {
    "id": "lbpmQjXDUemD"
   },
   "source": [
    "### Control Structures: if statements\n",
    "\n",
    "Traversing over data and making decisions based upon data are a common aspect of every programming language, known as control flow. Python provides a rich control flow, with a lot of conveniences for the power users. Here, we're just going to talk about the basics, to learn more, please [consult the documentation](http://docs.python.org/2/tutorial/controlflow.html). \n",
    "\n",
    "A common theme throughout this discussion of control structures is the notion of a \"block of code.\" Blocks of code are **demarcated by a specific level of indentation**, typically separated from the surrounding code by some control structure elements, immediately preceeded by a colon, `:`. We'll see examples below. \n",
    "\n",
    "Finally, note that control structures can be nested arbitrarily, depending on the tasks you're trying to accomplish. \n",
    "\n"
   ]
  },
  {
   "cell_type": "markdown",
   "metadata": {
    "id": "RzZIiDm7UemE"
   },
   "source": [
    "### if Statements:\n",
    "\n",
    "**See also LPTHW, Exp 29, 30, and 31.**\n",
    "\n",
    "If statements are perhaps the most widely used of all control structures. An if statement consists of a code block and an argument. The if statement evaluates the boolean value of it's argument, executing the code block if that argument is true. "
   ]
  },
  {
   "cell_type": "code",
   "execution_count": null,
   "metadata": {
    "id": "fXSXlI8fUemJ"
   },
   "outputs": [],
   "source": [
    "execute = True\n",
    "if execute:\n",
    "    print(\"Of course!\")\n",
    "    print(\"This will execute as well\")"
   ]
  },
  {
   "cell_type": "code",
   "execution_count": null,
   "metadata": {
    "id": "lzL32m4oUemP"
   },
   "outputs": [],
   "source": [
    "execute = False\n",
    "if execute:\n",
    "    print(\"Me? Nobody?\")\n",
    "    print(\"Really? Nobody?\")\n",
    "print(\"I am not nested, I will show up!\")"
   ]
  },
  {
   "cell_type": "markdown",
   "metadata": {
    "id": "A_1MB5mLUemT"
   },
   "source": [
    "And here is an `if` statement paired with an `else`."
   ]
  },
  {
   "cell_type": "code",
   "execution_count": null,
   "metadata": {
    "id": "p8QFQeCUUemb"
   },
   "outputs": [],
   "source": [
    "lookfor = \"snow\"\n",
    "text = \"The city has already gotten more than 32.5 inches of snow this winter, Mr. Ramunni said, the most accumulation since 2014, year to date.\"\n",
    "if lookfor in text:\n",
    "    print(lookfor, \"appears in the text\") #In the case of True\n",
    "else:\n",
    "    print(lookfor, \"does not appear in the text\")\n"
   ]
  },
  {
   "cell_type": "code",
   "execution_count": null,
   "metadata": {
    "id": "SJpem19SUemq"
   },
   "outputs": [],
   "source": [
    "lookfor = \"chocolate\"\n",
    "text = \"The city has already gotten more than 32.5 inches of snow this winter, Mr. Ramunni said, the most accumulation since 2014, year to date.\"\n",
    "if lookfor in text:\n",
    "    print(lookfor, \"appears in the text\") #In the case of True:\n",
    "else:\n",
    "    print(lookfor, \"does not appear in the text\")\n"
   ]
  },
  {
   "cell_type": "markdown",
   "metadata": {
    "id": "bkV5arAaUemw"
   },
   "source": [
    "Each argument in the above if statements is a boolean expression. Often you want to have alternatives, blocks of code that get evaluated in the event that the argument to an if statement is false. This is where **`elif`** (else if) and else come in. \n",
    "\n",
    "An **`elif`** is evaluated if all preceding if or elif arguments have evaluated to false. The else statement is the last resort, assigning the code that gets executed if no if or elif above it is true. These statements are optional, and can be added to an if statement in any order, with at most one code block being evaluated. An else will always have it's code be executed, if nothing above it is true."
   ]
  },
  {
   "cell_type": "code",
   "execution_count": null,
   "metadata": {
    "id": "tsYE9lpmUemx"
   },
   "outputs": [],
   "source": [
    "time = 8\n",
    "if time < 8:\n",
    "    print(\"zzz...\")\n",
    "elif time < 12: #8 and 12 (incl. 8 and 12)\n",
    "    print(\"Morning!\")\n",
    "elif time < 17:\n",
    "    print(\"Hello!\")\n",
    "elif time < 21:\n",
    "    print(\"Bye-bye, see you tomorrow.\")\n",
    "elif time < 25:\n",
    "    print(\"I am off now. Woo-Hoo!\")\n",
    "else:\n",
    "    print(\"Sleeping...\")"
   ]
  },
  {
   "cell_type": "markdown",
   "metadata": {
    "id": "eTVhAnF2Uem6"
   },
   "source": [
    "#### Exercise\n",
    "\n"
   ]
  },
  {
   "cell_type": "markdown",
   "metadata": {
    "id": "pEEogRRdUem9"
   },
   "source": [
    "* You need to be 21 years old and above to drink alcohol. Write a conditional expression that checks the age, and prints out whether the person is allowed to drink alcohol."
   ]
  },
  {
   "cell_type": "code",
   "execution_count": null,
   "metadata": {
    "id": "EjBws1UrY_3p"
   },
   "outputs": [],
   "source": [
    "age = 21\n",
    "#Write a condition here. use if-else clause that checks age. Print out whether the person can drink or not\n",
    "if WRITE_CONDITION_HERE:\n",
    "  print(\"You can drink alcohol.\")\n",
    "else:\n",
    "  print(\"You cannot drink alcohol. Wait\",21-age,\"years\")"
   ]
  },
  {
   "cell_type": "markdown",
   "metadata": {
    "id": "d_aUiCm4Uenk"
   },
   "source": [
    "* You need to be 16 years old and above to drive. If you are above 16, you also need to have a driving license. Write a conditional expression that checks the age and prints out: (a) whether the person is too young to drive, (b) whether the person satisfies the age criteria but needs a driving license, or (c) the person can drive.\n"
   ]
  },
  {
   "cell_type": "code",
   "execution_count": null,
   "metadata": {
    "id": "Lk2WFifCY5_R"
   },
   "outputs": [],
   "source": [
    "age = 18\n",
    "license = True\n",
    "#Write a condition here. use if-else clause that checks age and license. \n",
    "if WRITE_CONDITION_HERE:\n",
    "  print(\"Too young to drive.\")\n",
    "elif WRITE_CONDITION_HERE: #if you have license\n",
    "  print(\"You can drive.\") \n",
    "else: #if you do not have license nor age < 16\n",
    "  print(\"Need a driving license\")"
   ]
  },
  {
   "cell_type": "markdown",
   "metadata": {
    "id": "nNQmGbwjUeo7"
   },
   "source": [
    "* You qualify for US citizen if any of the following holds: (a) Your parents are US Citizens and you are under 18, (b) You have been born in the US. Write the conditional expression that checks if a person is eligible to become a US citizen. If the person is not eligible, the code should print out the reason."
   ]
  },
  {
   "cell_type": "code",
   "execution_count": null,
   "metadata": {
    "id": "kf-n0Nx9YiCq"
   },
   "outputs": [],
   "source": [
    "age = 15\n",
    "parents_citizens = False\n",
    "born_in_us = False\n",
    "\n",
    "#Write a condition here. use if-else clause that checks age, parents_citizens, and born_in_use\n",
    "condition_A = WRITE_CONDITION_A\n",
    "condition_B = WRITE_CONDITION_B\n",
    "\n",
    "if condition_A or condition_B:\n",
    "  print(\"You are US citizen.\")\n",
    "else: #(not A) and (not B): See Venn's diagram\n",
    "  print(\"you are not eligible to be a US citizen.\")\n",
    "  print(\"Reason 1: Your parents are not U.S. citizen or you are over 18. \")\n",
    "  print(\"Reason 2: You were born outside U.S.\")\n"
   ]
  },
  {
   "cell_type": "markdown",
   "metadata": {
    "id": "ZmgxreMuUeoC"
   },
   "source": [
    "* You need to be at least 18 and a US Citizen, to be able to vote. You also need to be registered. Write the conditional expression that checks for these conditions and prints out whether the person can vote. If the person cannot vote, the code should print out the reason (below 18, or not a US citizen, or not registered, or a combination thereof).\n"
   ]
  },
  {
   "cell_type": "code",
   "execution_count": null,
   "metadata": {
    "id": "TMMUc4cFYsr2"
   },
   "outputs": [],
   "source": [
    "age = 17\n",
    "citizen = True\n",
    "registered = True\n",
    "\n",
    "# Write a condition here. use if-else clause that checks age, citizen, and registered.\n",
    "if WRITE_CONDITION_HERE:\n",
    "    print(\"You can vote.\")\n",
    "else:\n",
    "    if WRITE_CONDITION_HERE:  # Age check\n",
    "        print(\"You need to be at least 18 to vote.\")\n",
    "        print(\"You need to wait\", 18 - age, \"years to 18.\")\n",
    "    if WRITE_CONDITION_HERE:  # Citizenship check\n",
    "        print(\"You need to be US citizen to vote.\")\n",
    "    if WRITE_CONDITION_HERE:  # registration check\n",
    "        print(\"You need to be registered to vote.\")"
   ]
  },
  {
   "cell_type": "code",
   "execution_count": 13,
   "metadata": {},
   "outputs": [
    {
     "name": "stdout",
     "output_type": "stream",
     "text": [
      "Your total pay = $380\n"
     ]
    }
   ],
   "source": [
    "hourly_pay = int(input(\"enter pay = $\"))\n",
    "working_hour = int(input(\"enter hours = \"))\n",
    "\n",
    "# Calculate total pay\n",
    "if working_hour <= 20:  # Working hours is 20 and less\n",
    "    total_pay = hourly_pay * working_hour  # calculate total pay with no overtime\n",
    "    print(f\"Your total pay = ${total_pay}\")  # print the result\n",
    "elif working_hour > 20:  # Working hours is more than 20\n",
    "    overtime_pay = 15  # overtime pay rate\n",
    "    overtime_hour = working_hour - 20  # calculate overtime hours\n",
    "    total_pay = (\n",
    "        hourly_pay * working_hour + overtime_pay * overtime_hour\n",
    "    )  # calculate total pay with overtimr\n",
    "    print(f\"Your total pay = ${total_pay}\")  # print the result\n",
    "elif working_hour < 5:  # Working hours is less than 5\n",
    "    print(\"You need to work at least 5 hours.\")  # print a message"
   ]
  }
 ],
 "metadata": {
  "colab": {
   "collapsed_sections": [
    "lbpmQjXDUemD"
   ],
   "provenance": []
  },
  "kernelspec": {
   "display_name": "Python 3",
   "language": "python",
   "name": "python3"
  },
  "language_info": {
   "codemirror_mode": {
    "name": "ipython",
    "version": 3
   },
   "file_extension": ".py",
   "mimetype": "text/x-python",
   "name": "python",
   "nbconvert_exporter": "python",
   "pygments_lexer": "ipython3",
   "version": "3.9.0"
  },
  "vscode": {
   "interpreter": {
    "hash": "aee8b7b246df8f9039afb4144a1f6fd8d2ca17a180786b69acc140d282b71a49"
   }
  }
 },
 "nbformat": 4,
 "nbformat_minor": 1
}
