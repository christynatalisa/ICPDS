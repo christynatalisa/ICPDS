{
 "cells": [
  {
   "cell_type": "markdown",
   "metadata": {},
   "source": [
    "Q1. Explain all iterations of the for loop below; clarify the state of all related variables for each iteration. Also, what is the value of the variable result at the end?"
   ]
  },
  {
   "cell_type": "code",
   "execution_count": 2,
   "metadata": {},
   "outputs": [
    {
     "ename": "SyntaxError",
     "evalue": "EOL while scanning string literal (330591736.py, line 1)",
     "output_type": "error",
     "traceback": [
      "\u001b[0;36m  Cell \u001b[0;32mIn[2], line 1\u001b[0;36m\u001b[0m\n\u001b[0;31m    alphabets = \"abcdefghijklmnopqrstuvwxyz”\u001b[0m\n\u001b[0m                                            ^\u001b[0m\n\u001b[0;31mSyntaxError\u001b[0m\u001b[0;31m:\u001b[0m EOL while scanning string literal\n"
     ]
    }
   ],
   "source": [
    "alphabets = \"abcdefghijklmnopqrstuvwxyz”\n",
    "digits = \"0123456789”\n",
    "def NYU_id(astr):\n",
    "\tflag_alphabet = False\n",
    "\tfor char in astr:\n",
    "\t\tif not flag_alphabet and char in alphabets:\n",
    "\t\t\tflag_alphabet = True\n",
    "\t\telif char in digits:\n",
    "\t\t\treturn True\n",
    "\treturn False\n",
    "\n",
    "result = NYU_id(“jk190”)"
   ]
  },
  {
   "cell_type": "markdown",
   "metadata": {},
   "source": []
  },
  {
   "cell_type": "markdown",
   "metadata": {},
   "source": [
    "The given code defines a function NYU_id(astr) that takes a string astr as input and checks if it is a valid NYU ID, which consists of at least one alphabet followed by zero or more digits.\n",
    "\n",
    "Here is a step-by-step explanation of how the for loop in the function works:\n",
    "\n",
    "First iteration:\n",
    "char = \"j\", flag_alphabet = False\n",
    "not flag_alphabet evaluates to True, because flag_alphabet is False\n",
    "char in alphabets evaluates to True, because \"j\" is a lowercase alphabet\n",
    "flag_alphabet is set to True\n",
    "Second iteration:\n",
    "char = \"k\", flag_alphabet = True\n",
    "not flag_alphabet evaluates to False, because flag_alphabet is now True\n",
    "char in digits evaluates to False, because \"k\" is not a digit\n",
    "Third iteration:\n",
    "char = \"1\", flag_alphabet = True\n",
    "not flag_alphabet evaluates to False, because flag_alphabet is still True\n",
    "char in digits evaluates to True, because \"1\" is a digit\n",
    "The function returns True because a digit was found after the first alphabet.\n",
    "Thus, the value of the variable result will be True, because the input string \"jk190\" contains at least one alphabet followed by one or more digits."
   ]
  },
  {
   "cell_type": "markdown",
   "metadata": {},
   "source": [
    "Q2. Show an example (parameters to NYU_id, such as “jk190”) where the function NYU_id incorrectly classifies a valid/invalid nyu id string. "
   ]
  },
  {
   "cell_type": "code",
   "execution_count": 8,
   "metadata": {},
   "outputs": [
    {
     "data": {
      "text/plain": [
       "True"
      ]
     },
     "execution_count": 8,
     "metadata": {},
     "output_type": "execute_result"
    }
   ],
   "source": [
    "#One example where the function NYU_id incorrectly classifies a valid NYU ID string as invalid is the input string \"J1k9\".\n",
    "\n",
    "#Here's why:\n",
    "\n",
    "# The first character, \"J\", is an uppercase alphabet and satisfies the condition for a valid NYU ID.\n",
    "# The second character, \"1\", is a digit and satisfies the condition for a valid NYU ID.\n",
    "# The third character, \"k\", is a lowercase alphabet and satisfies the condition for a valid NYU ID.\n",
    "# The fourth character, \"9\", is a digit and satisfies the condition for a valid NYU ID.\n",
    "# Therefore, \"J1k9\" is a valid NYU ID. However, the function NYU_id will incorrectly classify it as invalid, because it checks only for lowercase alphabets and not uppercase ones.\n",
    "\n",
    "# To fix this issue, we can modify the function to include uppercase alphabets as valid characters, like this:\n",
    "\n",
    "alphabets = \"abcdefghijklmnopqrstuvwxyzABCDEFGHIJKLMNOPQRSTUVWXYZ\"\n",
    "digits = \"0123456789\"\n",
    "\n",
    "def NYU_id(astr):\n",
    "    flag_alphabet = False\n",
    "    for char in astr:\n",
    "        if not flag_alphabet and char in alphabets:\n",
    "            flag_alphabet = True\n",
    "        elif char in digits:\n",
    "            return True\n",
    "    return False\n",
    "user_input = input('Enter net ID = ')\n",
    "NYU_id(user_input)\n",
    "\n",
    "#With this modification, the input string \"J1k9\" will be correctly classified as a valid NYU ID.\n"
   ]
  },
  {
   "cell_type": "code",
   "execution_count": 1,
   "metadata": {},
   "outputs": [
    {
     "name": "stdout",
     "output_type": "stream",
     "text": [
      "1\n",
      "2\n",
      "3\n",
      "4\n",
      "5\n"
     ]
    }
   ],
   "source": [
    "for i in range (1,6):\n",
    "    print(i)\n",
    "    "
   ]
  },
  {
   "cell_type": "code",
   "execution_count": 5,
   "metadata": {},
   "outputs": [],
   "source": [
    "students = {\n",
    "    \"Alice\"  : { \"grade\"    : 91,\n",
    "                  \"duration\"  : \"2 hours 15 mins\",\n",
    "                  \"opening\"   : 2018,\n",
    "                  \"closed\"    : 2020\n",
    "               },\n",
    "    \"Jasper\":{ \"grade\"    : 91,\n",
    "                  \"duration\"  : \"2 hours 30 mins\",\n",
    "                  \"opening\"   : 1997,\n",
    "                  \"closed\"    : False\n",
    "               },\n",
    "    \"Wicked\" :  { \"grade\"    : 91,\n",
    "                  \"duration\"  : \"2 hours 45 mins\",\n",
    "                  \"opening\"   : 2003,\n",
    "                  \"closed\"    : False\n",
    "               },\n",
    "    \"Chicago\" : { \"grade\"    : 91,\n",
    "                  \"duration\"  : \"2 hours 30 mins\",\n",
    "                  \"opening\"   : 1996,\n",
    "                  \"closed\"    : False\n",
    "    }\n",
    "}"
   ]
  },
  {
   "cell_type": "code",
   "execution_count": 6,
   "metadata": {},
   "outputs": [
    {
     "name": "stdout",
     "output_type": "stream",
     "text": [
      "91.0\n"
     ]
    }
   ],
   "source": [
    "grades = 0\n",
    "for i in students:\n",
    "    grades += students[i][\"grade\"]\n",
    "\n",
    "grades_average = grades/len(students)\n",
    "print(grades_average)\n"
   ]
  },
  {
   "cell_type": "code",
   "execution_count": 4,
   "metadata": {},
   "outputs": [
    {
     "data": {
      "text/plain": [
       "22"
      ]
     },
     "execution_count": 4,
     "metadata": {},
     "output_type": "execute_result"
    }
   ],
   "source": [
    "age = input(\"Enter your age = \")\n",
    "student = input(\"Are you a student? (Y/N) = \")\n",
    "member = input(\"Are you a member? (Y/N) = \")\n",
    "def MET_Tickets(age, student, member):\n",
    "    if member == \"Y\":\n",
    "        price = 0\n",
    "    elif member == \"N\":\n",
    "        if int(age) <12:\n",
    "            price = 0\n",
    "        elif int(age) >65:\n",
    "            price = 17\n",
    "        elif 12<int(age)<65 :\n",
    "            if student ==\"Y\":\n",
    "                price = 22\n",
    "            elif student ==\"N\":\n",
    "                price = 35\n",
    "    return price\n",
    "\n",
    "MET_Tickets(age,student,member)\n"
   ]
  },
  {
   "cell_type": "code",
   "execution_count": 5,
   "metadata": {},
   "outputs": [
    {
     "name": "stdout",
     "output_type": "stream",
     "text": [
      "['apple', 'eggs']\n"
     ]
    }
   ],
   "source": [
    "words =['apple', 'eggs','bananas']\n",
    "a_or_e_words = []\n",
    "for i in words:\n",
    "    if i[0] == 'a':\n",
    "        a_or_e_words.append(i)\n",
    "    elif i[0] == 'e':\n",
    "        a_or_e_words.append(i)\n",
    "\n",
    "print(a_or_e_words)"
   ]
  },
  {
   "attachments": {},
   "cell_type": "markdown",
   "metadata": {},
   "source": [
    "are all statements within a while statements executed?\n",
    "While \n",
    "    state A\n",
    "    state B\n",
    "    state C\n",
    "\n",
    "My ans: True"
   ]
  },
  {
   "attachments": {},
   "cell_type": "markdown",
   "metadata": {},
   "source": [
    "are all return statements in function performed at least once even if there is more than one return?\n",
    "my ans: True\n",
    "\n",
    "if number "
   ]
  },
  {
   "cell_type": "code",
   "execution_count": null,
   "metadata": {},
   "outputs": [],
   "source": []
  },
  {
   "cell_type": "code",
   "execution_count": null,
   "metadata": {},
   "outputs": [],
   "source": []
  },
  {
   "cell_type": "markdown",
   "metadata": {},
   "source": []
  },
  {
   "cell_type": "markdown",
   "metadata": {},
   "source": []
  },
  {
   "cell_type": "code",
   "execution_count": null,
   "metadata": {},
   "outputs": [],
   "source": []
  }
 ],
 "metadata": {
  "kernelspec": {
   "display_name": "Python 3",
   "language": "python",
   "name": "python3"
  },
  "language_info": {
   "codemirror_mode": {
    "name": "ipython",
    "version": 3
   },
   "file_extension": ".py",
   "mimetype": "text/x-python",
   "name": "python",
   "nbconvert_exporter": "python",
   "pygments_lexer": "ipython3",
   "version": "3.9.0"
  },
  "orig_nbformat": 4
 },
 "nbformat": 4,
 "nbformat_minor": 2
}
