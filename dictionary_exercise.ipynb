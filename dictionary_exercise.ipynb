{
 "cells": [
  {
   "cell_type": "markdown",
   "id": "8419420c",
   "metadata": {},
   "source": [
    "## Dictionary operations"
   ]
  },
  {
   "cell_type": "markdown",
   "id": "907e8b93",
   "metadata": {},
   "source": [
    "### Part 1: Cookie counting"
   ]
  },
  {
   "cell_type": "markdown",
   "id": "5821407a",
   "metadata": {},
   "source": [
    "* Create a variable `basket`.\n",
    "* Add bars, candies, cookies, donuts, to a variable `basket`."
   ]
  },
  {
   "cell_type": "code",
   "execution_count": 3,
   "id": "347a26ea",
   "metadata": {},
   "outputs": [
    {
     "name": "stdout",
     "output_type": "stream",
     "text": [
      "{}\n",
      "{'bars': 2, 'candies': 20, 'cookies': 5, 'donuts': 3}\n",
      "4\n",
      "{'bars': 2, 'candies': 10, 'cookies': 5, 'donuts': 3}\n",
      "4\n"
     ]
    }
   ],
   "source": [
    "# YOUR CODE STARTS HERE. \n",
    "basket = {'bars': 'kitkat', 'candies': 'nerds', 'donuts': 'krispy kreme'}\n",
    "basket = dict()\n",
    "print (basket)\n",
    "basket['bars'] = 2\n",
    "basket['candies'] = 20\n",
    "basket['cookies'] = 5\n",
    "basket['donuts'] = 3\n",
    "print(basket)\n",
    "print(len(basket))\n",
    "\n",
    "#consume 10 candies and 5 cookies\n",
    "basket['candies'] = basket['candies'] - 10\n",
    "print(basket)\n",
    "print(len(basket))"
   ]
  },
  {
   "cell_type": "markdown",
   "id": "91a0557d",
   "metadata": {},
   "source": [
    "### Part 2: Bronx Zoo"
   ]
  },
  {
   "cell_type": "code",
   "execution_count": null,
   "id": "0f204822",
   "metadata": {},
   "outputs": [],
   "source": [
    "open_close = [\"10\", \"17\"] #open at 10am, close at 5pm animal exhibits close 30mins before the close time\n",
    "\n",
    "exhibits = [\n",
    "    \"JUNGLEWORLD\", \"MADAGASCAR!\", \"TIGER MOUNTAIN\", \"BIG BEARS\", \n",
    "    \"AFRICAN PLAINS\", \"AMERICAN BISON\", \"AQUATIC BIRD HOUSE & SEA BIRD AVIARY\", \"BIRDS OF PREY\",\n",
    "    \"BUTTERFLY GARDEN\", \"CARTER GIRAFFE BUILDING\", \"CHILDREN'S ZOO\", \"CONGO GORILLA FOREST\",\n",
    "    \"GELADA RESERVE\", \"HIMALAYAN HIGHLANDS\", \"MOUSE HOUSE\", \"SEA LION POOL\", \n",
    "    \"WILD ASIA MONORAIL\", \"WORLD OF BIRDS\", \"WORLD OF REPTILES\", \"ZOO CENTER\"]\n",
    "featured_exhibits = exhibits[:4]\n",
    "\n",
    "# for example, featured_exhibits[1] is the description on \"MADAGASCAR!\" exhibit\n",
    "featured_exhibits_description = [\n",
    "    \"Grooming each other atop a maze of branches in our Asian jungle,\"\n",
    "    \" the ebony langurs defy expectations. Though most of this species is colored black,\"\n",
    "    \" many of ours are orange, echoing a group on an island in Indonesia.\",\n",
    "    \"There are about 97 lemur species native to the island of Madagascar,\"\n",
    "    \" among them Coquerel’s Sifaka. Ours are often active, using their strong\"\n",
    "    \" hind legs to leap from limb to limb and rock to vine.\",\n",
    "    \"Tiger Mountain is full of things for our big cats—and visitors—to explore.\"\n",
    "    \" Get nose-to-nose with our stars in stripes and discover how we protect tigers\"\n",
    "    \" through our work here at the zoo and in the wild.\",\n",
    "    \"Our brown bears are a fan favorite. It’s easy to understand why, when we watch them\"\n",
    "    \" splash around in the shallow water. In the wild, some of these bears grew too comfortable\"\n",
    "    \" around people or were orphaned, so we brought them to the zoo as rescues.\"]\n",
    "\n",
    "animals = [\n",
    "    \"AARDVARK\", \"AFRICAN PAINTED DOG\", \"ALDABRA TORTOISE\", \"AMERICAN ALLIGATOR\",\n",
    "    \"AMERICAN BISON\", \"AMUR TIGER\", \"ANACONDA\", \"ANDEAN CONDOR\",\n",
    "    \"ASIAN ELEPHANT\", \"BABY DOLL SHEEP\", \"BALD EAGLE\", \"BLUE IGUANA\",\n",
    "    \"BOER GOAT\", \"CALIFORNIA SEA LION\", \"CARIBBEAN FLAMINGO\", \"CHINCHILLA\",\n",
    "    \"COLLARED LEMUR\", \"COQUEREL'S SIFAKA\", \"CUBAN AMAZON PARROT\", \"EBONY LANGUR\",\n",
    "    \"FENNEC FOX\", \"FOSSA\", \"GELADA\", \"GIANT ANTEATER\", \n",
    "    \"GIRAFFE\", \"GORILLA\", \"GRIZZLY BEAR\", \"HENKEL'S LEAF-TAILED GECKO\", \n",
    "    \"INDIAN GHARIAL\", \"INDIAN RHINOCEROS\", \"KING COBRA\", \"KING VULTURE\",\n",
    "    \"KOMODO DRAGON\", \"LINNE'S TWO-TOED SLOTH\", \"LION\", \"LITTLE PENGUIN\",\n",
    "    \"MADAGASCAR TREE BOA\", \"MAGELLANIC PENGUIN\", \"MALAYAN TAPIR\", \"MALAYAN TIGER\", \n",
    "    \"MATSCHIE'S TREE KANGAROO\", \"MINI DONKEY\", \"MONARCH BUTTERFLY\", \"NILE CROCODILE\",\n",
    "    \"NORTH AMERICAN PORCUPINE\", \"NUBIAN IBEX\", \"OKAPI\", \"POISON DART FROG\",\n",
    "    \"PYGMY MARMOSET\", \"RADIATED TORTOISE\", \"RED PANDA\", \"RED RUFFED LEMUR\",\n",
    "    \"RING-TAILED LEMUR\", \"RING-TAILED MONGOOSE\", \"ROCK HYRAX\", \"SMALL CLAWED ASIAN OTTER\",\n",
    "    \"SNOW LEOPARD\", \"SNOWY OWL\", \"SOUTHERN WHITE-FACED OWL\", \"SOUTHERN WHITE RHINOCEROS\",\n",
    "    \"SQUIRREL MONKEY\", \"TUFTED PUFFIN\", \"WHITE CHEEKED GIBBON\", \"WHITE-THROATED BEE EATER\",\n",
    "    \"ZEBRA\"]\n",
    "\n",
    "# for example, animal_exhibit[2] is where \"ALDABRA TORTOISE\" (= animals[2]) is.\n",
    "animal_exhibit = [\n",
    "    \"CARTER GIRAFFE BUILDING\", \"AFRICAN PLAINS\", \"ZOO CENTER\", \"WORLD OF REPTILES\",\n",
    "    \"AMERICAN BISON\", \"TIGER MOUNTAIN\", \"WORLD OF REPTILES\", \"BIRDS OF PREY\",\n",
    "    \"WILD ASIA MONORAIL\", \"CHILDREN'S ZOO\", \"BIRDS OF PREY\", \"WORLD OF REPTILES\",\n",
    "    \"CHILDREN'S ZOO\", \"SEA LION POOL\", \"AQUATIC BIRD HOUSE & SEA BIRD AVIARY\", \"MOUSE HOUSE\",\n",
    "    \"MADAGASCAR!\", \"MADAGASCAR!\", \"WORLD OF BIRDS\", \"JUNGLEWORLD\",\n",
    "    \"CHILDREN'S ZOO\", \"MADAGASCAR!\", \"GELADA RESERVE\", \"CHILDREN'S ZOO\",\n",
    "    \"CARTER GIRAFFE BUILDING\", \"CONGO GORILLA FOREST\", \"BIG BEARS\", \"MADAGASCAR!\",\n",
    "    \"JUNGLEWORLD\", \"WILD ASIA MONORAIL\", \"WORLD OF REPTILES\", \"BIRDS OF PREY\",\n",
    "    \"ZOO CENTER\", \"CHILDREN'S ZOO\", \"AFRICAN PLAINS\", \"AQUATIC BIRD HOUSE & SEA BIRD AVIARY\",\n",
    "    \"MADAGASCAR!\", \"AQUATIC BIRD HOUSE & SEA BIRD AVIARY\", \"JUNGLEWORLD\", \"TIGER MOUNTAIN\",\n",
    "    \"JUNGLEWORLD\", \"CHILDREN'S ZOO\", \"BUTTERFLY GARDEN\", \"MADAGASCAR!\", \n",
    "    \"CHILDREN'S ZOO\", \"BABOON RESERVE\", \"CONGO GORILLA FOREST\", \"WORLD OF REPTILES\",\n",
    "    \"CONGO GORILLA FOREST\", \"MADAGASCAR!\", \"HIMALAYAN HIGHLANDS\", \"MADAGASCAR!\",\n",
    "    \"MADAGASCAR!\", \"MADAGASCAR!\", \"BABOON RESERVE\", \"JUNGLEWORLD\",\n",
    "    \"HIMALAYAN HIGHLANDS\", \"BIRDS OF PREY\", \"CARTER GIRAFFE BUILDING\", \"ZOO CENTER\", \n",
    "    \"CHILDREN'S ZOO\", \"AQUATIC BIRD HOUSE & SEA BIRD AVIARY\", \"JUNGLEWORLD\", \"WORLD OF BIRDS\", \n",
    "    \"AFRICAN PLAINS\"\n",
    "]"
   ]
  },
  {
   "cell_type": "code",
   "execution_count": 15,
   "id": "154a3f7d",
   "metadata": {},
   "outputs": [
    {
     "name": "stdout",
     "output_type": "stream",
     "text": [
      "{'JUNGLEWORLD': 0, 'MADAGASCAR!': 0, 'TIGER MOUNTAIN': 0, 'BIG BEARS': 0, 'AFRICAN PLAINS': 0, 'AMERICAN BISON': 0, 'AQUATIC BIRD HOUSE & SEA BIRD AVIARY': 0, 'BIRDS OF PREY': 0, 'BUTTERFLY GARDEN': 0, 'CARTER GIRAFFE BUILDING': 0, \"CHILDREN'S ZOO\": 0, 'CONGO GORILLA FOREST': 0, 'GELADA RESERVE': 0, 'HIMALAYAN HIGHLANDS': 0, 'MOUSE HOUSE': 0, 'SEA LION POOL': 0, 'WILD ASIA MONORAIL': 0, 'WORLD OF BIRDS': 0, 'WORLD OF REPTILES': 0, 'ZOO CENTER': 0}\n",
      "{'JUNGLEWORLD': 6, 'MADAGASCAR!': 10, 'TIGER MOUNTAIN': 2, 'BIG BEARS': 1, 'AFRICAN PLAINS': 3, 'AMERICAN BISON': 1, 'AQUATIC BIRD HOUSE & SEA BIRD AVIARY': 4, 'BIRDS OF PREY': 4, 'BUTTERFLY GARDEN': 1, 'CARTER GIRAFFE BUILDING': 3, \"CHILDREN'S ZOO\": 8, 'CONGO GORILLA FOREST': 3, 'GELADA RESERVE': 1, 'HIMALAYAN HIGHLANDS': 2, 'MOUSE HOUSE': 1, 'SEA LION POOL': 1, 'WILD ASIA MONORAIL': 2, 'WORLD OF BIRDS': 2, 'WORLD OF REPTILES': 5, 'ZOO CENTER': 3}\n"
     ]
    }
   ],
   "source": [
    "open_close = [\"10\", \"17\"] #open at 10am, close at 5pm animal exhibits close 30mins before the close time\n",
    "\n",
    "exhibits = [\n",
    "    \"JUNGLEWORLD\", \"MADAGASCAR!\", \"TIGER MOUNTAIN\", \"BIG BEARS\", \n",
    "    \"AFRICAN PLAINS\", \"AMERICAN BISON\", \"AQUATIC BIRD HOUSE & SEA BIRD AVIARY\", \"BIRDS OF PREY\",\n",
    "    \"BUTTERFLY GARDEN\", \"CARTER GIRAFFE BUILDING\", \"CHILDREN'S ZOO\", \"CONGO GORILLA FOREST\",\n",
    "    \"GELADA RESERVE\", \"HIMALAYAN HIGHLANDS\", \"MOUSE HOUSE\", \"SEA LION POOL\", \n",
    "    \"WILD ASIA MONORAIL\", \"WORLD OF BIRDS\", \"WORLD OF REPTILES\", \"ZOO CENTER\"]\n",
    "featured_exhibits = exhibits[:4]\n",
    "\n",
    "# for example, featured_exhibits[1] is the description on \"MADAGASCAR!\" exhibit\n",
    "featured_exhibits_description = [\n",
    "    \"Grooming each other atop a maze of branches in our Asian jungle,\"\n",
    "    \" the ebony langurs defy expectations. Though most of this species is colored black,\"\n",
    "    \" many of ours are orange, echoing a group on an island in Indonesia.\",\n",
    "    \"There are about 97 lemur species native to the island of Madagascar,\"\n",
    "    \" among them Coquerel’s Sifaka. Ours are often active, using their strong\"\n",
    "    \" hind legs to leap from limb to limb and rock to vine.\",\n",
    "    \"Tiger Mountain is full of things for our big cats—and visitors—to explore.\"\n",
    "    \" Get nose-to-nose with our stars in stripes and discover how we protect tigers\"\n",
    "    \" through our work here at the zoo and in the wild.\",\n",
    "    \"Our brown bears are a fan favorite. It’s easy to understand why, when we watch them\"\n",
    "    \" splash around in the shallow water. In the wild, some of these bears grew too comfortable\"\n",
    "    \" around people or were orphaned, so we brought them to the zoo as rescues.\"]\n",
    "\n",
    "animals = [\n",
    "    \"AARDVARK\", \"AFRICAN PAINTED DOG\", \"ALDABRA TORTOISE\", \"AMERICAN ALLIGATOR\",\n",
    "    \"AMERICAN BISON\", \"AMUR TIGER\", \"ANACONDA\", \"ANDEAN CONDOR\",\n",
    "    \"ASIAN ELEPHANT\", \"BABY DOLL SHEEP\", \"BALD EAGLE\", \"BLUE IGUANA\",\n",
    "    \"BOER GOAT\", \"CALIFORNIA SEA LION\", \"CARIBBEAN FLAMINGO\", \"CHINCHILLA\",\n",
    "    \"COLLARED LEMUR\", \"COQUEREL'S SIFAKA\", \"CUBAN AMAZON PARROT\", \"EBONY LANGUR\",\n",
    "    \"FENNEC FOX\", \"FOSSA\", \"GELADA\", \"GIANT ANTEATER\", \n",
    "    \"GIRAFFE\", \"GORILLA\", \"GRIZZLY BEAR\", \"HENKEL'S LEAF-TAILED GECKO\", \n",
    "    \"INDIAN GHARIAL\", \"INDIAN RHINOCEROS\", \"KING COBRA\", \"KING VULTURE\",\n",
    "    \"KOMODO DRAGON\", \"LINNE'S TWO-TOED SLOTH\", \"LION\", \"LITTLE PENGUIN\",\n",
    "    \"MADAGASCAR TREE BOA\", \"MAGELLANIC PENGUIN\", \"MALAYAN TAPIR\", \"MALAYAN TIGER\", \n",
    "    \"MATSCHIE'S TREE KANGAROO\", \"MINI DONKEY\", \"MONARCH BUTTERFLY\", \"NILE CROCODILE\",\n",
    "    \"NORTH AMERICAN PORCUPINE\", \"NUBIAN IBEX\", \"OKAPI\", \"POISON DART FROG\",\n",
    "    \"PYGMY MARMOSET\", \"RADIATED TORTOISE\", \"RED PANDA\", \"RED RUFFED LEMUR\",\n",
    "    \"RING-TAILED LEMUR\", \"RING-TAILED MONGOOSE\", \"ROCK HYRAX\", \"SMALL CLAWED ASIAN OTTER\",\n",
    "    \"SNOW LEOPARD\", \"SNOWY OWL\", \"SOUTHERN WHITE-FACED OWL\", \"SOUTHERN WHITE RHINOCEROS\",\n",
    "    \"SQUIRREL MONKEY\", \"TUFTED PUFFIN\", \"WHITE CHEEKED GIBBON\", \"WHITE-THROATED BEE EATER\",\n",
    "    \"ZEBRA\"]\n",
    "\n",
    "# for example, animal_exhibit[2] is where \"ALDABRA TORTOISE\" (= animals[2]) is.\n",
    "animal_exhibit = [\n",
    "    \"CARTER GIRAFFE BUILDING\", \"AFRICAN PLAINS\", \"ZOO CENTER\", \"WORLD OF REPTILES\",\n",
    "    \"AMERICAN BISON\", \"TIGER MOUNTAIN\", \"WORLD OF REPTILES\", \"BIRDS OF PREY\",\n",
    "    \"WILD ASIA MONORAIL\", \"CHILDREN'S ZOO\", \"BIRDS OF PREY\", \"WORLD OF REPTILES\",\n",
    "    \"CHILDREN'S ZOO\", \"SEA LION POOL\", \"AQUATIC BIRD HOUSE & SEA BIRD AVIARY\", \"MOUSE HOUSE\",\n",
    "    \"MADAGASCAR!\", \"MADAGASCAR!\", \"WORLD OF BIRDS\", \"JUNGLEWORLD\",\n",
    "    \"CHILDREN'S ZOO\", \"MADAGASCAR!\", \"GELADA RESERVE\", \"CHILDREN'S ZOO\",\n",
    "    \"CARTER GIRAFFE BUILDING\", \"CONGO GORILLA FOREST\", \"BIG BEARS\", \"MADAGASCAR!\",\n",
    "    \"JUNGLEWORLD\", \"WILD ASIA MONORAIL\", \"WORLD OF REPTILES\", \"BIRDS OF PREY\",\n",
    "    \"ZOO CENTER\", \"CHILDREN'S ZOO\", \"AFRICAN PLAINS\", \"AQUATIC BIRD HOUSE & SEA BIRD AVIARY\",\n",
    "    \"MADAGASCAR!\", \"AQUATIC BIRD HOUSE & SEA BIRD AVIARY\", \"JUNGLEWORLD\", \"TIGER MOUNTAIN\",\n",
    "    \"JUNGLEWORLD\", \"CHILDREN'S ZOO\", \"BUTTERFLY GARDEN\", \"MADAGASCAR!\", \n",
    "    \"CHILDREN'S ZOO\", \"BABOON RESERVE\", \"CONGO GORILLA FOREST\", \"WORLD OF REPTILES\",\n",
    "    \"CONGO GORILLA FOREST\", \"MADAGASCAR!\", \"HIMALAYAN HIGHLANDS\", \"MADAGASCAR!\",\n",
    "    \"MADAGASCAR!\", \"MADAGASCAR!\", \"BABOON RESERVE\", \"JUNGLEWORLD\",\n",
    "    \"HIMALAYAN HIGHLANDS\", \"BIRDS OF PREY\", \"CARTER GIRAFFE BUILDING\", \"ZOO CENTER\", \n",
    "    \"CHILDREN'S ZOO\", \"AQUATIC BIRD HOUSE & SEA BIRD AVIARY\", \"JUNGLEWORLD\", \"WORLD OF BIRDS\", \n",
    "    \"AFRICAN PLAINS\"\n",
    "]\n",
    "# YOUR CODE STARTS HERE. \n",
    "zoo = dict()\n",
    "\n",
    "#associate all value to 0\n",
    "for e in exhibits:\n",
    "    zoo[e] = 0\n",
    "print(zoo)\n",
    "    \n",
    "#count all animals by using another for loop\n",
    "for e in animal_exhibit:\n",
    "    if e in zoo: #make sure that exhibit e is in zoo keys\n",
    "        zoo[e] = zoo[e] + 1\n",
    "print(zoo)\n",
    "\n",
    "\n",
    "#print it by using for loop and dict"
   ]
  },
  {
   "cell_type": "markdown",
   "id": "934843ad",
   "metadata": {},
   "source": [
    "### Part 3: Word counting"
   ]
  },
  {
   "cell_type": "code",
   "execution_count": 12,
   "id": "ccf5c03e",
   "metadata": {},
   "outputs": [],
   "source": [
    "article = (\n",
    "\"\"\"Bangkokians have been busy: Travelers returning to \"the City of Angels\" after even a few years will notice changes. The impenetrably jammed streets of Chinatown and Old Town, with their glorious religious and royal enclaves, are finally accessible by mass transit with the extension of the Metropolitan Rapid Transit subway. And the long-neglected waterfront of the Chao Phraya River now has two massive, eye-popping developments on opposite banks: the Icon Siam mall and the Four Seasons complex of restaurants, a water garden and a gallery. Meanwhile, a new generation of chefs, designers and artisans has taken advantage of the pandemic lull to open businesses throughout Bangkok, bringing more flair and fun to an already flamboyant city.\n",
    "The chef Thitid \"Ton\" Tassanakajohn, a co-owner of the Michelin-starred Bangkok restaurant Le Du, last year opened Lahnyai Nusara, an intimate restaurant in a living-room-like space amid the Sathorn district's skyscrapers. Get a reservation for one of the half-dozen tables overseen by family photographs and embark on Ton's 12-course menu, based on a cosmopolitan approach to his mom's recipes, like steamed egg with crab meat and truffles. Dinner with wine is around 3,800 Thai baht, or about $115, per person.\n",
    "Dress shamelessly and let Thai D.J.s vibrate away your jet lag at Sing Sing Theater, the current reigning nightclub in Sukhumvit, with a noirish retro-Chinese décor illuminated by swarms of red lanterns and a riot of professional dancers behind screens and on swings that give the place the feel of a Baz Luhrmann film set. Settle into the intimate nooks and balconies surrounding the stage and dance floor or house shuffle with a cordial mix of wealthy locals and Bangkok's expat community, including, at the moment, quite a few exiled Russians. Guest D.J.s and live bands come in for regular parties such as burlesque or Latin nights. Drinks start at 180 THB.\n",
    "In the 1990s, Co van Kessel, a Dutch-born resident of Bangkok who died in 2012, pioneered elaborate, yet surprisingly easy bicycle tours through the city and its surrounding farmland that used canal boats to move between town and country. Today, a friendly staff of young, English-speaking Thai bike enthusiasts have taken up his mantle from a well-marked garage and office next to the River City shopping complex on the Chao Phraya River. Much of the clientele is still Dutch, and it's a mesmerizing and surprisingly safe trip through a maze of alleyway temples and canals (you hop into the boat with your bike), leading to paths above the paddy farms upon which the city was built, one of which provides a delicious local lunch. A five-hour tour is 1,850 THB.\n",
    "Visitors usually head to Wat Pho (\"wat\" means \"temple\" in many parts of Southeast Asia) next to the Grand Palace to marvel at the 151-foot reclining Buddha. But one can match the contentment on his face in a discreet building behind the temple where novices master the art of Thai massage, one of the ancient medical practices to which the wat is devoted. The massage center, Wat Pho Thai Traditional Medical School, is across from the main temple building (there's usually a standing yellow sign in front). Sample their craft with divine foot and back massages starting from 280 THB for 30 minutes.\n",
    "Vietnam War-era military jackets? Butterfly collections? Hand-carved, Scandi-minimalist cutlery? They're all found in the potpourri of shops, galleries and cafes of Warehouse 30, which spans seven colorfully renovated warehouses and anchors Bangkok's thriving arts district surrounding the River City shopping center. Regenerate from all that biking and shopping in one of the complex's most popular cafes, Mother Roaster, run by the septuagenarian super-barista Ploenpit Rianmek, affectionately nicknamed \"Pa Pim,\" who brews some of the best java in town (from 80 THB).\n",
    "Bangkok's Chinatown is a maze of perpetual regeneration. The district, long hemmed in by a permanent traffic jam, is now more accessible by the extension of the subway system in 2019. Finding Potong, a restaurant in a former pharmacy in an alley off an alley, is a worthy adventure. The chef Pam Soontornyanakij is the fifth generation of her family to own and work in this building, having made a detour as a cook in Jean-Georges Vongerichten's culinary empire in New York before returning to bring Western panache to Thai-Chinese fusion. The result is dishes like a traditional corn custard that she serves with smoked salt and on brioche. Her efforts were rewarded with her first Michelin star in November. The tasting menu is 4,800 THB per person; reserve ahead.\n",
    "Over the past decade, the city has become one of Asia's great mixology destinations. The best of the blossoming bar scene is within walking distance of Potong, and includes Teens of Thailand, a cozy jewel-box of a place serving up gin cocktails; Tep Bar in a former shop that specializes in a herbal liquor called ya dong and uses local fruits and spices; and one of the city's hottest newcomers, Tropic City, a Thai take on a tiki bar featuring a dizzying array of rum cocktails. Expect to pay at least 300 THB a cocktail at these bars.\n",
    "The Four Seasons complex, which opened in late 2020, has revolutionized the dreary stretch of river south of the Taksin Bridge. Escape the dense urban surroundings to airy courtyards surrounding terraced pools, outdoor art installations and banyan trees descending to the shore. Head from the lobby to the waterfront via the small contemporary museum, Art Space, a broad whitewashed studio featuring a rotating series of modern art installations curated by Bangkok’s Museum of Contemporary Art. The museum shop features funky one-offs, including a blow-up 10-foot worm (65,000 THB) or customized graffiti tote bags (1,330 THB). Exit the gallery to find a popular French bakery, Cafe Madeleine, which serves excellent croissants (95 THB) and coffee on the wide riverfront terrace.\n",
    "Cross the river on the public ferry (from 13 THB) to Icon Siam mall. Few do malls better than the Thais: Imagine the spaceship from “Close Encounters of the Third Kind” perched on the shore (ignore all the bland Western luxury logos dominating the facade) and step into the light. The first floor has arguably the world’s best food court. Thais flock to the locally run stalls that have replaced so many of Bangkok’s much-missed street vendors. Many stalls don’t have names and just have one specialty, like spicy shrimp soup or pad thai, often made by that vendor’s family for generations. You can easily enjoy a multi-course feast for less than 200 THB. After lunch, visit the top floor balcony to discover a light-and-mirror art installation called “Infinity Forest,” and one of the best views over the river.\"\"\"\n",
    ")"
   ]
  },
  {
   "cell_type": "code",
   "execution_count": null,
   "id": "c98e8a83",
   "metadata": {},
   "outputs": [],
   "source": [
    "# YOUR CODE STARTS HERE. "
   ]
  },
  {
   "cell_type": "markdown",
   "id": "f49a6963",
   "metadata": {},
   "source": [
    "### Extra: Musicals"
   ]
  },
  {
   "cell_type": "code",
   "execution_count": 15,
   "id": "796168b4",
   "metadata": {},
   "outputs": [],
   "source": [
    "# A nested list of musicals\n",
    "musicals = {\n",
    "    \"Frozen\"  : { \"place\"    : \"St. James Theatre\",\n",
    "                  \"duration\"  : \"2 hours 15 mins\",\n",
    "                  \"opening\"   : 2018,\n",
    "                  \"closed\"    : 2020\n",
    "               },\n",
    "    \"Lion King\":{ \"place\"   : \"Minskoff Theatre\", \n",
    "                  \"duration\"  : \"2 hours 30 mins\",\n",
    "                  \"opening\"   : 1997,\n",
    "                  \"closed\"    : False\n",
    "               },\n",
    "    \"Wicked\" :  { \"place\"     : \"Gershwin Theatre\",\n",
    "                  \"duration\"  : \"2 hours 45 mins\",\n",
    "                  \"opening\"   : 2003,\n",
    "                  \"closed\"    : False\n",
    "               },\n",
    "    \"Chicago\" : { \"place\"    : \"Ambassador Theatre\",\n",
    "                  \"duration\"  : \"2 hours 30 mins\",\n",
    "                  \"opening\"   : 1996,\n",
    "                  \"closed\"    : False\n",
    "               },\n",
    "    \"Hamilton\": { \"place\"    : \"Richard Rodgers Theatre\",\n",
    "                  \"duration\"  : \"2 hours 55 mins\",\n",
    "                  \"opening\"   : 2015,\n",
    "                  \"closed\"    : False\n",
    "               }\n",
    "}"
   ]
  }
 ],
 "metadata": {
  "kernelspec": {
   "display_name": "Python 3 (ipykernel)",
   "language": "python",
   "name": "python3"
  },
  "language_info": {
   "codemirror_mode": {
    "name": "ipython",
    "version": 3
   },
   "file_extension": ".py",
   "mimetype": "text/x-python",
   "name": "python",
   "nbconvert_exporter": "python",
   "pygments_lexer": "ipython3",
   "version": "3.9.0"
  }
 },
 "nbformat": 4,
 "nbformat_minor": 5
}
