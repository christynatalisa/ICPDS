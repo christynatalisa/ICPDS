{
 "cells": [
  {
   "cell_type": "markdown",
   "metadata": {
    "id": "Sc7ov1-CFsCI"
   },
   "source": [
    "# MySQL Nested Queries"
   ]
  },
  {
   "cell_type": "code",
   "execution_count": 1,
   "metadata": {
    "id": "OaEl6fuqdoa3"
   },
   "outputs": [],
   "source": [
    "from sqlalchemy import create_engine\n",
    "\n",
    "conn_string = 'mysql://{user}:{password}@{host}/{database}?charset=utf8'.format(\n",
    "    host = 'mysql-techub-2300010003-spring.db', \n",
    "    user = 'dbreader',\n",
    "    password = 'ub232023',\n",
    "    database = 'imdb')\n",
    "\n",
    "engine = create_engine(conn_string)\n",
    "con = engine.connect()"
   ]
  },
  {
   "cell_type": "markdown",
   "metadata": {},
   "source": [
    "Prepare sql_magic library that enable to query to database easily."
   ]
  },
  {
   "cell_type": "code",
   "execution_count": 2,
   "metadata": {
    "id": "K1n4Ui4Ruky2"
   },
   "outputs": [
    {
     "data": {
      "application/javascript": [
       "\n",
       "    require(['notebook/js/codecell'], function(codecell) {\n",
       "      // https://github.com/jupyter/notebook/issues/2453\n",
       "      codecell.CodeCell.options_default.highlight_modes['magic_text/x-sql'] = {'reg':[/^%read_sql/, /.*=\\s*%read_sql/,\n",
       "                                                                                      /^%%read_sql/]};\n",
       "      Jupyter.notebook.events.one('kernel_ready.Kernel', function(){\n",
       "          console.log('BBBBB');\n",
       "          Jupyter.notebook.get_cells().map(function(cell){\n",
       "              if (cell.cell_type == 'code'){ cell.auto_highlight(); } }) ;\n",
       "      });\n",
       "    });\n",
       "    "
      ]
     },
     "metadata": {},
     "output_type": "display_data"
    }
   ],
   "source": [
    "%reload_ext sql_magic\n",
    "%config SQL.conn_name = 'engine'"
   ]
  },
  {
   "cell_type": "markdown",
   "metadata": {},
   "source": [
    "#### CAUTION! PLEASE RUN THIS CELL! This cell limits the maximum number of records to obtain."
   ]
  },
  {
   "cell_type": "code",
   "execution_count": 10,
   "metadata": {
    "id": "pRoICAjnAaU9"
   },
   "outputs": [
    {
     "name": "stdout",
     "output_type": "stream",
     "text": [
      "Query started at 09:31:56 PM EDT; Query executed in 0.01 m"
     ]
    },
    {
     "data": {
      "text/plain": [
       "<sql_magic.exceptions.EmptyResult at 0x7f7f386c5070>"
      ]
     },
     "execution_count": 10,
     "metadata": {},
     "output_type": "execute_result"
    }
   ],
   "source": [
    "%%read_sql\n",
    "SET sql_safe_updates=1, sql_select_limit=1000, max_join_size=10000000;"
   ]
  },
  {
   "cell_type": "markdown",
   "metadata": {
    "id": "rzOWGMo0ADd2"
   },
   "source": [
    "Now we are all set! Let us start querying data from IMDB database.\n",
    "\n",
    "\n",
    "\n"
   ]
  },
  {
   "cell_type": "code",
   "execution_count": 21,
   "metadata": {
    "id": "4j-j5nDDuwrw"
   },
   "outputs": [
    {
     "name": "stdout",
     "output_type": "stream",
     "text": [
      "Query started at 10:38:13 AM EDT; Query executed in 0.01 m"
     ]
    },
    {
     "data": {
      "text/plain": [
       "<sql_magic.exceptions.EmptyResult at 0x7f86076d08b0>"
      ]
     },
     "execution_count": 21,
     "metadata": {},
     "output_type": "execute_result"
    }
   ],
   "source": [
    "%%read_sql\n",
    "USE imdb;"
   ]
  },
  {
   "cell_type": "markdown",
   "metadata": {
    "id": "P2ka1VUS-niB"
   },
   "source": [
    "## Session starts here."
   ]
  },
  {
   "cell_type": "markdown",
   "metadata": {
    "id": "pOsM5dRVHP2G"
   },
   "source": [
    "See also\n",
    "> https://www.imdb.com/interfaces/"
   ]
  },
  {
   "cell_type": "markdown",
   "metadata": {
    "id": "jAP2x4JrAFLb"
   },
   "source": [
    "#### Nested queries\n",
    "\n"
   ]
  },
  {
   "cell_type": "markdown",
   "metadata": {
    "id": "ADpmYR-P0WzV"
   },
   "source": [
    "JOIN queries can be **rewritten** by using subqueries. Revisit the query of S3: The following query return the average rating and numvotes of Sherlock (2010)."
   ]
  },
  {
   "cell_type": "code",
   "execution_count": 22,
   "metadata": {
    "id": "jDR_w9fZVZQo"
   },
   "outputs": [
    {
     "name": "stdout",
     "output_type": "stream",
     "text": [
      "Query started at 10:38:19 AM EDT; Query executed in 0.02 m"
     ]
    },
    {
     "data": {
      "text/html": [
       "<div>\n",
       "<style scoped>\n",
       "    .dataframe tbody tr th:only-of-type {\n",
       "        vertical-align: middle;\n",
       "    }\n",
       "\n",
       "    .dataframe tbody tr th {\n",
       "        vertical-align: top;\n",
       "    }\n",
       "\n",
       "    .dataframe thead th {\n",
       "        text-align: right;\n",
       "    }\n",
       "</style>\n",
       "<table border=\"1\" class=\"dataframe\">\n",
       "  <thead>\n",
       "    <tr style=\"text-align: right;\">\n",
       "      <th></th>\n",
       "      <th>averageRating</th>\n",
       "      <th>numVotes</th>\n",
       "    </tr>\n",
       "  </thead>\n",
       "  <tbody>\n",
       "    <tr>\n",
       "      <th>0</th>\n",
       "      <td>9.1</td>\n",
       "      <td>941117</td>\n",
       "    </tr>\n",
       "  </tbody>\n",
       "</table>\n",
       "</div>"
      ],
      "text/plain": [
       "   averageRating  numVotes\n",
       "0            9.1    941117"
      ]
     },
     "execution_count": 22,
     "metadata": {},
     "output_type": "execute_result"
    }
   ],
   "source": [
    "%%read_sql\n",
    "SELECT averageRating, numVotes\n",
    "FROM TitleRatings r\n",
    "INNER JOIN TitleBasics b ON r.tconst = b.tconst\n",
    "WHERE\n",
    "originalTitle = \"Sherlock\"\n",
    "AND\n",
    "startYear = 2010\n",
    ";"
   ]
  },
  {
   "cell_type": "markdown",
   "metadata": {
    "id": "TW8Hi40R_JRb"
   },
   "source": [
    "The following query, which uses subquery, returns the same information."
   ]
  },
  {
   "cell_type": "code",
   "execution_count": 23,
   "metadata": {
    "id": "Y0duX1QV_SWV"
   },
   "outputs": [
    {
     "name": "stdout",
     "output_type": "stream",
     "text": [
      "Query started at 10:38:23 AM EDT; Query executed in 0.00 m"
     ]
    },
    {
     "data": {
      "text/html": [
       "<div>\n",
       "<style scoped>\n",
       "    .dataframe tbody tr th:only-of-type {\n",
       "        vertical-align: middle;\n",
       "    }\n",
       "\n",
       "    .dataframe tbody tr th {\n",
       "        vertical-align: top;\n",
       "    }\n",
       "\n",
       "    .dataframe thead th {\n",
       "        text-align: right;\n",
       "    }\n",
       "</style>\n",
       "<table border=\"1\" class=\"dataframe\">\n",
       "  <thead>\n",
       "    <tr style=\"text-align: right;\">\n",
       "      <th></th>\n",
       "      <th>averageRating</th>\n",
       "      <th>numVotes</th>\n",
       "    </tr>\n",
       "  </thead>\n",
       "  <tbody>\n",
       "    <tr>\n",
       "      <th>0</th>\n",
       "      <td>9.1</td>\n",
       "      <td>941117</td>\n",
       "    </tr>\n",
       "  </tbody>\n",
       "</table>\n",
       "</div>"
      ],
      "text/plain": [
       "   averageRating  numVotes\n",
       "0            9.1    941117"
      ]
     },
     "execution_count": 23,
     "metadata": {},
     "output_type": "execute_result"
    }
   ],
   "source": [
    "%%read_sql\n",
    "SELECT averageRating, numVotes\n",
    "FROM TitleRatings\n",
    "WHERE tconst =\n",
    "(\n",
    "  SELECT tconst FROM TitleBasics\n",
    "  WHERE\n",
    "  originalTitle = \"Sherlock\"\n",
    "  AND\n",
    "  startYear = 2010    \n",
    ")\n",
    ";"
   ]
  },
  {
   "cell_type": "markdown",
   "metadata": {
    "id": "snoqpeGu_nH9"
   },
   "source": [
    "This query above is **nested** because one query is inside another. The inner query, or **subquery** -- the one that is nested -- is written in **parentheses**, and you can see that it determines the tconst in a silent way. The outer query is the one that is listed first and is not parenthesized here."
   ]
  },
  {
   "cell_type": "markdown",
   "metadata": {
    "id": "9cvgtXCoHbaN"
   },
   "source": [
    "#### Exercise\n",
    "\n",
    "Similar to the exercise of S3, create queries that answers to the following questions Q1-Q3. Here, instead of using inner join, use **nested queries**.\n",
    "\n",
    "```\n",
    "Q1. Find a movie with its **primaryTitle** \"Les Miserables\"\n",
    "      and **startYear**  2012 in **TitleBasics** table.\n",
    "Q2. Find the **averageRating** of the movie by using the query of Q1 as a  \n",
    "      subquery and write an outer query for **TitleRatings** table.\n",
    "Q3. Find the **directors** of the movie by using the query of Q1 as a \n",
    "      subquery and write outer query for **TitleCrew** table.\n",
    "    This should return \"nmXXXXXXX\". \n",
    "```\n"
   ]
  },
  {
   "cell_type": "code",
   "execution_count": null,
   "metadata": {
    "id": "OVi2H8h4u5s8"
   },
   "outputs": [],
   "source": [
    "# Your answer to Q1 here\n",
    "%%read_sql\n",
    "# REPLACE THIS COMMENT WITH SQL"
   ]
  },
  {
   "cell_type": "code",
   "execution_count": null,
   "metadata": {
    "id": "MrEbwv8Su_AV"
   },
   "outputs": [],
   "source": [
    "# Your answer to Q2 here\n",
    "%%read_sql\n",
    "# REPLACE THIS COMMENT WITH SQL"
   ]
  },
  {
   "cell_type": "code",
   "execution_count": null,
   "metadata": {
    "id": "2fbbrFFCu_Kw"
   },
   "outputs": [],
   "source": [
    "# Your answer to Q3 here\n",
    "%%read_sql\n",
    "# REPLACE THIS COMMENT WITH SQL"
   ]
  },
  {
   "cell_type": "markdown",
   "metadata": {
    "id": "RyMO8-_mCbtE"
   },
   "source": [
    "#### Some queries are easier to do in nested query. \n",
    "\n",
    "The pros of nested queries: \n",
    "\n",
    "*   Nested queries are expressive: Readability is higher once you get used to it.\n",
    "*   Nested queries are even more powerful in some sort of queries.\n",
    "\n",
    "The cons of nested queries:\n",
    "\n",
    "*   Usually, nested queries are slower than non-nested queries.\n"
   ]
  },
  {
   "cell_type": "markdown",
   "metadata": {
    "id": "bxl_nzOYIH1i"
   },
   "source": [
    "The next query is an example where nested query makes it much easier. Let us first check the largest numVotes."
   ]
  },
  {
   "cell_type": "code",
   "execution_count": 14,
   "metadata": {
    "id": "7P0IRzWsIbrh"
   },
   "outputs": [
    {
     "name": "stdout",
     "output_type": "stream",
     "text": [
      "Query started at 09:32:08 PM EDT; Query executed in 0.00 m"
     ]
    },
    {
     "data": {
      "text/html": [
       "<div>\n",
       "<style scoped>\n",
       "    .dataframe tbody tr th:only-of-type {\n",
       "        vertical-align: middle;\n",
       "    }\n",
       "\n",
       "    .dataframe tbody tr th {\n",
       "        vertical-align: top;\n",
       "    }\n",
       "\n",
       "    .dataframe thead th {\n",
       "        text-align: right;\n",
       "    }\n",
       "</style>\n",
       "<table border=\"1\" class=\"dataframe\">\n",
       "  <thead>\n",
       "    <tr style=\"text-align: right;\">\n",
       "      <th></th>\n",
       "      <th>max(numVotes)</th>\n",
       "    </tr>\n",
       "  </thead>\n",
       "  <tbody>\n",
       "    <tr>\n",
       "      <th>0</th>\n",
       "      <td>2714675</td>\n",
       "    </tr>\n",
       "  </tbody>\n",
       "</table>\n",
       "</div>"
      ],
      "text/plain": [
       "   max(numVotes)\n",
       "0        2714675"
      ]
     },
     "execution_count": 14,
     "metadata": {},
     "output_type": "execute_result"
    }
   ],
   "source": [
    "%%read_sql\n",
    "SELECT max(numVotes)\n",
    "FROM TitleRatings;"
   ]
  },
  {
   "cell_type": "markdown",
   "metadata": {
    "id": "jhsGGsBUNVsj"
   },
   "source": [
    "More specifically, we want the **primaryTitle** that has largest numVotes. Can we do like below?"
   ]
  },
  {
   "cell_type": "code",
   "execution_count": 24,
   "metadata": {
    "id": "PP9cOlG9Rz6T"
   },
   "outputs": [
    {
     "ename": "SyntaxError",
     "evalue": "invalid syntax (2231511896.py, line 3)",
     "output_type": "error",
     "traceback": [
      "\u001b[0;36m  Cell \u001b[0;32mIn[24], line 3\u001b[0;36m\u001b[0m\n\u001b[0;31m    SELECT max(numVotes), primaryTitle\u001b[0m\n\u001b[0m           ^\u001b[0m\n\u001b[0;31mSyntaxError\u001b[0m\u001b[0;31m:\u001b[0m invalid syntax\n"
     ]
    }
   ],
   "source": [
    "# NOTE: This cell doesn't work (ERROR)! The two attrs, max(numVotes) (aggregation column) and primaryTitle (standard column) cannot co-exists.\n",
    "%%read_sql\n",
    "SELECT max(numVotes), primaryTitle\n",
    "FROM TitleRatings r\n",
    "INNER JOIN TitleBasics b\n",
    "ON r.tconst = b.tconst\n",
    ";"
   ]
  },
  {
   "cell_type": "markdown",
   "metadata": {
    "id": "wyoKrAliOVRK"
   },
   "source": [
    "We can fix it by using by JOIN query and directly specifying numVotes (given that we obtained it in another query)."
   ]
  },
  {
   "cell_type": "code",
   "execution_count": 27,
   "metadata": {
    "id": "5FpsPLfVO4V8"
   },
   "outputs": [
    {
     "name": "stdout",
     "output_type": "stream",
     "text": [
      "Query started at 10:38:41 AM EDT; Query executed in 0.00 m"
     ]
    },
    {
     "data": {
      "text/html": [
       "<div>\n",
       "<style scoped>\n",
       "    .dataframe tbody tr th:only-of-type {\n",
       "        vertical-align: middle;\n",
       "    }\n",
       "\n",
       "    .dataframe tbody tr th {\n",
       "        vertical-align: top;\n",
       "    }\n",
       "\n",
       "    .dataframe thead th {\n",
       "        text-align: right;\n",
       "    }\n",
       "</style>\n",
       "<table border=\"1\" class=\"dataframe\">\n",
       "  <thead>\n",
       "    <tr style=\"text-align: right;\">\n",
       "      <th></th>\n",
       "      <th>index</th>\n",
       "      <th>tconst</th>\n",
       "      <th>titleType</th>\n",
       "      <th>primaryTitle</th>\n",
       "      <th>originalTitle</th>\n",
       "      <th>isAdult</th>\n",
       "      <th>startYear</th>\n",
       "      <th>endYear</th>\n",
       "      <th>runtimeMinutes</th>\n",
       "      <th>genres</th>\n",
       "      <th>tconst</th>\n",
       "      <th>averageRating</th>\n",
       "      <th>numVotes</th>\n",
       "    </tr>\n",
       "  </thead>\n",
       "  <tbody>\n",
       "    <tr>\n",
       "      <th>0</th>\n",
       "      <td>108666</td>\n",
       "      <td>tt0111161</td>\n",
       "      <td>movie</td>\n",
       "      <td>The Shawshank Redemption</td>\n",
       "      <td>The Shawshank Redemption</td>\n",
       "      <td>0</td>\n",
       "      <td>1994</td>\n",
       "      <td>None</td>\n",
       "      <td>142</td>\n",
       "      <td>Drama</td>\n",
       "      <td>tt0111161</td>\n",
       "      <td>9.3</td>\n",
       "      <td>2714675</td>\n",
       "    </tr>\n",
       "  </tbody>\n",
       "</table>\n",
       "</div>"
      ],
      "text/plain": [
       "    index     tconst titleType              primaryTitle  \\\n",
       "0  108666  tt0111161     movie  The Shawshank Redemption   \n",
       "\n",
       "              originalTitle  isAdult  startYear endYear  runtimeMinutes  \\\n",
       "0  The Shawshank Redemption        0       1994    None             142   \n",
       "\n",
       "  genres     tconst  averageRating  numVotes  \n",
       "0  Drama  tt0111161            9.3   2714675  "
      ]
     },
     "execution_count": 27,
     "metadata": {},
     "output_type": "execute_result"
    }
   ],
   "source": [
    "%%read_sql\n",
    "SELECT *\n",
    "FROM TitleBasics b\n",
    "INNER JOIN TitleRatings r\n",
    "ON b.tconst = r.tconst\n",
    "where numVotes = 2714675\n",
    ";"
   ]
  },
  {
   "cell_type": "markdown",
   "metadata": {
    "id": "qL8GSfvKbSjR"
   },
   "source": [
    "Moreover, we can do it in just one query, where we obtain max(numVotes) from another query:"
   ]
  },
  {
   "cell_type": "code",
   "execution_count": 26,
   "metadata": {
    "id": "bYUryogrbak6"
   },
   "outputs": [
    {
     "name": "stdout",
     "output_type": "stream",
     "text": [
      "Query started at 10:38:34 AM EDT; Query executed in 0.00 m"
     ]
    },
    {
     "data": {
      "text/html": [
       "<div>\n",
       "<style scoped>\n",
       "    .dataframe tbody tr th:only-of-type {\n",
       "        vertical-align: middle;\n",
       "    }\n",
       "\n",
       "    .dataframe tbody tr th {\n",
       "        vertical-align: top;\n",
       "    }\n",
       "\n",
       "    .dataframe thead th {\n",
       "        text-align: right;\n",
       "    }\n",
       "</style>\n",
       "<table border=\"1\" class=\"dataframe\">\n",
       "  <thead>\n",
       "    <tr style=\"text-align: right;\">\n",
       "      <th></th>\n",
       "      <th>index</th>\n",
       "      <th>tconst</th>\n",
       "      <th>titleType</th>\n",
       "      <th>primaryTitle</th>\n",
       "      <th>originalTitle</th>\n",
       "      <th>isAdult</th>\n",
       "      <th>startYear</th>\n",
       "      <th>endYear</th>\n",
       "      <th>runtimeMinutes</th>\n",
       "      <th>genres</th>\n",
       "      <th>tconst</th>\n",
       "      <th>averageRating</th>\n",
       "      <th>numVotes</th>\n",
       "    </tr>\n",
       "  </thead>\n",
       "  <tbody>\n",
       "    <tr>\n",
       "      <th>0</th>\n",
       "      <td>108666</td>\n",
       "      <td>tt0111161</td>\n",
       "      <td>movie</td>\n",
       "      <td>The Shawshank Redemption</td>\n",
       "      <td>The Shawshank Redemption</td>\n",
       "      <td>0</td>\n",
       "      <td>1994</td>\n",
       "      <td>None</td>\n",
       "      <td>142</td>\n",
       "      <td>Drama</td>\n",
       "      <td>tt0111161</td>\n",
       "      <td>9.3</td>\n",
       "      <td>2714675</td>\n",
       "    </tr>\n",
       "  </tbody>\n",
       "</table>\n",
       "</div>"
      ],
      "text/plain": [
       "    index     tconst titleType              primaryTitle  \\\n",
       "0  108666  tt0111161     movie  The Shawshank Redemption   \n",
       "\n",
       "              originalTitle  isAdult  startYear endYear  runtimeMinutes  \\\n",
       "0  The Shawshank Redemption        0       1994    None             142   \n",
       "\n",
       "  genres     tconst  averageRating  numVotes  \n",
       "0  Drama  tt0111161            9.3   2714675  "
      ]
     },
     "execution_count": 26,
     "metadata": {},
     "output_type": "execute_result"
    }
   ],
   "source": [
    "%%read_sql\n",
    "SELECT *\n",
    "FROM TitleBasics b\n",
    "INNER JOIN TitleRatings r\n",
    "ON b.tconst = r.tconst\n",
    "where numVotes = \n",
    "(\n",
    "  SELECT max(numVotes)\n",
    "   FROM\n",
    "  TitleRatings\n",
    ")\n",
    ";"
   ]
  },
  {
   "cell_type": "markdown",
   "metadata": {
    "id": "RERMKV-tragA"
   },
   "source": [
    "#### Doubly-nested query\n",
    "\n",
    "The following query is an example of doubly-nested query that gives us a list of movies \"Hugh Jackman\" is involving. We first (1) `nconst` of Hugh Jackman, then we (2) obtain the list of `tconst`s that Hugh Jackman is appearing, and finally (3) obtain the primaryTitle of the selected `tconst`s."
   ]
  },
  {
   "cell_type": "code",
   "execution_count": 29,
   "metadata": {
    "id": "Z4TffmnfvDKa"
   },
   "outputs": [
    {
     "name": "stdout",
     "output_type": "stream",
     "text": [
      "Query started at 10:41:32 AM EDT; Query executed in 0.01 m"
     ]
    },
    {
     "data": {
      "text/html": [
       "<div>\n",
       "<style scoped>\n",
       "    .dataframe tbody tr th:only-of-type {\n",
       "        vertical-align: middle;\n",
       "    }\n",
       "\n",
       "    .dataframe tbody tr th {\n",
       "        vertical-align: top;\n",
       "    }\n",
       "\n",
       "    .dataframe thead th {\n",
       "        text-align: right;\n",
       "    }\n",
       "</style>\n",
       "<table border=\"1\" class=\"dataframe\">\n",
       "  <thead>\n",
       "    <tr style=\"text-align: right;\">\n",
       "      <th></th>\n",
       "      <th>primaryTitle</th>\n",
       "    </tr>\n",
       "  </thead>\n",
       "  <tbody>\n",
       "    <tr>\n",
       "      <th>0</th>\n",
       "      <td>Kate &amp; Leopold</td>\n",
       "    </tr>\n",
       "    <tr>\n",
       "      <th>1</th>\n",
       "      <td>X-Men</td>\n",
       "    </tr>\n",
       "    <tr>\n",
       "      <th>2</th>\n",
       "      <td>Paperback Hero</td>\n",
       "    </tr>\n",
       "    <tr>\n",
       "      <th>3</th>\n",
       "      <td>Erskineville Kings</td>\n",
       "    </tr>\n",
       "    <tr>\n",
       "      <th>4</th>\n",
       "      <td>Swordfish</td>\n",
       "    </tr>\n",
       "    <tr>\n",
       "      <th>5</th>\n",
       "      <td>Someone Like You</td>\n",
       "    </tr>\n",
       "    <tr>\n",
       "      <th>6</th>\n",
       "      <td>X2: X-Men United</td>\n",
       "    </tr>\n",
       "    <tr>\n",
       "      <th>7</th>\n",
       "      <td>Van Helsing</td>\n",
       "    </tr>\n",
       "    <tr>\n",
       "      <th>8</th>\n",
       "      <td>Happy Feet</td>\n",
       "    </tr>\n",
       "    <tr>\n",
       "      <th>9</th>\n",
       "      <td>X-Men: The Last Stand</td>\n",
       "    </tr>\n",
       "    <tr>\n",
       "      <th>10</th>\n",
       "      <td>The Fountain</td>\n",
       "    </tr>\n",
       "    <tr>\n",
       "      <th>11</th>\n",
       "      <td>Flushed Away</td>\n",
       "    </tr>\n",
       "    <tr>\n",
       "      <th>12</th>\n",
       "      <td>Real Steel</td>\n",
       "    </tr>\n",
       "    <tr>\n",
       "      <th>13</th>\n",
       "      <td>Australia</td>\n",
       "    </tr>\n",
       "    <tr>\n",
       "      <th>14</th>\n",
       "      <td>Scoop</td>\n",
       "    </tr>\n",
       "    <tr>\n",
       "      <th>15</th>\n",
       "      <td>X-Men Origins: Wolverine</td>\n",
       "    </tr>\n",
       "    <tr>\n",
       "      <th>16</th>\n",
       "      <td>The Prestige</td>\n",
       "    </tr>\n",
       "    <tr>\n",
       "      <th>17</th>\n",
       "      <td>Deception</td>\n",
       "    </tr>\n",
       "    <tr>\n",
       "      <th>18</th>\n",
       "      <td>Carousel</td>\n",
       "    </tr>\n",
       "    <tr>\n",
       "      <th>19</th>\n",
       "      <td>The Amateur</td>\n",
       "    </tr>\n",
       "    <tr>\n",
       "      <th>20</th>\n",
       "      <td>Eddie the Eagle</td>\n",
       "    </tr>\n",
       "    <tr>\n",
       "      <th>21</th>\n",
       "      <td>The Burning Season</td>\n",
       "    </tr>\n",
       "    <tr>\n",
       "      <th>22</th>\n",
       "      <td>Oh My God</td>\n",
       "    </tr>\n",
       "    <tr>\n",
       "      <th>23</th>\n",
       "      <td>Prisoners</td>\n",
       "    </tr>\n",
       "    <tr>\n",
       "      <th>24</th>\n",
       "      <td>The Wolverine</td>\n",
       "    </tr>\n",
       "    <tr>\n",
       "      <th>25</th>\n",
       "      <td>The Son</td>\n",
       "    </tr>\n",
       "    <tr>\n",
       "      <th>26</th>\n",
       "      <td>Rise of the Guardians</td>\n",
       "    </tr>\n",
       "    <tr>\n",
       "      <th>27</th>\n",
       "      <td>The Greatest Showman</td>\n",
       "    </tr>\n",
       "    <tr>\n",
       "      <th>28</th>\n",
       "      <td>Les Misérables</td>\n",
       "    </tr>\n",
       "    <tr>\n",
       "      <th>29</th>\n",
       "      <td>Chappie</td>\n",
       "    </tr>\n",
       "    <tr>\n",
       "      <th>30</th>\n",
       "      <td>X-Men: Days of Future Past</td>\n",
       "    </tr>\n",
       "    <tr>\n",
       "      <th>31</th>\n",
       "      <td>Show Me the Magic</td>\n",
       "    </tr>\n",
       "    <tr>\n",
       "      <th>32</th>\n",
       "      <td>Legacy X: Wolverine and the X-men</td>\n",
       "    </tr>\n",
       "    <tr>\n",
       "      <th>33</th>\n",
       "      <td>Reminiscence</td>\n",
       "    </tr>\n",
       "    <tr>\n",
       "      <th>34</th>\n",
       "      <td>Logan</td>\n",
       "    </tr>\n",
       "    <tr>\n",
       "      <th>35</th>\n",
       "      <td>Pan</td>\n",
       "    </tr>\n",
       "    <tr>\n",
       "      <th>36</th>\n",
       "      <td>That Sugar Film</td>\n",
       "    </tr>\n",
       "    <tr>\n",
       "      <th>37</th>\n",
       "      <td>Apostle Paul</td>\n",
       "    </tr>\n",
       "    <tr>\n",
       "      <th>38</th>\n",
       "      <td>The Odyssey</td>\n",
       "    </tr>\n",
       "    <tr>\n",
       "      <th>39</th>\n",
       "      <td>The Good Spy</td>\n",
       "    </tr>\n",
       "    <tr>\n",
       "      <th>40</th>\n",
       "      <td>Deadpool 3</td>\n",
       "    </tr>\n",
       "    <tr>\n",
       "      <th>41</th>\n",
       "      <td>The Absolutely True Diary of a Part-Time Indian</td>\n",
       "    </tr>\n",
       "    <tr>\n",
       "      <th>42</th>\n",
       "      <td>Missing Link</td>\n",
       "    </tr>\n",
       "    <tr>\n",
       "      <th>43</th>\n",
       "      <td>The Front Runner</td>\n",
       "    </tr>\n",
       "    <tr>\n",
       "      <th>44</th>\n",
       "      <td>Bad Education</td>\n",
       "    </tr>\n",
       "  </tbody>\n",
       "</table>\n",
       "</div>"
      ],
      "text/plain": [
       "                                       primaryTitle\n",
       "0                                    Kate & Leopold\n",
       "1                                             X-Men\n",
       "2                                    Paperback Hero\n",
       "3                                Erskineville Kings\n",
       "4                                         Swordfish\n",
       "5                                  Someone Like You\n",
       "6                                  X2: X-Men United\n",
       "7                                       Van Helsing\n",
       "8                                        Happy Feet\n",
       "9                             X-Men: The Last Stand\n",
       "10                                     The Fountain\n",
       "11                                     Flushed Away\n",
       "12                                       Real Steel\n",
       "13                                        Australia\n",
       "14                                            Scoop\n",
       "15                         X-Men Origins: Wolverine\n",
       "16                                     The Prestige\n",
       "17                                        Deception\n",
       "18                                         Carousel\n",
       "19                                      The Amateur\n",
       "20                                  Eddie the Eagle\n",
       "21                               The Burning Season\n",
       "22                                        Oh My God\n",
       "23                                        Prisoners\n",
       "24                                    The Wolverine\n",
       "25                                          The Son\n",
       "26                            Rise of the Guardians\n",
       "27                             The Greatest Showman\n",
       "28                                   Les Misérables\n",
       "29                                          Chappie\n",
       "30                       X-Men: Days of Future Past\n",
       "31                                Show Me the Magic\n",
       "32                Legacy X: Wolverine and the X-men\n",
       "33                                     Reminiscence\n",
       "34                                            Logan\n",
       "35                                              Pan\n",
       "36                                  That Sugar Film\n",
       "37                                     Apostle Paul\n",
       "38                                      The Odyssey\n",
       "39                                     The Good Spy\n",
       "40                                       Deadpool 3\n",
       "41  The Absolutely True Diary of a Part-Time Indian\n",
       "42                                     Missing Link\n",
       "43                                 The Front Runner\n",
       "44                                    Bad Education"
      ]
     },
     "execution_count": 29,
     "metadata": {},
     "output_type": "execute_result"
    }
   ],
   "source": [
    "%%read_sql\n",
    "SELECT primaryTitle FROM TitleBasics\n",
    "WHERE tconst IN\n",
    "(\n",
    "    SELECT tconst FROM TitlePrincipals WHERE nconst IN\n",
    "    (\n",
    "        SELECT nconst FROM NameBasics WHERE\n",
    "          primaryName = \"Hugh Jackman\"\n",
    "    )\n",
    ")\n",
    "AND \n",
    "  titleType = \"movie\"\n",
    ";"
   ]
  },
  {
   "cell_type": "markdown",
   "metadata": {
    "id": "OW1hDHoBvnBK"
   },
   "source": [
    "#### Variables"
   ]
  },
  {
   "cell_type": "markdown",
   "metadata": {
    "id": "J1tBlymivmq0"
   },
   "source": [
    "While subqueries enable us to pass the results of one query to another, we often want to save them so that we can use later. User variables provides us a way to do that. Let us start with the above example of largest numVotes."
   ]
  },
  {
   "cell_type": "markdown",
   "metadata": {
    "id": "GopJfB9mF2ll"
   },
   "source": [
    "The following query assigned the results of the query to a variable `@largestNumVotes`."
   ]
  },
  {
   "cell_type": "code",
   "execution_count": null,
   "metadata": {
    "id": "UR-AZLaklSn9"
   },
   "outputs": [],
   "source": [
    "%%read_sql\n",
    "SET @largestNumVotes = \n",
    "(\n",
    "    SELECT MAX(numVotes) FROM TitleRatings\n",
    ");"
   ]
  },
  {
   "cell_type": "markdown",
   "metadata": {
    "id": "J424dBqdGA2W"
   },
   "source": [
    "We can check the variable like:"
   ]
  },
  {
   "cell_type": "code",
   "execution_count": null,
   "metadata": {
    "id": "4ufI4dmwl51t"
   },
   "outputs": [],
   "source": [
    "%%read_sql\n",
    "SELECT @largestNumVotes;"
   ]
  },
  {
   "cell_type": "markdown",
   "metadata": {
    "id": "vMrG98aYGETm"
   },
   "source": [
    "And reuse it in the following query:"
   ]
  },
  {
   "cell_type": "code",
   "execution_count": null,
   "metadata": {
    "id": "dNzU2_4nmN89"
   },
   "outputs": [],
   "source": [
    "%%read_sql\n",
    "SELECT tconst FROM TitleRatings WHERE numVotes = @largestNumVotes;"
   ]
  },
  {
   "cell_type": "markdown",
   "metadata": {
    "id": "3hHgCHhMGIiQ"
   },
   "source": [
    "The following query obtain `tconst` of the largestNumVotes."
   ]
  },
  {
   "cell_type": "code",
   "execution_count": null,
   "metadata": {
    "id": "elFWdzx_mZLw"
   },
   "outputs": [],
   "source": [
    "%%read_sql\n",
    "SET @mostPopularMovie = (\n",
    "    SELECT tconst FROM TitleRatings WHERE numVotes = @largestNumVotes\n",
    ");"
   ]
  },
  {
   "cell_type": "markdown",
   "metadata": {
    "id": "a9QJ6oNgGOZf"
   },
   "source": [
    "And the information regarding the title is found as:"
   ]
  },
  {
   "cell_type": "code",
   "execution_count": null,
   "metadata": {
    "id": "TFe1bqqMmfUW"
   },
   "outputs": [],
   "source": [
    "%%read_sql\n",
    "SELECT * FROM TitleBasics WHERE tconst = @mostPopularMovie;"
   ]
  },
  {
   "cell_type": "markdown",
   "metadata": {
    "id": "ofR7lx8lGVdi"
   },
   "source": [
    "Note that, variable can store only one column of a record. The following query does not work:"
   ]
  },
  {
   "cell_type": "code",
   "execution_count": null,
   "metadata": {
    "id": "FnFToCx_v1YM"
   },
   "outputs": [],
   "source": [
    "# This is result in ERROR\n",
    "%%read_sql\n",
    "SET @allMovies = (\n",
    "    SELECT tconst FROM TitleBasics WHERE titleType = \"movie\"\n",
    ");"
   ]
  },
  {
   "cell_type": "code",
   "execution_count": null,
   "metadata": {
    "id": "Gz6hfGZmHgcx"
   },
   "outputs": [],
   "source": [
    "# This query works (pick tconst of one movie).\n",
    "%%read_sql\n",
    "SET @allMovies = (\n",
    "    SELECT tconst FROM TitleBasics WHERE titleType = \"movie\" LIMIT 1\n",
    ");"
   ]
  },
  {
   "cell_type": "markdown",
   "metadata": {
    "id": "xpzKivZNtEEC"
   },
   "source": [
    "#### Exercise (Variables)\n",
    "\n",
    "* Q1. Put the tconst of **primaryTitle** \"The Lord of the Rings: The Fellowship of the Ring\" (**startYear** = 2001) into a variable `@lotr`.\n",
    "* Q2. Put the averageRating of \"The Lord of the Rings: The Fellowship of the Ring\" into a variable `@lotr_rating`.\n",
    "* Q3. Print `@lotr_rating`."
   ]
  },
  {
   "cell_type": "code",
   "execution_count": null,
   "metadata": {
    "id": "hpXwtZa-HwQ-"
   },
   "outputs": [],
   "source": [
    "# Your answer to Q1 here\n",
    "%%read_sql\n",
    "# REPLACE THIS COMMENT WITH SQL"
   ]
  },
  {
   "cell_type": "code",
   "execution_count": null,
   "metadata": {
    "id": "VglY-Z1dIqpj"
   },
   "outputs": [],
   "source": [
    "# Your answer to Q2 here\n",
    "%%read_sql\n",
    "# REPLACE THIS COMMENT WITH SQL"
   ]
  },
  {
   "cell_type": "code",
   "execution_count": null,
   "metadata": {
    "id": "q93u15raI1M2"
   },
   "outputs": [],
   "source": [
    "# Your answer to Q3 here\n",
    "%%read_sql\n",
    "# REPLACE THIS COMMENT WITH SQL"
   ]
  },
  {
   "cell_type": "markdown",
   "metadata": {
    "id": "LVH0n4Y4lNI7"
   },
   "source": [
    "#### IN clause"
   ]
  },
  {
   "cell_type": "markdown",
   "metadata": {
    "id": "x1qsTPJfRWGR"
   },
   "source": [
    "The following query returns all the `tconst` where \"Brad Pitt\" is involved."
   ]
  },
  {
   "cell_type": "code",
   "execution_count": null,
   "metadata": {
    "id": "ORYFny09PRol"
   },
   "outputs": [],
   "source": [
    "%%read_sql\n",
    "SELECT tconst FROM TitlePrincipals WHERE nconst =\n",
    "(\n",
    "    SELECT nconst FROM NameBasics WHERE primaryName = \"Brad Pitt\"\n",
    ") \n",
    ";"
   ]
  },
  {
   "cell_type": "markdown",
   "metadata": {
    "id": "3K87028rQhXA"
   },
   "source": [
    "Is Brad Pitt acting in \"Se7en\" (1995)? "
   ]
  },
  {
   "cell_type": "code",
   "execution_count": 30,
   "metadata": {
    "id": "UIQ3FJ3tPzea"
   },
   "outputs": [
    {
     "name": "stdout",
     "output_type": "stream",
     "text": [
      "Query started at 10:41:43 AM EDT; Query executed in 0.01 m"
     ]
    },
    {
     "data": {
      "text/html": [
       "<div>\n",
       "<style scoped>\n",
       "    .dataframe tbody tr th:only-of-type {\n",
       "        vertical-align: middle;\n",
       "    }\n",
       "\n",
       "    .dataframe tbody tr th {\n",
       "        vertical-align: top;\n",
       "    }\n",
       "\n",
       "    .dataframe thead th {\n",
       "        text-align: right;\n",
       "    }\n",
       "</style>\n",
       "<table border=\"1\" class=\"dataframe\">\n",
       "  <thead>\n",
       "    <tr style=\"text-align: right;\">\n",
       "      <th></th>\n",
       "      <th>index</th>\n",
       "      <th>tconst</th>\n",
       "      <th>titleType</th>\n",
       "      <th>primaryTitle</th>\n",
       "      <th>originalTitle</th>\n",
       "      <th>isAdult</th>\n",
       "      <th>startYear</th>\n",
       "      <th>endYear</th>\n",
       "      <th>runtimeMinutes</th>\n",
       "      <th>genres</th>\n",
       "    </tr>\n",
       "  </thead>\n",
       "  <tbody>\n",
       "    <tr>\n",
       "      <th>0</th>\n",
       "      <td>111777</td>\n",
       "      <td>tt0114369</td>\n",
       "      <td>movie</td>\n",
       "      <td>Se7en</td>\n",
       "      <td>Se7en</td>\n",
       "      <td>0</td>\n",
       "      <td>1995</td>\n",
       "      <td>None</td>\n",
       "      <td>127</td>\n",
       "      <td>Crime,Drama,Mystery</td>\n",
       "    </tr>\n",
       "  </tbody>\n",
       "</table>\n",
       "</div>"
      ],
      "text/plain": [
       "    index     tconst titleType primaryTitle originalTitle  isAdult  startYear  \\\n",
       "0  111777  tt0114369     movie        Se7en         Se7en        0       1995   \n",
       "\n",
       "  endYear  runtimeMinutes               genres  \n",
       "0    None             127  Crime,Drama,Mystery  "
      ]
     },
     "execution_count": 30,
     "metadata": {},
     "output_type": "execute_result"
    }
   ],
   "source": [
    "%%read_sql\n",
    "SELECT * FROM TitleBasics WHERE \n",
    "primaryTitle = \"se7en\"\n",
    "AND \n",
    "tconst IN\n",
    "(\n",
    "  SELECT tconst FROM TitlePrincipals WHERE nconst =\n",
    "  (\n",
    "      SELECT nconst FROM NameBasics WHERE primaryName = \"Brad Pitt\"\n",
    "  ) \n",
    ")\n",
    ";"
   ]
  },
  {
   "cell_type": "markdown",
   "metadata": {
    "id": "D1f1MS16Rxah"
   },
   "source": [
    "Is Brad Pitt acting in \"The Hobbit: An Unexpected Journey\" (2012)? \n"
   ]
  },
  {
   "cell_type": "code",
   "execution_count": 31,
   "metadata": {
    "id": "4Ee0AbAORjbn"
   },
   "outputs": [
    {
     "name": "stdout",
     "output_type": "stream",
     "text": [
      "Query started at 10:41:47 AM EDT; Query executed in 0.00 m"
     ]
    },
    {
     "data": {
      "text/html": [
       "<div>\n",
       "<style scoped>\n",
       "    .dataframe tbody tr th:only-of-type {\n",
       "        vertical-align: middle;\n",
       "    }\n",
       "\n",
       "    .dataframe tbody tr th {\n",
       "        vertical-align: top;\n",
       "    }\n",
       "\n",
       "    .dataframe thead th {\n",
       "        text-align: right;\n",
       "    }\n",
       "</style>\n",
       "<table border=\"1\" class=\"dataframe\">\n",
       "  <thead>\n",
       "    <tr style=\"text-align: right;\">\n",
       "      <th></th>\n",
       "      <th>index</th>\n",
       "      <th>tconst</th>\n",
       "      <th>titleType</th>\n",
       "      <th>primaryTitle</th>\n",
       "      <th>originalTitle</th>\n",
       "      <th>isAdult</th>\n",
       "      <th>startYear</th>\n",
       "      <th>endYear</th>\n",
       "      <th>runtimeMinutes</th>\n",
       "      <th>genres</th>\n",
       "    </tr>\n",
       "  </thead>\n",
       "  <tbody>\n",
       "  </tbody>\n",
       "</table>\n",
       "</div>"
      ],
      "text/plain": [
       "Empty DataFrame\n",
       "Columns: [index, tconst, titleType, primaryTitle, originalTitle, isAdult, startYear, endYear, runtimeMinutes, genres]\n",
       "Index: []"
      ]
     },
     "execution_count": 31,
     "metadata": {},
     "output_type": "execute_result"
    }
   ],
   "source": [
    "%%read_sql\n",
    "SELECT * FROM TitleBasics WHERE \n",
    "primaryTitle = \"The Hobbit: An Unexpected Journey\"\n",
    "AND \n",
    "tconst IN\n",
    "(\n",
    "  SELECT tconst FROM TitlePrincipals WHERE nconst =\n",
    "  (\n",
    "      SELECT nconst FROM NameBasics WHERE primaryName = \"Brad Pitt\"\n",
    "  ) \n",
    ")\n",
    ";"
   ]
  },
  {
   "cell_type": "markdown",
   "metadata": {
    "id": "naDocn24Nbvo"
   },
   "source": [
    "#### Case (conditional construct)"
   ]
  },
  {
   "cell_type": "markdown",
   "metadata": {
    "id": "PSor7IwENhj4"
   },
   "source": [
    "Suppose I am interested in the producers. Create **an column \"is_actress\"** that describes whether the person is an actress or not."
   ]
  },
  {
   "cell_type": "code",
   "execution_count": 32,
   "metadata": {
    "id": "RcNc9dwrNh7-"
   },
   "outputs": [
    {
     "name": "stdout",
     "output_type": "stream",
     "text": [
      "Query started at 10:41:51 AM EDT; Query executed in 0.00 m"
     ]
    },
    {
     "data": {
      "text/html": [
       "<div>\n",
       "<style scoped>\n",
       "    .dataframe tbody tr th:only-of-type {\n",
       "        vertical-align: middle;\n",
       "    }\n",
       "\n",
       "    .dataframe tbody tr th {\n",
       "        vertical-align: top;\n",
       "    }\n",
       "\n",
       "    .dataframe thead th {\n",
       "        text-align: right;\n",
       "    }\n",
       "</style>\n",
       "<table border=\"1\" class=\"dataframe\">\n",
       "  <thead>\n",
       "    <tr style=\"text-align: right;\">\n",
       "      <th></th>\n",
       "      <th>primaryName</th>\n",
       "      <th>is_actress</th>\n",
       "    </tr>\n",
       "  </thead>\n",
       "  <tbody>\n",
       "    <tr>\n",
       "      <th>0</th>\n",
       "      <td>Famke Janssen</td>\n",
       "      <td>Yes</td>\n",
       "    </tr>\n",
       "    <tr>\n",
       "      <th>1</th>\n",
       "      <td>Halle Berry</td>\n",
       "      <td>Yes</td>\n",
       "    </tr>\n",
       "    <tr>\n",
       "      <th>2</th>\n",
       "      <td>Halle Berry</td>\n",
       "      <td>No</td>\n",
       "    </tr>\n",
       "    <tr>\n",
       "      <th>3</th>\n",
       "      <td>Hugh Jackman</td>\n",
       "      <td>No</td>\n",
       "    </tr>\n",
       "    <tr>\n",
       "      <th>4</th>\n",
       "      <td>Hugh Jackman</td>\n",
       "      <td>No</td>\n",
       "    </tr>\n",
       "    <tr>\n",
       "      <th>5</th>\n",
       "      <td>Ian McKellen</td>\n",
       "      <td>No</td>\n",
       "    </tr>\n",
       "  </tbody>\n",
       "</table>\n",
       "</div>"
      ],
      "text/plain": [
       "     primaryName is_actress\n",
       "0  Famke Janssen        Yes\n",
       "1    Halle Berry        Yes\n",
       "2    Halle Berry         No\n",
       "3   Hugh Jackman         No\n",
       "4   Hugh Jackman         No\n",
       "5   Ian McKellen         No"
      ]
     },
     "execution_count": 32,
     "metadata": {},
     "output_type": "execute_result"
    }
   ],
   "source": [
    "%%read_sql\n",
    "SELECT primaryName, \n",
    "  CASE \n",
    "  WHEN primaryProfession LIKE \"%%actress%%\" THEN \"Yes\"\n",
    "  ELSE \"No\"\n",
    "  END AS \"is_actress\"\n",
    "FROM NameBasics\n",
    "where primaryName in (\"Hugh Jackman\", \"Ian McKellen\", \"Famke Janssen\", \"Halle Berry\")\n",
    ";"
   ]
  },
  {
   "cell_type": "markdown",
   "metadata": {
    "id": "R7VB_73lZEnT"
   },
   "source": [
    "#### Functions\n",
    "\n"
   ]
  },
  {
   "cell_type": "markdown",
   "metadata": {
    "id": "I_alEjsTZrDD"
   },
   "source": [
    "The following is the **rounded** values of average ratings of \"X-Men\" movies."
   ]
  },
  {
   "cell_type": "code",
   "execution_count": 33,
   "metadata": {
    "id": "rjlYLvksZWkL"
   },
   "outputs": [
    {
     "name": "stdout",
     "output_type": "stream",
     "text": [
      "Query started at 10:41:54 AM EDT; Query executed in 0.01 m"
     ]
    },
    {
     "data": {
      "text/html": [
       "<div>\n",
       "<style scoped>\n",
       "    .dataframe tbody tr th:only-of-type {\n",
       "        vertical-align: middle;\n",
       "    }\n",
       "\n",
       "    .dataframe tbody tr th {\n",
       "        vertical-align: top;\n",
       "    }\n",
       "\n",
       "    .dataframe thead th {\n",
       "        text-align: right;\n",
       "    }\n",
       "</style>\n",
       "<table border=\"1\" class=\"dataframe\">\n",
       "  <thead>\n",
       "    <tr style=\"text-align: right;\">\n",
       "      <th></th>\n",
       "      <th>averageRating</th>\n",
       "      <th>ROUND(averageRating, 0)</th>\n",
       "    </tr>\n",
       "  </thead>\n",
       "  <tbody>\n",
       "    <tr>\n",
       "      <th>0</th>\n",
       "      <td>7.4</td>\n",
       "      <td>7.0</td>\n",
       "    </tr>\n",
       "    <tr>\n",
       "      <th>1</th>\n",
       "      <td>6.7</td>\n",
       "      <td>7.0</td>\n",
       "    </tr>\n",
       "    <tr>\n",
       "      <th>2</th>\n",
       "      <td>7.3</td>\n",
       "      <td>7.0</td>\n",
       "    </tr>\n",
       "    <tr>\n",
       "      <th>3</th>\n",
       "      <td>6.5</td>\n",
       "      <td>6.0</td>\n",
       "    </tr>\n",
       "    <tr>\n",
       "      <th>4</th>\n",
       "      <td>6.9</td>\n",
       "      <td>7.0</td>\n",
       "    </tr>\n",
       "    <tr>\n",
       "      <th>5</th>\n",
       "      <td>7.9</td>\n",
       "      <td>8.0</td>\n",
       "    </tr>\n",
       "    <tr>\n",
       "      <th>6</th>\n",
       "      <td>7.7</td>\n",
       "      <td>8.0</td>\n",
       "    </tr>\n",
       "    <tr>\n",
       "      <th>7</th>\n",
       "      <td>6.6</td>\n",
       "      <td>7.0</td>\n",
       "    </tr>\n",
       "    <tr>\n",
       "      <th>8</th>\n",
       "      <td>7.4</td>\n",
       "      <td>7.0</td>\n",
       "    </tr>\n",
       "  </tbody>\n",
       "</table>\n",
       "</div>"
      ],
      "text/plain": [
       "   averageRating  ROUND(averageRating, 0)\n",
       "0            7.4                      7.0\n",
       "1            6.7                      7.0\n",
       "2            7.3                      7.0\n",
       "3            6.5                      6.0\n",
       "4            6.9                      7.0\n",
       "5            7.9                      8.0\n",
       "6            7.7                      8.0\n",
       "7            6.6                      7.0\n",
       "8            7.4                      7.0"
      ]
     },
     "execution_count": 33,
     "metadata": {},
     "output_type": "execute_result"
    }
   ],
   "source": [
    "%%read_sql\n",
    "SELECT averageRating, ROUND(averageRating, 0) FROM TitleRatings \n",
    "WHERE tconst IN\n",
    "( \n",
    "    SELECT tconst FROM TitleBasics WHERE\n",
    "    primaryTitle IN \n",
    "    (\n",
    "    \"X-Men\", \"X2: X-Men United\", \"X-Men: The Last Stand\", \n",
    "    \"X-Men Origins: Wolverine\", \"X-Men: First Class\",\n",
    "    \"The Wolverine\", \"X-Men: Days of Future Past\",\n",
    "    \"X-Men: Apocalypse\",\" X-Men: Dark Phoenix\"\n",
    "    )\n",
    "    AND\n",
    "    titleType = \"movie\"\n",
    ")\n",
    ";"
   ]
  },
  {
   "cell_type": "markdown",
   "metadata": {
    "id": "eSrHbz1zRKhE"
   },
   "source": [
    "#### Exercise\n",
    "\n",
    "Q1. In **TitleRatings** table, create an column \"high_rated\" which is \"Yes\" if averageRating > 7.0 and \"No\" otherwise.\n",
    "\n",
    "Q2. In **TitleBasics** table, create an column \"high_rated\" which is \"Yes\" if averageRating > 7.0 and \"No\" otherwise (Hint: JOIN or subquery with TitleRatings table). Check the \"X-Men\" movies with the following condition.\n",
    "\n",
    "\n",
    "```\n",
    "WHERE \n",
    "primaryTitle IN \n",
    "(\n",
    " \"X-Men\", \"X2: X-Men United\", \"X-Men: The Last Stand\", \n",
    " \"X-Men Origins: Wolverine\", \"X-Men: First Class\",\n",
    " \"The Wolverine\", \"X-Men: Days of Future Past\",\n",
    " \"X-Men: Apocalypse\",\"X-Men: Dark Phoenix\",\n",
    " \"The New Mutants\"\n",
    ")\n",
    "AND\n",
    "titleType = \"movie\"\n",
    "```\n",
    "\n"
   ]
  },
  {
   "cell_type": "code",
   "execution_count": null,
   "metadata": {
    "id": "dUv-qlw4R0Va"
   },
   "outputs": [],
   "source": [
    "# Your answer to Q1 here\n",
    "%%read_sql\n",
    "# REPLACE THIS COMMENT WITH SQL"
   ]
  },
  {
   "cell_type": "code",
   "execution_count": null,
   "metadata": {
    "id": "wTYrTr_gSMVp"
   },
   "outputs": [],
   "source": [
    "# Your answer to Q2 here\n",
    "%%read_sql\n",
    "# REPLACE THIS COMMENT WITH SQL"
   ]
  },
  {
   "cell_type": "markdown",
   "metadata": {
    "id": "vbDDeqPusBRg"
   },
   "source": [
    "The following is under construction..."
   ]
  },
  {
   "cell_type": "markdown",
   "metadata": {
    "id": "3XG3JLnhihpS"
   },
   "source": [
    "## Common Table Expressions"
   ]
  },
  {
   "cell_type": "markdown",
   "metadata": {
    "id": "JfFrFB0gQ7Cf"
   },
   "source": [
    "Q. Find all movies where Akira Kurosawa participated. Here, use CTE."
   ]
  },
  {
   "cell_type": "code",
   "execution_count": 34,
   "metadata": {
    "id": "pGP0CSymO8E5"
   },
   "outputs": [
    {
     "name": "stdout",
     "output_type": "stream",
     "text": [
      "Query started at 10:42:02 AM EDT; Query executed in 0.01 m"
     ]
    },
    {
     "data": {
      "text/html": [
       "<div>\n",
       "<style scoped>\n",
       "    .dataframe tbody tr th:only-of-type {\n",
       "        vertical-align: middle;\n",
       "    }\n",
       "\n",
       "    .dataframe tbody tr th {\n",
       "        vertical-align: top;\n",
       "    }\n",
       "\n",
       "    .dataframe thead th {\n",
       "        text-align: right;\n",
       "    }\n",
       "</style>\n",
       "<table border=\"1\" class=\"dataframe\">\n",
       "  <thead>\n",
       "    <tr style=\"text-align: right;\">\n",
       "      <th></th>\n",
       "      <th>primaryTitle</th>\n",
       "      <th>originalTitle</th>\n",
       "    </tr>\n",
       "  </thead>\n",
       "  <tbody>\n",
       "    <tr>\n",
       "      <th>0</th>\n",
       "      <td>Uma</td>\n",
       "      <td>Uma</td>\n",
       "    </tr>\n",
       "    <tr>\n",
       "      <th>1</th>\n",
       "      <td>Sanshiro Sugata</td>\n",
       "      <td>Sugata Sanshirô</td>\n",
       "    </tr>\n",
       "    <tr>\n",
       "      <th>2</th>\n",
       "      <td>The Most Beautiful</td>\n",
       "      <td>Ichiban utsukushiku</td>\n",
       "    </tr>\n",
       "    <tr>\n",
       "      <th>3</th>\n",
       "      <td>The Men Who Tread on the Tiger's Tail</td>\n",
       "      <td>Tora no o wo fumu otokotachi</td>\n",
       "    </tr>\n",
       "    <tr>\n",
       "      <th>4</th>\n",
       "      <td>Sanshiro Sugata, Part Two</td>\n",
       "      <td>Zoku Sugata Sanshirô</td>\n",
       "    </tr>\n",
       "    <tr>\n",
       "      <th>...</th>\n",
       "      <td>...</td>\n",
       "      <td>...</td>\n",
       "    </tr>\n",
       "    <tr>\n",
       "      <th>72</th>\n",
       "      <td>The Outrage</td>\n",
       "      <td>U mong pa meung</td>\n",
       "    </tr>\n",
       "    <tr>\n",
       "      <th>73</th>\n",
       "      <td>Soman kokkyô 2-gô sakusen: Kieta chûtai</td>\n",
       "      <td>Soman kokkyô 2-gô sakusen: Kieta chûtai</td>\n",
       "    </tr>\n",
       "    <tr>\n",
       "      <th>74</th>\n",
       "      <td>The Magnificent Seven</td>\n",
       "      <td>The Magnificent Seven</td>\n",
       "    </tr>\n",
       "    <tr>\n",
       "      <th>75</th>\n",
       "      <td>Living</td>\n",
       "      <td>Living</td>\n",
       "    </tr>\n",
       "    <tr>\n",
       "      <th>76</th>\n",
       "      <td>Dohyo matsuri</td>\n",
       "      <td>Dohyo matsuri</td>\n",
       "    </tr>\n",
       "  </tbody>\n",
       "</table>\n",
       "<p>77 rows × 2 columns</p>\n",
       "</div>"
      ],
      "text/plain": [
       "                               primaryTitle  \\\n",
       "0                                       Uma   \n",
       "1                           Sanshiro Sugata   \n",
       "2                        The Most Beautiful   \n",
       "3     The Men Who Tread on the Tiger's Tail   \n",
       "4                 Sanshiro Sugata, Part Two   \n",
       "..                                      ...   \n",
       "72                              The Outrage   \n",
       "73  Soman kokkyô 2-gô sakusen: Kieta chûtai   \n",
       "74                    The Magnificent Seven   \n",
       "75                                   Living   \n",
       "76                            Dohyo matsuri   \n",
       "\n",
       "                              originalTitle  \n",
       "0                                       Uma  \n",
       "1                           Sugata Sanshirô  \n",
       "2                       Ichiban utsukushiku  \n",
       "3              Tora no o wo fumu otokotachi  \n",
       "4                      Zoku Sugata Sanshirô  \n",
       "..                                      ...  \n",
       "72                          U mong pa meung  \n",
       "73  Soman kokkyô 2-gô sakusen: Kieta chûtai  \n",
       "74                    The Magnificent Seven  \n",
       "75                                   Living  \n",
       "76                            Dohyo matsuri  \n",
       "\n",
       "[77 rows x 2 columns]"
      ]
     },
     "execution_count": 34,
     "metadata": {},
     "output_type": "execute_result"
    }
   ],
   "source": [
    "%%read_sql\n",
    "WITH AK_tconsts AS\n",
    "(\n",
    "    SELECT tconst FROM TitlePrincipals WHERE nconst IN\n",
    "    (\n",
    "        SELECT nconst FROM NameBasics WHERE\n",
    "          primaryName = \"Akira Kurosawa\"\n",
    "    )\n",
    ")\n",
    "SELECT primaryTitle, originalTitle FROM TitleBasics\n",
    "WHERE tconst IN (SELECT * FROM AK_tconsts)\n",
    "AND \n",
    "  titleType = \"movie\"\n",
    ";"
   ]
  },
  {
   "cell_type": "markdown",
   "metadata": {
    "id": "9u4CkwnxSShj"
   },
   "source": [
    "When we use CTE? \n",
    "\n",
    "\n",
    "*   You do not need to use CTE for single-line query (subquery is enough), but it better organizes a very long query.\n",
    "*   CTE can be reused within the statement once, twice or more times.\n",
    "\n"
   ]
  }
 ],
 "metadata": {
  "colab": {
   "machine_shape": "hm",
   "provenance": []
  },
  "kernelspec": {
   "display_name": "Python [conda env:python39]",
   "language": "python",
   "name": "conda-env-python39-py"
  },
  "language_info": {
   "codemirror_mode": {
    "name": "ipython",
    "version": 3
   },
   "file_extension": ".py",
   "mimetype": "text/x-python",
   "name": "python",
   "nbconvert_exporter": "python",
   "pygments_lexer": "ipython3",
   "version": "3.9.16"
  }
 },
 "nbformat": 4,
 "nbformat_minor": 1
}
