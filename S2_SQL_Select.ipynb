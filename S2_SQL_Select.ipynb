{
 "cells": [
  {
   "cell_type": "markdown",
   "metadata": {
    "id": "Sc7ov1-CFsCI"
   },
   "source": [
    "# MySQL SELECT from Database"
   ]
  },
  {
   "cell_type": "code",
   "execution_count": null,
   "metadata": {
    "id": "TC1Ycjj_slJ5"
   },
   "outputs": [],
   "source": [
    "from sqlalchemy import create_engine\n",
    "\n",
    "conn_string = 'mysql://{user}:{password}@{host}/{database}?charset=utf8'.format(\n",
    "    host = 'mysql-techub-2300010003-spring.db', \n",
    "    user = 'dbreader',\n",
    "    password = 'ub232023',\n",
    "    database = 'imdb')\n",
    "\n",
    "engine = create_engine(conn_string)\n",
    "con = engine.connect()"
   ]
  },
  {
   "cell_type": "code",
   "execution_count": null,
   "metadata": {
    "id": "K1n4Ui4Ruky2"
   },
   "outputs": [],
   "source": [
    "# Prepare sql_magic library that enable to query to database easily.\n",
    "%reload_ext sql_magic\n",
    "%config SQL.conn_name = 'engine'"
   ]
  },
  {
   "cell_type": "markdown",
   "metadata": {},
   "source": [
    "#### PLEASE RUN CELL BELOW. This cell limits the maximum number of records to obtain."
   ]
  },
  {
   "cell_type": "code",
   "execution_count": null,
   "metadata": {
    "id": "pRoICAjnAaU9"
   },
   "outputs": [],
   "source": [
    "%%read_sql -n\n",
    "SET sql_safe_updates=1, sql_select_limit=1000, max_join_size=1000000000;"
   ]
  },
  {
   "cell_type": "markdown",
   "metadata": {},
   "source": [
    "If the query above runs, you will see an output like\n",
    "\n",
    "```\n",
    "Query started at 06:53:04 PM EDT; Query executed in 0.00 m\n",
    "<sql_magic.exceptions.EmptyResult at 0x7fcc5c10a8e0>\n",
    "```"
   ]
  },
  {
   "cell_type": "markdown",
   "metadata": {
    "id": "rzOWGMo0ADd2"
   },
   "source": [
    "#### Now we are all set! Let us start querying data from IMDB database."
   ]
  },
  {
   "cell_type": "code",
   "execution_count": null,
   "metadata": {
    "id": "AzM9yxCNuqMV"
   },
   "outputs": [],
   "source": [
    "%%read_sql\n",
    "SHOW DATABASES;"
   ]
  },
  {
   "cell_type": "markdown",
   "metadata": {},
   "source": [
    "Declare we are using imdb database."
   ]
  },
  {
   "cell_type": "code",
   "execution_count": null,
   "metadata": {
    "id": "4j-j5nDDuwrw"
   },
   "outputs": [],
   "source": [
    "%%read_sql\n",
    "USE imdb;"
   ]
  },
  {
   "cell_type": "markdown",
   "metadata": {},
   "source": [
    "This shows the list of tables \"NameBasics, TitleAkas, TitleBasics...\""
   ]
  },
  {
   "cell_type": "code",
   "execution_count": null,
   "metadata": {
    "id": "jZ1K7uhNuxPE"
   },
   "outputs": [],
   "source": [
    "%%read_sql\n",
    "SHOW TABLES;"
   ]
  },
  {
   "cell_type": "code",
   "execution_count": null,
   "metadata": {
    "id": "fSRsd0lrG1Md"
   },
   "outputs": [],
   "source": [
    "%%read_sql\n",
    "SELECT COUNT(*) FROM TitleBasics;"
   ]
  },
  {
   "cell_type": "code",
   "execution_count": null,
   "metadata": {
    "id": "qpsbJ_DAyM48"
   },
   "outputs": [],
   "source": [
    "%%read_sql\n",
    "DESCRIBE TitleBasics;"
   ]
  },
  {
   "cell_type": "markdown",
   "metadata": {
    "id": "0vhrAMiY7iED"
   },
   "source": [
    "#### Exercise\n",
    "\n",
    "Pick one of the other tables and **Count** the number of records in the table. The list of databases are as follows. \n",
    "\n",
    "1. NameBasics\n",
    "2. TitleAkas\n",
    "3. TitleCrew\n",
    "4. TitleEpisode\n",
    "5. TitleRatings"
   ]
  },
  {
   "cell_type": "code",
   "execution_count": null,
   "metadata": {
    "id": "ijrxCinKBME0"
   },
   "outputs": [],
   "source": [
    "%%read_sql\n",
    "# REMOVE THIS COMMENT AND ADD YOUR COUNT QUERY"
   ]
  },
  {
   "cell_type": "markdown",
   "metadata": {
    "id": "3tf9HoLPBdOt"
   },
   "source": [
    "#### Now that we have a big data! Let us select all the data. The following query would return all the data, but thanks to limitation we only obtain the first 1000 rows."
   ]
  },
  {
   "cell_type": "code",
   "execution_count": null,
   "metadata": {
    "id": "-39sIW8ZvZXS"
   },
   "outputs": [],
   "source": [
    "%%read_sql\n",
    "SELECT * FROM TitleBasics;"
   ]
  },
  {
   "cell_type": "markdown",
   "metadata": {
    "id": "QvuD0RoSmbK6"
   },
   "source": [
    "#### LIMIT Clause restricts the number of records to get.\n",
    "\n",
    "The following query retrieves 10 records (the first 10 movies in the imdb database)."
   ]
  },
  {
   "cell_type": "code",
   "execution_count": null,
   "metadata": {
    "id": "xLrizzXwmbK7"
   },
   "outputs": [],
   "source": [
    "%%read_sql\n",
    "SELECT * FROM TitleBasics LIMIT 10;"
   ]
  },
  {
   "cell_type": "markdown",
   "metadata": {
    "id": "h4ejpQPzFstP"
   },
   "source": [
    "#### Exercise \n",
    "\n",
    "Query all the data in `TitlePrincipals` and `TitleRatings` tables. "
   ]
  },
  {
   "cell_type": "code",
   "execution_count": null,
   "metadata": {
    "id": "vSIi1pWCF6vC"
   },
   "outputs": [],
   "source": [
    "%%read_sql\n",
    "# Your SQL query here;"
   ]
  },
  {
   "cell_type": "code",
   "execution_count": null,
   "metadata": {
    "id": "iQzke-e8F8Sx"
   },
   "outputs": [],
   "source": [
    "%%read_sql\n",
    "# Your SQL query here;"
   ]
  },
  {
   "cell_type": "markdown",
   "metadata": {
    "id": "8mGQTQ0wGHtr"
   },
   "source": [
    "#### Obtain the schema of \"TitleBasics\" table."
   ]
  },
  {
   "cell_type": "code",
   "execution_count": null,
   "metadata": {
    "id": "7o10b4n5GRq_"
   },
   "outputs": [],
   "source": [
    "# This shows the table schema (structure) of \"TitleBasics\" table.\n",
    "%%read_sql\n",
    "# Your SQL query here."
   ]
  },
  {
   "cell_type": "markdown",
   "metadata": {
    "id": "X3nUSV9onxzr"
   },
   "source": [
    "WHILE `SELECT *...` returns all the columns of the records, `SELECT COLUMN1,COLUMN2...` returns specifiedcolumns."
   ]
  },
  {
   "cell_type": "code",
   "execution_count": null,
   "metadata": {
    "id": "o4-zenbNHL2f"
   },
   "outputs": [],
   "source": [
    "# Obtain `originalTitle` column from TitleBasics table.\n",
    "%%read_sql\n",
    "# Your SQL query here."
   ]
  },
  {
   "cell_type": "markdown",
   "metadata": {
    "id": "I36cUGasIGmT"
   },
   "source": [
    "For some reason, the first 1000 records are not very interesting. We do not care at this moment."
   ]
  },
  {
   "cell_type": "markdown",
   "metadata": {
    "id": "b3YCYaonI34e"
   },
   "source": [
    "#### Exercise\n",
    "\n",
    "obtain `startyear` and `endyear` from `TitleBasics` table."
   ]
  },
  {
   "cell_type": "code",
   "execution_count": null,
   "metadata": {
    "id": "zSL6J6hyJCZP"
   },
   "outputs": [],
   "source": [
    "%%read_sql\n",
    "# Your SQL query here;"
   ]
  },
  {
   "cell_type": "markdown",
   "metadata": {
    "id": "C0TVQMoEclMT"
   },
   "source": [
    "#### DISTINCT clause\n",
    "Used to eliminate duplicates in the results.\n"
   ]
  },
  {
   "cell_type": "code",
   "execution_count": null,
   "metadata": {
    "id": "nIsFhYIrctc3"
   },
   "outputs": [],
   "source": [
    "%%read_sql\n",
    "SELECT DISTINCT titleType \n",
    "FROM TitleBasics\n",
    ";"
   ]
  },
  {
   "cell_type": "markdown",
   "metadata": {
    "id": "6ABkCgCLJJuY"
   },
   "source": [
    "#### Non-restricted select query returns all the data. In the most cases this does not make sense (I do not need all the movies!). In the following, we use WHERE clause to restrict the query."
   ]
  },
  {
   "cell_type": "code",
   "execution_count": null,
   "metadata": {
    "id": "-12UgG3vJpCV"
   },
   "outputs": [],
   "source": [
    "# This query returns 'Frozen'\n",
    "%%read_sql\n",
    "SELECT *  \n",
    "FROM TitleBasics\n",
    "WHERE originalTitle = 'Frozen'\n",
    ";"
   ]
  },
  {
   "cell_type": "markdown",
   "metadata": {
    "id": "P2xVjT3UKRA_"
   },
   "source": [
    "We find there are many movies / TVs with their title `Frozen`. Let us add the conditions of the query more."
   ]
  },
  {
   "cell_type": "code",
   "execution_count": null,
   "metadata": {
    "id": "KkAypMa_LmgU"
   },
   "outputs": [],
   "source": [
    "# This query returns 'Frozen'\n",
    "%%read_sql\n",
    "SELECT *  \n",
    "FROM TitleBasics\n",
    "WHERE originalTitle = 'Frozen'\n",
    "AND startYear = 2013\n",
    ";"
   ]
  },
  {
   "cell_type": "code",
   "execution_count": null,
   "metadata": {
    "id": "wmeMUZgpOauj"
   },
   "outputs": [],
   "source": [
    "# Let us restrict our interest to movie\n",
    "# This query returns the Disney's  Frozen.\n",
    "%%read_sql\n",
    "SELECT *  \n",
    "FROM TitleBasics\n",
    "WHERE originalTitle = 'Frozen'\n",
    "AND startYear = 2013\n",
    "AND titleType = 'movie'\n",
    ";"
   ]
  },
  {
   "cell_type": "markdown",
   "metadata": {
    "id": "mLNV10_SM5C9"
   },
   "source": [
    "#### Exercise\n",
    "Find all the movies with its `runtimeMinutes` exceeds one day (24 x 60 mins). **Super-long** movies! Use comparison operator **`>`**."
   ]
  },
  {
   "cell_type": "code",
   "execution_count": null,
   "metadata": {
    "id": "V8i7wC8_NDeo"
   },
   "outputs": [],
   "source": [
    "%%read_sql\n",
    "# Your SQL query here."
   ]
  },
  {
   "cell_type": "markdown",
   "metadata": {
    "id": "X8QTUu8bbCOM"
   },
   "source": [
    "Find all the information about movies released (`startYear`) between 1895 and 1898."
   ]
  },
  {
   "cell_type": "code",
   "execution_count": null,
   "metadata": {
    "id": "ezPPZQARbCON"
   },
   "outputs": [],
   "source": [
    "%%read_sql\n",
    "# Your SQL query here."
   ]
  },
  {
   "cell_type": "markdown",
   "metadata": {
    "id": "d2N1Nt7jk7Ti"
   },
   "source": [
    "Find all the all information about *TVSeries* released (or starting) in 2021, of genre *Action*.\n"
   ]
  },
  {
   "cell_type": "code",
   "execution_count": null,
   "metadata": {
    "id": "SbHhuR7qk_Pp"
   },
   "outputs": [],
   "source": [
    "%%read_sql\n",
    "# Your SQL query here."
   ]
  },
  {
   "cell_type": "markdown",
   "metadata": {
    "id": "VekX4bIYQpCB"
   },
   "source": [
    "#### Using Like: Now we are going to find `Frozen 2`, which released as a sequel of Disney's Frozen in 2019. I am not sure whether it is stored as `Frozen 2`, `Frozen II`, or any spaces there are. Using `Like` query can fix this problem. "
   ]
  },
  {
   "cell_type": "code",
   "execution_count": null,
   "metadata": {
    "id": "Tpq7Vv9EQp39"
   },
   "outputs": [],
   "source": [
    "# This query returns 'Frozen' plus something. %% matches all the characters\n",
    "%%read_sql\n",
    "SELECT *  \n",
    "FROM TitleBasics\n",
    "WHERE originalTitle LIKE 'Frozen%%'\n",
    "AND startYear = 2019\n",
    "AND titleType = 'movie'\n",
    ";"
   ]
  },
  {
   "cell_type": "markdown",
   "metadata": {
    "id": "nRzsg_xbSJEo"
   },
   "source": [
    "Confirm the information that we obtained above with the following URL \n",
    "\n",
    "> https://www.imdb.com/title/\"tconst\"\n",
    "\n",
    "where \"tconst\" is replaced by the tconst of the movie.\n",
    "\n",
    "\n"
   ]
  },
  {
   "cell_type": "markdown",
   "metadata": {
    "id": "juagqW3OSVFT"
   },
   "source": [
    "#### The NULL value \n",
    "\n",
    "When columns do not have a value, they are assigned a `NULL` value, which is a special way that SQL handles the `empty value`. Check there are null values in each column.\n"
   ]
  },
  {
   "cell_type": "code",
   "execution_count": null,
   "metadata": {
    "id": "7if2HRJXTJ6e"
   },
   "outputs": [],
   "source": [
    "# The following lists up all the movies with no endYear. We do not use equal, and instead we use 'is'. You can also confirm that \"\"endYear = NULL\"\" does not work.\n",
    "%%read_sql\n",
    "SELECT * \n",
    "FROM TitleBasics\n",
    "WHERE endYear is NULL\n",
    ";"
   ]
  },
  {
   "cell_type": "markdown",
   "metadata": {
    "id": "OS2Q6hFwT9kQ"
   },
   "source": [
    "#### ORDER BY\n",
    "\n",
    "We can sort the records by using **ORDER BY** clause."
   ]
  },
  {
   "cell_type": "code",
   "execution_count": null,
   "metadata": {
    "id": "Q8RBO3NcUDMi"
   },
   "outputs": [],
   "source": [
    "# The following lists up all the movies in 2020.\n",
    "%%read_sql\n",
    "SELECT * \n",
    "FROM TitleBasics\n",
    "WHERE startYear = 2020\n",
    "AND titleType = 'movie'\n",
    ";"
   ]
  },
  {
   "cell_type": "code",
   "execution_count": null,
   "metadata": {
    "id": "VLM9zdE6UWHP"
   },
   "outputs": [],
   "source": [
    "# The following lists up all the movies in 2020, sorted by primaryTitle\n",
    "%%read_sql\n",
    "SELECT * \n",
    "FROM TitleBasics\n",
    "WHERE startYear = 2020\n",
    "AND titleType = 'movie'\n",
    "ORDER BY primaryTitle\n",
    ";"
   ]
  },
  {
   "cell_type": "code",
   "execution_count": null,
   "metadata": {
    "id": "BUp6VqkGVDsU"
   },
   "outputs": [],
   "source": [
    "# We can restrict our interest to the movies that start with Bad\n",
    "%%read_sql\n",
    "SELECT * \n",
    "FROM TitleBasics\n",
    "WHERE startYear = 2020\n",
    "AND titleType = 'movie'\n",
    "AND primaryTitle LIKE 'Bad%%'\n",
    "ORDER BY primaryTitle\n",
    ";"
   ]
  },
  {
   "cell_type": "markdown",
   "metadata": {
    "id": "RcZ0h2RZWB1S"
   },
   "source": [
    "#### IN clause\n",
    "\n",
    "Fetch all info for the movies with its title **in** (\"X-Men\", \"Spider-Man\", \"Captain Marvel\"). Use “IN” clause."
   ]
  },
  {
   "cell_type": "code",
   "execution_count": null,
   "metadata": {
    "id": "JbkXXsgDWFKk"
   },
   "outputs": [],
   "source": [
    "# We can restrict our interest to the movies that start with Bad\n",
    "%%read_sql\n",
    "SELECT * \n",
    "FROM TitleBasics\n",
    "WHERE \n",
    "titleType = 'movie'\n",
    "AND primaryTitle in (\"X-Men\", \"Spider-Man\", \"Captain Marvel\")\n",
    "ORDER BY primaryTitle\n",
    ";"
   ]
  },
  {
   "cell_type": "markdown",
   "metadata": {
    "id": "o8vsMAhUb6aq"
   },
   "source": [
    "#### AS clause\n",
    "\n",
    "Sometimes we want to rename a column to have a more descriptive name in the results."
   ]
  },
  {
   "cell_type": "code",
   "execution_count": null,
   "metadata": {
    "id": "cBWzmfWscBhX"
   },
   "outputs": [],
   "source": [
    "%%read_sql\n",
    "SELECT primaryTitle as Title\n",
    "FROM TitleBasics\n",
    "WHERE \n",
    "titleType = 'movie'\n",
    "AND primaryTitle in (\"X-Men\", \"Spider-Man\", \"Captain Marvel\")\n",
    "ORDER BY primaryTitle\n",
    ";"
   ]
  },
  {
   "cell_type": "markdown",
   "metadata": {
    "id": "vQMQCIy3YI2Y"
   },
   "source": [
    "#### Exercise\n",
    "\n",
    "Find your **favorite** movie (or TV series) by using **SELECT** query with **WHERE** clause and (possibly) **LIKE** and **IN**."
   ]
  },
  {
   "cell_type": "code",
   "execution_count": null,
   "metadata": {
    "id": "xwryXV7_YI2P"
   },
   "outputs": [],
   "source": [
    "%%read_sql\n",
    "# Your query here."
   ]
  },
  {
   "cell_type": "markdown",
   "metadata": {
    "id": "XKxovQZrYI2J"
   },
   "source": [
    "#### Exercise\n",
    "\n",
    "Find your **favorite** actors/actress/writer (or other people). They are in `NameBasics` table."
   ]
  },
  {
   "cell_type": "code",
   "execution_count": null,
   "metadata": {
    "id": "6cATkdnwYI2B"
   },
   "outputs": [],
   "source": [
    "#Information of NameBasics table.\n",
    "%%read_sql\n",
    "DESCRIBE NameBasics;"
   ]
  },
  {
   "cell_type": "code",
   "execution_count": null,
   "metadata": {
    "id": "MkbXb4AmOoSH"
   },
   "outputs": [],
   "source": [
    "%%read_sql\n",
    "# Your SQL query here."
   ]
  },
  {
   "cell_type": "markdown",
   "metadata": {
    "id": "hfbbm69mvqWy"
   },
   "source": [
    "#### Exercise\n",
    "\n",
    "Find the oscar-winning movie CODA (2021)."
   ]
  },
  {
   "cell_type": "code",
   "execution_count": null,
   "metadata": {
    "id": "2SRW6MgPv4-3"
   },
   "outputs": [],
   "source": [
    "%%read_sql\n",
    "# Your SQL query here."
   ]
  }
 ],
 "metadata": {
  "colab": {
   "machine_shape": "hm",
   "provenance": []
  },
  "kernelspec": {
   "display_name": "Python [conda env:python39]",
   "language": "python",
   "name": "conda-env-python39-py"
  },
  "language_info": {
   "codemirror_mode": {
    "name": "ipython",
    "version": 3
   },
   "file_extension": ".py",
   "mimetype": "text/x-python",
   "name": "python",
   "nbconvert_exporter": "python",
   "pygments_lexer": "ipython3",
   "version": "3.9.16"
  }
 },
 "nbformat": 4,
 "nbformat_minor": 1
}
