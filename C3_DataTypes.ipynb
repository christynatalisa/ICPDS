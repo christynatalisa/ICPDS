{
 "cells": [
  {
   "cell_type": "markdown",
   "metadata": {
    "id": "GujeDgtG3icZ"
   },
   "source": [
    "## Data Types"
   ]
  },
  {
   "cell_type": "markdown",
   "metadata": {
    "id": "uS_m-4A43ice"
   },
   "source": [
    "Notice in the examples below, the different operations result in different types of outcomes."
   ]
  },
  {
   "cell_type": "code",
   "execution_count": null,
   "metadata": {
    "id": "Nw-a_csD3icg"
   },
   "outputs": [],
   "source": [
    "print(1 + 1) # this is an integer"
   ]
  },
  {
   "cell_type": "code",
   "execution_count": null,
   "metadata": {
    "id": "AFgS222G3ick"
   },
   "outputs": [],
   "source": [
    "print(1.0 + 1) # this is an integer added to a decimal/floating point"
   ]
  },
  {
   "cell_type": "code",
   "execution_count": null,
   "metadata": {
    "id": "XkUPrRMk3ico"
   },
   "outputs": [],
   "source": [
    "print(\"1\" + \"1\")  "
   ]
  },
  {
   "cell_type": "code",
   "execution_count": null,
   "metadata": {
    "id": "JHfpUzmp3icz"
   },
   "outputs": [],
   "source": [
    "print(100 * 2)"
   ]
  },
  {
   "cell_type": "code",
   "execution_count": null,
   "metadata": {
    "id": "BwLaV_PX3ic3"
   },
   "outputs": [],
   "source": [
    "print(\"ABC\" * 10)"
   ]
  },
  {
   "cell_type": "markdown",
   "metadata": {
    "id": "_SuuWidM3idA"
   },
   "source": [
    "We will learn more about the different types of variables later, but for now, remember that you can use the `type` command to find out the type of an expression:"
   ]
  },
  {
   "cell_type": "code",
   "execution_count": null,
   "metadata": {
    "id": "RyALWAiy3idB"
   },
   "outputs": [],
   "source": [
    "type(1)"
   ]
  },
  {
   "cell_type": "code",
   "execution_count": null,
   "metadata": {
    "id": "jKB9bjyL3idI"
   },
   "outputs": [],
   "source": [
    "type(1.0)"
   ]
  },
  {
   "cell_type": "code",
   "execution_count": null,
   "metadata": {
    "id": "2Y832u-Y3idN"
   },
   "outputs": [],
   "source": [
    "type(\"Hello world\")"
   ]
  },
  {
   "cell_type": "code",
   "execution_count": null,
   "metadata": {
    "id": "RXvh9-YY3idV"
   },
   "outputs": [],
   "source": [
    "type(\"1\")"
   ]
  },
  {
   "cell_type": "code",
   "execution_count": null,
   "metadata": {
    "id": "V5QorYpL3ida"
   },
   "outputs": [],
   "source": [
    "type(\"3.14\")"
   ]
  },
  {
   "cell_type": "code",
   "execution_count": null,
   "metadata": {
    "id": "YURNeu0H3idl"
   },
   "outputs": [],
   "source": [
    "type(1+1)"
   ]
  },
  {
   "cell_type": "code",
   "execution_count": null,
   "metadata": {
    "id": "xB9Hy7w43ids"
   },
   "outputs": [],
   "source": [
    "type(\"1\" + \"1\")"
   ]
  },
  {
   "cell_type": "code",
   "execution_count": null,
   "metadata": {
    "id": "qyeX55h83id0"
   },
   "outputs": [],
   "source": [
    "1 + 1.5 + 1"
   ]
  },
  {
   "cell_type": "markdown",
   "metadata": {
    "id": "o-LRJahz3id3"
   },
   "source": [
    "**Lesson**: Notice the different data types above: `str` (string), `int` (integer), `float` (decimal numbers). One thing hat you will notice is that the outcome of the various operators (`+`, `*`, etc) can be different based on the data types involved."
   ]
  },
  {
   "cell_type": "markdown",
   "metadata": {
    "id": "UnbtNXMd3id4"
   },
   "source": [
    "#### Exercise\n",
    "\n",
    "What will the following program print out? Figure it our _before_ running the program."
   ]
  },
  {
   "cell_type": "code",
   "execution_count": null,
   "metadata": {
    "id": "FuVNh1H-3id5"
   },
   "outputs": [],
   "source": [
    "x = 41\n",
    "x = x + 1\n",
    "print(x)\n",
    "print(type(x))"
   ]
  },
  {
   "cell_type": "code",
   "execution_count": null,
   "metadata": {
    "id": "ShudDlW23id7"
   },
   "outputs": [],
   "source": [
    "\"New York City \" * 4"
   ]
  }
 ],
 "metadata": {
  "colab": {
   "provenance": []
  },
  "kernelspec": {
   "display_name": "Python 3",
   "language": "python",
   "name": "python3"
  },
  "language_info": {
   "codemirror_mode": {
    "name": "ipython",
    "version": 3
   },
   "file_extension": ".py",
   "mimetype": "text/x-python",
   "name": "python",
   "nbconvert_exporter": "python",
   "pygments_lexer": "ipython3",
   "version": "3.5.2"
  }
 },
 "nbformat": 4,
 "nbformat_minor": 0
}
