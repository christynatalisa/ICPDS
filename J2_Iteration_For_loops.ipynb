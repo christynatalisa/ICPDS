{
 "cells": [
  {
   "cell_type": "markdown",
   "metadata": {
    "id": "MjO2UEthKsd1"
   },
   "source": [
    "# Iteration: For Loops\n"
   ]
  },
  {
   "cell_type": "markdown",
   "metadata": {
    "id": "pAubvUeZKsd9"
   },
   "source": [
    "We discussed the while loop, and learned some basic strategies for writing code with loops. \n",
    "\n",
    "We now move on to discuss the `for` loop, a common way of iterating over complex data structures, (e.g., lists, sets, dictionaries, etc.) that we examined."
   ]
  },
  {
   "cell_type": "markdown",
   "metadata": {
    "id": "liRWKkT5KseB"
   },
   "source": [
    "## Introduction"
   ]
  },
  {
   "cell_type": "markdown",
   "metadata": {
    "id": "YwTRl2HrKseD"
   },
   "source": [
    "In Python, the for statement allows us to write programs that implement iteration. \n",
    "\n",
    "As a simple example, let’s say we have the names of the students in the class, and we want to send them a notification that\n",
    "we have no an assignment this week. \n",
    "\n",
    "We do not want to write manually repeat the process of writing an email separately for each student, so we use a loop for that:\n"
   ]
  },
  {
   "cell_type": "code",
   "execution_count": 4,
   "metadata": {
    "id": "v0thb6cNKseF"
   },
   "outputs": [
    {
     "name": "stdout",
     "output_type": "stream",
     "text": [
      "Hi Joe,\n",
      "\n",
      "Hi Amy,\n",
      "\n",
      "Hi Brad,\n",
      "\n",
      "Hi Maria,\n",
      "\n",
      "Hi Sophia,\n",
      "\n",
      "Hi Michael,\n",
      "\n",
      "Done!\n"
     ]
    }
   ],
   "source": [
    "students = [\"Joe\", \"Amy\", \"Brad\", \"Maria\", \"Sophia\", \"Michael\"]\n",
    "for name in students:\n",
    "    print(\"Hi \" + name + \",\")\n",
    "    print(\"\")\n",
    "print(\"Done!\")"
   ]
  },
  {
   "cell_type": "markdown",
   "metadata": {
    "id": "lQGnzeazKseU"
   },
   "source": [
    "Let's examine the structure of the loop:\n",
    "\n",
    "* The `name` variable is called the loop variable or iteration variable. \n",
    "* The `name` variable changes in each iteration of the loop. It will iteratively take the value of each of the six values in the `students` list.\n",
    "* On each iteration of the loop, Python checks to see if there are still more items to be processed. If there are none left (this is called the terminating condition of the loop), the loop is finished and program execution continues at the next statement after the loop body.\n",
    "* If there are items still to be processed, the loop variable is updated to refer to the next item in the list. This means, in this case, that the loop body is executed here 6 times, and each time `name` will refer to a different student.\n"
   ]
  },
  {
   "cell_type": "markdown",
   "metadata": {
    "id": "bHMcpPO9KseX"
   },
   "source": [
    "### Flowchart description of a for statement"
   ]
  },
  {
   "cell_type": "markdown",
   "metadata": {
    "id": "-1IZLxVdKsed"
   },
   "source": [
    "In a more formal way, the flowchart below illustrates the execution order and logic in a `for` statement:\n",
    "\n",
    "\n",
    "![Flowchart for a for loop (from \"How to Think Like a Computer Scientist\")](http://interactivepython.org/runestone/static/thinkcspy/_images/new_flowchart_for.png)\n",
    "\n",
    "\n",
    "It is very important to grasp the concept of the **loop variable**, and understand that it will iteratively take the value of all the elements in the list. In fact, it is not necessary to iterate over a list. We can also iterate over sets, dictionaries, and other composite data structures. Let's see some examples next.\n"
   ]
  },
  {
   "cell_type": "markdown",
   "metadata": {
    "id": "-G51ox69Ksei"
   },
   "source": [
    "## Exercise 1 (solve it!)"
   ]
  },
  {
   "cell_type": "markdown",
   "metadata": {
    "id": "of4TM8HbKsem"
   },
   "source": [
    "\n",
    "Write a program that uses a for loop to print\n",
    "\n",
    "* `One of the months of the year is January`\n",
    "* `One of the months of the year is February`\n",
    "* `One of the months of the year is March`\n",
    "* etc ..."
   ]
  },
  {
   "cell_type": "code",
   "execution_count": null,
   "metadata": {
    "id": "tXzbhM59Ksep"
   },
   "outputs": [],
   "source": [
    "months = [\"Jan\",\"Feb\",\"Mar\",\"Apr\",\"May\",\"Jun\",\"Jul\",\"Aug\",\"Sep\",\"Oct\",\"Nov\",\"Dec\"]\n",
    "\n",
    "#your code here."
   ]
  },
  {
   "cell_type": "markdown",
   "metadata": {
    "id": "2TjTBiCfKsfY"
   },
   "source": [
    "## Exercise 2 (may be skipped)"
   ]
  },
  {
   "cell_type": "markdown",
   "metadata": {
    "id": "DjG6gBBcKsfi"
   },
   "source": [
    "Assume you have a list of numbers `12, 10, 32, 3, 66, 17, 42, 99, 20`\n",
    "\n",
    "* Write a loop that prints each of the numbers on a new line.\n",
    "* Write a loop that prints each number and its square on a new line."
   ]
  },
  {
   "cell_type": "code",
   "execution_count": null,
   "metadata": {
    "id": "dewkgeP5Ksfp"
   },
   "outputs": [],
   "source": [
    "numbers = [12, 10, 32, 3, 66, 17, 42, 99, 20]\n",
    "\n",
    "#your code here."
   ]
  },
  {
   "cell_type": "markdown",
   "metadata": {
    "id": "v1iYHdO5Ksg-"
   },
   "source": [
    "## Ranges of Integers\n",
    "\n"
   ]
  },
  {
   "cell_type": "markdown",
   "metadata": {
    "id": "IdYJbRPyKshB"
   },
   "source": [
    "Often it is convenient to define (and iterate through) ranges of integers. Python has a convenient `range` function that allows you to do just this. The `range` function allow us to generate a list of numbers:\n"
   ]
  },
  {
   "cell_type": "code",
   "execution_count": 5,
   "metadata": {
    "id": "hf4giL5dKshH"
   },
   "outputs": [
    {
     "data": {
      "text/plain": [
       "[0, 1, 2, 3, 4, 5, 6, 7, 8, 9]"
      ]
     },
     "execution_count": 5,
     "metadata": {},
     "output_type": "execute_result"
    }
   ],
   "source": [
    "list(range(10))"
   ]
  },
  {
   "cell_type": "code",
   "execution_count": 6,
   "metadata": {
    "id": "OE1BDZm_KshZ"
   },
   "outputs": [
    {
     "name": "stdout",
     "output_type": "stream",
     "text": [
      "[0, 1, 2, 3, 4, 5, 6, 7, 8, 9]\n",
      "i = 0\n",
      "i = 1\n",
      "i = 2\n",
      "i = 3\n",
      "i = 4\n",
      "i = 5\n",
      "i = 6\n",
      "i = 7\n",
      "i = 8\n",
      "i = 9\n"
     ]
    }
   ],
   "source": [
    "print( list(range(10)) ) # start at zero, < the specified ceiling value\n",
    "\n",
    "for i in range(10):\n",
    "    print(f\"i = {i}\")"
   ]
  },
  {
   "cell_type": "markdown",
   "metadata": {
    "id": "wuZApXE0Kshn"
   },
   "source": [
    "When range command has two parameters, it starts from the first parameter and finishes at the second \n"
   ]
  },
  {
   "cell_type": "code",
   "execution_count": 7,
   "metadata": {
    "id": "TIjKeOF9Kshq"
   },
   "outputs": [
    {
     "name": "stdout",
     "output_type": "stream",
     "text": [
      "[-5, -4, -3, -2, -1, 0, 1, 2, 3, 4]\n"
     ]
    }
   ],
   "source": [
    "#from the left value, < right value\n",
    "print(list(range(-5, 5)))"
   ]
  },
  {
   "cell_type": "code",
   "execution_count": 8,
   "metadata": {
    "id": "9LQPDKBrKshz"
   },
   "outputs": [
    {
     "name": "stdout",
     "output_type": "stream",
     "text": [
      "[0, 1, 2, 3, 4, 5, 6, 7, 8, 9]\n",
      "[0, 1, 2, 3, 4, 5, 6, 7, 8, 9]\n"
     ]
    }
   ],
   "source": [
    "# range(10) is the same at range(0,10)\n",
    "print(list(range(10)))\n",
    "print(list(range(0, 10)))"
   ]
  },
  {
   "cell_type": "markdown",
   "metadata": {
    "id": "sMeQhhFvKsh9"
   },
   "source": [
    "When range has a third argument, this is the \"step\" value"
   ]
  },
  {
   "cell_type": "code",
   "execution_count": null,
   "metadata": {
    "id": "eoYDovtRKsh-"
   },
   "outputs": [],
   "source": [
    "#from the left value, to the middle value, incrementing by the right value\n",
    "print(list(range(-5, 50, 5)) )"
   ]
  },
  {
   "cell_type": "markdown",
   "metadata": {
    "id": "YI-HiSIAKsiH"
   },
   "source": [
    "### Warning"
   ]
  },
  {
   "cell_type": "markdown",
   "metadata": {
    "id": "ibWrUnP4KsiJ"
   },
   "source": [
    "Perhaps some of you, already familiar with programming (ex: Java), will tend to write code like this:\n"
   ]
  },
  {
   "cell_type": "code",
   "execution_count": null,
   "metadata": {
    "id": "81AuXrK8KsiK"
   },
   "outputs": [],
   "source": [
    "# Old style, using indexing for loops\n",
    "names = [\"Ada\", \"Bill\", \"Chris\", \"Dorothy\", \"Ellis\"]\n",
    "for i in range(0,len(names)):\n",
    "    print(names[i])"
   ]
  },
  {
   "cell_type": "markdown",
   "metadata": {
    "id": "A8bB7ofpKsiT"
   },
   "source": [
    "instead of\n"
   ]
  },
  {
   "cell_type": "code",
   "execution_count": null,
   "metadata": {
    "id": "AnlbyKyJKsiX"
   },
   "outputs": [],
   "source": [
    "# Pythonic style, use iterators\n",
    "names = [\"Ada\", \"Bill\", \"Chris\", \"Dorothy\", \"Ellis\"]\n",
    "for n in names:\n",
    "    print(n)"
   ]
  },
  {
   "cell_type": "markdown",
   "metadata": {
    "id": "-TGQSMJiKsid"
   },
   "source": [
    "Avoid using the indexing style method for iterating through data structures. While technically both generate the same result, the \"Pythonic\" way of doing things is the latter: It is simpler, more readable, and less prone to errors.\n",
    "\n"
   ]
  },
  {
   "cell_type": "markdown",
   "metadata": {
    "id": "mkkenSvfKsig"
   },
   "source": [
    "## Exercise 3 (solve it!)\n",
    "\n",
    "* print your name 10 times (easy, peasy). \n",
    "* print on the screen a \"triangle\", by printing first \"#\", then \"##\", then \"###\", etc. Repeat 10 times; _Hint: The command `print(i*'#')` will print the character '#' a total of `i` times._"
   ]
  },
  {
   "cell_type": "code",
   "execution_count": null,
   "metadata": {
    "id": "VNruooFFKsii"
   },
   "outputs": [],
   "source": [
    "# YOUR CODE HERE. Print your name 10 times.\n",
    "\n",
    "# Your CODE HERE. Print \"triangle\" like below by using loops\n",
    "#\n",
    "##\n",
    "###\n",
    "####..."
   ]
  },
  {
   "cell_type": "markdown",
   "metadata": {
    "id": "mY8rSjxDKsjg"
   },
   "source": [
    "## Iterating through lists, sets, and dictionaries"
   ]
  },
  {
   "cell_type": "markdown",
   "metadata": {
    "id": "cEQin2bxKsjj"
   },
   "source": [
    "The `for` statements are a convenient way to iterate through the values contained in a data structure. \n",
    "\n",
    "Let's see now examples for iterating over lists, sets, and dictionaries. "
   ]
  },
  {
   "cell_type": "markdown",
   "metadata": {
    "id": "gXPP05HjKsjm"
   },
   "source": [
    "### Iterating through lists\n",
    "\n"
   ]
  },
  {
   "cell_type": "markdown",
   "metadata": {
    "id": "vJcFzbBZKsjq"
   },
   "source": [
    "We have already gone through some simple examples, so let's work on a bit more elaborate example. \n",
    "\n"
   ]
  },
  {
   "cell_type": "markdown",
   "metadata": {
    "id": "FKxRAPmTKsjt"
   },
   "source": [
    "We have a list with the names of the NBA teams. We want to process all of them, and extract the \"franchise\" name (e.g., `Knicks` is the franchise name for NY Knicks). For all (current) NBA teams, the franchise name is the last part of the team name. Let's see how we can do that:"
   ]
  },
  {
   "cell_type": "code",
   "execution_count": null,
   "metadata": {
    "id": "gcsY7WxFKsju"
   },
   "outputs": [],
   "source": [
    "nba_teams = [\n",
    "    \"Atlanta Hawks\", \"Boston Celtics\", \"Brooklyn Nets\", \"Charlotte Hornets\",\n",
    "    \"Chicago Bulls\", \"Cleveland Cavaliers\", \"Dallas Mavericks\",\n",
    "    \"Denver Nuggets\", \"Detroit Pistons\", \"Golden State Warriors\",\n",
    "    \"Houston Rockets\", \"Indiana Pacers\", \"LA Clippers\", \"Los Angeles Lakers\",\n",
    "    \"Memphis Grizzlies\", \"Miami Heat\", \"Milwaukee Bucks\",\n",
    "    \"Minnesota Timberwolves\", \"New Orleans Pelicans\", \"New York Knicks\",\n",
    "    \"Oklahoma City Thunder\", \"Orlando Magic\", \"Philadelphia 76ers\",\n",
    "    \"Phoenix Suns\", \"Portland Trail Blazers\", \"Sacramento Kings\",\n",
    "    \"San Antonio Spurs\", \"Toronto Raptors\", \"Utah Jazz\", \"Washington Wizards\"\n",
    "]\n",
    "print(\"The list contains\", len(nba_teams), \"teams\")"
   ]
  },
  {
   "cell_type": "markdown",
   "metadata": {
    "id": "6zthpfSjKskA"
   },
   "source": [
    "Let's see an example of processing a single team name to get the franchise name:"
   ]
  },
  {
   "cell_type": "code",
   "execution_count": null,
   "metadata": {
    "id": "ghOOHZXXKskE"
   },
   "outputs": [],
   "source": [
    "team = \"Atlanta Hawks\"\n",
    "team_words = team.split(\" \")\n",
    "print(team_words)"
   ]
  },
  {
   "cell_type": "code",
   "execution_count": null,
   "metadata": {
    "id": "Uyie20WYKskN"
   },
   "outputs": [],
   "source": [
    "franchise = team_words[-1]\n",
    "print(franchise)"
   ]
  },
  {
   "cell_type": "markdown",
   "metadata": {
    "id": "b-gQdZFyKskW"
   },
   "source": [
    "Notice that we should use -1 as the index to get the _last_ word, and **not** try to get the _second_ word, as this would not work with team names such as \"New York Knicks\" or \"Los Angeles Lakers\"."
   ]
  },
  {
   "cell_type": "code",
   "execution_count": null,
   "metadata": {
    "id": "QCDJW47wKskX"
   },
   "outputs": [],
   "source": [
    "team = \"Los Angeles Lakers\"\n",
    "team_words = team.split()\n",
    "franchise = team_words[-1]\n",
    "print(team_words)\n",
    "print(franchise)"
   ]
  },
  {
   "cell_type": "markdown",
   "metadata": {
    "id": "4rL4spxfksyM"
   },
   "source": [
    "## Exercise 4 (solve it!)"
   ]
  },
  {
   "cell_type": "markdown",
   "metadata": {
    "id": "maHuznuWKskh"
   },
   "source": [
    "So, now we take the code for extracting the franchise name, and put it within the loop:"
   ]
  },
  {
   "cell_type": "code",
   "execution_count": null,
   "metadata": {
    "id": "iuJSR3wAKskj"
   },
   "outputs": [],
   "source": [
    "#YOUR CODE HERE. PRINT ALL THE FRANCHISE NAME BY USING A LOOP."
   ]
  },
  {
   "cell_type": "markdown",
   "metadata": {
    "id": "LFdCshX4Ksk1"
   },
   "source": [
    "### Iterating over sets and tuples\n",
    "\n",
    "The process of iterating through sets and tuples is pretty much identical to the one for lists. Let's see a few examples."
   ]
  },
  {
   "cell_type": "code",
   "execution_count": null,
   "metadata": {
    "id": "GuE4NMffKsk5"
   },
   "outputs": [],
   "source": [
    "# Iterating over a set\n",
    "print(\"Print all numbers in the set, and their square\")\n",
    "set_a = {1, 2, 3, 4, 5, 6}\n",
    "for i in set_a:\n",
    "    print(i, \" squared is:\", i*i )"
   ]
  },
  {
   "cell_type": "code",
   "execution_count": null,
   "metadata": {
    "id": "10_cxtCbKslI"
   },
   "outputs": [],
   "source": [
    "print(\"A more complex block: Only print squares of even numbers\")\n",
    "set_a = {1, 2, 3, 4, 5, 6}\n",
    "for i in set_a:\n",
    "    # print(i)\n",
    "    if i % 2 == 0:\n",
    "      print(\"==> \",i, \" squared is:\", i*i )"
   ]
  },
  {
   "cell_type": "code",
   "execution_count": null,
   "metadata": {
    "id": "YJslJXuQKslS"
   },
   "outputs": [],
   "source": [
    "# Iterating over a tuple\n",
    "print(\"Print all numbers in the tuple, and their square\")\n",
    "tuple_a = (1, 2, 3, 4, 5, 6)\n",
    "for i in tuple_a:\n",
    "    print(i, \" squared is:\", i*i )"
   ]
  },
  {
   "cell_type": "markdown",
   "metadata": {
    "id": "t5SDQ2DdKsla"
   },
   "source": [
    "### Iterating over dictionaries\n",
    "\n",
    "Iterating through dictionaries is a bit more complex. You can iterate through keys, values, or both.  \n",
    "\n",
    "Here is an dictionary, which we will use as an example. It contains names as keys, and numbers as corresponding values."
   ]
  },
  {
   "cell_type": "code",
   "execution_count": 2,
   "metadata": {
    "id": "WqFD0RKmKsld"
   },
   "outputs": [],
   "source": [
    "sweets = {\n",
    "    \"candy\": 100,\n",
    "    \"chocolate\": 5,\n",
    "    \"biscuit\" : 7,\n",
    "    \"donut\": 2\n",
    "}"
   ]
  },
  {
   "cell_type": "markdown",
   "metadata": {
    "id": "kedqe9SIKslo"
   },
   "source": [
    "#### Iterating over keys\n",
    "\n",
    "By default, when we iterate over a dictionary, we are iterating over the keys."
   ]
  },
  {
   "cell_type": "code",
   "execution_count": 3,
   "metadata": {
    "id": "50dr_mseKslq"
   },
   "outputs": [
    {
     "name": "stdout",
     "output_type": "stream",
     "text": [
      "Iterating over keys\n",
      "key = candy , value = 100\n",
      "key = chocolate , value = 5\n",
      "key = biscuit , value = 7\n",
      "key = donut , value = 2\n"
     ]
    }
   ],
   "source": [
    "print(\"Iterating over keys\")\n",
    "#sweets[\"chocolate\"]\n",
    "for k in sweets:\n",
    "    print(\"key =\", k, \", value =\", sweets[k])"
   ]
  },
  {
   "cell_type": "code",
   "execution_count": null,
   "metadata": {
    "id": "87gzyoRZKsl6"
   },
   "outputs": [],
   "source": [
    "print(\"Iterating over keys, more explicit\")\n",
    "for k in sweets.keys():\n",
    "    print(\"key =\", k, \", value =\", sweets[k])"
   ]
  },
  {
   "cell_type": "markdown",
   "metadata": {
    "id": "7P4en7arKsmD"
   },
   "source": [
    "If you want to print the keys in alphabetical order, you first make a list of the keys in the dictionary using the keys method available in dictionary objects, and then sort that list and loop through the sorted list, looking up each key and printing out key-value pairs in sorted order as follows:"
   ]
  },
  {
   "cell_type": "code",
   "execution_count": null,
   "metadata": {
    "id": "GgN7cPs6KsmJ"
   },
   "outputs": [],
   "source": [
    "print(\"Iterating over sorted keys\")\n",
    "sorted_keys = sorted(sweets.keys())\n",
    "for k in sorted_keys:\n",
    "    print(\"key =\", k, \", value =\", sweets[k]) "
   ]
  },
  {
   "cell_type": "markdown",
   "metadata": {
    "id": "0SbSLdYCKsmW"
   },
   "source": [
    "#### Iterating over values\n",
    "\n",
    "It is also possible to iterate over the values for the dictionary:"
   ]
  },
  {
   "cell_type": "code",
   "execution_count": 1,
   "metadata": {
    "id": "ese7_QgSKsmb"
   },
   "outputs": [
    {
     "name": "stdout",
     "output_type": "stream",
     "text": [
      "Iterating over values\n"
     ]
    },
    {
     "ename": "NameError",
     "evalue": "name 'sweets' is not defined",
     "output_type": "error",
     "traceback": [
      "\u001b[0;31m---------------------------------------------------------------------------\u001b[0m",
      "\u001b[0;31mNameError\u001b[0m                                 Traceback (most recent call last)",
      "Cell \u001b[0;32mIn[1], line 2\u001b[0m\n\u001b[1;32m      1\u001b[0m \u001b[39mprint\u001b[39m(\u001b[39m\"\u001b[39m\u001b[39mIterating over values\u001b[39m\u001b[39m\"\u001b[39m)\n\u001b[0;32m----> 2\u001b[0m \u001b[39mfor\u001b[39;00m v \u001b[39min\u001b[39;00m sweets\u001b[39m.\u001b[39mvalues():\n\u001b[1;32m      3\u001b[0m     \u001b[39mprint\u001b[39m(v)\n",
      "\u001b[0;31mNameError\u001b[0m: name 'sweets' is not defined"
     ]
    }
   ],
   "source": [
    "print(\"Iterating over values\")\n",
    "for v in sweets.values():\n",
    "    print(v)"
   ]
  },
  {
   "cell_type": "markdown",
   "metadata": {
    "id": "K6qmHZ37Ksme"
   },
   "source": [
    "#### Iterating over key-value pairs (may skip this)\n",
    "\n",
    "Notice that when we iterate over the keys of a dictionary, we tend to use the `sweets[k]` structure to get the value associated with the key `k`. "
   ]
  },
  {
   "cell_type": "code",
   "execution_count": null,
   "metadata": {
    "id": "A0-V6MtzKsmj"
   },
   "outputs": [],
   "source": [
    "print(\"Iterating over both keys and values\")\n",
    "# Items returns *tuples* that correspond to key-value pairs\n",
    "\n",
    "# Notice that we have a *tuple* (k,v) now as a loop variable, and the tuple\n",
    "# has two entries, the key k  and the value v\n",
    "for (k,v) in sweets.items():\n",
    "    print(k, v)"
   ]
  },
  {
   "cell_type": "code",
   "execution_count": null,
   "metadata": {
    "id": "hZtT40PJKsmn"
   },
   "outputs": [],
   "source": [
    "# Rewriting, with a bit more descriptive variable names\n",
    "for (name, count) in sweets.items():\n",
    "    print(\"Name:\", name, \"Count:\", count)"
   ]
  },
  {
   "cell_type": "code",
   "execution_count": null,
   "metadata": {
    "id": "eLi9qlrLKsmx"
   },
   "outputs": [],
   "source": [
    "# If you are confused with the (k,v) being the loop variable\n",
    "# you can see the same loop where the loop variable is \"item\"\n",
    "# Then we access the two elements of the tuple within the body\n",
    "# of the loop name = item[0] and phone = item[1]\n",
    "for item in sweets.items():\n",
    "    name = item[0]\n",
    "    count = item[1]\n",
    "    print(\"Name:\", name, \"Count:\", count)\n",
    "    "
   ]
  },
  {
   "cell_type": "markdown",
   "metadata": {
    "id": "lXmcW9SkuIwK"
   },
   "source": [
    "## Exercise 5 (solve it!)"
   ]
  },
  {
   "cell_type": "markdown",
   "metadata": {
    "id": "HR0pGXaMuIwK"
   },
   "source": [
    "Assume you have a list of numbers `1, 4, 9, 16`\n",
    "\n",
    "* Write a loop that calculate the sum of number (= implement equivalent of sum function by yourself)."
   ]
  },
  {
   "cell_type": "code",
   "execution_count": null,
   "metadata": {
    "id": "DVmZwicfuIwK"
   },
   "outputs": [],
   "source": [
    "numbers = [1, 4, 9, 16]\n",
    "\n",
    "my_sum = 0\n",
    "#your code here. calculate the sum of numbers and put it into my_sum\n",
    "\n",
    "#your code here. print my_sum."
   ]
  },
  {
   "cell_type": "markdown",
   "metadata": {
    "id": "JeKiSULdwkCq"
   },
   "source": [
    "If you still have time...\n",
    "\n",
    "\n",
    "*   Calculate the sum of the squares of the numbers.\n",
    "*   Calculate the sum of the odd numbers (ex `1,4,9,16` -> 1+9=10)\n",
    "*   Convert all the numbers into string and concate it into single string (`1,4,9,16` -> \"14916\")\n",
    "\n",
    "\n"
   ]
  }
 ],
 "metadata": {
  "colab": {
   "provenance": []
  },
  "kernelspec": {
   "display_name": "Python 3",
   "language": "python",
   "name": "python3"
  },
  "language_info": {
   "codemirror_mode": {
    "name": "ipython",
    "version": 3
   },
   "file_extension": ".py",
   "mimetype": "text/x-python",
   "name": "python",
   "nbconvert_exporter": "python",
   "pygments_lexer": "ipython3",
   "version": "3.9.0"
  },
  "vscode": {
   "interpreter": {
    "hash": "aee8b7b246df8f9039afb4144a1f6fd8d2ca17a180786b69acc140d282b71a49"
   }
  }
 },
 "nbformat": 4,
 "nbformat_minor": 0
}
